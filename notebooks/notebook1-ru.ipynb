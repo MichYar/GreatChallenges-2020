{
 "metadata": {
  "language_info": {
   "codemirror_mode": {
    "name": "ipython",
    "version": 3
   },
   "file_extension": ".py",
   "mimetype": "text/x-python",
   "name": "python",
   "nbconvert_exporter": "python",
   "pygments_lexer": "ipython3",
   "version": "3.9.1-final"
  },
  "orig_nbformat": 2,
  "kernelspec": {
   "name": "python3",
   "display_name": "Python 3.9.1 64-bit",
   "metadata": {
    "interpreter": {
     "hash": "71d23c1f8c85dab5ca10a7df9e743814890b2991d9ac27ab3e759bde93dc982d"
    }
   }
  }
 },
 "nbformat": 4,
 "nbformat_minor": 2,
 "cells": [
  {
   "source": [
    "# Блокнот для решения целевой проблемы Больших Вызовов-2020"
   ],
   "cell_type": "markdown",
   "metadata": {}
  },
  {
   "source": [
    "## Первое. Импорт"
   ],
   "cell_type": "markdown",
   "metadata": {}
  },
  {
   "cell_type": "code",
   "execution_count": 1,
   "metadata": {},
   "outputs": [],
   "source": [
    "import pandas as pd\n",
    "import numpy as np\n",
    "import matplotlib.pyplot as plt\n",
    "import seaborn as sns\n",
    "from sklearn import tree\n",
    "from sklearn.ensemble import *\n",
    "from sklearn.metrics import *\n",
    "from sklearn.model_selection import *\n",
    "%matplotlib inline\n",
    "sns.set(rc = {'figure.figsize':(9, 6)})"
   ]
  },
  {
   "source": [
    "## Второе. Предподготовка данных"
   ],
   "cell_type": "markdown",
   "metadata": {}
  },
  {
   "source": [
    "### Сначала считаем данные"
   ],
   "cell_type": "markdown",
   "metadata": {}
  },
  {
   "cell_type": "code",
   "execution_count": 2,
   "metadata": {},
   "outputs": [],
   "source": [
    "activity = pd.read_csv(r'..\\data\\CSV\\activity.csv', sep=';')"
   ]
  },
  {
   "cell_type": "code",
   "execution_count": 3,
   "metadata": {},
   "outputs": [
    {
     "output_type": "execute_result",
     "data": {
      "text/plain": [
       "   user_id   last_name first_name       last_login_utc  \\\n",
       "0   220676    Shujkova     INESSA  2021-01-13 11:42:12   \n",
       "1   235431     Severyn  Valentyna  2020-07-22 13:46:52   \n",
       "2   326719      Omskiy       Omar  2021-01-02 08:47:26   \n",
       "3   377678  Deryusheva   Evgeniya  2019-12-09 10:27:59   \n",
       "4  1360625       Минин      Антон  2020-12-13 23:02:43   \n",
       "\n",
       "  Вводный модуль.  (steps) Вводный модуль.  (score / max_score)  \\\n",
       "0                   11.11%                                0.00%   \n",
       "1                   11.11%                                0.00%   \n",
       "2                  100.00%                              100.00%   \n",
       "3                    0.00%                                0.00%   \n",
       "4                    0.00%                                0.00%   \n",
       "\n",
       "  Фундаментальный взгляд на развитие образования. А.Г. Асмолов (steps)  \\\n",
       "0                                             17.39%                     \n",
       "1                                              2.17%                     \n",
       "2                                             93.48%                     \n",
       "3                                              0.00%                     \n",
       "4                                              0.00%                     \n",
       "\n",
       "  Фундаментальный взгляд на развитие образования. А.Г. Асмолов (score / max_score)  \\\n",
       "0                                              2.78%                                 \n",
       "1                                              0.00%                                 \n",
       "2                                             97.22%                                 \n",
       "3                                              0.00%                                 \n",
       "4                                              0.00%                                 \n",
       "\n",
       "  Современные подходы к образованию. Дима Зицер (steps)  \\\n",
       "0                                             37.21%      \n",
       "1                                              0.00%      \n",
       "2                                             88.37%      \n",
       "3                                              0.00%      \n",
       "4                                              0.00%      \n",
       "\n",
       "  Современные подходы к образованию. Дима Зицер (score / max_score)  \\\n",
       "0                                             26.47%                  \n",
       "1                                              0.00%                  \n",
       "2                                             97.06%                  \n",
       "3                                              0.00%                  \n",
       "4                                              0.00%                  \n",
       "\n",
       "  Работа с семьями: консультирование детей и родителей (steps)  \\\n",
       "0                                              9.76%             \n",
       "1                                              0.00%             \n",
       "2                                             92.68%             \n",
       "3                                              0.00%             \n",
       "4                                              0.00%             \n",
       "\n",
       "  Работа с семьями: консультирование детей и родителей (score / max_score)  \\\n",
       "0                                              0.00%                         \n",
       "1                                              0.00%                         \n",
       "2                                             90.62%                         \n",
       "3                                              0.00%                         \n",
       "4                                              0.00%                         \n",
       "\n",
       "  Педагогика современности: инструменты и ресурсы (steps)  \\\n",
       "0                                             14.29%        \n",
       "1                                              0.00%        \n",
       "2                                             96.43%        \n",
       "3                                              0.00%        \n",
       "4                                              0.00%        \n",
       "\n",
       "  Педагогика современности: инструменты и ресурсы (score / max_score)  \\\n",
       "0                                              0.00%                    \n",
       "1                                              0.00%                    \n",
       "2                                             95.83%                    \n",
       "3                                              0.00%                    \n",
       "4                                              0.00%                    \n",
       "\n",
       "   Завершающий модуль (бонус). (steps)  \\\n",
       "0                                0.00%   \n",
       "1                                0.00%   \n",
       "2                                0.00%   \n",
       "3                                0.00%   \n",
       "4                                0.00%   \n",
       "\n",
       "   Завершающий модуль (бонус). (score / max_score) total (steps)  \\\n",
       "0                                            0.00%        18.75%   \n",
       "1                                            0.00%         1.14%   \n",
       "2                                            0.00%        88.07%   \n",
       "3                                            0.00%         0.00%   \n",
       "4                                            0.00%         0.00%   \n",
       "\n",
       "  total (score / max_score)  \n",
       "0                     6.80%  \n",
       "1                     0.00%  \n",
       "2                    86.39%  \n",
       "3                     0.00%  \n",
       "4                     0.00%  "
      ],
      "text/html": "<div>\n<style scoped>\n    .dataframe tbody tr th:only-of-type {\n        vertical-align: middle;\n    }\n\n    .dataframe tbody tr th {\n        vertical-align: top;\n    }\n\n    .dataframe thead th {\n        text-align: right;\n    }\n</style>\n<table border=\"1\" class=\"dataframe\">\n  <thead>\n    <tr style=\"text-align: right;\">\n      <th></th>\n      <th>user_id</th>\n      <th>last_name</th>\n      <th>first_name</th>\n      <th>last_login_utc</th>\n      <th>Вводный модуль.  (steps)</th>\n      <th>Вводный модуль.  (score / max_score)</th>\n      <th>Фундаментальный взгляд на развитие образования. А.Г. Асмолов (steps)</th>\n      <th>Фундаментальный взгляд на развитие образования. А.Г. Асмолов (score / max_score)</th>\n      <th>Современные подходы к образованию. Дима Зицер (steps)</th>\n      <th>Современные подходы к образованию. Дима Зицер (score / max_score)</th>\n      <th>Работа с семьями: консультирование детей и родителей (steps)</th>\n      <th>Работа с семьями: консультирование детей и родителей (score / max_score)</th>\n      <th>Педагогика современности: инструменты и ресурсы (steps)</th>\n      <th>Педагогика современности: инструменты и ресурсы (score / max_score)</th>\n      <th>Завершающий модуль (бонус). (steps)</th>\n      <th>Завершающий модуль (бонус). (score / max_score)</th>\n      <th>total (steps)</th>\n      <th>total (score / max_score)</th>\n    </tr>\n  </thead>\n  <tbody>\n    <tr>\n      <th>0</th>\n      <td>220676</td>\n      <td>Shujkova</td>\n      <td>INESSA</td>\n      <td>2021-01-13 11:42:12</td>\n      <td>11.11%</td>\n      <td>0.00%</td>\n      <td>17.39%</td>\n      <td>2.78%</td>\n      <td>37.21%</td>\n      <td>26.47%</td>\n      <td>9.76%</td>\n      <td>0.00%</td>\n      <td>14.29%</td>\n      <td>0.00%</td>\n      <td>0.00%</td>\n      <td>0.00%</td>\n      <td>18.75%</td>\n      <td>6.80%</td>\n    </tr>\n    <tr>\n      <th>1</th>\n      <td>235431</td>\n      <td>Severyn</td>\n      <td>Valentyna</td>\n      <td>2020-07-22 13:46:52</td>\n      <td>11.11%</td>\n      <td>0.00%</td>\n      <td>2.17%</td>\n      <td>0.00%</td>\n      <td>0.00%</td>\n      <td>0.00%</td>\n      <td>0.00%</td>\n      <td>0.00%</td>\n      <td>0.00%</td>\n      <td>0.00%</td>\n      <td>0.00%</td>\n      <td>0.00%</td>\n      <td>1.14%</td>\n      <td>0.00%</td>\n    </tr>\n    <tr>\n      <th>2</th>\n      <td>326719</td>\n      <td>Omskiy</td>\n      <td>Omar</td>\n      <td>2021-01-02 08:47:26</td>\n      <td>100.00%</td>\n      <td>100.00%</td>\n      <td>93.48%</td>\n      <td>97.22%</td>\n      <td>88.37%</td>\n      <td>97.06%</td>\n      <td>92.68%</td>\n      <td>90.62%</td>\n      <td>96.43%</td>\n      <td>95.83%</td>\n      <td>0.00%</td>\n      <td>0.00%</td>\n      <td>88.07%</td>\n      <td>86.39%</td>\n    </tr>\n    <tr>\n      <th>3</th>\n      <td>377678</td>\n      <td>Deryusheva</td>\n      <td>Evgeniya</td>\n      <td>2019-12-09 10:27:59</td>\n      <td>0.00%</td>\n      <td>0.00%</td>\n      <td>0.00%</td>\n      <td>0.00%</td>\n      <td>0.00%</td>\n      <td>0.00%</td>\n      <td>0.00%</td>\n      <td>0.00%</td>\n      <td>0.00%</td>\n      <td>0.00%</td>\n      <td>0.00%</td>\n      <td>0.00%</td>\n      <td>0.00%</td>\n      <td>0.00%</td>\n    </tr>\n    <tr>\n      <th>4</th>\n      <td>1360625</td>\n      <td>Минин</td>\n      <td>Антон</td>\n      <td>2020-12-13 23:02:43</td>\n      <td>0.00%</td>\n      <td>0.00%</td>\n      <td>0.00%</td>\n      <td>0.00%</td>\n      <td>0.00%</td>\n      <td>0.00%</td>\n      <td>0.00%</td>\n      <td>0.00%</td>\n      <td>0.00%</td>\n      <td>0.00%</td>\n      <td>0.00%</td>\n      <td>0.00%</td>\n      <td>0.00%</td>\n      <td>0.00%</td>\n    </tr>\n  </tbody>\n</table>\n</div>"
     },
     "metadata": {},
     "execution_count": 3
    }
   ],
   "source": [
    "activity.head()"
   ]
  },
  {
   "cell_type": "code",
   "execution_count": 4,
   "metadata": {},
   "outputs": [],
   "source": [
    "activity_full = pd.read_csv(r'..\\data\\CSV\\activity-full.csv', sep=';')"
   ]
  },
  {
   "cell_type": "code",
   "execution_count": 5,
   "metadata": {},
   "outputs": [
    {
     "output_type": "execute_result",
     "data": {
      "text/plain": [
       "   user_id   last_name first_name Педагогические ситуации T1 (passed)  \\\n",
       "0   220676    Shujkova     INESSA                              ИСТИНА   \n",
       "1   235431     Severyn  Valentyna                              ИСТИНА   \n",
       "2   326719      Omskiy       Omar                              ИСТИНА   \n",
       "3   377678  Deryusheva   Evgeniya                                ЛОЖЬ   \n",
       "4  1360625       Минин      Антон                                ЛОЖЬ   \n",
       "\n",
       "  Педагогические ситуации Q2 (score / max_score)  \\\n",
       "0                                          0.00%   \n",
       "1                                          0.00%   \n",
       "2                                        100.00%   \n",
       "3                                          0.00%   \n",
       "4                                          0.00%   \n",
       "\n",
       "   Педагогические ситуации Q2 (n_attempts)  \\\n",
       "0                                        0   \n",
       "1                                        0   \n",
       "2                                        1   \n",
       "3                                        0   \n",
       "4                                        0   \n",
       "\n",
       "  Педагогические ситуации Q2 (correct_rate)  \\\n",
       "0                                     0.00%   \n",
       "1                                     0.00%   \n",
       "2                                   100.00%   \n",
       "3                                     0.00%   \n",
       "4                                     0.00%   \n",
       "\n",
       "  Педагогические ситуации Q3 (score / max_score)  \\\n",
       "0                                          0.00%   \n",
       "1                                          0.00%   \n",
       "2                                        100.00%   \n",
       "3                                          0.00%   \n",
       "4                                          0.00%   \n",
       "\n",
       "   Педагогические ситуации Q3 (n_attempts)  \\\n",
       "0                                        0   \n",
       "1                                        0   \n",
       "2                                        1   \n",
       "3                                        0   \n",
       "4                                        0   \n",
       "\n",
       "  Педагогические ситуации Q3 (correct_rate)  ...  \\\n",
       "0                                     0.00%  ...   \n",
       "1                                     0.00%  ...   \n",
       "2                                   100.00%  ...   \n",
       "3                                     0.00%  ...   \n",
       "4                                     0.00%  ...   \n",
       "\n",
       "  Педагогические ситуации. Личный взгляд педагога. Q8 (score / max_score)  \\\n",
       "0                                              0.00%                        \n",
       "1                                              0.00%                        \n",
       "2                                              0.00%                        \n",
       "3                                              0.00%                        \n",
       "4                                              0.00%                        \n",
       "\n",
       "   Педагогические ситуации. Личный взгляд педагога. Q8 (n_attempts)  \\\n",
       "0                                                  0                  \n",
       "1                                                  0                  \n",
       "2                                                  0                  \n",
       "3                                                  0                  \n",
       "4                                                  0                  \n",
       "\n",
       "  Педагогические ситуации. Личный взгляд педагога. Q8 (correct_rate)  \\\n",
       "0                                              0.00%                   \n",
       "1                                              0.00%                   \n",
       "2                                              0.00%                   \n",
       "3                                              0.00%                   \n",
       "4                                              0.00%                   \n",
       "\n",
       "  Педагогические ситуации. Личный взгляд педагога. T9 (passed)  \\\n",
       "0                                               ЛОЖЬ             \n",
       "1                                               ЛОЖЬ             \n",
       "2                                               ЛОЖЬ             \n",
       "3                                               ЛОЖЬ             \n",
       "4                                               ЛОЖЬ             \n",
       "\n",
       "   Педагогические ситуации. Личный взгляд педагога. (score / max_score)  \\\n",
       "0                                              0.00%                      \n",
       "1                                              0.00%                      \n",
       "2                                              0.00%                      \n",
       "3                                              0.00%                      \n",
       "4                                              0.00%                      \n",
       "\n",
       "  Педагогические ситуации. Личный взгляд педагога. (n_attempts)  \\\n",
       "0                                                  0              \n",
       "1                                                  0              \n",
       "2                                                  0              \n",
       "3                                                  0              \n",
       "4                                                  0              \n",
       "\n",
       "   Завершающий модуль (бонус). (score / max_score)  \\\n",
       "0                                            0.00%   \n",
       "1                                            0.00%   \n",
       "2                                            0.00%   \n",
       "3                                            0.00%   \n",
       "4                                            0.00%   \n",
       "\n",
       "    Завершающий модуль (бонус). (n_attempts)  \\\n",
       "0                                          0   \n",
       "1                                          0   \n",
       "2                                          0   \n",
       "3                                          0   \n",
       "4                                          0   \n",
       "\n",
       "  Формула образования. Школа: ученик, родитель, учитель. (score / max_score)  \\\n",
       "0                                              6.80%                           \n",
       "1                                              0.00%                           \n",
       "2                                             86.39%                           \n",
       "3                                              0.00%                           \n",
       "4                                              0.00%                           \n",
       "\n",
       "  Формула образования. Школа: ученик, родитель, учитель. (n_attempts)  \n",
       "0                                                 38                   \n",
       "1                                                  0                   \n",
       "2                                                192                   \n",
       "3                                                  0                   \n",
       "4                                                  0                   \n",
       "\n",
       "[5 rows x 515 columns]"
      ],
      "text/html": "<div>\n<style scoped>\n    .dataframe tbody tr th:only-of-type {\n        vertical-align: middle;\n    }\n\n    .dataframe tbody tr th {\n        vertical-align: top;\n    }\n\n    .dataframe thead th {\n        text-align: right;\n    }\n</style>\n<table border=\"1\" class=\"dataframe\">\n  <thead>\n    <tr style=\"text-align: right;\">\n      <th></th>\n      <th>user_id</th>\n      <th>last_name</th>\n      <th>first_name</th>\n      <th>Педагогические ситуации T1 (passed)</th>\n      <th>Педагогические ситуации Q2 (score / max_score)</th>\n      <th>Педагогические ситуации Q2 (n_attempts)</th>\n      <th>Педагогические ситуации Q2 (correct_rate)</th>\n      <th>Педагогические ситуации Q3 (score / max_score)</th>\n      <th>Педагогические ситуации Q3 (n_attempts)</th>\n      <th>Педагогические ситуации Q3 (correct_rate)</th>\n      <th>...</th>\n      <th>Педагогические ситуации. Личный взгляд педагога. Q8 (score / max_score)</th>\n      <th>Педагогические ситуации. Личный взгляд педагога. Q8 (n_attempts)</th>\n      <th>Педагогические ситуации. Личный взгляд педагога. Q8 (correct_rate)</th>\n      <th>Педагогические ситуации. Личный взгляд педагога. T9 (passed)</th>\n      <th>Педагогические ситуации. Личный взгляд педагога. (score / max_score)</th>\n      <th>Педагогические ситуации. Личный взгляд педагога. (n_attempts)</th>\n      <th>Завершающий модуль (бонус). (score / max_score)</th>\n      <th>Завершающий модуль (бонус). (n_attempts)</th>\n      <th>Формула образования. Школа: ученик, родитель, учитель. (score / max_score)</th>\n      <th>Формула образования. Школа: ученик, родитель, учитель. (n_attempts)</th>\n    </tr>\n  </thead>\n  <tbody>\n    <tr>\n      <th>0</th>\n      <td>220676</td>\n      <td>Shujkova</td>\n      <td>INESSA</td>\n      <td>ИСТИНА</td>\n      <td>0.00%</td>\n      <td>0</td>\n      <td>0.00%</td>\n      <td>0.00%</td>\n      <td>0</td>\n      <td>0.00%</td>\n      <td>...</td>\n      <td>0.00%</td>\n      <td>0</td>\n      <td>0.00%</td>\n      <td>ЛОЖЬ</td>\n      <td>0.00%</td>\n      <td>0</td>\n      <td>0.00%</td>\n      <td>0</td>\n      <td>6.80%</td>\n      <td>38</td>\n    </tr>\n    <tr>\n      <th>1</th>\n      <td>235431</td>\n      <td>Severyn</td>\n      <td>Valentyna</td>\n      <td>ИСТИНА</td>\n      <td>0.00%</td>\n      <td>0</td>\n      <td>0.00%</td>\n      <td>0.00%</td>\n      <td>0</td>\n      <td>0.00%</td>\n      <td>...</td>\n      <td>0.00%</td>\n      <td>0</td>\n      <td>0.00%</td>\n      <td>ЛОЖЬ</td>\n      <td>0.00%</td>\n      <td>0</td>\n      <td>0.00%</td>\n      <td>0</td>\n      <td>0.00%</td>\n      <td>0</td>\n    </tr>\n    <tr>\n      <th>2</th>\n      <td>326719</td>\n      <td>Omskiy</td>\n      <td>Omar</td>\n      <td>ИСТИНА</td>\n      <td>100.00%</td>\n      <td>1</td>\n      <td>100.00%</td>\n      <td>100.00%</td>\n      <td>1</td>\n      <td>100.00%</td>\n      <td>...</td>\n      <td>0.00%</td>\n      <td>0</td>\n      <td>0.00%</td>\n      <td>ЛОЖЬ</td>\n      <td>0.00%</td>\n      <td>0</td>\n      <td>0.00%</td>\n      <td>0</td>\n      <td>86.39%</td>\n      <td>192</td>\n    </tr>\n    <tr>\n      <th>3</th>\n      <td>377678</td>\n      <td>Deryusheva</td>\n      <td>Evgeniya</td>\n      <td>ЛОЖЬ</td>\n      <td>0.00%</td>\n      <td>0</td>\n      <td>0.00%</td>\n      <td>0.00%</td>\n      <td>0</td>\n      <td>0.00%</td>\n      <td>...</td>\n      <td>0.00%</td>\n      <td>0</td>\n      <td>0.00%</td>\n      <td>ЛОЖЬ</td>\n      <td>0.00%</td>\n      <td>0</td>\n      <td>0.00%</td>\n      <td>0</td>\n      <td>0.00%</td>\n      <td>0</td>\n    </tr>\n    <tr>\n      <th>4</th>\n      <td>1360625</td>\n      <td>Минин</td>\n      <td>Антон</td>\n      <td>ЛОЖЬ</td>\n      <td>0.00%</td>\n      <td>0</td>\n      <td>0.00%</td>\n      <td>0.00%</td>\n      <td>0</td>\n      <td>0.00%</td>\n      <td>...</td>\n      <td>0.00%</td>\n      <td>0</td>\n      <td>0.00%</td>\n      <td>ЛОЖЬ</td>\n      <td>0.00%</td>\n      <td>0</td>\n      <td>0.00%</td>\n      <td>0</td>\n      <td>0.00%</td>\n      <td>0</td>\n    </tr>\n  </tbody>\n</table>\n<p>5 rows × 515 columns</p>\n</div>"
     },
     "metadata": {},
     "execution_count": 5
    }
   ],
   "source": [
    "activity_full.head()"
   ]
  },
  {
   "cell_type": "code",
   "execution_count": 6,
   "metadata": {},
   "outputs": [],
   "source": [
    "cheating = pd.read_csv(r'..\\data\\CSV\\cheating.csv', sep=';')"
   ]
  },
  {
   "cell_type": "code",
   "execution_count": 7,
   "metadata": {},
   "outputs": [
    {
     "output_type": "execute_result",
     "data": {
      "text/plain": [
       "   user_id last_name first_name  lesson_id  step_id  step_position  \\\n",
       "0   127890   Новиков    Дмитрий     347108  1265485              2   \n",
       "1   127890   Новиков    Дмитрий     347108  1270620              3   \n",
       "2   127890   Новиков    Дмитрий     347108  1270886              4   \n",
       "3   127890   Новиков    Дмитрий     347108  1270897              5   \n",
       "4   127890   Новиков    Дмитрий     347108  1270914              6   \n",
       "\n",
       "                                  step_url  cheating_probability (%)  \n",
       "0  https://stepik.org/lesson/347108/step/2                      4.14  \n",
       "1  https://stepik.org/lesson/347108/step/3                      4.14  \n",
       "2  https://stepik.org/lesson/347108/step/4                      4.14  \n",
       "3  https://stepik.org/lesson/347108/step/5                      4.14  \n",
       "4  https://stepik.org/lesson/347108/step/6                      4.14  "
      ],
      "text/html": "<div>\n<style scoped>\n    .dataframe tbody tr th:only-of-type {\n        vertical-align: middle;\n    }\n\n    .dataframe tbody tr th {\n        vertical-align: top;\n    }\n\n    .dataframe thead th {\n        text-align: right;\n    }\n</style>\n<table border=\"1\" class=\"dataframe\">\n  <thead>\n    <tr style=\"text-align: right;\">\n      <th></th>\n      <th>user_id</th>\n      <th>last_name</th>\n      <th>first_name</th>\n      <th>lesson_id</th>\n      <th>step_id</th>\n      <th>step_position</th>\n      <th>step_url</th>\n      <th>cheating_probability (%)</th>\n    </tr>\n  </thead>\n  <tbody>\n    <tr>\n      <th>0</th>\n      <td>127890</td>\n      <td>Новиков</td>\n      <td>Дмитрий</td>\n      <td>347108</td>\n      <td>1265485</td>\n      <td>2</td>\n      <td>https://stepik.org/lesson/347108/step/2</td>\n      <td>4.14</td>\n    </tr>\n    <tr>\n      <th>1</th>\n      <td>127890</td>\n      <td>Новиков</td>\n      <td>Дмитрий</td>\n      <td>347108</td>\n      <td>1270620</td>\n      <td>3</td>\n      <td>https://stepik.org/lesson/347108/step/3</td>\n      <td>4.14</td>\n    </tr>\n    <tr>\n      <th>2</th>\n      <td>127890</td>\n      <td>Новиков</td>\n      <td>Дмитрий</td>\n      <td>347108</td>\n      <td>1270886</td>\n      <td>4</td>\n      <td>https://stepik.org/lesson/347108/step/4</td>\n      <td>4.14</td>\n    </tr>\n    <tr>\n      <th>3</th>\n      <td>127890</td>\n      <td>Новиков</td>\n      <td>Дмитрий</td>\n      <td>347108</td>\n      <td>1270897</td>\n      <td>5</td>\n      <td>https://stepik.org/lesson/347108/step/5</td>\n      <td>4.14</td>\n    </tr>\n    <tr>\n      <th>4</th>\n      <td>127890</td>\n      <td>Новиков</td>\n      <td>Дмитрий</td>\n      <td>347108</td>\n      <td>1270914</td>\n      <td>6</td>\n      <td>https://stepik.org/lesson/347108/step/6</td>\n      <td>4.14</td>\n    </tr>\n  </tbody>\n</table>\n</div>"
     },
     "metadata": {},
     "execution_count": 7
    }
   ],
   "source": [
    "cheating.head()"
   ]
  },
  {
   "cell_type": "code",
   "execution_count": 8,
   "metadata": {},
   "outputs": [],
   "source": [
    "grade_book1=pd.read_csv(r'..\\data\\CSV\\grade-book (1).csv', sep=';')"
   ]
  },
  {
   "cell_type": "code",
   "execution_count": 9,
   "metadata": {},
   "outputs": [
    {
     "output_type": "execute_result",
     "data": {
      "text/plain": [
       "     user_id                    last_name               first_name  \\\n",
       "0   73886792  одаренных детей \"Стратегия\"    ГОАОУ Центр поддержки   \n",
       "1     220676                     Shujkova                   INESSA   \n",
       "2   35624313                       Злобин                   Максим   \n",
       "3  220677450                        \"ИРО\"  ГАУДПО Липецкой области   \n",
       "4  222220413         Константин Андреевич             Ротобыльский   \n",
       "\n",
       "   Педагогические ситуации Q2  Педагогические ситуации Q3  \\\n",
       "0                           0                           0   \n",
       "1                           0                           0   \n",
       "2                           0                           0   \n",
       "3                           1                           1   \n",
       "4                           0                           0   \n",
       "\n",
       "   Педагогические ситуации Q4  Педагогические ситуации Q5  \\\n",
       "0                           0                           0   \n",
       "1                           0                           0   \n",
       "2                           0                           0   \n",
       "3                           1                           1   \n",
       "4                           0                           0   \n",
       "\n",
       "   Педагогические ситуации Q6  Педагогические ситуации Q7  \\\n",
       "0                           0                           0   \n",
       "1                           0                           0   \n",
       "2                           0                           0   \n",
       "3                           1                           1   \n",
       "4                           0                           0   \n",
       "\n",
       "   Педагогические ситуации Q8  ...  \\\n",
       "0                           0  ...   \n",
       "1                           0  ...   \n",
       "2                           0  ...   \n",
       "3                           1  ...   \n",
       "4                           0  ...   \n",
       "\n",
       "   Педагогические ситуации. Личный взгляд педагога. Q7  \\\n",
       "0                                                  0     \n",
       "1                                                  0     \n",
       "2                                                  0     \n",
       "3                                                  0     \n",
       "4                                                  0     \n",
       "\n",
       "   Педагогические ситуации. Личный взгляд педагога. Q8  total  \\\n",
       "0                                                  0        0   \n",
       "1                                                  0       10   \n",
       "2                                                  0        0   \n",
       "3                                                  0       55   \n",
       "4                                                  0        0   \n",
       "\n",
       "       date_joined_utc      last_viewed_utc  certificate_issue_date_utc  \\\n",
       "0  2020-04-22 05:43:28  2020-06-30 06:35:07                         NaN   \n",
       "1  2020-04-22 09:05:19  2020-06-05 10:42:18                         NaN   \n",
       "2  2020-04-23 06:26:14  2020-04-24 08:16:33                         NaN   \n",
       "3  2020-04-23 11:37:24  2020-11-10 10:52:28                         NaN   \n",
       "4  2020-04-25 16:30:18                  NaN                         NaN   \n",
       "\n",
       "   certificate_issue_regular_date_utc  certificate_issue_distinction_date_utc  \\\n",
       "0                                 NaN                                     NaN   \n",
       "1                                 NaN                                     NaN   \n",
       "2                                 NaN                                     NaN   \n",
       "3                                 NaN                                     NaN   \n",
       "4                                 NaN                                     NaN   \n",
       "\n",
       "   certificate_update_date_utc  certificate_url  \n",
       "0                          NaN              NaN  \n",
       "1                          NaN              NaN  \n",
       "2                          NaN              NaN  \n",
       "3                          NaN              NaN  \n",
       "4                          NaN              NaN  \n",
       "\n",
       "[5 rows x 151 columns]"
      ],
      "text/html": "<div>\n<style scoped>\n    .dataframe tbody tr th:only-of-type {\n        vertical-align: middle;\n    }\n\n    .dataframe tbody tr th {\n        vertical-align: top;\n    }\n\n    .dataframe thead th {\n        text-align: right;\n    }\n</style>\n<table border=\"1\" class=\"dataframe\">\n  <thead>\n    <tr style=\"text-align: right;\">\n      <th></th>\n      <th>user_id</th>\n      <th>last_name</th>\n      <th>first_name</th>\n      <th>Педагогические ситуации Q2</th>\n      <th>Педагогические ситуации Q3</th>\n      <th>Педагогические ситуации Q4</th>\n      <th>Педагогические ситуации Q5</th>\n      <th>Педагогические ситуации Q6</th>\n      <th>Педагогические ситуации Q7</th>\n      <th>Педагогические ситуации Q8</th>\n      <th>...</th>\n      <th>Педагогические ситуации. Личный взгляд педагога. Q7</th>\n      <th>Педагогические ситуации. Личный взгляд педагога. Q8</th>\n      <th>total</th>\n      <th>date_joined_utc</th>\n      <th>last_viewed_utc</th>\n      <th>certificate_issue_date_utc</th>\n      <th>certificate_issue_regular_date_utc</th>\n      <th>certificate_issue_distinction_date_utc</th>\n      <th>certificate_update_date_utc</th>\n      <th>certificate_url</th>\n    </tr>\n  </thead>\n  <tbody>\n    <tr>\n      <th>0</th>\n      <td>73886792</td>\n      <td>одаренных детей \"Стратегия\"</td>\n      <td>ГОАОУ Центр поддержки</td>\n      <td>0</td>\n      <td>0</td>\n      <td>0</td>\n      <td>0</td>\n      <td>0</td>\n      <td>0</td>\n      <td>0</td>\n      <td>...</td>\n      <td>0</td>\n      <td>0</td>\n      <td>0</td>\n      <td>2020-04-22 05:43:28</td>\n      <td>2020-06-30 06:35:07</td>\n      <td>NaN</td>\n      <td>NaN</td>\n      <td>NaN</td>\n      <td>NaN</td>\n      <td>NaN</td>\n    </tr>\n    <tr>\n      <th>1</th>\n      <td>220676</td>\n      <td>Shujkova</td>\n      <td>INESSA</td>\n      <td>0</td>\n      <td>0</td>\n      <td>0</td>\n      <td>0</td>\n      <td>0</td>\n      <td>0</td>\n      <td>0</td>\n      <td>...</td>\n      <td>0</td>\n      <td>0</td>\n      <td>10</td>\n      <td>2020-04-22 09:05:19</td>\n      <td>2020-06-05 10:42:18</td>\n      <td>NaN</td>\n      <td>NaN</td>\n      <td>NaN</td>\n      <td>NaN</td>\n      <td>NaN</td>\n    </tr>\n    <tr>\n      <th>2</th>\n      <td>35624313</td>\n      <td>Злобин</td>\n      <td>Максим</td>\n      <td>0</td>\n      <td>0</td>\n      <td>0</td>\n      <td>0</td>\n      <td>0</td>\n      <td>0</td>\n      <td>0</td>\n      <td>...</td>\n      <td>0</td>\n      <td>0</td>\n      <td>0</td>\n      <td>2020-04-23 06:26:14</td>\n      <td>2020-04-24 08:16:33</td>\n      <td>NaN</td>\n      <td>NaN</td>\n      <td>NaN</td>\n      <td>NaN</td>\n      <td>NaN</td>\n    </tr>\n    <tr>\n      <th>3</th>\n      <td>220677450</td>\n      <td>\"ИРО\"</td>\n      <td>ГАУДПО Липецкой области</td>\n      <td>1</td>\n      <td>1</td>\n      <td>1</td>\n      <td>1</td>\n      <td>1</td>\n      <td>1</td>\n      <td>1</td>\n      <td>...</td>\n      <td>0</td>\n      <td>0</td>\n      <td>55</td>\n      <td>2020-04-23 11:37:24</td>\n      <td>2020-11-10 10:52:28</td>\n      <td>NaN</td>\n      <td>NaN</td>\n      <td>NaN</td>\n      <td>NaN</td>\n      <td>NaN</td>\n    </tr>\n    <tr>\n      <th>4</th>\n      <td>222220413</td>\n      <td>Константин Андреевич</td>\n      <td>Ротобыльский</td>\n      <td>0</td>\n      <td>0</td>\n      <td>0</td>\n      <td>0</td>\n      <td>0</td>\n      <td>0</td>\n      <td>0</td>\n      <td>...</td>\n      <td>0</td>\n      <td>0</td>\n      <td>0</td>\n      <td>2020-04-25 16:30:18</td>\n      <td>NaN</td>\n      <td>NaN</td>\n      <td>NaN</td>\n      <td>NaN</td>\n      <td>NaN</td>\n      <td>NaN</td>\n    </tr>\n  </tbody>\n</table>\n<p>5 rows × 151 columns</p>\n</div>"
     },
     "metadata": {},
     "execution_count": 9
    }
   ],
   "source": [
    "grade_book1.head()"
   ]
  },
  {
   "cell_type": "code",
   "execution_count": 10,
   "metadata": {},
   "outputs": [
    {
     "output_type": "execute_result",
     "data": {
      "text/plain": [
       "     user_id                    last_name               first_name  \\\n",
       "0   73886792  одаренных детей \"Стратегия\"    ГОАОУ Центр поддержки   \n",
       "1     220676                     Shujkova                   INESSA   \n",
       "2   35624313                       Злобин                   Максим   \n",
       "3  220677450                        \"ИРО\"  ГАУДПО Липецкой области   \n",
       "4  222220413         Константин Андреевич             Ротобыльский   \n",
       "\n",
       "   invitation_email  Вводный модуль.  Вводный модуль. , %  \\\n",
       "0               NaN                 0                   0   \n",
       "1               NaN                 0                   0   \n",
       "2               NaN                 0                   0   \n",
       "3               NaN                 7                 100   \n",
       "4               NaN                 0                   0   \n",
       "\n",
       "  Фундаментальный взгляд на развитие образования. А.Г. Асмолов  \\\n",
       "0                                                  0             \n",
       "1                                                  1             \n",
       "2                                                  0             \n",
       "3                                                 11             \n",
       "4                                                  0             \n",
       "\n",
       "  Фундаментальный взгляд на развитие образования. А.Г. Асмолов, %  \\\n",
       "0                                                  0                \n",
       "1                                               2,78                \n",
       "2                                                  0                \n",
       "3                                              30,56                \n",
       "4                                                  0                \n",
       "\n",
       "  Современные подходы к образованию. Дима Зицер  \\\n",
       "0                                             0   \n",
       "1                                             9   \n",
       "2                                             0   \n",
       "3                                             6   \n",
       "4                                             0   \n",
       "\n",
       "  Современные подходы к образованию. Дима Зицер, %  \\\n",
       "0                                                0   \n",
       "1                                            26,47   \n",
       "2                                                0   \n",
       "3                                            17,65   \n",
       "4                                                0   \n",
       "\n",
       "  Работа с семьями: консультирование детей и родителей  \\\n",
       "0                                                  0     \n",
       "1                                                  0     \n",
       "2                                                  0     \n",
       "3                                                 31     \n",
       "4                                                  0     \n",
       "\n",
       "  Работа с семьями: консультирование детей и родителей, %  \\\n",
       "0                                                  0        \n",
       "1                                                  0        \n",
       "2                                                  0        \n",
       "3                                              96,88        \n",
       "4                                                  0        \n",
       "\n",
       "   Педагогика современности: инструменты и ресурсы  \\\n",
       "0                                                0   \n",
       "1                                                0   \n",
       "2                                                0   \n",
       "3                                                0   \n",
       "4                                                0   \n",
       "\n",
       "  Педагогика современности: инструменты и ресурсы, %  \\\n",
       "0                                                  0   \n",
       "1                                                  0   \n",
       "2                                                  0   \n",
       "3                                                  0   \n",
       "4                                                  0   \n",
       "\n",
       "    Завершающий модуль (бонус).  Завершающий модуль (бонус)., % total total, %  \n",
       "0                             0                               0     0        0  \n",
       "1                             0                               0    10      6,8  \n",
       "2                             0                               0     0        0  \n",
       "3                             0                               0    55    37,41  \n",
       "4                             0                               0     0        0  "
      ],
      "text/html": "<div>\n<style scoped>\n    .dataframe tbody tr th:only-of-type {\n        vertical-align: middle;\n    }\n\n    .dataframe tbody tr th {\n        vertical-align: top;\n    }\n\n    .dataframe thead th {\n        text-align: right;\n    }\n</style>\n<table border=\"1\" class=\"dataframe\">\n  <thead>\n    <tr style=\"text-align: right;\">\n      <th></th>\n      <th>user_id</th>\n      <th>last_name</th>\n      <th>first_name</th>\n      <th>invitation_email</th>\n      <th>Вводный модуль.</th>\n      <th>Вводный модуль. , %</th>\n      <th>Фундаментальный взгляд на развитие образования. А.Г. Асмолов</th>\n      <th>Фундаментальный взгляд на развитие образования. А.Г. Асмолов, %</th>\n      <th>Современные подходы к образованию. Дима Зицер</th>\n      <th>Современные подходы к образованию. Дима Зицер, %</th>\n      <th>Работа с семьями: консультирование детей и родителей</th>\n      <th>Работа с семьями: консультирование детей и родителей, %</th>\n      <th>Педагогика современности: инструменты и ресурсы</th>\n      <th>Педагогика современности: инструменты и ресурсы, %</th>\n      <th>Завершающий модуль (бонус).</th>\n      <th>Завершающий модуль (бонус)., %</th>\n      <th>total</th>\n      <th>total, %</th>\n    </tr>\n  </thead>\n  <tbody>\n    <tr>\n      <th>0</th>\n      <td>73886792</td>\n      <td>одаренных детей \"Стратегия\"</td>\n      <td>ГОАОУ Центр поддержки</td>\n      <td>NaN</td>\n      <td>0</td>\n      <td>0</td>\n      <td>0</td>\n      <td>0</td>\n      <td>0</td>\n      <td>0</td>\n      <td>0</td>\n      <td>0</td>\n      <td>0</td>\n      <td>0</td>\n      <td>0</td>\n      <td>0</td>\n      <td>0</td>\n      <td>0</td>\n    </tr>\n    <tr>\n      <th>1</th>\n      <td>220676</td>\n      <td>Shujkova</td>\n      <td>INESSA</td>\n      <td>NaN</td>\n      <td>0</td>\n      <td>0</td>\n      <td>1</td>\n      <td>2,78</td>\n      <td>9</td>\n      <td>26,47</td>\n      <td>0</td>\n      <td>0</td>\n      <td>0</td>\n      <td>0</td>\n      <td>0</td>\n      <td>0</td>\n      <td>10</td>\n      <td>6,8</td>\n    </tr>\n    <tr>\n      <th>2</th>\n      <td>35624313</td>\n      <td>Злобин</td>\n      <td>Максим</td>\n      <td>NaN</td>\n      <td>0</td>\n      <td>0</td>\n      <td>0</td>\n      <td>0</td>\n      <td>0</td>\n      <td>0</td>\n      <td>0</td>\n      <td>0</td>\n      <td>0</td>\n      <td>0</td>\n      <td>0</td>\n      <td>0</td>\n      <td>0</td>\n      <td>0</td>\n    </tr>\n    <tr>\n      <th>3</th>\n      <td>220677450</td>\n      <td>\"ИРО\"</td>\n      <td>ГАУДПО Липецкой области</td>\n      <td>NaN</td>\n      <td>7</td>\n      <td>100</td>\n      <td>11</td>\n      <td>30,56</td>\n      <td>6</td>\n      <td>17,65</td>\n      <td>31</td>\n      <td>96,88</td>\n      <td>0</td>\n      <td>0</td>\n      <td>0</td>\n      <td>0</td>\n      <td>55</td>\n      <td>37,41</td>\n    </tr>\n    <tr>\n      <th>4</th>\n      <td>222220413</td>\n      <td>Константин Андреевич</td>\n      <td>Ротобыльский</td>\n      <td>NaN</td>\n      <td>0</td>\n      <td>0</td>\n      <td>0</td>\n      <td>0</td>\n      <td>0</td>\n      <td>0</td>\n      <td>0</td>\n      <td>0</td>\n      <td>0</td>\n      <td>0</td>\n      <td>0</td>\n      <td>0</td>\n      <td>0</td>\n      <td>0</td>\n    </tr>\n  </tbody>\n</table>\n</div>"
     },
     "metadata": {},
     "execution_count": 10
    }
   ],
   "source": [
    "grade_book_short = pd.read_csv(r'..\\data\\CSV\\grade-book-short.csv', sep=';')\n",
    "grade_book_short.head()"
   ]
  },
  {
   "cell_type": "code",
   "execution_count": 11,
   "metadata": {},
   "outputs": [
    {
     "output_type": "execute_result",
     "data": {
      "text/plain": [
       "   user_id   last_name first_name  Педагогические ситуации Q2  \\\n",
       "0   220676    Shujkova     INESSA                           0   \n",
       "1   235431     Severyn  Valentyna                           0   \n",
       "2   326719      Omskiy       Omar                           1   \n",
       "3   377678  Deryusheva   Evgeniya                           0   \n",
       "4  1360625       Минин      Антон                           0   \n",
       "\n",
       "   Педагогические ситуации Q3  Педагогические ситуации Q4  \\\n",
       "0                           0                           0   \n",
       "1                           0                           0   \n",
       "2                           1                           1   \n",
       "3                           0                           0   \n",
       "4                           0                           0   \n",
       "\n",
       "   Педагогические ситуации Q5  Педагогические ситуации Q6  \\\n",
       "0                           0                           0   \n",
       "1                           0                           0   \n",
       "2                           1                           1   \n",
       "3                           0                           0   \n",
       "4                           0                           0   \n",
       "\n",
       "   Педагогические ситуации Q7  Педагогические ситуации Q8  ...  \\\n",
       "0                           0                           0  ...   \n",
       "1                           0                           0  ...   \n",
       "2                           1                           1  ...   \n",
       "3                           0                           0  ...   \n",
       "4                           0                           0  ...   \n",
       "\n",
       "   Педагогические ситуации. Личный взгляд педагога. Q7  \\\n",
       "0                                                  0     \n",
       "1                                                  0     \n",
       "2                                                  0     \n",
       "3                                                  0     \n",
       "4                                                  0     \n",
       "\n",
       "   Педагогические ситуации. Личный взгляд педагога. Q8  total  \\\n",
       "0                                                  0       10   \n",
       "1                                                  0        0   \n",
       "2                                                  0      127   \n",
       "3                                                  0        0   \n",
       "4                                                  0        0   \n",
       "\n",
       "       date_joined_utc      last_viewed_utc  certificate_issue_date_utc  \\\n",
       "0  2020-04-22 09:05:19  2020-06-05 10:42:18                         NaN   \n",
       "1  2020-06-20 05:36:08  2020-06-20 18:33:29                         NaN   \n",
       "2  2020-05-12 19:21:31  2020-05-30 14:53:46         2020-06-01 06:18:19   \n",
       "3  2020-06-24 17:02:34                  NaN                         NaN   \n",
       "4  2020-05-10 21:27:38                  NaN                         NaN   \n",
       "\n",
       "   certificate_issue_regular_date_utc  certificate_issue_distinction_date_utc  \\\n",
       "0                                 NaN                                     NaN   \n",
       "1                                 NaN                                     NaN   \n",
       "2                 2020-06-01 06:18:19                                     NaN   \n",
       "3                                 NaN                                     NaN   \n",
       "4                                 NaN                                     NaN   \n",
       "\n",
       "   certificate_update_date_utc  \\\n",
       "0                          NaN   \n",
       "1                          NaN   \n",
       "2                          NaN   \n",
       "3                          NaN   \n",
       "4                          NaN   \n",
       "\n",
       "                                     certificate_url  \n",
       "0                                                NaN  \n",
       "1                                                NaN  \n",
       "2  https://stepik.org/certificate/2863ae04c05f11a...  \n",
       "3                                                NaN  \n",
       "4                                                NaN  \n",
       "\n",
       "[5 rows x 151 columns]"
      ],
      "text/html": "<div>\n<style scoped>\n    .dataframe tbody tr th:only-of-type {\n        vertical-align: middle;\n    }\n\n    .dataframe tbody tr th {\n        vertical-align: top;\n    }\n\n    .dataframe thead th {\n        text-align: right;\n    }\n</style>\n<table border=\"1\" class=\"dataframe\">\n  <thead>\n    <tr style=\"text-align: right;\">\n      <th></th>\n      <th>user_id</th>\n      <th>last_name</th>\n      <th>first_name</th>\n      <th>Педагогические ситуации Q2</th>\n      <th>Педагогические ситуации Q3</th>\n      <th>Педагогические ситуации Q4</th>\n      <th>Педагогические ситуации Q5</th>\n      <th>Педагогические ситуации Q6</th>\n      <th>Педагогические ситуации Q7</th>\n      <th>Педагогические ситуации Q8</th>\n      <th>...</th>\n      <th>Педагогические ситуации. Личный взгляд педагога. Q7</th>\n      <th>Педагогические ситуации. Личный взгляд педагога. Q8</th>\n      <th>total</th>\n      <th>date_joined_utc</th>\n      <th>last_viewed_utc</th>\n      <th>certificate_issue_date_utc</th>\n      <th>certificate_issue_regular_date_utc</th>\n      <th>certificate_issue_distinction_date_utc</th>\n      <th>certificate_update_date_utc</th>\n      <th>certificate_url</th>\n    </tr>\n  </thead>\n  <tbody>\n    <tr>\n      <th>0</th>\n      <td>220676</td>\n      <td>Shujkova</td>\n      <td>INESSA</td>\n      <td>0</td>\n      <td>0</td>\n      <td>0</td>\n      <td>0</td>\n      <td>0</td>\n      <td>0</td>\n      <td>0</td>\n      <td>...</td>\n      <td>0</td>\n      <td>0</td>\n      <td>10</td>\n      <td>2020-04-22 09:05:19</td>\n      <td>2020-06-05 10:42:18</td>\n      <td>NaN</td>\n      <td>NaN</td>\n      <td>NaN</td>\n      <td>NaN</td>\n      <td>NaN</td>\n    </tr>\n    <tr>\n      <th>1</th>\n      <td>235431</td>\n      <td>Severyn</td>\n      <td>Valentyna</td>\n      <td>0</td>\n      <td>0</td>\n      <td>0</td>\n      <td>0</td>\n      <td>0</td>\n      <td>0</td>\n      <td>0</td>\n      <td>...</td>\n      <td>0</td>\n      <td>0</td>\n      <td>0</td>\n      <td>2020-06-20 05:36:08</td>\n      <td>2020-06-20 18:33:29</td>\n      <td>NaN</td>\n      <td>NaN</td>\n      <td>NaN</td>\n      <td>NaN</td>\n      <td>NaN</td>\n    </tr>\n    <tr>\n      <th>2</th>\n      <td>326719</td>\n      <td>Omskiy</td>\n      <td>Omar</td>\n      <td>1</td>\n      <td>1</td>\n      <td>1</td>\n      <td>1</td>\n      <td>1</td>\n      <td>1</td>\n      <td>1</td>\n      <td>...</td>\n      <td>0</td>\n      <td>0</td>\n      <td>127</td>\n      <td>2020-05-12 19:21:31</td>\n      <td>2020-05-30 14:53:46</td>\n      <td>2020-06-01 06:18:19</td>\n      <td>2020-06-01 06:18:19</td>\n      <td>NaN</td>\n      <td>NaN</td>\n      <td>https://stepik.org/certificate/2863ae04c05f11a...</td>\n    </tr>\n    <tr>\n      <th>3</th>\n      <td>377678</td>\n      <td>Deryusheva</td>\n      <td>Evgeniya</td>\n      <td>0</td>\n      <td>0</td>\n      <td>0</td>\n      <td>0</td>\n      <td>0</td>\n      <td>0</td>\n      <td>0</td>\n      <td>...</td>\n      <td>0</td>\n      <td>0</td>\n      <td>0</td>\n      <td>2020-06-24 17:02:34</td>\n      <td>NaN</td>\n      <td>NaN</td>\n      <td>NaN</td>\n      <td>NaN</td>\n      <td>NaN</td>\n      <td>NaN</td>\n    </tr>\n    <tr>\n      <th>4</th>\n      <td>1360625</td>\n      <td>Минин</td>\n      <td>Антон</td>\n      <td>0</td>\n      <td>0</td>\n      <td>0</td>\n      <td>0</td>\n      <td>0</td>\n      <td>0</td>\n      <td>0</td>\n      <td>...</td>\n      <td>0</td>\n      <td>0</td>\n      <td>0</td>\n      <td>2020-05-10 21:27:38</td>\n      <td>NaN</td>\n      <td>NaN</td>\n      <td>NaN</td>\n      <td>NaN</td>\n      <td>NaN</td>\n      <td>NaN</td>\n    </tr>\n  </tbody>\n</table>\n<p>5 rows × 151 columns</p>\n</div>"
     },
     "metadata": {},
     "execution_count": 11
    }
   ],
   "source": [
    "grade_book_without_deadlines = pd.read_csv(r'..\\data\\CSV\\grade-book-without-deadlines.csv', sep=';')\n",
    "grade_book_without_deadlines.head()"
   ]
  },
  {
   "cell_type": "code",
   "execution_count": 12,
   "metadata": {},
   "outputs": [
    {
     "output_type": "execute_result",
     "data": {
      "text/plain": [
       "     user_id             last_name    first_name  invitation_email  \\\n",
       "0     220676              Shujkova        INESSA               NaN   \n",
       "1   35624313                Злобин        Максим               NaN   \n",
       "2  222220413  Константин Андреевич  Ротобыльский               NaN   \n",
       "3  223158207               Наталья      Савченко               NaN   \n",
       "4  223176788             Демьянова       Надежда               NaN   \n",
       "\n",
       "        last_login_utc      date_joined_utc  \n",
       "0  2021-01-13 11:42:12  2020-04-22 09:05:19  \n",
       "1  2020-11-07 12:08:17  2020-04-23 06:26:14  \n",
       "2  2020-04-25 16:03:40  2020-04-25 16:30:18  \n",
       "3  2020-04-27 19:08:08  2020-04-27 06:19:12  \n",
       "4  2020-04-27 06:40:40  2020-04-27 06:41:54  "
      ],
      "text/html": "<div>\n<style scoped>\n    .dataframe tbody tr th:only-of-type {\n        vertical-align: middle;\n    }\n\n    .dataframe tbody tr th {\n        vertical-align: top;\n    }\n\n    .dataframe thead th {\n        text-align: right;\n    }\n</style>\n<table border=\"1\" class=\"dataframe\">\n  <thead>\n    <tr style=\"text-align: right;\">\n      <th></th>\n      <th>user_id</th>\n      <th>last_name</th>\n      <th>first_name</th>\n      <th>invitation_email</th>\n      <th>last_login_utc</th>\n      <th>date_joined_utc</th>\n    </tr>\n  </thead>\n  <tbody>\n    <tr>\n      <th>0</th>\n      <td>220676</td>\n      <td>Shujkova</td>\n      <td>INESSA</td>\n      <td>NaN</td>\n      <td>2021-01-13 11:42:12</td>\n      <td>2020-04-22 09:05:19</td>\n    </tr>\n    <tr>\n      <th>1</th>\n      <td>35624313</td>\n      <td>Злобин</td>\n      <td>Максим</td>\n      <td>NaN</td>\n      <td>2020-11-07 12:08:17</td>\n      <td>2020-04-23 06:26:14</td>\n    </tr>\n    <tr>\n      <th>2</th>\n      <td>222220413</td>\n      <td>Константин Андреевич</td>\n      <td>Ротобыльский</td>\n      <td>NaN</td>\n      <td>2020-04-25 16:03:40</td>\n      <td>2020-04-25 16:30:18</td>\n    </tr>\n    <tr>\n      <th>3</th>\n      <td>223158207</td>\n      <td>Наталья</td>\n      <td>Савченко</td>\n      <td>NaN</td>\n      <td>2020-04-27 19:08:08</td>\n      <td>2020-04-27 06:19:12</td>\n    </tr>\n    <tr>\n      <th>4</th>\n      <td>223176788</td>\n      <td>Демьянова</td>\n      <td>Надежда</td>\n      <td>NaN</td>\n      <td>2020-04-27 06:40:40</td>\n      <td>2020-04-27 06:41:54</td>\n    </tr>\n  </tbody>\n</table>\n</div>"
     },
     "metadata": {},
     "execution_count": 12
    }
   ],
   "source": [
    "learners = pd.read_csv(r'..\\data\\CSV\\learners.csv', sep=';')\n",
    "learners.head()"
   ]
  },
  {
   "cell_type": "code",
   "execution_count": 13,
   "metadata": {},
   "outputs": [
    {
     "output_type": "execute_result",
     "data": {
      "text/plain": [
       "   course_id    user_id last_name first_name  session_id  step_id  type  \\\n",
       "0      70810  251229774    Котова    Надежда      639621  1272050  peer   \n",
       "1      70810  235529052  Макарова      Елена      632083  1310994  peer   \n",
       "2      70810  251664717  Никонова    Еагения      631871  1282411  peer   \n",
       "3      70810  235529052  Макарова      Елена      631377  1282411  peer   \n",
       "4      70810  230946115       Л.Д  Лахтикова      630605  1272050  peer   \n",
       "\n",
       "  is_taking_finished is_giving_finished  taken_reviews_count  \\\n",
       "0               ЛОЖЬ               ЛОЖЬ                    0   \n",
       "1               ЛОЖЬ             ИСТИНА                    0   \n",
       "2               ЛОЖЬ             ИСТИНА                    0   \n",
       "3               ЛОЖЬ             ИСТИНА                    1   \n",
       "4               ЛОЖЬ               ЛОЖЬ                    0   \n",
       "\n",
       "   given_reviews_count last_taken_review_date_utc last_given_review_date_utc  \\\n",
       "0                    0                        NaN                        NaN   \n",
       "1                    3                        NaN        2020-06-14 12:46:41   \n",
       "2                    3                        NaN        2020-06-14 10:31:43   \n",
       "3                    3        2020-06-14 10:31:43        2020-06-14 05:14:18   \n",
       "4                    0                        NaN                        NaN   \n",
       "\n",
       "   submission_id  submission_date_utc  \\\n",
       "0      231332841  2020-06-19 12:29:10   \n",
       "1      228140942  2020-06-14 12:05:42   \n",
       "2      228079112  2020-06-14 10:20:55   \n",
       "3      227949490  2020-06-14 04:44:11   \n",
       "4      227603748  2020-06-13 12:14:18   \n",
       "\n",
       "                                 session_url  \n",
       "0  https://stepik.org/review/sessions/639621  \n",
       "1  https://stepik.org/review/sessions/632083  \n",
       "2  https://stepik.org/review/sessions/631871  \n",
       "3  https://stepik.org/review/sessions/631377  \n",
       "4  https://stepik.org/review/sessions/630605  "
      ],
      "text/html": "<div>\n<style scoped>\n    .dataframe tbody tr th:only-of-type {\n        vertical-align: middle;\n    }\n\n    .dataframe tbody tr th {\n        vertical-align: top;\n    }\n\n    .dataframe thead th {\n        text-align: right;\n    }\n</style>\n<table border=\"1\" class=\"dataframe\">\n  <thead>\n    <tr style=\"text-align: right;\">\n      <th></th>\n      <th>course_id</th>\n      <th>user_id</th>\n      <th>last_name</th>\n      <th>first_name</th>\n      <th>session_id</th>\n      <th>step_id</th>\n      <th>type</th>\n      <th>is_taking_finished</th>\n      <th>is_giving_finished</th>\n      <th>taken_reviews_count</th>\n      <th>given_reviews_count</th>\n      <th>last_taken_review_date_utc</th>\n      <th>last_given_review_date_utc</th>\n      <th>submission_id</th>\n      <th>submission_date_utc</th>\n      <th>session_url</th>\n    </tr>\n  </thead>\n  <tbody>\n    <tr>\n      <th>0</th>\n      <td>70810</td>\n      <td>251229774</td>\n      <td>Котова</td>\n      <td>Надежда</td>\n      <td>639621</td>\n      <td>1272050</td>\n      <td>peer</td>\n      <td>ЛОЖЬ</td>\n      <td>ЛОЖЬ</td>\n      <td>0</td>\n      <td>0</td>\n      <td>NaN</td>\n      <td>NaN</td>\n      <td>231332841</td>\n      <td>2020-06-19 12:29:10</td>\n      <td>https://stepik.org/review/sessions/639621</td>\n    </tr>\n    <tr>\n      <th>1</th>\n      <td>70810</td>\n      <td>235529052</td>\n      <td>Макарова</td>\n      <td>Елена</td>\n      <td>632083</td>\n      <td>1310994</td>\n      <td>peer</td>\n      <td>ЛОЖЬ</td>\n      <td>ИСТИНА</td>\n      <td>0</td>\n      <td>3</td>\n      <td>NaN</td>\n      <td>2020-06-14 12:46:41</td>\n      <td>228140942</td>\n      <td>2020-06-14 12:05:42</td>\n      <td>https://stepik.org/review/sessions/632083</td>\n    </tr>\n    <tr>\n      <th>2</th>\n      <td>70810</td>\n      <td>251664717</td>\n      <td>Никонова</td>\n      <td>Еагения</td>\n      <td>631871</td>\n      <td>1282411</td>\n      <td>peer</td>\n      <td>ЛОЖЬ</td>\n      <td>ИСТИНА</td>\n      <td>0</td>\n      <td>3</td>\n      <td>NaN</td>\n      <td>2020-06-14 10:31:43</td>\n      <td>228079112</td>\n      <td>2020-06-14 10:20:55</td>\n      <td>https://stepik.org/review/sessions/631871</td>\n    </tr>\n    <tr>\n      <th>3</th>\n      <td>70810</td>\n      <td>235529052</td>\n      <td>Макарова</td>\n      <td>Елена</td>\n      <td>631377</td>\n      <td>1282411</td>\n      <td>peer</td>\n      <td>ЛОЖЬ</td>\n      <td>ИСТИНА</td>\n      <td>1</td>\n      <td>3</td>\n      <td>2020-06-14 10:31:43</td>\n      <td>2020-06-14 05:14:18</td>\n      <td>227949490</td>\n      <td>2020-06-14 04:44:11</td>\n      <td>https://stepik.org/review/sessions/631377</td>\n    </tr>\n    <tr>\n      <th>4</th>\n      <td>70810</td>\n      <td>230946115</td>\n      <td>Л.Д</td>\n      <td>Лахтикова</td>\n      <td>630605</td>\n      <td>1272050</td>\n      <td>peer</td>\n      <td>ЛОЖЬ</td>\n      <td>ЛОЖЬ</td>\n      <td>0</td>\n      <td>0</td>\n      <td>NaN</td>\n      <td>NaN</td>\n      <td>227603748</td>\n      <td>2020-06-13 12:14:18</td>\n      <td>https://stepik.org/review/sessions/630605</td>\n    </tr>\n  </tbody>\n</table>\n</div>"
     },
     "metadata": {},
     "execution_count": 13
    }
   ],
   "source": [
    "not_finished_review_sessions = pd.read_csv(r'..\\data\\CSV\\not-finished-review-sessions.csv', sep=';')\n",
    "not_finished_review_sessions.head()"
   ]
  },
  {
   "cell_type": "code",
   "execution_count": 14,
   "metadata": {},
   "outputs": [
    {
     "output_type": "execute_result",
     "data": {
      "text/plain": [
       "    user_id  last_name first_name  \\\n",
       "0  15412179    Лобанов    Альберт   \n",
       "1  21119312   Огаркова    Татьяна   \n",
       "2  60348880     Лупова      Ирина   \n",
       "3  61561056  Чернышева   Виктория   \n",
       "4  62817801  Владислав    Ермаков   \n",
       "\n",
       "                                       submission 1  \\\n",
       "0  https://stepik.org/submissions/1272050/224800096   \n",
       "1  https://stepik.org/submissions/1272050/204468542   \n",
       "2  https://stepik.org/submissions/1272050/203892044   \n",
       "3  https://stepik.org/submissions/1272050/204085319   \n",
       "4                                               NaN   \n",
       "\n",
       "                                       submission 2  \\\n",
       "0  https://stepik.org/submissions/1272050/211215935   \n",
       "1  https://stepik.org/submissions/1272050/203892044   \n",
       "2  https://stepik.org/submissions/1272050/203695490   \n",
       "3  https://stepik.org/submissions/1272050/203010739   \n",
       "4                                               NaN   \n",
       "\n",
       "  max_score (Педагогическое эссе Q2 #1272050)  \\\n",
       "0                                 13,95348837   \n",
       "1                                 18,90270039   \n",
       "2                                 15,23777629   \n",
       "3                                 13,41463415   \n",
       "4                                           0   \n",
       "\n",
       "                                     submission 1.1  \\\n",
       "0  https://stepik.org/submissions/1282411/224800242   \n",
       "1  https://stepik.org/submissions/1282411/223834647   \n",
       "2  https://stepik.org/submissions/1282411/209294423   \n",
       "3  https://stepik.org/submissions/1282411/208350630   \n",
       "4  https://stepik.org/submissions/1282411/218000676   \n",
       "\n",
       "                                     submission 2.1  \\\n",
       "0  https://stepik.org/submissions/1282411/211547657   \n",
       "1  https://stepik.org/submissions/1282411/222570127   \n",
       "2  https://stepik.org/submissions/1282411/207463261   \n",
       "3  https://stepik.org/submissions/1282411/207500612   \n",
       "4  https://stepik.org/submissions/1282411/211617411   \n",
       "\n",
       "  max_score (Педагогическое эссе Q2 #1282411)  \\\n",
       "0                                 17,82945736   \n",
       "1                                 19,05584341   \n",
       "2                                 14,50151057   \n",
       "3                                 13,01947108   \n",
       "4                                 38,05612594   \n",
       "\n",
       "                                     submission 1.2  \\\n",
       "0  https://stepik.org/submissions/1310994/224800434   \n",
       "1                                               NaN   \n",
       "2  https://stepik.org/submissions/1310994/211770301   \n",
       "3                                               NaN   \n",
       "4                                               NaN   \n",
       "\n",
       "                                     submission 2.2  \\\n",
       "0  https://stepik.org/submissions/1310994/218767926   \n",
       "1                                               NaN   \n",
       "2  https://stepik.org/submissions/1310994/211593231   \n",
       "3                                               NaN   \n",
       "4                                               NaN   \n",
       "\n",
       "  max_score (Педагогическое эссе Q2 #1310994)  \\\n",
       "0                                 13,17829457   \n",
       "1                                           0   \n",
       "2                                 16,81786462   \n",
       "3                                           0   \n",
       "4                                           0   \n",
       "\n",
       "                                     submission 1.3  \\\n",
       "0  https://stepik.org/submissions/1328653/224796812   \n",
       "1  https://stepik.org/submissions/1328653/225227543   \n",
       "2                                               NaN   \n",
       "3                                               NaN   \n",
       "4                                               NaN   \n",
       "\n",
       "                                     submission 2.3  \\\n",
       "0  https://stepik.org/submissions/1328653/219204278   \n",
       "1  https://stepik.org/submissions/1328653/219771169   \n",
       "2                                               NaN   \n",
       "3                                               NaN   \n",
       "4                                               NaN   \n",
       "\n",
       "  max_score (Виртуальные уроки педагогов Липецкой области Q2 #1328653)  \n",
       "0                                        23,12312312                    \n",
       "1                                        32,75862069                    \n",
       "2                                                  0                    \n",
       "3                                                  0                    \n",
       "4                                                  0                    "
      ],
      "text/html": "<div>\n<style scoped>\n    .dataframe tbody tr th:only-of-type {\n        vertical-align: middle;\n    }\n\n    .dataframe tbody tr th {\n        vertical-align: top;\n    }\n\n    .dataframe thead th {\n        text-align: right;\n    }\n</style>\n<table border=\"1\" class=\"dataframe\">\n  <thead>\n    <tr style=\"text-align: right;\">\n      <th></th>\n      <th>user_id</th>\n      <th>last_name</th>\n      <th>first_name</th>\n      <th>submission 1</th>\n      <th>submission 2</th>\n      <th>max_score (Педагогическое эссе Q2 #1272050)</th>\n      <th>submission 1.1</th>\n      <th>submission 2.1</th>\n      <th>max_score (Педагогическое эссе Q2 #1282411)</th>\n      <th>submission 1.2</th>\n      <th>submission 2.2</th>\n      <th>max_score (Педагогическое эссе Q2 #1310994)</th>\n      <th>submission 1.3</th>\n      <th>submission 2.3</th>\n      <th>max_score (Виртуальные уроки педагогов Липецкой области Q2 #1328653)</th>\n    </tr>\n  </thead>\n  <tbody>\n    <tr>\n      <th>0</th>\n      <td>15412179</td>\n      <td>Лобанов</td>\n      <td>Альберт</td>\n      <td>https://stepik.org/submissions/1272050/224800096</td>\n      <td>https://stepik.org/submissions/1272050/211215935</td>\n      <td>13,95348837</td>\n      <td>https://stepik.org/submissions/1282411/224800242</td>\n      <td>https://stepik.org/submissions/1282411/211547657</td>\n      <td>17,82945736</td>\n      <td>https://stepik.org/submissions/1310994/224800434</td>\n      <td>https://stepik.org/submissions/1310994/218767926</td>\n      <td>13,17829457</td>\n      <td>https://stepik.org/submissions/1328653/224796812</td>\n      <td>https://stepik.org/submissions/1328653/219204278</td>\n      <td>23,12312312</td>\n    </tr>\n    <tr>\n      <th>1</th>\n      <td>21119312</td>\n      <td>Огаркова</td>\n      <td>Татьяна</td>\n      <td>https://stepik.org/submissions/1272050/204468542</td>\n      <td>https://stepik.org/submissions/1272050/203892044</td>\n      <td>18,90270039</td>\n      <td>https://stepik.org/submissions/1282411/223834647</td>\n      <td>https://stepik.org/submissions/1282411/222570127</td>\n      <td>19,05584341</td>\n      <td>NaN</td>\n      <td>NaN</td>\n      <td>0</td>\n      <td>https://stepik.org/submissions/1328653/225227543</td>\n      <td>https://stepik.org/submissions/1328653/219771169</td>\n      <td>32,75862069</td>\n    </tr>\n    <tr>\n      <th>2</th>\n      <td>60348880</td>\n      <td>Лупова</td>\n      <td>Ирина</td>\n      <td>https://stepik.org/submissions/1272050/203892044</td>\n      <td>https://stepik.org/submissions/1272050/203695490</td>\n      <td>15,23777629</td>\n      <td>https://stepik.org/submissions/1282411/209294423</td>\n      <td>https://stepik.org/submissions/1282411/207463261</td>\n      <td>14,50151057</td>\n      <td>https://stepik.org/submissions/1310994/211770301</td>\n      <td>https://stepik.org/submissions/1310994/211593231</td>\n      <td>16,81786462</td>\n      <td>NaN</td>\n      <td>NaN</td>\n      <td>0</td>\n    </tr>\n    <tr>\n      <th>3</th>\n      <td>61561056</td>\n      <td>Чернышева</td>\n      <td>Виктория</td>\n      <td>https://stepik.org/submissions/1272050/204085319</td>\n      <td>https://stepik.org/submissions/1272050/203010739</td>\n      <td>13,41463415</td>\n      <td>https://stepik.org/submissions/1282411/208350630</td>\n      <td>https://stepik.org/submissions/1282411/207500612</td>\n      <td>13,01947108</td>\n      <td>NaN</td>\n      <td>NaN</td>\n      <td>0</td>\n      <td>NaN</td>\n      <td>NaN</td>\n      <td>0</td>\n    </tr>\n    <tr>\n      <th>4</th>\n      <td>62817801</td>\n      <td>Владислав</td>\n      <td>Ермаков</td>\n      <td>NaN</td>\n      <td>NaN</td>\n      <td>0</td>\n      <td>https://stepik.org/submissions/1282411/218000676</td>\n      <td>https://stepik.org/submissions/1282411/211617411</td>\n      <td>38,05612594</td>\n      <td>NaN</td>\n      <td>NaN</td>\n      <td>0</td>\n      <td>NaN</td>\n      <td>NaN</td>\n      <td>0</td>\n    </tr>\n  </tbody>\n</table>\n</div>"
     },
     "metadata": {},
     "execution_count": 14
    }
   ],
   "source": [
    "plagiarism= pd.read_csv(r'..\\data\\CSV\\plagiarism.csv', sep=';')\n",
    "plagiarism.head()"
   ]
  },
  {
   "cell_type": "code",
   "execution_count": 15,
   "metadata": {},
   "outputs": [
    {
     "output_type": "execute_result",
     "data": {
      "text/plain": [
       "     user_id  last_name          first_name             date_utc  \\\n",
       "0  223499837  223499837           Anonymous  2020-04-27 14:52:23   \n",
       "1  235321866     Мешков                Юрий  2020-05-14 14:55:33   \n",
       "2  237127804  237127804           Anonymous  2020-05-17 14:57:59   \n",
       "3   85935893        NaN  Теминдияров Руслан  2020-05-19 14:42:40   \n",
       "4  212532513      Занин             Дмитрий  2020-05-21 06:18:55   \n",
       "\n",
       "   date_registered_utc    date_enrolled_utc           utm_source utm_medium  \\\n",
       "0                  NaN                  NaN              landing     button   \n",
       "1  2020-05-14 14:58:19  2020-05-14 14:58:20              landing     button   \n",
       "2                  NaN                  NaN              landing     button   \n",
       "3  2019-03-20 10:05:13                  NaN  marchenko-marketing      email   \n",
       "4  2020-04-13 14:56:28                  NaN              landing     button   \n",
       "\n",
       "  utm_campaign  utm_term  utm_content  \n",
       "0  expversion1       NaN          NaN  \n",
       "1  expversion1       NaN          NaN  \n",
       "2  expversion1       NaN          NaN  \n",
       "3     19-08-19       NaN          NaN  \n",
       "4  expversion1       NaN          NaN  "
      ],
      "text/html": "<div>\n<style scoped>\n    .dataframe tbody tr th:only-of-type {\n        vertical-align: middle;\n    }\n\n    .dataframe tbody tr th {\n        vertical-align: top;\n    }\n\n    .dataframe thead th {\n        text-align: right;\n    }\n</style>\n<table border=\"1\" class=\"dataframe\">\n  <thead>\n    <tr style=\"text-align: right;\">\n      <th></th>\n      <th>user_id</th>\n      <th>last_name</th>\n      <th>first_name</th>\n      <th>date_utc</th>\n      <th>date_registered_utc</th>\n      <th>date_enrolled_utc</th>\n      <th>utm_source</th>\n      <th>utm_medium</th>\n      <th>utm_campaign</th>\n      <th>utm_term</th>\n      <th>utm_content</th>\n    </tr>\n  </thead>\n  <tbody>\n    <tr>\n      <th>0</th>\n      <td>223499837</td>\n      <td>223499837</td>\n      <td>Anonymous</td>\n      <td>2020-04-27 14:52:23</td>\n      <td>NaN</td>\n      <td>NaN</td>\n      <td>landing</td>\n      <td>button</td>\n      <td>expversion1</td>\n      <td>NaN</td>\n      <td>NaN</td>\n    </tr>\n    <tr>\n      <th>1</th>\n      <td>235321866</td>\n      <td>Мешков</td>\n      <td>Юрий</td>\n      <td>2020-05-14 14:55:33</td>\n      <td>2020-05-14 14:58:19</td>\n      <td>2020-05-14 14:58:20</td>\n      <td>landing</td>\n      <td>button</td>\n      <td>expversion1</td>\n      <td>NaN</td>\n      <td>NaN</td>\n    </tr>\n    <tr>\n      <th>2</th>\n      <td>237127804</td>\n      <td>237127804</td>\n      <td>Anonymous</td>\n      <td>2020-05-17 14:57:59</td>\n      <td>NaN</td>\n      <td>NaN</td>\n      <td>landing</td>\n      <td>button</td>\n      <td>expversion1</td>\n      <td>NaN</td>\n      <td>NaN</td>\n    </tr>\n    <tr>\n      <th>3</th>\n      <td>85935893</td>\n      <td>NaN</td>\n      <td>Теминдияров Руслан</td>\n      <td>2020-05-19 14:42:40</td>\n      <td>2019-03-20 10:05:13</td>\n      <td>NaN</td>\n      <td>marchenko-marketing</td>\n      <td>email</td>\n      <td>19-08-19</td>\n      <td>NaN</td>\n      <td>NaN</td>\n    </tr>\n    <tr>\n      <th>4</th>\n      <td>212532513</td>\n      <td>Занин</td>\n      <td>Дмитрий</td>\n      <td>2020-05-21 06:18:55</td>\n      <td>2020-04-13 14:56:28</td>\n      <td>NaN</td>\n      <td>landing</td>\n      <td>button</td>\n      <td>expversion1</td>\n      <td>NaN</td>\n      <td>NaN</td>\n    </tr>\n  </tbody>\n</table>\n</div>"
     },
     "metadata": {},
     "execution_count": 15
    }
   ],
   "source": [
    "referral_traffic= pd.read_csv(r'..\\data\\CSV\\referral-traffic.csv', sep=';')\n",
    "referral_traffic.head()"
   ]
  },
  {
   "cell_type": "code",
   "execution_count": 16,
   "metadata": {},
   "outputs": [
    {
     "output_type": "execute_result",
     "data": {
      "text/plain": [
       "                                      review  original score predicted score  \\\n",
       "0  https://stepik.org/review/reviews/1213780               0           13,93   \n",
       "1  https://stepik.org/review/reviews/1213313               0           13,92   \n",
       "2  https://stepik.org/review/reviews/1213768               0           13,88   \n",
       "3  https://stepik.org/review/reviews/1184381               0           13,64   \n",
       "4  https://stepik.org/review/reviews/1175905               1           12,09   \n",
       "\n",
       "  distance  \n",
       "0    13,93  \n",
       "1    13,92  \n",
       "2    13,88  \n",
       "3    13,64  \n",
       "4    11,09  "
      ],
      "text/html": "<div>\n<style scoped>\n    .dataframe tbody tr th:only-of-type {\n        vertical-align: middle;\n    }\n\n    .dataframe tbody tr th {\n        vertical-align: top;\n    }\n\n    .dataframe thead th {\n        text-align: right;\n    }\n</style>\n<table border=\"1\" class=\"dataframe\">\n  <thead>\n    <tr style=\"text-align: right;\">\n      <th></th>\n      <th>review</th>\n      <th>original score</th>\n      <th>predicted score</th>\n      <th>distance</th>\n    </tr>\n  </thead>\n  <tbody>\n    <tr>\n      <th>0</th>\n      <td>https://stepik.org/review/reviews/1213780</td>\n      <td>0</td>\n      <td>13,93</td>\n      <td>13,93</td>\n    </tr>\n    <tr>\n      <th>1</th>\n      <td>https://stepik.org/review/reviews/1213313</td>\n      <td>0</td>\n      <td>13,92</td>\n      <td>13,92</td>\n    </tr>\n    <tr>\n      <th>2</th>\n      <td>https://stepik.org/review/reviews/1213768</td>\n      <td>0</td>\n      <td>13,88</td>\n      <td>13,88</td>\n    </tr>\n    <tr>\n      <th>3</th>\n      <td>https://stepik.org/review/reviews/1184381</td>\n      <td>0</td>\n      <td>13,64</td>\n      <td>13,64</td>\n    </tr>\n    <tr>\n      <th>4</th>\n      <td>https://stepik.org/review/reviews/1175905</td>\n      <td>1</td>\n      <td>12,09</td>\n      <td>11,09</td>\n    </tr>\n  </tbody>\n</table>\n</div>"
     },
     "metadata": {},
     "execution_count": 16
    }
   ],
   "source": [
    "reviews_outliers= pd.read_csv(r'..\\data\\CSV\\reviews-outliers.csv', sep=';')\n",
    "reviews_outliers.head()"
   ]
  },
  {
   "cell_type": "code",
   "execution_count": 17,
   "metadata": {},
   "outputs": [
    {
     "output_type": "execute_result",
     "data": {
      "text/plain": [
       "   step_id                                 step_url   difficulty  \\\n",
       "0  1268657  https://stepik.org/lesson/345697/step/3  0,764923077   \n",
       "1  1269896  https://stepik.org/lesson/345697/step/4  0,727272727   \n",
       "2  1269902  https://stepik.org/lesson/345697/step/5  0,628030303   \n",
       "3  1269905  https://stepik.org/lesson/345697/step/6   0,46780303   \n",
       "4  1269910  https://stepik.org/lesson/345697/step/7  0,627014582   \n",
       "\n",
       "  discrimination  \n",
       "0    0,536335858  \n",
       "1    0,654993747  \n",
       "2     0,62882491  \n",
       "3    0,476710509  \n",
       "4    0,592516425  "
      ],
      "text/html": "<div>\n<style scoped>\n    .dataframe tbody tr th:only-of-type {\n        vertical-align: middle;\n    }\n\n    .dataframe tbody tr th {\n        vertical-align: top;\n    }\n\n    .dataframe thead th {\n        text-align: right;\n    }\n</style>\n<table border=\"1\" class=\"dataframe\">\n  <thead>\n    <tr style=\"text-align: right;\">\n      <th></th>\n      <th>step_id</th>\n      <th>step_url</th>\n      <th>difficulty</th>\n      <th>discrimination</th>\n    </tr>\n  </thead>\n  <tbody>\n    <tr>\n      <th>0</th>\n      <td>1268657</td>\n      <td>https://stepik.org/lesson/345697/step/3</td>\n      <td>0,764923077</td>\n      <td>0,536335858</td>\n    </tr>\n    <tr>\n      <th>1</th>\n      <td>1269896</td>\n      <td>https://stepik.org/lesson/345697/step/4</td>\n      <td>0,727272727</td>\n      <td>0,654993747</td>\n    </tr>\n    <tr>\n      <th>2</th>\n      <td>1269902</td>\n      <td>https://stepik.org/lesson/345697/step/5</td>\n      <td>0,628030303</td>\n      <td>0,62882491</td>\n    </tr>\n    <tr>\n      <th>3</th>\n      <td>1269905</td>\n      <td>https://stepik.org/lesson/345697/step/6</td>\n      <td>0,46780303</td>\n      <td>0,476710509</td>\n    </tr>\n    <tr>\n      <th>4</th>\n      <td>1269910</td>\n      <td>https://stepik.org/lesson/345697/step/7</td>\n      <td>0,627014582</td>\n      <td>0,592516425</td>\n    </tr>\n  </tbody>\n</table>\n</div>"
     },
     "metadata": {},
     "execution_count": 17
    }
   ],
   "source": [
    "step_difficulty_discrimination= pd.read_csv(r'..\\data\\CSV\\step-difficulty-discrimination.csv', sep=';')\n",
    "step_difficulty_discrimination.head()"
   ]
  },
  {
   "cell_type": "code",
   "execution_count": 18,
   "metadata": {},
   "outputs": [
    {
     "output_type": "execute_result",
     "data": {
      "text/plain": [
       "   step_id  unique_views  unique_successes  total_views  total_successes  \\\n",
       "0  1258949           806               806         2727                0   \n",
       "1  1258951           688               688         1797                0   \n",
       "2  1258952           659               659         1496                0   \n",
       "3  1258953           651               651         1711                0   \n",
       "4  1258954           556               556         1002                0   \n",
       "\n",
       "   total_failures  \n",
       "0               0  \n",
       "1               0  \n",
       "2               0  \n",
       "3               0  \n",
       "4               0  "
      ],
      "text/html": "<div>\n<style scoped>\n    .dataframe tbody tr th:only-of-type {\n        vertical-align: middle;\n    }\n\n    .dataframe tbody tr th {\n        vertical-align: top;\n    }\n\n    .dataframe thead th {\n        text-align: right;\n    }\n</style>\n<table border=\"1\" class=\"dataframe\">\n  <thead>\n    <tr style=\"text-align: right;\">\n      <th></th>\n      <th>step_id</th>\n      <th>unique_views</th>\n      <th>unique_successes</th>\n      <th>total_views</th>\n      <th>total_successes</th>\n      <th>total_failures</th>\n    </tr>\n  </thead>\n  <tbody>\n    <tr>\n      <th>0</th>\n      <td>1258949</td>\n      <td>806</td>\n      <td>806</td>\n      <td>2727</td>\n      <td>0</td>\n      <td>0</td>\n    </tr>\n    <tr>\n      <th>1</th>\n      <td>1258951</td>\n      <td>688</td>\n      <td>688</td>\n      <td>1797</td>\n      <td>0</td>\n      <td>0</td>\n    </tr>\n    <tr>\n      <th>2</th>\n      <td>1258952</td>\n      <td>659</td>\n      <td>659</td>\n      <td>1496</td>\n      <td>0</td>\n      <td>0</td>\n    </tr>\n    <tr>\n      <th>3</th>\n      <td>1258953</td>\n      <td>651</td>\n      <td>651</td>\n      <td>1711</td>\n      <td>0</td>\n      <td>0</td>\n    </tr>\n    <tr>\n      <th>4</th>\n      <td>1258954</td>\n      <td>556</td>\n      <td>556</td>\n      <td>1002</td>\n      <td>0</td>\n      <td>0</td>\n    </tr>\n  </tbody>\n</table>\n</div>"
     },
     "metadata": {},
     "execution_count": 18
    }
   ],
   "source": [
    "step_stats = pd.read_csv(r'..\\data\\CSV\\step-stats.csv', sep=';')\n",
    "step_stats.head()"
   ]
  },
  {
   "cell_type": "code",
   "execution_count": 19,
   "metadata": {},
   "outputs": [
    {
     "output_type": "execute_result",
     "data": {
      "text/plain": [
       "   course_id  module_id  module_position  lesson_id  lesson_position  step_id  \\\n",
       "0      70810     130207                1     347108                1  1269617   \n",
       "1      70810     130207                1     347108                1  1265485   \n",
       "2      70810     130207                1     347108                1  1270620   \n",
       "3      70810     130207                1     347108                1  1270886   \n",
       "4      70810     130207                1     347108                1  1270897   \n",
       "\n",
       "   step_position step_type  step_cost  begin_date_utc  end_date_utc  \\\n",
       "0              1      text          0      1587988800           NaN   \n",
       "1              2    choice          1      1587988800           NaN   \n",
       "2              3    choice          1      1587988800           NaN   \n",
       "3              4    choice          1      1587988800           NaN   \n",
       "4              5    choice          1      1587988800           NaN   \n",
       "\n",
       "   soft_deadline_utc  hard_deadline_utc grading_policy  \n",
       "0                NaN                NaN   no_deadlines  \n",
       "1                NaN                NaN   no_deadlines  \n",
       "2                NaN                NaN   no_deadlines  \n",
       "3                NaN                NaN   no_deadlines  \n",
       "4                NaN                NaN   no_deadlines  "
      ],
      "text/html": "<div>\n<style scoped>\n    .dataframe tbody tr th:only-of-type {\n        vertical-align: middle;\n    }\n\n    .dataframe tbody tr th {\n        vertical-align: top;\n    }\n\n    .dataframe thead th {\n        text-align: right;\n    }\n</style>\n<table border=\"1\" class=\"dataframe\">\n  <thead>\n    <tr style=\"text-align: right;\">\n      <th></th>\n      <th>course_id</th>\n      <th>module_id</th>\n      <th>module_position</th>\n      <th>lesson_id</th>\n      <th>lesson_position</th>\n      <th>step_id</th>\n      <th>step_position</th>\n      <th>step_type</th>\n      <th>step_cost</th>\n      <th>begin_date_utc</th>\n      <th>end_date_utc</th>\n      <th>soft_deadline_utc</th>\n      <th>hard_deadline_utc</th>\n      <th>grading_policy</th>\n    </tr>\n  </thead>\n  <tbody>\n    <tr>\n      <th>0</th>\n      <td>70810</td>\n      <td>130207</td>\n      <td>1</td>\n      <td>347108</td>\n      <td>1</td>\n      <td>1269617</td>\n      <td>1</td>\n      <td>text</td>\n      <td>0</td>\n      <td>1587988800</td>\n      <td>NaN</td>\n      <td>NaN</td>\n      <td>NaN</td>\n      <td>no_deadlines</td>\n    </tr>\n    <tr>\n      <th>1</th>\n      <td>70810</td>\n      <td>130207</td>\n      <td>1</td>\n      <td>347108</td>\n      <td>1</td>\n      <td>1265485</td>\n      <td>2</td>\n      <td>choice</td>\n      <td>1</td>\n      <td>1587988800</td>\n      <td>NaN</td>\n      <td>NaN</td>\n      <td>NaN</td>\n      <td>no_deadlines</td>\n    </tr>\n    <tr>\n      <th>2</th>\n      <td>70810</td>\n      <td>130207</td>\n      <td>1</td>\n      <td>347108</td>\n      <td>1</td>\n      <td>1270620</td>\n      <td>3</td>\n      <td>choice</td>\n      <td>1</td>\n      <td>1587988800</td>\n      <td>NaN</td>\n      <td>NaN</td>\n      <td>NaN</td>\n      <td>no_deadlines</td>\n    </tr>\n    <tr>\n      <th>3</th>\n      <td>70810</td>\n      <td>130207</td>\n      <td>1</td>\n      <td>347108</td>\n      <td>1</td>\n      <td>1270886</td>\n      <td>4</td>\n      <td>choice</td>\n      <td>1</td>\n      <td>1587988800</td>\n      <td>NaN</td>\n      <td>NaN</td>\n      <td>NaN</td>\n      <td>no_deadlines</td>\n    </tr>\n    <tr>\n      <th>4</th>\n      <td>70810</td>\n      <td>130207</td>\n      <td>1</td>\n      <td>347108</td>\n      <td>1</td>\n      <td>1270897</td>\n      <td>5</td>\n      <td>choice</td>\n      <td>1</td>\n      <td>1587988800</td>\n      <td>NaN</td>\n      <td>NaN</td>\n      <td>NaN</td>\n      <td>no_deadlines</td>\n    </tr>\n  </tbody>\n</table>\n</div>"
     },
     "metadata": {},
     "execution_count": 19
    }
   ],
   "source": [
    "structure = pd.read_csv(r'..\\data\\CSV\\structure.csv', sep=';')\n",
    "structure.head()"
   ]
  },
  {
   "cell_type": "code",
   "execution_count": 20,
   "metadata": {},
   "outputs": [
    {
     "output_type": "execute_result",
     "data": {
      "text/plain": [
       "   submission_id  step_id    user_id last_name               first_name  \\\n",
       "0      199922314  1268657  220677450     \"ИРО\"  ГАУДПО Липецкой области   \n",
       "1      199922413  1268657  220677450     \"ИРО\"  ГАУДПО Липецкой области   \n",
       "2      199922493  1268657  220677450     \"ИРО\"  ГАУДПО Липецкой области   \n",
       "3      200412615  1265485  220677450     \"ИРО\"  ГАУДПО Липецкой области   \n",
       "4      200412749  1270620  220677450     \"ИРО\"  ГАУДПО Липецкой области   \n",
       "\n",
       "   attempt_time  submission_time   status  \n",
       "0    1587896866       1587896875  correct  \n",
       "1    1587896881       1587896884  correct  \n",
       "2    1587896889       1587896892    wrong  \n",
       "3    1587969356       1587969398  correct  \n",
       "4    1587969401       1587969415  correct  "
      ],
      "text/html": "<div>\n<style scoped>\n    .dataframe tbody tr th:only-of-type {\n        vertical-align: middle;\n    }\n\n    .dataframe tbody tr th {\n        vertical-align: top;\n    }\n\n    .dataframe thead th {\n        text-align: right;\n    }\n</style>\n<table border=\"1\" class=\"dataframe\">\n  <thead>\n    <tr style=\"text-align: right;\">\n      <th></th>\n      <th>submission_id</th>\n      <th>step_id</th>\n      <th>user_id</th>\n      <th>last_name</th>\n      <th>first_name</th>\n      <th>attempt_time</th>\n      <th>submission_time</th>\n      <th>status</th>\n    </tr>\n  </thead>\n  <tbody>\n    <tr>\n      <th>0</th>\n      <td>199922314</td>\n      <td>1268657</td>\n      <td>220677450</td>\n      <td>\"ИРО\"</td>\n      <td>ГАУДПО Липецкой области</td>\n      <td>1587896866</td>\n      <td>1587896875</td>\n      <td>correct</td>\n    </tr>\n    <tr>\n      <th>1</th>\n      <td>199922413</td>\n      <td>1268657</td>\n      <td>220677450</td>\n      <td>\"ИРО\"</td>\n      <td>ГАУДПО Липецкой области</td>\n      <td>1587896881</td>\n      <td>1587896884</td>\n      <td>correct</td>\n    </tr>\n    <tr>\n      <th>2</th>\n      <td>199922493</td>\n      <td>1268657</td>\n      <td>220677450</td>\n      <td>\"ИРО\"</td>\n      <td>ГАУДПО Липецкой области</td>\n      <td>1587896889</td>\n      <td>1587896892</td>\n      <td>wrong</td>\n    </tr>\n    <tr>\n      <th>3</th>\n      <td>200412615</td>\n      <td>1265485</td>\n      <td>220677450</td>\n      <td>\"ИРО\"</td>\n      <td>ГАУДПО Липецкой области</td>\n      <td>1587969356</td>\n      <td>1587969398</td>\n      <td>correct</td>\n    </tr>\n    <tr>\n      <th>4</th>\n      <td>200412749</td>\n      <td>1270620</td>\n      <td>220677450</td>\n      <td>\"ИРО\"</td>\n      <td>ГАУДПО Липецкой области</td>\n      <td>1587969401</td>\n      <td>1587969415</td>\n      <td>correct</td>\n    </tr>\n  </tbody>\n</table>\n</div>"
     },
     "metadata": {},
     "execution_count": 20
    }
   ],
   "source": [
    "submissions = pd.read_csv(r'..\\data\\CSV\\submissions.csv', sep=';')\n",
    "submissions.head()"
   ]
  },
  {
   "cell_type": "code",
   "execution_count": 21,
   "metadata": {},
   "outputs": [
    {
     "output_type": "execute_result",
     "data": {
      "text/plain": [
       "    user_id                    last_name             first_name  \\\n",
       "0  73886792  одаренных детей \"Стратегия\"  ГОАОУ Центр поддержки   \n",
       "\n",
       "   invitation_email       last_login_utc      date_joined_utc  \n",
       "0               NaN  2020-06-30 06:33:07  2020-04-22 05:43:28  "
      ],
      "text/html": "<div>\n<style scoped>\n    .dataframe tbody tr th:only-of-type {\n        vertical-align: middle;\n    }\n\n    .dataframe tbody tr th {\n        vertical-align: top;\n    }\n\n    .dataframe thead th {\n        text-align: right;\n    }\n</style>\n<table border=\"1\" class=\"dataframe\">\n  <thead>\n    <tr style=\"text-align: right;\">\n      <th></th>\n      <th>user_id</th>\n      <th>last_name</th>\n      <th>first_name</th>\n      <th>invitation_email</th>\n      <th>last_login_utc</th>\n      <th>date_joined_utc</th>\n    </tr>\n  </thead>\n  <tbody>\n    <tr>\n      <th>0</th>\n      <td>73886792</td>\n      <td>одаренных детей \"Стратегия\"</td>\n      <td>ГОАОУ Центр поддержки</td>\n      <td>NaN</td>\n      <td>2020-06-30 06:33:07</td>\n      <td>2020-04-22 05:43:28</td>\n    </tr>\n  </tbody>\n</table>\n</div>"
     },
     "metadata": {},
     "execution_count": 21
    }
   ],
   "source": [
    "teachers = pd.read_csv(r'..\\data\\CSV\\teachers.csv', sep=';')\n",
    "teachers.head()"
   ]
  },
  {
   "cell_type": "code",
   "execution_count": 22,
   "metadata": {},
   "outputs": [
    {
     "output_type": "execute_result",
     "data": {
      "text/plain": [
       "     type      id                                              title  \\\n",
       "0  course   70810  Формула образования. Школа: ученик, родитель, ...   \n",
       "1  module  130207                                   Вводный модуль.    \n",
       "2  module  129762  Фундаментальный взгляд на развитие образования...   \n",
       "3  module  129763      Современные подходы к образованию. Дима Зицер   \n",
       "4  module  129764  Работа с семьями: консультирование детей и род...   \n",
       "\n",
       "   position  seconds_to_complete  \n",
       "0       NaN                 7162  \n",
       "1       1.0                  388  \n",
       "2       2.0                 2441  \n",
       "3       3.0                 1336  \n",
       "4       4.0                 1139  "
      ],
      "text/html": "<div>\n<style scoped>\n    .dataframe tbody tr th:only-of-type {\n        vertical-align: middle;\n    }\n\n    .dataframe tbody tr th {\n        vertical-align: top;\n    }\n\n    .dataframe thead th {\n        text-align: right;\n    }\n</style>\n<table border=\"1\" class=\"dataframe\">\n  <thead>\n    <tr style=\"text-align: right;\">\n      <th></th>\n      <th>type</th>\n      <th>id</th>\n      <th>title</th>\n      <th>position</th>\n      <th>seconds_to_complete</th>\n    </tr>\n  </thead>\n  <tbody>\n    <tr>\n      <th>0</th>\n      <td>course</td>\n      <td>70810</td>\n      <td>Формула образования. Школа: ученик, родитель, ...</td>\n      <td>NaN</td>\n      <td>7162</td>\n    </tr>\n    <tr>\n      <th>1</th>\n      <td>module</td>\n      <td>130207</td>\n      <td>Вводный модуль.</td>\n      <td>1.0</td>\n      <td>388</td>\n    </tr>\n    <tr>\n      <th>2</th>\n      <td>module</td>\n      <td>129762</td>\n      <td>Фундаментальный взгляд на развитие образования...</td>\n      <td>2.0</td>\n      <td>2441</td>\n    </tr>\n    <tr>\n      <th>3</th>\n      <td>module</td>\n      <td>129763</td>\n      <td>Современные подходы к образованию. Дима Зицер</td>\n      <td>3.0</td>\n      <td>1336</td>\n    </tr>\n    <tr>\n      <th>4</th>\n      <td>module</td>\n      <td>129764</td>\n      <td>Работа с семьями: консультирование детей и род...</td>\n      <td>4.0</td>\n      <td>1139</td>\n    </tr>\n  </tbody>\n</table>\n</div>"
     },
     "metadata": {},
     "execution_count": 22
    }
   ],
   "source": [
    "time_to_complete = pd.read_csv(r'..\\data\\CSV\\time-to-complete.csv', sep=';')\n",
    "time_to_complete.head()"
   ]
  },
  {
   "source": [
    "### Потом проанализируем"
   ],
   "cell_type": "markdown",
   "metadata": {}
  },
  {
   "source": [
    "Что нам нужно для того, чтобы знать активность пользователей на курсе?\n",
    "\n",
    "Конечно же, их посылки и их статусы, структура курса, \"журнал успеваемости\" и, возможно, какая-то другая информация вроде комментариев и информации о шагах.\n",
    "\n",
    "Что нам **не** нужно? Таблицы читерства, плагиата, учителей. Поэтому мы проигнорируем эти датасеты (возможно, они понадобятся нам позже). "
   ],
   "cell_type": "markdown",
   "metadata": {}
  },
  {
   "source": [
    "Возможно, нам не понадобится трафик рефералов.\n",
    "\n",
    "Информацию по заданиям с рецензиями трудно интерпретировать и употребить в правильном месте, поэтому мы не знаем, как их использовать. Но сохраним."
   ],
   "cell_type": "markdown",
   "metadata": {}
  },
  {
   "source": [
    "Что у нас есть:\n",
    "* activity_full                  (таблица активности)\n",
    "* activity                       (таблица активности, в сокращении)\n",
    "* ~~cheating~~                   (таблица читерства)\n",
    "* comments                       (таблица комментариев)\n",
    "* grade_book1                    (журнал успеваемости)\n",
    "* grade_book_short               (сокращённый журнал успеваемости)\n",
    "* grade_book_without_deadlines   (журнал успеваемости без учёта дедлайнов)\n",
    "* learners                       (список обучающихся)\n",
    "* not_finished_review_sessions   (таблица незавершённых заданий с рецензиями)\n",
    "* ~~plagiarism~~                 (таблица плагиата)\n",
    "* ~~referral traffic~~           (трафик рефералов)\n",
    "* reviews_outliers               (таблица учатников заданий с рецензиями, не получивших нужное количество рецензий)\n",
    "* step_difficulty_discrimination (описание сложностей шагов)\n",
    "* step_stats                     (статистика шагов)\n",
    "* structure                      (структура курса)\n",
    "* submissions_full               (список посылок)\n",
    "* submissions                    (список посылок с меньшим количеством информации о них)\n",
    "* ~~teachers~~                   (список учителей)\n",
    "* time_to_complete               (ориентировочное время на завершение каждого из уроков)"
   ],
   "cell_type": "markdown",
   "metadata": {}
  },
  {
   "source": [
    "Давайте предобработаем наши данные."
   ],
   "cell_type": "markdown",
   "metadata": {}
  },
  {
   "source": [
    "### Собственно, предобработка"
   ],
   "cell_type": "markdown",
   "metadata": {}
  },
  {
   "cell_type": "code",
   "execution_count": 23,
   "metadata": {},
   "outputs": [],
   "source": [
    "users_data = grade_book1[['user_id','total','date_joined_utc','last_viewed_utc']].set_index('user_id').sort_index(axis=0)"
   ]
  },
  {
   "cell_type": "code",
   "execution_count": 24,
   "metadata": {},
   "outputs": [
    {
     "output_type": "execute_result",
     "data": {
      "text/plain": [
       "          total      date_joined_utc      last_viewed_utc\n",
       "user_id                                                  \n",
       "220676       10  2020-04-22 09:05:19  2020-06-05 10:42:18\n",
       "235431        0  2020-06-20 05:36:08  2020-06-20 18:33:29\n",
       "326719      127  2020-05-12 19:21:31  2020-05-30 14:53:46\n",
       "377678        0  2020-06-24 17:02:34                  NaN\n",
       "1360625       0  2020-05-10 21:27:38                  NaN\n",
       "...         ...                  ...                  ...\n",
       "260827899     0  2020-06-25 06:25:11                  NaN\n",
       "263086182     7  2020-06-29 10:50:00  2020-06-29 10:57:16\n",
       "263327751     0  2020-06-29 20:08:22                  NaN\n",
       "263750210     0  2020-07-01 09:18:12                  NaN\n",
       "264434070     0  2020-07-06 17:06:28                  NaN\n",
       "\n",
       "[989 rows x 3 columns]"
      ],
      "text/html": "<div>\n<style scoped>\n    .dataframe tbody tr th:only-of-type {\n        vertical-align: middle;\n    }\n\n    .dataframe tbody tr th {\n        vertical-align: top;\n    }\n\n    .dataframe thead th {\n        text-align: right;\n    }\n</style>\n<table border=\"1\" class=\"dataframe\">\n  <thead>\n    <tr style=\"text-align: right;\">\n      <th></th>\n      <th>total</th>\n      <th>date_joined_utc</th>\n      <th>last_viewed_utc</th>\n    </tr>\n    <tr>\n      <th>user_id</th>\n      <th></th>\n      <th></th>\n      <th></th>\n    </tr>\n  </thead>\n  <tbody>\n    <tr>\n      <th>220676</th>\n      <td>10</td>\n      <td>2020-04-22 09:05:19</td>\n      <td>2020-06-05 10:42:18</td>\n    </tr>\n    <tr>\n      <th>235431</th>\n      <td>0</td>\n      <td>2020-06-20 05:36:08</td>\n      <td>2020-06-20 18:33:29</td>\n    </tr>\n    <tr>\n      <th>326719</th>\n      <td>127</td>\n      <td>2020-05-12 19:21:31</td>\n      <td>2020-05-30 14:53:46</td>\n    </tr>\n    <tr>\n      <th>377678</th>\n      <td>0</td>\n      <td>2020-06-24 17:02:34</td>\n      <td>NaN</td>\n    </tr>\n    <tr>\n      <th>1360625</th>\n      <td>0</td>\n      <td>2020-05-10 21:27:38</td>\n      <td>NaN</td>\n    </tr>\n    <tr>\n      <th>...</th>\n      <td>...</td>\n      <td>...</td>\n      <td>...</td>\n    </tr>\n    <tr>\n      <th>260827899</th>\n      <td>0</td>\n      <td>2020-06-25 06:25:11</td>\n      <td>NaN</td>\n    </tr>\n    <tr>\n      <th>263086182</th>\n      <td>7</td>\n      <td>2020-06-29 10:50:00</td>\n      <td>2020-06-29 10:57:16</td>\n    </tr>\n    <tr>\n      <th>263327751</th>\n      <td>0</td>\n      <td>2020-06-29 20:08:22</td>\n      <td>NaN</td>\n    </tr>\n    <tr>\n      <th>263750210</th>\n      <td>0</td>\n      <td>2020-07-01 09:18:12</td>\n      <td>NaN</td>\n    </tr>\n    <tr>\n      <th>264434070</th>\n      <td>0</td>\n      <td>2020-07-06 17:06:28</td>\n      <td>NaN</td>\n    </tr>\n  </tbody>\n</table>\n<p>989 rows × 3 columns</p>\n</div>"
     },
     "metadata": {},
     "execution_count": 24
    }
   ],
   "source": [
    "users_data"
   ]
  },
  {
   "source": [
    "### ХАБ СОХРАНЕНИЙ\n",
    "\n",
    "Давайте сохраним нашу болванку:"
   ],
   "cell_type": "markdown",
   "metadata": {}
  },
  {
   "cell_type": "code",
   "execution_count": 25,
   "metadata": {},
   "outputs": [],
   "source": [
    "save = open(r'..\\data\\preprocessed\\users-data.csv', 'w')\n",
    "save.write(users_data.to_csv())\n",
    "save.close()"
   ]
  },
  {
   "cell_type": "code",
   "execution_count": 26,
   "metadata": {},
   "outputs": [],
   "source": [
    "q = pd.to_datetime(submissions.groupby('user_id').submission_time.agg(max), unit='s')"
   ]
  },
  {
   "cell_type": "code",
   "execution_count": 27,
   "metadata": {},
   "outputs": [
    {
     "output_type": "execute_result",
     "data": {
      "text/plain": [
       "user_id\n",
       "127890      2020-05-14 15:30:07\n",
       "220676      2020-05-29 08:28:57\n",
       "326719      2020-05-30 14:54:54\n",
       "1635722     2020-05-04 13:48:51\n",
       "2258383     2020-04-30 16:13:32\n",
       "                    ...        \n",
       "251294630   2020-06-09 20:08:37\n",
       "251664717   2020-06-14 11:17:51\n",
       "252308518   2020-06-11 11:25:15\n",
       "253108923   2020-06-12 13:01:09\n",
       "263086182   2020-06-29 10:57:12\n",
       "Name: submission_time, Length: 835, dtype: datetime64[ns]"
      ]
     },
     "metadata": {},
     "execution_count": 27
    }
   ],
   "source": [
    "q"
   ]
  },
  {
   "cell_type": "code",
   "execution_count": 28,
   "metadata": {},
   "outputs": [],
   "source": [
    "users_data = users_data.merge(q.to_frame(), on='user_id', how='inner')"
   ]
  },
  {
   "cell_type": "code",
   "execution_count": 29,
   "metadata": {},
   "outputs": [
    {
     "output_type": "execute_result",
     "data": {
      "text/plain": [
       "        total      date_joined_utc      last_viewed_utc     submission_time\n",
       "user_id                                                                    \n",
       "220676     10  2020-04-22 09:05:19  2020-06-05 10:42:18 2020-05-29 08:28:57\n",
       "326719    127  2020-05-12 19:21:31  2020-05-30 14:53:46 2020-05-30 14:54:54\n",
       "1635722    34  2020-04-30 14:09:07  2020-05-04 13:49:06 2020-05-04 13:48:51\n",
       "2258383     7  2020-04-28 09:42:10  2020-04-30 16:13:38 2020-04-30 16:13:32\n",
       "2509356   139  2020-05-12 06:46:03  2020-06-05 17:26:00 2020-06-05 17:25:57"
      ],
      "text/html": "<div>\n<style scoped>\n    .dataframe tbody tr th:only-of-type {\n        vertical-align: middle;\n    }\n\n    .dataframe tbody tr th {\n        vertical-align: top;\n    }\n\n    .dataframe thead th {\n        text-align: right;\n    }\n</style>\n<table border=\"1\" class=\"dataframe\">\n  <thead>\n    <tr style=\"text-align: right;\">\n      <th></th>\n      <th>total</th>\n      <th>date_joined_utc</th>\n      <th>last_viewed_utc</th>\n      <th>submission_time</th>\n    </tr>\n    <tr>\n      <th>user_id</th>\n      <th></th>\n      <th></th>\n      <th></th>\n      <th></th>\n    </tr>\n  </thead>\n  <tbody>\n    <tr>\n      <th>220676</th>\n      <td>10</td>\n      <td>2020-04-22 09:05:19</td>\n      <td>2020-06-05 10:42:18</td>\n      <td>2020-05-29 08:28:57</td>\n    </tr>\n    <tr>\n      <th>326719</th>\n      <td>127</td>\n      <td>2020-05-12 19:21:31</td>\n      <td>2020-05-30 14:53:46</td>\n      <td>2020-05-30 14:54:54</td>\n    </tr>\n    <tr>\n      <th>1635722</th>\n      <td>34</td>\n      <td>2020-04-30 14:09:07</td>\n      <td>2020-05-04 13:49:06</td>\n      <td>2020-05-04 13:48:51</td>\n    </tr>\n    <tr>\n      <th>2258383</th>\n      <td>7</td>\n      <td>2020-04-28 09:42:10</td>\n      <td>2020-04-30 16:13:38</td>\n      <td>2020-04-30 16:13:32</td>\n    </tr>\n    <tr>\n      <th>2509356</th>\n      <td>139</td>\n      <td>2020-05-12 06:46:03</td>\n      <td>2020-06-05 17:26:00</td>\n      <td>2020-06-05 17:25:57</td>\n    </tr>\n  </tbody>\n</table>\n</div>"
     },
     "metadata": {},
     "execution_count": 29
    }
   ],
   "source": [
    "users_data.head()"
   ]
  },
  {
   "cell_type": "code",
   "execution_count": 30,
   "metadata": {},
   "outputs": [],
   "source": [
    "users_data=users_data.rename(columns={'total':'total_tasks_solved', 'submission_time':'last_submission_time'})"
   ]
  },
  {
   "cell_type": "code",
   "execution_count": 31,
   "metadata": {},
   "outputs": [],
   "source": [
    "users_data['total_tasks_solved'] = users_data[['total_tasks_solved']].apply(lambda x: x.str.replace(',', '.'),axis=1)['total_tasks_solved'].map(float)"
   ]
  },
  {
   "cell_type": "code",
   "execution_count": 32,
   "metadata": {},
   "outputs": [
    {
     "output_type": "execute_result",
     "data": {
      "text/plain": [
       "147.0"
      ]
     },
     "metadata": {},
     "execution_count": 32
    }
   ],
   "source": [
    "users_data['total_tasks_solved'].max()"
   ]
  },
  {
   "cell_type": "code",
   "execution_count": 33,
   "metadata": {},
   "outputs": [],
   "source": [
    "users_data =users_data.merge(grade_book_short[['user_id','total, %']], on='user_id', how='outer')"
   ]
  },
  {
   "cell_type": "code",
   "execution_count": 34,
   "metadata": {},
   "outputs": [],
   "source": [
    "users_data['total, %'] = users_data[['total, %']].apply(lambda x: x.str.replace(',', '.'),axis=1)['total, %'].map(float)"
   ]
  },
  {
   "cell_type": "code",
   "execution_count": 35,
   "metadata": {},
   "outputs": [],
   "source": [
    "users_data['date_joined_utc']= pd.to_datetime(users_data['date_joined_utc'])"
   ]
  },
  {
   "cell_type": "code",
   "execution_count": 36,
   "metadata": {},
   "outputs": [
    {
     "output_type": "execute_result",
     "data": {
      "text/plain": [
       "user_id                          int64\n",
       "total_tasks_solved             float64\n",
       "date_joined_utc         datetime64[ns]\n",
       "last_viewed_utc                 object\n",
       "last_submission_time    datetime64[ns]\n",
       "total, %                       float64\n",
       "dtype: object"
      ]
     },
     "metadata": {},
     "execution_count": 36
    }
   ],
   "source": [
    "users_data.dtypes"
   ]
  },
  {
   "cell_type": "code",
   "execution_count": 37,
   "metadata": {},
   "outputs": [],
   "source": [
    "users_data['last_viewed_utc']= pd.to_datetime(users_data['last_viewed_utc'])"
   ]
  },
  {
   "cell_type": "code",
   "execution_count": 38,
   "metadata": {},
   "outputs": [],
   "source": [
    "import datetime\n",
    "for a in ['submission_time', 'attempt_time']:\n",
    "    submissions[a] = pd.to_datetime(submissions[a], unit='s')\n",
    "    submissions[a]=submissions[a].apply(lambda x: datetime.datetime.strptime(str(x), '%Y-%m-%d %H:%M:%S').timestamp())"
   ]
  },
  {
   "cell_type": "code",
   "execution_count": 39,
   "metadata": {},
   "outputs": [
    {
     "output_type": "execute_result",
     "data": {
      "text/plain": [
       "user_id\n",
       "127890        15\n",
       "220676        10\n",
       "326719       130\n",
       "1635722       39\n",
       "2258383        8\n",
       "            ... \n",
       "251294630      7\n",
       "251664717    138\n",
       "252308518    136\n",
       "253108923      4\n",
       "263086182      7\n",
       "Name: step_id, Length: 835, dtype: int64"
      ]
     },
     "metadata": {},
     "execution_count": 39
    }
   ],
   "source": [
    "submissions.groupby('user_id').step_id.nunique()"
   ]
  },
  {
   "source": [
    "submissions.head()"
   ],
   "cell_type": "code",
   "metadata": {},
   "execution_count": 40,
   "outputs": [
    {
     "output_type": "execute_result",
     "data": {
      "text/plain": [
       "   submission_id  step_id    user_id last_name               first_name  \\\n",
       "0      199922314  1268657  220677450     \"ИРО\"  ГАУДПО Липецкой области   \n",
       "1      199922413  1268657  220677450     \"ИРО\"  ГАУДПО Липецкой области   \n",
       "2      199922493  1268657  220677450     \"ИРО\"  ГАУДПО Липецкой области   \n",
       "3      200412615  1265485  220677450     \"ИРО\"  ГАУДПО Липецкой области   \n",
       "4      200412749  1270620  220677450     \"ИРО\"  ГАУДПО Липецкой области   \n",
       "\n",
       "   attempt_time  submission_time   status  \n",
       "0  1.587886e+09     1.587886e+09  correct  \n",
       "1  1.587886e+09     1.587886e+09  correct  \n",
       "2  1.587886e+09     1.587886e+09    wrong  \n",
       "3  1.587959e+09     1.587959e+09  correct  \n",
       "4  1.587959e+09     1.587959e+09  correct  "
      ],
      "text/html": "<div>\n<style scoped>\n    .dataframe tbody tr th:only-of-type {\n        vertical-align: middle;\n    }\n\n    .dataframe tbody tr th {\n        vertical-align: top;\n    }\n\n    .dataframe thead th {\n        text-align: right;\n    }\n</style>\n<table border=\"1\" class=\"dataframe\">\n  <thead>\n    <tr style=\"text-align: right;\">\n      <th></th>\n      <th>submission_id</th>\n      <th>step_id</th>\n      <th>user_id</th>\n      <th>last_name</th>\n      <th>first_name</th>\n      <th>attempt_time</th>\n      <th>submission_time</th>\n      <th>status</th>\n    </tr>\n  </thead>\n  <tbody>\n    <tr>\n      <th>0</th>\n      <td>199922314</td>\n      <td>1268657</td>\n      <td>220677450</td>\n      <td>\"ИРО\"</td>\n      <td>ГАУДПО Липецкой области</td>\n      <td>1.587886e+09</td>\n      <td>1.587886e+09</td>\n      <td>correct</td>\n    </tr>\n    <tr>\n      <th>1</th>\n      <td>199922413</td>\n      <td>1268657</td>\n      <td>220677450</td>\n      <td>\"ИРО\"</td>\n      <td>ГАУДПО Липецкой области</td>\n      <td>1.587886e+09</td>\n      <td>1.587886e+09</td>\n      <td>correct</td>\n    </tr>\n    <tr>\n      <th>2</th>\n      <td>199922493</td>\n      <td>1268657</td>\n      <td>220677450</td>\n      <td>\"ИРО\"</td>\n      <td>ГАУДПО Липецкой области</td>\n      <td>1.587886e+09</td>\n      <td>1.587886e+09</td>\n      <td>wrong</td>\n    </tr>\n    <tr>\n      <th>3</th>\n      <td>200412615</td>\n      <td>1265485</td>\n      <td>220677450</td>\n      <td>\"ИРО\"</td>\n      <td>ГАУДПО Липецкой области</td>\n      <td>1.587959e+09</td>\n      <td>1.587959e+09</td>\n      <td>correct</td>\n    </tr>\n    <tr>\n      <th>4</th>\n      <td>200412749</td>\n      <td>1270620</td>\n      <td>220677450</td>\n      <td>\"ИРО\"</td>\n      <td>ГАУДПО Липецкой области</td>\n      <td>1.587959e+09</td>\n      <td>1.587959e+09</td>\n      <td>correct</td>\n    </tr>\n  </tbody>\n</table>\n</div>"
     },
     "metadata": {},
     "execution_count": 40
    }
   ]
  },
  {
   "cell_type": "code",
   "execution_count": 41,
   "metadata": {},
   "outputs": [],
   "source": [
    "import datetime\n",
    "users_data['date_joined_utc']=users_data['date_joined_utc'].fillna('1971-01-01 00:00:01').apply(lambda x: datetime.datetime.strptime(str(x), '%Y-%m-%d %H:%M:%S').timestamp())"
   ]
  },
  {
   "cell_type": "code",
   "execution_count": 42,
   "metadata": {},
   "outputs": [],
   "source": [
    "users_data=users_data.drop(['last_viewed_utc', 'last_submission_time'], axis=1)"
   ]
  },
  {
   "cell_type": "code",
   "execution_count": 43,
   "metadata": {},
   "outputs": [],
   "source": [
    "submissions1 = submissions"
   ]
  },
  {
   "cell_type": "code",
   "execution_count": 44,
   "metadata": {},
   "outputs": [],
   "source": [
    "users_data['user_ts'] = users_data['user_id'].apply(lambda x: str(x))+'_'+users_data['date_joined_utc'].apply(lambda x: str(int(x)))"
   ]
  },
  {
   "cell_type": "code",
   "execution_count": 45,
   "metadata": {},
   "outputs": [
    {
     "output_type": "execute_result",
     "data": {
      "text/plain": [
       "user_id                 int64\n",
       "total_tasks_solved    float64\n",
       "date_joined_utc       float64\n",
       "total, %              float64\n",
       "user_ts                object\n",
       "dtype: object"
      ]
     },
     "metadata": {},
     "execution_count": 45
    }
   ],
   "source": [
    "users_data.dtypes"
   ]
  },
  {
   "cell_type": "code",
   "execution_count": 46,
   "metadata": {},
   "outputs": [],
   "source": [
    "users_data['user_threshold'] = users_data['user_id'].apply(lambda x: str(x))+'_'+users_data['date_joined_utc'].apply(lambda x: str(int(x+7*24*60*60)))"
   ]
  },
  {
   "cell_type": "code",
   "execution_count": 47,
   "metadata": {},
   "outputs": [
    {
     "output_type": "execute_result",
     "data": {
      "text/plain": [
       "   user_id  total_tasks_solved  date_joined_utc  total, %             user_ts  \\\n",
       "0   220676                10.0     1.587536e+09      6.80   220676_1587535519   \n",
       "1   326719               127.0     1.589300e+09     86.39   326719_1589300491   \n",
       "2  1635722                34.0     1.588245e+09     23.13  1635722_1588244947   \n",
       "3  2258383                 7.0     1.588056e+09      4.76  2258383_1588056130   \n",
       "4  2509356               139.0     1.589255e+09     94.56  2509356_1589255163   \n",
       "\n",
       "       user_threshold  \n",
       "0   220676_1588140319  \n",
       "1   326719_1589905291  \n",
       "2  1635722_1588849747  \n",
       "3  2258383_1588660930  \n",
       "4  2509356_1589859963  "
      ],
      "text/html": "<div>\n<style scoped>\n    .dataframe tbody tr th:only-of-type {\n        vertical-align: middle;\n    }\n\n    .dataframe tbody tr th {\n        vertical-align: top;\n    }\n\n    .dataframe thead th {\n        text-align: right;\n    }\n</style>\n<table border=\"1\" class=\"dataframe\">\n  <thead>\n    <tr style=\"text-align: right;\">\n      <th></th>\n      <th>user_id</th>\n      <th>total_tasks_solved</th>\n      <th>date_joined_utc</th>\n      <th>total, %</th>\n      <th>user_ts</th>\n      <th>user_threshold</th>\n    </tr>\n  </thead>\n  <tbody>\n    <tr>\n      <th>0</th>\n      <td>220676</td>\n      <td>10.0</td>\n      <td>1.587536e+09</td>\n      <td>6.80</td>\n      <td>220676_1587535519</td>\n      <td>220676_1588140319</td>\n    </tr>\n    <tr>\n      <th>1</th>\n      <td>326719</td>\n      <td>127.0</td>\n      <td>1.589300e+09</td>\n      <td>86.39</td>\n      <td>326719_1589300491</td>\n      <td>326719_1589905291</td>\n    </tr>\n    <tr>\n      <th>2</th>\n      <td>1635722</td>\n      <td>34.0</td>\n      <td>1.588245e+09</td>\n      <td>23.13</td>\n      <td>1635722_1588244947</td>\n      <td>1635722_1588849747</td>\n    </tr>\n    <tr>\n      <th>3</th>\n      <td>2258383</td>\n      <td>7.0</td>\n      <td>1.588056e+09</td>\n      <td>4.76</td>\n      <td>2258383_1588056130</td>\n      <td>2258383_1588660930</td>\n    </tr>\n    <tr>\n      <th>4</th>\n      <td>2509356</td>\n      <td>139.0</td>\n      <td>1.589255e+09</td>\n      <td>94.56</td>\n      <td>2509356_1589255163</td>\n      <td>2509356_1589859963</td>\n    </tr>\n  </tbody>\n</table>\n</div>"
     },
     "metadata": {},
     "execution_count": 47
    }
   ],
   "source": [
    "users_data.head()"
   ]
  },
  {
   "cell_type": "code",
   "execution_count": 48,
   "metadata": {},
   "outputs": [],
   "source": [
    "users_data['target'] = users_data['total, %'] >=50"
   ]
  },
  {
   "cell_type": "code",
   "execution_count": 49,
   "metadata": {},
   "outputs": [],
   "source": [
    "submissions1 = submissions1.merge(users_data[['user_id','user_ts', 'date_joined_utc', 'user_threshold']], on='user_id', how='inner')"
   ]
  },
  {
   "cell_type": "code",
   "execution_count": 50,
   "metadata": {},
   "outputs": [
    {
     "output_type": "execute_result",
     "data": {
      "text/plain": [
       "   submission_id  step_id    user_id last_name               first_name  \\\n",
       "0      199922314  1268657  220677450     \"ИРО\"  ГАУДПО Липецкой области   \n",
       "1      199922413  1268657  220677450     \"ИРО\"  ГАУДПО Липецкой области   \n",
       "2      199922493  1268657  220677450     \"ИРО\"  ГАУДПО Липецкой области   \n",
       "3      200412615  1265485  220677450     \"ИРО\"  ГАУДПО Липецкой области   \n",
       "4      200412749  1270620  220677450     \"ИРО\"  ГАУДПО Липецкой области   \n",
       "\n",
       "   attempt_time  submission_time   status               user_ts  \\\n",
       "0  1.587886e+09     1.587886e+09  correct  220677450_1587631044   \n",
       "1  1.587886e+09     1.587886e+09  correct  220677450_1587631044   \n",
       "2  1.587886e+09     1.587886e+09    wrong  220677450_1587631044   \n",
       "3  1.587959e+09     1.587959e+09  correct  220677450_1587631044   \n",
       "4  1.587959e+09     1.587959e+09  correct  220677450_1587631044   \n",
       "\n",
       "   date_joined_utc        user_threshold  \n",
       "0     1.587631e+09  220677450_1588235844  \n",
       "1     1.587631e+09  220677450_1588235844  \n",
       "2     1.587631e+09  220677450_1588235844  \n",
       "3     1.587631e+09  220677450_1588235844  \n",
       "4     1.587631e+09  220677450_1588235844  "
      ],
      "text/html": "<div>\n<style scoped>\n    .dataframe tbody tr th:only-of-type {\n        vertical-align: middle;\n    }\n\n    .dataframe tbody tr th {\n        vertical-align: top;\n    }\n\n    .dataframe thead th {\n        text-align: right;\n    }\n</style>\n<table border=\"1\" class=\"dataframe\">\n  <thead>\n    <tr style=\"text-align: right;\">\n      <th></th>\n      <th>submission_id</th>\n      <th>step_id</th>\n      <th>user_id</th>\n      <th>last_name</th>\n      <th>first_name</th>\n      <th>attempt_time</th>\n      <th>submission_time</th>\n      <th>status</th>\n      <th>user_ts</th>\n      <th>date_joined_utc</th>\n      <th>user_threshold</th>\n    </tr>\n  </thead>\n  <tbody>\n    <tr>\n      <th>0</th>\n      <td>199922314</td>\n      <td>1268657</td>\n      <td>220677450</td>\n      <td>\"ИРО\"</td>\n      <td>ГАУДПО Липецкой области</td>\n      <td>1.587886e+09</td>\n      <td>1.587886e+09</td>\n      <td>correct</td>\n      <td>220677450_1587631044</td>\n      <td>1.587631e+09</td>\n      <td>220677450_1588235844</td>\n    </tr>\n    <tr>\n      <th>1</th>\n      <td>199922413</td>\n      <td>1268657</td>\n      <td>220677450</td>\n      <td>\"ИРО\"</td>\n      <td>ГАУДПО Липецкой области</td>\n      <td>1.587886e+09</td>\n      <td>1.587886e+09</td>\n      <td>correct</td>\n      <td>220677450_1587631044</td>\n      <td>1.587631e+09</td>\n      <td>220677450_1588235844</td>\n    </tr>\n    <tr>\n      <th>2</th>\n      <td>199922493</td>\n      <td>1268657</td>\n      <td>220677450</td>\n      <td>\"ИРО\"</td>\n      <td>ГАУДПО Липецкой области</td>\n      <td>1.587886e+09</td>\n      <td>1.587886e+09</td>\n      <td>wrong</td>\n      <td>220677450_1587631044</td>\n      <td>1.587631e+09</td>\n      <td>220677450_1588235844</td>\n    </tr>\n    <tr>\n      <th>3</th>\n      <td>200412615</td>\n      <td>1265485</td>\n      <td>220677450</td>\n      <td>\"ИРО\"</td>\n      <td>ГАУДПО Липецкой области</td>\n      <td>1.587959e+09</td>\n      <td>1.587959e+09</td>\n      <td>correct</td>\n      <td>220677450_1587631044</td>\n      <td>1.587631e+09</td>\n      <td>220677450_1588235844</td>\n    </tr>\n    <tr>\n      <th>4</th>\n      <td>200412749</td>\n      <td>1270620</td>\n      <td>220677450</td>\n      <td>\"ИРО\"</td>\n      <td>ГАУДПО Липецкой области</td>\n      <td>1.587959e+09</td>\n      <td>1.587959e+09</td>\n      <td>correct</td>\n      <td>220677450_1587631044</td>\n      <td>1.587631e+09</td>\n      <td>220677450_1588235844</td>\n    </tr>\n  </tbody>\n</table>\n</div>"
     },
     "metadata": {},
     "execution_count": 50
    }
   ],
   "source": [
    "submissions1.head()"
   ]
  },
  {
   "cell_type": "code",
   "execution_count": 51,
   "metadata": {},
   "outputs": [],
   "source": [
    "submissions1=submissions1.fillna(0)"
   ]
  },
  {
   "cell_type": "code",
   "execution_count": 52,
   "metadata": {},
   "outputs": [],
   "source": [
    "submissions1['user_subm_time'] = submissions1['user_id'].apply(lambda x: str(x))+'_'+submissions1['submission_time'].apply(lambda x: str(int(x)))"
   ]
  },
  {
   "cell_type": "code",
   "execution_count": 53,
   "metadata": {},
   "outputs": [
    {
     "output_type": "execute_result",
     "data": {
      "text/plain": [
       "submission_id        int64\n",
       "step_id              int64\n",
       "user_id              int64\n",
       "last_name           object\n",
       "first_name          object\n",
       "attempt_time       float64\n",
       "submission_time    float64\n",
       "status              object\n",
       "user_ts             object\n",
       "date_joined_utc    float64\n",
       "user_threshold      object\n",
       "user_subm_time      object\n",
       "dtype: object"
      ]
     },
     "metadata": {},
     "execution_count": 53
    }
   ],
   "source": [
    "submissions1.dtypes"
   ]
  },
  {
   "cell_type": "code",
   "execution_count": 54,
   "metadata": {},
   "outputs": [],
   "source": [
    "for x in ['user_ts', 'user_threshold','user_subm_time']:\n",
    "    submissions1[x] = submissions1[x].apply(lambda x: str(x))"
   ]
  },
  {
   "cell_type": "code",
   "execution_count": 55,
   "metadata": {},
   "outputs": [],
   "source": [
    "submissions1 = submissions1.query('user_ts <= user_subm_time <= user_threshold')"
   ]
  },
  {
   "cell_type": "code",
   "execution_count": 56,
   "metadata": {},
   "outputs": [],
   "source": [
    "users_data=users_data.merge(submissions1.groupby('user_id').step_id.nunique().to_frame().rename(columns={'step_id':'steps_tried'}), on='user_id', how= 'inner')"
   ]
  },
  {
   "cell_type": "code",
   "execution_count": 57,
   "metadata": {},
   "outputs": [
    {
     "output_type": "execute_result",
     "data": {
      "text/plain": [
       "    user_id  total_tasks_solved  date_joined_utc  total, %  \\\n",
       "0    326719               127.0     1.589300e+09     86.39   \n",
       "1   1635722                34.0     1.588245e+09     23.13   \n",
       "2   2258383                 7.0     1.588056e+09      4.76   \n",
       "3   2509356               139.0     1.589255e+09     94.56   \n",
       "4  15412179               144.5     1.591518e+09     98.30   \n",
       "\n",
       "               user_ts       user_threshold  target  steps_tried  \n",
       "0    326719_1589300491    326719_1589905291    True          106  \n",
       "1   1635722_1588244947   1635722_1588849747   False           39  \n",
       "2   2258383_1588056130   2258383_1588660930   False            8  \n",
       "3   2509356_1589255163   2509356_1589859963    True           49  \n",
       "4  15412179_1591517785  15412179_1592122585    True          140  "
      ],
      "text/html": "<div>\n<style scoped>\n    .dataframe tbody tr th:only-of-type {\n        vertical-align: middle;\n    }\n\n    .dataframe tbody tr th {\n        vertical-align: top;\n    }\n\n    .dataframe thead th {\n        text-align: right;\n    }\n</style>\n<table border=\"1\" class=\"dataframe\">\n  <thead>\n    <tr style=\"text-align: right;\">\n      <th></th>\n      <th>user_id</th>\n      <th>total_tasks_solved</th>\n      <th>date_joined_utc</th>\n      <th>total, %</th>\n      <th>user_ts</th>\n      <th>user_threshold</th>\n      <th>target</th>\n      <th>steps_tried</th>\n    </tr>\n  </thead>\n  <tbody>\n    <tr>\n      <th>0</th>\n      <td>326719</td>\n      <td>127.0</td>\n      <td>1.589300e+09</td>\n      <td>86.39</td>\n      <td>326719_1589300491</td>\n      <td>326719_1589905291</td>\n      <td>True</td>\n      <td>106</td>\n    </tr>\n    <tr>\n      <th>1</th>\n      <td>1635722</td>\n      <td>34.0</td>\n      <td>1.588245e+09</td>\n      <td>23.13</td>\n      <td>1635722_1588244947</td>\n      <td>1635722_1588849747</td>\n      <td>False</td>\n      <td>39</td>\n    </tr>\n    <tr>\n      <th>2</th>\n      <td>2258383</td>\n      <td>7.0</td>\n      <td>1.588056e+09</td>\n      <td>4.76</td>\n      <td>2258383_1588056130</td>\n      <td>2258383_1588660930</td>\n      <td>False</td>\n      <td>8</td>\n    </tr>\n    <tr>\n      <th>3</th>\n      <td>2509356</td>\n      <td>139.0</td>\n      <td>1.589255e+09</td>\n      <td>94.56</td>\n      <td>2509356_1589255163</td>\n      <td>2509356_1589859963</td>\n      <td>True</td>\n      <td>49</td>\n    </tr>\n    <tr>\n      <th>4</th>\n      <td>15412179</td>\n      <td>144.5</td>\n      <td>1.591518e+09</td>\n      <td>98.30</td>\n      <td>15412179_1591517785</td>\n      <td>15412179_1592122585</td>\n      <td>True</td>\n      <td>140</td>\n    </tr>\n  </tbody>\n</table>\n</div>"
     },
     "metadata": {},
     "execution_count": 57
    }
   ],
   "source": [
    "users_data.head()"
   ]
  },
  {
   "cell_type": "code",
   "execution_count": 58,
   "metadata": {},
   "outputs": [
    {
     "output_type": "execute_result",
     "data": {
      "text/plain": [
       "status    user_id  correct  wrong\n",
       "0          326719      104     40\n",
       "1         1635722       34     17\n",
       "2         2258383        7      3\n",
       "3         2509356       47     14\n",
       "4        15412179      140     75\n",
       "..            ...      ...    ...\n",
       "776     251294630        7      0\n",
       "777     251664717      131    120\n",
       "778     252308518      136      5\n",
       "779     253108923        4      0\n",
       "780     263086182        7      0\n",
       "\n",
       "[781 rows x 3 columns]"
      ],
      "text/html": "<div>\n<style scoped>\n    .dataframe tbody tr th:only-of-type {\n        vertical-align: middle;\n    }\n\n    .dataframe tbody tr th {\n        vertical-align: top;\n    }\n\n    .dataframe thead th {\n        text-align: right;\n    }\n</style>\n<table border=\"1\" class=\"dataframe\">\n  <thead>\n    <tr style=\"text-align: right;\">\n      <th>status</th>\n      <th>user_id</th>\n      <th>correct</th>\n      <th>wrong</th>\n    </tr>\n  </thead>\n  <tbody>\n    <tr>\n      <th>0</th>\n      <td>326719</td>\n      <td>104</td>\n      <td>40</td>\n    </tr>\n    <tr>\n      <th>1</th>\n      <td>1635722</td>\n      <td>34</td>\n      <td>17</td>\n    </tr>\n    <tr>\n      <th>2</th>\n      <td>2258383</td>\n      <td>7</td>\n      <td>3</td>\n    </tr>\n    <tr>\n      <th>3</th>\n      <td>2509356</td>\n      <td>47</td>\n      <td>14</td>\n    </tr>\n    <tr>\n      <th>4</th>\n      <td>15412179</td>\n      <td>140</td>\n      <td>75</td>\n    </tr>\n    <tr>\n      <th>...</th>\n      <td>...</td>\n      <td>...</td>\n      <td>...</td>\n    </tr>\n    <tr>\n      <th>776</th>\n      <td>251294630</td>\n      <td>7</td>\n      <td>0</td>\n    </tr>\n    <tr>\n      <th>777</th>\n      <td>251664717</td>\n      <td>131</td>\n      <td>120</td>\n    </tr>\n    <tr>\n      <th>778</th>\n      <td>252308518</td>\n      <td>136</td>\n      <td>5</td>\n    </tr>\n    <tr>\n      <th>779</th>\n      <td>253108923</td>\n      <td>4</td>\n      <td>0</td>\n    </tr>\n    <tr>\n      <th>780</th>\n      <td>263086182</td>\n      <td>7</td>\n      <td>0</td>\n    </tr>\n  </tbody>\n</table>\n<p>781 rows × 3 columns</p>\n</div>"
     },
     "metadata": {},
     "execution_count": 58
    }
   ],
   "source": [
    "submissions1.pivot_table(index='user_id', columns='status', values='step_id', aggfunc='count', fill_value=0).reset_index()"
   ]
  },
  {
   "cell_type": "code",
   "execution_count": 59,
   "metadata": {},
   "outputs": [],
   "source": [
    "q = users_data"
   ]
  },
  {
   "cell_type": "code",
   "execution_count": 60,
   "metadata": {},
   "outputs": [],
   "source": [
    "q = q.merge(submissions1.pivot_table(index='user_id', columns='status', values='step_id', aggfunc='count', fill_value=0).reset_index()[['user_id', 'correct', 'wrong']], on='user_id', how='inner')"
   ]
  },
  {
   "cell_type": "code",
   "execution_count": 61,
   "metadata": {},
   "outputs": [
    {
     "output_type": "execute_result",
     "data": {
      "text/plain": [
       "    user_id  total_tasks_solved  date_joined_utc  total, %  \\\n",
       "0    326719               127.0     1.589300e+09     86.39   \n",
       "1   1635722                34.0     1.588245e+09     23.13   \n",
       "2   2258383                 7.0     1.588056e+09      4.76   \n",
       "3   2509356               139.0     1.589255e+09     94.56   \n",
       "4  15412179               144.5     1.591518e+09     98.30   \n",
       "\n",
       "               user_ts       user_threshold  target  steps_tried  correct  \\\n",
       "0    326719_1589300491    326719_1589905291    True          106      104   \n",
       "1   1635722_1588244947   1635722_1588849747   False           39       34   \n",
       "2   2258383_1588056130   2258383_1588660930   False            8        7   \n",
       "3   2509356_1589255163   2509356_1589859963    True           49       47   \n",
       "4  15412179_1591517785  15412179_1592122585    True          140      140   \n",
       "\n",
       "   wrong  \n",
       "0     40  \n",
       "1     17  \n",
       "2      3  \n",
       "3     14  \n",
       "4     75  "
      ],
      "text/html": "<div>\n<style scoped>\n    .dataframe tbody tr th:only-of-type {\n        vertical-align: middle;\n    }\n\n    .dataframe tbody tr th {\n        vertical-align: top;\n    }\n\n    .dataframe thead th {\n        text-align: right;\n    }\n</style>\n<table border=\"1\" class=\"dataframe\">\n  <thead>\n    <tr style=\"text-align: right;\">\n      <th></th>\n      <th>user_id</th>\n      <th>total_tasks_solved</th>\n      <th>date_joined_utc</th>\n      <th>total, %</th>\n      <th>user_ts</th>\n      <th>user_threshold</th>\n      <th>target</th>\n      <th>steps_tried</th>\n      <th>correct</th>\n      <th>wrong</th>\n    </tr>\n  </thead>\n  <tbody>\n    <tr>\n      <th>0</th>\n      <td>326719</td>\n      <td>127.0</td>\n      <td>1.589300e+09</td>\n      <td>86.39</td>\n      <td>326719_1589300491</td>\n      <td>326719_1589905291</td>\n      <td>True</td>\n      <td>106</td>\n      <td>104</td>\n      <td>40</td>\n    </tr>\n    <tr>\n      <th>1</th>\n      <td>1635722</td>\n      <td>34.0</td>\n      <td>1.588245e+09</td>\n      <td>23.13</td>\n      <td>1635722_1588244947</td>\n      <td>1635722_1588849747</td>\n      <td>False</td>\n      <td>39</td>\n      <td>34</td>\n      <td>17</td>\n    </tr>\n    <tr>\n      <th>2</th>\n      <td>2258383</td>\n      <td>7.0</td>\n      <td>1.588056e+09</td>\n      <td>4.76</td>\n      <td>2258383_1588056130</td>\n      <td>2258383_1588660930</td>\n      <td>False</td>\n      <td>8</td>\n      <td>7</td>\n      <td>3</td>\n    </tr>\n    <tr>\n      <th>3</th>\n      <td>2509356</td>\n      <td>139.0</td>\n      <td>1.589255e+09</td>\n      <td>94.56</td>\n      <td>2509356_1589255163</td>\n      <td>2509356_1589859963</td>\n      <td>True</td>\n      <td>49</td>\n      <td>47</td>\n      <td>14</td>\n    </tr>\n    <tr>\n      <th>4</th>\n      <td>15412179</td>\n      <td>144.5</td>\n      <td>1.591518e+09</td>\n      <td>98.30</td>\n      <td>15412179_1591517785</td>\n      <td>15412179_1592122585</td>\n      <td>True</td>\n      <td>140</td>\n      <td>140</td>\n      <td>75</td>\n    </tr>\n  </tbody>\n</table>\n</div>"
     },
     "metadata": {},
     "execution_count": 61
    }
   ],
   "source": [
    "q.head()"
   ]
  },
  {
   "cell_type": "code",
   "execution_count": 62,
   "metadata": {},
   "outputs": [],
   "source": [
    "users_data = q.rename(columns={'total_tasks_solved': 'total_points_got'})"
   ]
  },
  {
   "cell_type": "code",
   "execution_count": 63,
   "metadata": {},
   "outputs": [
    {
     "output_type": "execute_result",
     "data": {
      "text/plain": [
       "    user_id  total_points_got  date_joined_utc  total, %              user_ts  \\\n",
       "0    326719             127.0     1.589300e+09     86.39    326719_1589300491   \n",
       "1   1635722              34.0     1.588245e+09     23.13   1635722_1588244947   \n",
       "2   2258383               7.0     1.588056e+09      4.76   2258383_1588056130   \n",
       "3   2509356             139.0     1.589255e+09     94.56   2509356_1589255163   \n",
       "4  15412179             144.5     1.591518e+09     98.30  15412179_1591517785   \n",
       "\n",
       "        user_threshold  target  steps_tried  correct  wrong  \n",
       "0    326719_1589905291    True          106      104     40  \n",
       "1   1635722_1588849747   False           39       34     17  \n",
       "2   2258383_1588660930   False            8        7      3  \n",
       "3   2509356_1589859963    True           49       47     14  \n",
       "4  15412179_1592122585    True          140      140     75  "
      ],
      "text/html": "<div>\n<style scoped>\n    .dataframe tbody tr th:only-of-type {\n        vertical-align: middle;\n    }\n\n    .dataframe tbody tr th {\n        vertical-align: top;\n    }\n\n    .dataframe thead th {\n        text-align: right;\n    }\n</style>\n<table border=\"1\" class=\"dataframe\">\n  <thead>\n    <tr style=\"text-align: right;\">\n      <th></th>\n      <th>user_id</th>\n      <th>total_points_got</th>\n      <th>date_joined_utc</th>\n      <th>total, %</th>\n      <th>user_ts</th>\n      <th>user_threshold</th>\n      <th>target</th>\n      <th>steps_tried</th>\n      <th>correct</th>\n      <th>wrong</th>\n    </tr>\n  </thead>\n  <tbody>\n    <tr>\n      <th>0</th>\n      <td>326719</td>\n      <td>127.0</td>\n      <td>1.589300e+09</td>\n      <td>86.39</td>\n      <td>326719_1589300491</td>\n      <td>326719_1589905291</td>\n      <td>True</td>\n      <td>106</td>\n      <td>104</td>\n      <td>40</td>\n    </tr>\n    <tr>\n      <th>1</th>\n      <td>1635722</td>\n      <td>34.0</td>\n      <td>1.588245e+09</td>\n      <td>23.13</td>\n      <td>1635722_1588244947</td>\n      <td>1635722_1588849747</td>\n      <td>False</td>\n      <td>39</td>\n      <td>34</td>\n      <td>17</td>\n    </tr>\n    <tr>\n      <th>2</th>\n      <td>2258383</td>\n      <td>7.0</td>\n      <td>1.588056e+09</td>\n      <td>4.76</td>\n      <td>2258383_1588056130</td>\n      <td>2258383_1588660930</td>\n      <td>False</td>\n      <td>8</td>\n      <td>7</td>\n      <td>3</td>\n    </tr>\n    <tr>\n      <th>3</th>\n      <td>2509356</td>\n      <td>139.0</td>\n      <td>1.589255e+09</td>\n      <td>94.56</td>\n      <td>2509356_1589255163</td>\n      <td>2509356_1589859963</td>\n      <td>True</td>\n      <td>49</td>\n      <td>47</td>\n      <td>14</td>\n    </tr>\n    <tr>\n      <th>4</th>\n      <td>15412179</td>\n      <td>144.5</td>\n      <td>1.591518e+09</td>\n      <td>98.30</td>\n      <td>15412179_1591517785</td>\n      <td>15412179_1592122585</td>\n      <td>True</td>\n      <td>140</td>\n      <td>140</td>\n      <td>75</td>\n    </tr>\n  </tbody>\n</table>\n</div>"
     },
     "metadata": {},
     "execution_count": 63
    }
   ],
   "source": [
    "users_data.head()"
   ]
  },
  {
   "cell_type": "code",
   "execution_count": 64,
   "metadata": {},
   "outputs": [],
   "source": [
    "users_data = users_data.drop(['total_points_got', 'total, %', 'date_joined_utc','user_ts', 'user_threshold'], axis=1)"
   ]
  },
  {
   "cell_type": "code",
   "execution_count": 65,
   "metadata": {},
   "outputs": [],
   "source": [
    "comments = pd.read_csv(r'..\\data\\CSV\\comments.csv', sep=';')"
   ]
  },
  {
   "cell_type": "code",
   "execution_count": 66,
   "metadata": {},
   "outputs": [
    {
     "output_type": "execute_result",
     "data": {
      "text/plain": [
       "   comment_id    user_id             last_name               first_name  \\\n",
       "0     1643137  223399185               Рузиева                   Марина   \n",
       "1     1644830  223324773  Вячеславовна Китаева                    Ирина   \n",
       "2     1647288  220677450                 \"ИРО\"  ГАУДПО Липецкой области   \n",
       "3     1647333  224029222      Николаевна Белых                    Ольга   \n",
       "4     1647340  224047062            Позднякова                   Лариса   \n",
       "\n",
       "   step_id  parent_comment_id    time_utc deleted  \n",
       "0  1258951                  0  1587996722    ЛОЖЬ  \n",
       "1  1270897                  0  1588020649    ЛОЖЬ  \n",
       "2  1258951            1643137  1588075572  ИСТИНА  \n",
       "3  1268657                  0  1588075975  ИСТИНА  \n",
       "4  1270990                  0  1588076049    ЛОЖЬ  "
      ],
      "text/html": "<div>\n<style scoped>\n    .dataframe tbody tr th:only-of-type {\n        vertical-align: middle;\n    }\n\n    .dataframe tbody tr th {\n        vertical-align: top;\n    }\n\n    .dataframe thead th {\n        text-align: right;\n    }\n</style>\n<table border=\"1\" class=\"dataframe\">\n  <thead>\n    <tr style=\"text-align: right;\">\n      <th></th>\n      <th>comment_id</th>\n      <th>user_id</th>\n      <th>last_name</th>\n      <th>first_name</th>\n      <th>step_id</th>\n      <th>parent_comment_id</th>\n      <th>time_utc</th>\n      <th>deleted</th>\n    </tr>\n  </thead>\n  <tbody>\n    <tr>\n      <th>0</th>\n      <td>1643137</td>\n      <td>223399185</td>\n      <td>Рузиева</td>\n      <td>Марина</td>\n      <td>1258951</td>\n      <td>0</td>\n      <td>1587996722</td>\n      <td>ЛОЖЬ</td>\n    </tr>\n    <tr>\n      <th>1</th>\n      <td>1644830</td>\n      <td>223324773</td>\n      <td>Вячеславовна Китаева</td>\n      <td>Ирина</td>\n      <td>1270897</td>\n      <td>0</td>\n      <td>1588020649</td>\n      <td>ЛОЖЬ</td>\n    </tr>\n    <tr>\n      <th>2</th>\n      <td>1647288</td>\n      <td>220677450</td>\n      <td>\"ИРО\"</td>\n      <td>ГАУДПО Липецкой области</td>\n      <td>1258951</td>\n      <td>1643137</td>\n      <td>1588075572</td>\n      <td>ИСТИНА</td>\n    </tr>\n    <tr>\n      <th>3</th>\n      <td>1647333</td>\n      <td>224029222</td>\n      <td>Николаевна Белых</td>\n      <td>Ольга</td>\n      <td>1268657</td>\n      <td>0</td>\n      <td>1588075975</td>\n      <td>ИСТИНА</td>\n    </tr>\n    <tr>\n      <th>4</th>\n      <td>1647340</td>\n      <td>224047062</td>\n      <td>Позднякова</td>\n      <td>Лариса</td>\n      <td>1270990</td>\n      <td>0</td>\n      <td>1588076049</td>\n      <td>ЛОЖЬ</td>\n    </tr>\n  </tbody>\n</table>\n</div>"
     },
     "metadata": {},
     "execution_count": 66
    }
   ],
   "source": [
    "comments.head()"
   ]
  },
  {
   "source": [
    "a = comments.groupby('user_id').agg({'comment_id':'nunique'}).rename(columns={'comment_id':'comments'}).sort_index()"
   ],
   "cell_type": "code",
   "metadata": {},
   "execution_count": 67,
   "outputs": []
  },
  {
   "cell_type": "code",
   "execution_count": 68,
   "metadata": {},
   "outputs": [
    {
     "output_type": "execute_result",
     "data": {
      "text/plain": [
       "           comments\n",
       "user_id            \n",
       "2509356           4\n",
       "21119312          4\n",
       "36382609          3\n",
       "60348880          8\n",
       "87284402          5\n",
       "...             ...\n",
       "248377729         1\n",
       "250206239         2\n",
       "250394844         1\n",
       "250599774         1\n",
       "250838768         1\n",
       "\n",
       "[125 rows x 1 columns]"
      ],
      "text/html": "<div>\n<style scoped>\n    .dataframe tbody tr th:only-of-type {\n        vertical-align: middle;\n    }\n\n    .dataframe tbody tr th {\n        vertical-align: top;\n    }\n\n    .dataframe thead th {\n        text-align: right;\n    }\n</style>\n<table border=\"1\" class=\"dataframe\">\n  <thead>\n    <tr style=\"text-align: right;\">\n      <th></th>\n      <th>comments</th>\n    </tr>\n    <tr>\n      <th>user_id</th>\n      <th></th>\n    </tr>\n  </thead>\n  <tbody>\n    <tr>\n      <th>2509356</th>\n      <td>4</td>\n    </tr>\n    <tr>\n      <th>21119312</th>\n      <td>4</td>\n    </tr>\n    <tr>\n      <th>36382609</th>\n      <td>3</td>\n    </tr>\n    <tr>\n      <th>60348880</th>\n      <td>8</td>\n    </tr>\n    <tr>\n      <th>87284402</th>\n      <td>5</td>\n    </tr>\n    <tr>\n      <th>...</th>\n      <td>...</td>\n    </tr>\n    <tr>\n      <th>248377729</th>\n      <td>1</td>\n    </tr>\n    <tr>\n      <th>250206239</th>\n      <td>2</td>\n    </tr>\n    <tr>\n      <th>250394844</th>\n      <td>1</td>\n    </tr>\n    <tr>\n      <th>250599774</th>\n      <td>1</td>\n    </tr>\n    <tr>\n      <th>250838768</th>\n      <td>1</td>\n    </tr>\n  </tbody>\n</table>\n<p>125 rows × 1 columns</p>\n</div>"
     },
     "metadata": {},
     "execution_count": 68
    }
   ],
   "source": [
    "a"
   ]
  },
  {
   "cell_type": "code",
   "execution_count": 69,
   "metadata": {},
   "outputs": [],
   "source": [
    "users_data2 = users_data.merge(a, on='user_id', how= 'inner')"
   ]
  },
  {
   "cell_type": "code",
   "execution_count": 70,
   "metadata": {},
   "outputs": [
    {
     "output_type": "execute_result",
     "data": {
      "text/plain": [
       "       user_id  target  steps_tried  correct  wrong  comments\n",
       "113  248377729   False           59       56     34         1\n",
       "114  250206239   False            9        7      6         2\n",
       "115  250394844   False           42       42      7         1\n",
       "116  250599774   False           53       50     32         1\n",
       "117  250838768    True          139      139     99         1"
      ],
      "text/html": "<div>\n<style scoped>\n    .dataframe tbody tr th:only-of-type {\n        vertical-align: middle;\n    }\n\n    .dataframe tbody tr th {\n        vertical-align: top;\n    }\n\n    .dataframe thead th {\n        text-align: right;\n    }\n</style>\n<table border=\"1\" class=\"dataframe\">\n  <thead>\n    <tr style=\"text-align: right;\">\n      <th></th>\n      <th>user_id</th>\n      <th>target</th>\n      <th>steps_tried</th>\n      <th>correct</th>\n      <th>wrong</th>\n      <th>comments</th>\n    </tr>\n  </thead>\n  <tbody>\n    <tr>\n      <th>113</th>\n      <td>248377729</td>\n      <td>False</td>\n      <td>59</td>\n      <td>56</td>\n      <td>34</td>\n      <td>1</td>\n    </tr>\n    <tr>\n      <th>114</th>\n      <td>250206239</td>\n      <td>False</td>\n      <td>9</td>\n      <td>7</td>\n      <td>6</td>\n      <td>2</td>\n    </tr>\n    <tr>\n      <th>115</th>\n      <td>250394844</td>\n      <td>False</td>\n      <td>42</td>\n      <td>42</td>\n      <td>7</td>\n      <td>1</td>\n    </tr>\n    <tr>\n      <th>116</th>\n      <td>250599774</td>\n      <td>False</td>\n      <td>53</td>\n      <td>50</td>\n      <td>32</td>\n      <td>1</td>\n    </tr>\n    <tr>\n      <th>117</th>\n      <td>250838768</td>\n      <td>True</td>\n      <td>139</td>\n      <td>139</td>\n      <td>99</td>\n      <td>1</td>\n    </tr>\n  </tbody>\n</table>\n</div>"
     },
     "metadata": {},
     "execution_count": 70
    }
   ],
   "source": [
    "users_data2.tail()"
   ]
  },
  {
   "cell_type": "code",
   "execution_count": 71,
   "metadata": {},
   "outputs": [],
   "source": [
    "users_data=users_data.set_index('user_id')\n",
    "users_data2=users_data2.set_index('user_id')"
   ]
  },
  {
   "cell_type": "code",
   "execution_count": 72,
   "metadata": {},
   "outputs": [],
   "source": [
    "save = open(r'..\\data\\preprocessed\\users-data.csv', 'w')\n",
    "save.write(users_data.to_csv())\n",
    "save.close()\n",
    "save = open(r'..\\data\\preprocessed\\users-data2.csv', 'w')\n",
    "save.write(users_data2.to_csv())\n",
    "save.close()"
   ]
  },
  {
   "source": [
    "### Пост-анализ\n",
    "Что же мы использовали на самом деле?\n",
    "\n",
    "Журнал успеваемости, посылки пользователей и количество комментариев на пользователя (в одном из вариантов конечного датасета).\n",
    "\n",
    "Обучим нашу машину!"
   ],
   "cell_type": "markdown",
   "metadata": {}
  },
  {
   "source": [
    "## Машинное Обучение"
   ],
   "cell_type": "markdown",
   "metadata": {}
  },
  {
   "source": [
    "### Подготовка"
   ],
   "cell_type": "markdown",
   "metadata": {}
  },
  {
   "source": [
    "#### Подготовка для обучаемых моделей"
   ],
   "cell_type": "markdown",
   "metadata": {}
  },
  {
   "cell_type": "code",
   "execution_count": 73,
   "metadata": {},
   "outputs": [],
   "source": [
    "X, y = users_data.drop(['target'], axis=1), users_data['target']\n",
    "X2, y2 = users_data2.drop(['target'], axis=1), users_data2['target']"
   ]
  },
  {
   "source": [
    "#### `train_test_split`"
   ],
   "cell_type": "markdown",
   "metadata": {}
  },
  {
   "cell_type": "code",
   "execution_count": 74,
   "metadata": {},
   "outputs": [],
   "source": [
    "X_train, X_test, y_train, y_test = train_test_split(X, y, test_size=0.2)\n",
    "X_train2, X_test2, y_train2, y_test2 = train_test_split(X2, y2, test_size=0.2)"
   ]
  },
  {
   "source": [
    "### Собственно, машинное обучение"
   ],
   "cell_type": "markdown",
   "metadata": {}
  },
  {
   "cell_type": "code",
   "execution_count": 75,
   "metadata": {},
   "outputs": [],
   "source": [
    "model = RandomForestClassifier()"
   ]
  },
  {
   "cell_type": "code",
   "execution_count": 76,
   "metadata": {},
   "outputs": [],
   "source": [
    "np.random.seed(0)\n",
    "gscv_1 = GridSearchCV(model, param_grid = {'n_estimators':range(0, 500), 'criterion':['gini', 'entropy']}, n_jobs=-1, verbose=10)\n",
    "gscv_2 = GridSearchCV(model, param_grid = {'n_estimators':range(0, 500), 'criterion':['gini', 'entropy']}, n_jobs=-1, verbose=10)"
   ]
  },
  {
   "cell_type": "code",
   "execution_count": 77,
   "metadata": {},
   "outputs": [
    {
     "output_type": "stream",
     "name": "stdout",
     "text": [
      "Fitting 5 folds for each of 1000 candidates, totalling 5000 fits\n",
      "[Parallel(n_jobs=-1)]: Using backend LokyBackend with 6 concurrent workers.\n",
      "[Parallel(n_jobs=-1)]: Done   1 tasks      | elapsed:    3.4s\n",
      "[Parallel(n_jobs=-1)]: Done   6 tasks      | elapsed:    3.4s\n",
      "[Parallel(n_jobs=-1)]: Done  13 tasks      | elapsed:    3.5s\n",
      "[Parallel(n_jobs=-1)]: Done  20 tasks      | elapsed:    3.5s\n",
      "[Parallel(n_jobs=-1)]: Batch computation too fast (0.1771s.) Setting batch_size=2.\n",
      "[Parallel(n_jobs=-1)]: Done  29 tasks      | elapsed:    3.6s\n",
      "[Parallel(n_jobs=-1)]: Done  38 tasks      | elapsed:    3.6s\n",
      "[Parallel(n_jobs=-1)]: Batch computation too fast (0.0896s.) Setting batch_size=4.\n",
      "[Parallel(n_jobs=-1)]: Done  56 tasks      | elapsed:    3.8s\n",
      "[Parallel(n_jobs=-1)]: Done  90 tasks      | elapsed:    4.1s\n",
      "[Parallel(n_jobs=-1)]: Done 142 tasks      | elapsed:    4.9s\n",
      "[Parallel(n_jobs=-1)]: Done 194 tasks      | elapsed:    5.7s\n",
      "[Parallel(n_jobs=-1)]: Done 254 tasks      | elapsed:    7.3s\n",
      "[Parallel(n_jobs=-1)]: Done 314 tasks      | elapsed:    8.9s\n",
      "[Parallel(n_jobs=-1)]: Done 382 tasks      | elapsed:   11.1s\n",
      "[Parallel(n_jobs=-1)]: Done 450 tasks      | elapsed:   13.7s\n",
      "[Parallel(n_jobs=-1)]: Batch computation too slow (2.0110s.) Setting batch_size=1.\n",
      "[Parallel(n_jobs=-1)]: Done 517 tasks      | elapsed:   16.7s\n",
      "[Parallel(n_jobs=-1)]: Done 542 tasks      | elapsed:   17.6s\n",
      "[Parallel(n_jobs=-1)]: Done 563 tasks      | elapsed:   18.6s\n",
      "[Parallel(n_jobs=-1)]: Done 584 tasks      | elapsed:   19.8s\n",
      "[Parallel(n_jobs=-1)]: Done 607 tasks      | elapsed:   21.1s\n",
      "[Parallel(n_jobs=-1)]: Done 630 tasks      | elapsed:   22.9s\n",
      "[Parallel(n_jobs=-1)]: Done 655 tasks      | elapsed:   24.6s\n",
      "[Parallel(n_jobs=-1)]: Done 680 tasks      | elapsed:   26.6s\n",
      "[Parallel(n_jobs=-1)]: Done 707 tasks      | elapsed:   28.4s\n",
      "[Parallel(n_jobs=-1)]: Done 734 tasks      | elapsed:   30.4s\n",
      "[Parallel(n_jobs=-1)]: Done 763 tasks      | elapsed:   32.7s\n",
      "[Parallel(n_jobs=-1)]: Done 792 tasks      | elapsed:   34.9s\n",
      "[Parallel(n_jobs=-1)]: Done 823 tasks      | elapsed:   37.2s\n",
      "[Parallel(n_jobs=-1)]: Done 854 tasks      | elapsed:   39.4s\n",
      "[Parallel(n_jobs=-1)]: Done 887 tasks      | elapsed:   42.0s\n",
      "[Parallel(n_jobs=-1)]: Done 920 tasks      | elapsed:   44.5s\n",
      "[Parallel(n_jobs=-1)]: Done 955 tasks      | elapsed:   47.4s\n",
      "[Parallel(n_jobs=-1)]: Done 990 tasks      | elapsed:   50.7s\n",
      "[Parallel(n_jobs=-1)]: Done 1027 tasks      | elapsed:   54.0s\n",
      "[Parallel(n_jobs=-1)]: Done 1064 tasks      | elapsed:   57.6s\n",
      "[Parallel(n_jobs=-1)]: Done 1103 tasks      | elapsed:  1.0min\n",
      "[Parallel(n_jobs=-1)]: Done 1142 tasks      | elapsed:  1.1min\n",
      "[Parallel(n_jobs=-1)]: Done 1183 tasks      | elapsed:  1.2min\n",
      "[Parallel(n_jobs=-1)]: Done 1224 tasks      | elapsed:  1.3min\n",
      "[Parallel(n_jobs=-1)]: Done 1267 tasks      | elapsed:  1.4min\n",
      "[Parallel(n_jobs=-1)]: Done 1310 tasks      | elapsed:  1.5min\n",
      "[Parallel(n_jobs=-1)]: Done 1355 tasks      | elapsed:  1.6min\n",
      "[Parallel(n_jobs=-1)]: Done 1400 tasks      | elapsed:  1.7min\n",
      "[Parallel(n_jobs=-1)]: Done 1447 tasks      | elapsed:  1.8min\n",
      "[Parallel(n_jobs=-1)]: Done 1494 tasks      | elapsed:  2.0min\n",
      "[Parallel(n_jobs=-1)]: Done 1543 tasks      | elapsed:  2.1min\n",
      "[Parallel(n_jobs=-1)]: Done 1592 tasks      | elapsed:  2.3min\n",
      "[Parallel(n_jobs=-1)]: Done 1643 tasks      | elapsed:  2.4min\n",
      "[Parallel(n_jobs=-1)]: Done 1694 tasks      | elapsed:  2.6min\n",
      "[Parallel(n_jobs=-1)]: Done 1747 tasks      | elapsed:  2.7min\n",
      "[Parallel(n_jobs=-1)]: Done 1800 tasks      | elapsed:  2.9min\n",
      "[Parallel(n_jobs=-1)]: Done 1855 tasks      | elapsed:  3.1min\n",
      "[Parallel(n_jobs=-1)]: Done 1910 tasks      | elapsed:  3.3min\n",
      "[Parallel(n_jobs=-1)]: Done 1967 tasks      | elapsed:  3.5min\n",
      "[Parallel(n_jobs=-1)]: Done 2024 tasks      | elapsed:  3.6min\n",
      "[Parallel(n_jobs=-1)]: Done 2083 tasks      | elapsed:  3.8min\n",
      "[Parallel(n_jobs=-1)]: Done 2142 tasks      | elapsed:  4.0min\n",
      "[Parallel(n_jobs=-1)]: Done 2203 tasks      | elapsed:  4.2min\n",
      "[Parallel(n_jobs=-1)]: Done 2264 tasks      | elapsed:  4.4min\n",
      "[Parallel(n_jobs=-1)]: Done 2327 tasks      | elapsed:  4.6min\n",
      "[Parallel(n_jobs=-1)]: Done 2390 tasks      | elapsed:  4.8min\n",
      "[Parallel(n_jobs=-1)]: Done 2455 tasks      | elapsed:  5.0min\n",
      "[Parallel(n_jobs=-1)]: Batch computation too fast (0.1952s.) Setting batch_size=2.\n",
      "[Parallel(n_jobs=-1)]: Done 2520 tasks      | elapsed:  5.1min\n",
      "[Parallel(n_jobs=-1)]: Batch computation too fast (0.0976s.) Setting batch_size=4.\n",
      "[Parallel(n_jobs=-1)]: Done 2746 tasks      | elapsed:  5.2min\n",
      "[Parallel(n_jobs=-1)]: Batch computation too slow (2.0042s.) Setting batch_size=1.\n",
      "[Parallel(n_jobs=-1)]: Done 3014 tasks      | elapsed:  5.4min\n",
      "[Parallel(n_jobs=-1)]: Done 3095 tasks      | elapsed:  5.4min\n",
      "[Parallel(n_jobs=-1)]: Done 3164 tasks      | elapsed:  5.5min\n",
      "[Parallel(n_jobs=-1)]: Done 3235 tasks      | elapsed:  5.6min\n",
      "[Parallel(n_jobs=-1)]: Done 3306 tasks      | elapsed:  5.7min\n",
      "[Parallel(n_jobs=-1)]: Done 3379 tasks      | elapsed:  5.8min\n",
      "[Parallel(n_jobs=-1)]: Done 3452 tasks      | elapsed:  5.9min\n",
      "[Parallel(n_jobs=-1)]: Done 3527 tasks      | elapsed:  6.0min\n",
      "[Parallel(n_jobs=-1)]: Done 3602 tasks      | elapsed:  6.1min\n",
      "[Parallel(n_jobs=-1)]: Done 3679 tasks      | elapsed:  6.2min\n",
      "[Parallel(n_jobs=-1)]: Done 3756 tasks      | elapsed:  6.4min\n",
      "[Parallel(n_jobs=-1)]: Done 3835 tasks      | elapsed:  6.5min\n",
      "[Parallel(n_jobs=-1)]: Done 3914 tasks      | elapsed:  6.7min\n",
      "[Parallel(n_jobs=-1)]: Done 3995 tasks      | elapsed:  6.9min\n",
      "[Parallel(n_jobs=-1)]: Done 4076 tasks      | elapsed:  7.1min\n",
      "[Parallel(n_jobs=-1)]: Done 4159 tasks      | elapsed:  7.3min\n",
      "[Parallel(n_jobs=-1)]: Done 4242 tasks      | elapsed:  7.5min\n",
      "[Parallel(n_jobs=-1)]: Done 4327 tasks      | elapsed:  7.7min\n",
      "[Parallel(n_jobs=-1)]: Done 4412 tasks      | elapsed:  8.0min\n",
      "[Parallel(n_jobs=-1)]: Done 4499 tasks      | elapsed:  8.2min\n",
      "[Parallel(n_jobs=-1)]: Done 4586 tasks      | elapsed:  8.5min\n",
      "[Parallel(n_jobs=-1)]: Done 4675 tasks      | elapsed:  8.8min\n",
      "[Parallel(n_jobs=-1)]: Done 4764 tasks      | elapsed:  9.1min\n",
      "[Parallel(n_jobs=-1)]: Done 4855 tasks      | elapsed:  9.4min\n",
      "[Parallel(n_jobs=-1)]: Done 4946 tasks      | elapsed:  9.7min\n",
      "[Parallel(n_jobs=-1)]: Done 5000 out of 5000 | elapsed:  9.9min finished\n"
     ]
    },
    {
     "output_type": "execute_result",
     "data": {
      "text/plain": [
       "GridSearchCV(estimator=RandomForestClassifier(), n_jobs=-1,\n",
       "             param_grid={'criterion': ['gini', 'entropy'],\n",
       "                         'n_estimators': range(0, 500)},\n",
       "             verbose=10)"
      ]
     },
     "metadata": {},
     "execution_count": 77
    }
   ],
   "source": [
    "gscv_1.fit(X_train, y_train)"
   ]
  },
  {
   "cell_type": "code",
   "execution_count": 78,
   "metadata": {},
   "outputs": [
    {
     "output_type": "execute_result",
     "data": {
      "text/plain": [
       "{'criterion': 'gini', 'n_estimators': 213}"
      ]
     },
     "metadata": {},
     "execution_count": 78
    }
   ],
   "source": [
    "gscv_1.best_params_"
   ]
  },
  {
   "cell_type": "code",
   "execution_count": 79,
   "metadata": {},
   "outputs": [
    {
     "output_type": "stream",
     "name": "stdout",
     "text": [
      "Fitting 5 folds for each of 1000 candidates, totalling 5000 fits\n",
      "[Parallel(n_jobs=-1)]: Using backend LokyBackend with 6 concurrent workers.\n",
      "[Parallel(n_jobs=-1)]: Done   1 tasks      | elapsed:    0.0s\n",
      "[Parallel(n_jobs=-1)]: Batch computation too fast (0.0176s.) Setting batch_size=2.\n",
      "[Parallel(n_jobs=-1)]: Done   6 tasks      | elapsed:    0.0s\n",
      "[Parallel(n_jobs=-1)]: Done  14 tasks      | elapsed:    0.0s\n",
      "[Parallel(n_jobs=-1)]: Batch computation too fast (0.0589s.) Setting batch_size=4.\n",
      "[Parallel(n_jobs=-1)]: Done  28 tasks      | elapsed:    0.0s\n",
      "[Parallel(n_jobs=-1)]: Batch computation too fast (0.1594s.) Setting batch_size=8.\n",
      "[Parallel(n_jobs=-1)]: Done  56 tasks      | elapsed:    0.3s\n",
      "[Parallel(n_jobs=-1)]: Done 100 tasks      | elapsed:    0.8s\n",
      "[Parallel(n_jobs=-1)]: Done 188 tasks      | elapsed:    2.3s\n",
      "[Parallel(n_jobs=-1)]: Done 276 tasks      | elapsed:    3.9s\n",
      "[Parallel(n_jobs=-1)]: Batch computation too slow (2.0186s.) Setting batch_size=1.\n",
      "[Parallel(n_jobs=-1)]: Done 380 tasks      | elapsed:    7.0s\n",
      "[Parallel(n_jobs=-1)]: Done 414 tasks      | elapsed:    8.1s\n",
      "[Parallel(n_jobs=-1)]: Done 443 tasks      | elapsed:    8.7s\n",
      "[Parallel(n_jobs=-1)]: Done 458 tasks      | elapsed:    9.3s\n",
      "[Parallel(n_jobs=-1)]: Done 475 tasks      | elapsed:   10.0s\n",
      "[Parallel(n_jobs=-1)]: Done 492 tasks      | elapsed:   10.6s\n",
      "[Parallel(n_jobs=-1)]: Done 511 tasks      | elapsed:   11.3s\n",
      "[Parallel(n_jobs=-1)]: Done 530 tasks      | elapsed:   12.2s\n",
      "[Parallel(n_jobs=-1)]: Done 551 tasks      | elapsed:   13.1s\n",
      "[Parallel(n_jobs=-1)]: Done 572 tasks      | elapsed:   14.0s\n",
      "[Parallel(n_jobs=-1)]: Done 595 tasks      | elapsed:   15.1s\n",
      "[Parallel(n_jobs=-1)]: Done 618 tasks      | elapsed:   16.2s\n",
      "[Parallel(n_jobs=-1)]: Done 643 tasks      | elapsed:   17.5s\n",
      "[Parallel(n_jobs=-1)]: Done 668 tasks      | elapsed:   18.8s\n",
      "[Parallel(n_jobs=-1)]: Done 695 tasks      | elapsed:   20.2s\n",
      "[Parallel(n_jobs=-1)]: Done 722 tasks      | elapsed:   21.6s\n",
      "[Parallel(n_jobs=-1)]: Done 751 tasks      | elapsed:   23.4s\n",
      "[Parallel(n_jobs=-1)]: Done 780 tasks      | elapsed:   25.0s\n",
      "[Parallel(n_jobs=-1)]: Done 811 tasks      | elapsed:   26.9s\n",
      "[Parallel(n_jobs=-1)]: Done 842 tasks      | elapsed:   28.9s\n",
      "[Parallel(n_jobs=-1)]: Done 875 tasks      | elapsed:   31.1s\n",
      "[Parallel(n_jobs=-1)]: Done 908 tasks      | elapsed:   33.3s\n",
      "[Parallel(n_jobs=-1)]: Done 943 tasks      | elapsed:   35.9s\n",
      "[Parallel(n_jobs=-1)]: Done 978 tasks      | elapsed:   38.5s\n",
      "[Parallel(n_jobs=-1)]: Done 1015 tasks      | elapsed:   41.3s\n",
      "[Parallel(n_jobs=-1)]: Done 1052 tasks      | elapsed:   44.1s\n",
      "[Parallel(n_jobs=-1)]: Done 1091 tasks      | elapsed:   47.3s\n",
      "[Parallel(n_jobs=-1)]: Done 1130 tasks      | elapsed:   50.5s\n",
      "[Parallel(n_jobs=-1)]: Done 1171 tasks      | elapsed:   54.1s\n",
      "[Parallel(n_jobs=-1)]: Done 1212 tasks      | elapsed:   57.7s\n",
      "[Parallel(n_jobs=-1)]: Done 1255 tasks      | elapsed:  1.0min\n",
      "[Parallel(n_jobs=-1)]: Done 1298 tasks      | elapsed:  1.1min\n",
      "[Parallel(n_jobs=-1)]: Done 1343 tasks      | elapsed:  1.2min\n",
      "[Parallel(n_jobs=-1)]: Done 1388 tasks      | elapsed:  1.2min\n",
      "[Parallel(n_jobs=-1)]: Done 1435 tasks      | elapsed:  1.3min\n",
      "[Parallel(n_jobs=-1)]: Done 1482 tasks      | elapsed:  1.4min\n",
      "[Parallel(n_jobs=-1)]: Done 1531 tasks      | elapsed:  1.5min\n",
      "[Parallel(n_jobs=-1)]: Done 1580 tasks      | elapsed:  1.6min\n",
      "[Parallel(n_jobs=-1)]: Done 1631 tasks      | elapsed:  1.7min\n",
      "[Parallel(n_jobs=-1)]: Done 1682 tasks      | elapsed:  1.8min\n",
      "[Parallel(n_jobs=-1)]: Done 1735 tasks      | elapsed:  1.9min\n",
      "[Parallel(n_jobs=-1)]: Done 1788 tasks      | elapsed:  2.0min\n",
      "[Parallel(n_jobs=-1)]: Done 1843 tasks      | elapsed:  2.1min\n",
      "[Parallel(n_jobs=-1)]: Done 1898 tasks      | elapsed:  2.3min\n",
      "[Parallel(n_jobs=-1)]: Done 1955 tasks      | elapsed:  2.4min\n",
      "[Parallel(n_jobs=-1)]: Done 2012 tasks      | elapsed:  2.5min\n",
      "[Parallel(n_jobs=-1)]: Done 2071 tasks      | elapsed:  2.7min\n",
      "[Parallel(n_jobs=-1)]: Done 2130 tasks      | elapsed:  2.8min\n",
      "[Parallel(n_jobs=-1)]: Done 2191 tasks      | elapsed:  3.0min\n",
      "[Parallel(n_jobs=-1)]: Done 2252 tasks      | elapsed:  3.2min\n",
      "[Parallel(n_jobs=-1)]: Done 2315 tasks      | elapsed:  3.3min\n",
      "[Parallel(n_jobs=-1)]: Done 2378 tasks      | elapsed:  3.5min\n",
      "[Parallel(n_jobs=-1)]: Done 2443 tasks      | elapsed:  3.7min\n",
      "[Parallel(n_jobs=-1)]: Done 2508 tasks      | elapsed:  3.9min\n",
      "[Parallel(n_jobs=-1)]: Batch computation too fast (0.1776s.) Setting batch_size=2.\n",
      "[Parallel(n_jobs=-1)]: Batch computation too fast (0.1263s.) Setting batch_size=4.\n",
      "[Parallel(n_jobs=-1)]: Done 2680 tasks      | elapsed:  3.9min\n",
      "[Parallel(n_jobs=-1)]: Done 2948 tasks      | elapsed:  4.0min\n",
      "[Parallel(n_jobs=-1)]: Batch computation too slow (2.0390s.) Setting batch_size=1.\n",
      "[Parallel(n_jobs=-1)]: Done 3137 tasks      | elapsed:  4.2min\n",
      "[Parallel(n_jobs=-1)]: Done 3206 tasks      | elapsed:  4.2min\n",
      "[Parallel(n_jobs=-1)]: Done 3277 tasks      | elapsed:  4.3min\n",
      "[Parallel(n_jobs=-1)]: Done 3348 tasks      | elapsed:  4.4min\n",
      "[Parallel(n_jobs=-1)]: Done 3421 tasks      | elapsed:  4.5min\n",
      "[Parallel(n_jobs=-1)]: Done 3494 tasks      | elapsed:  4.6min\n",
      "[Parallel(n_jobs=-1)]: Done 3569 tasks      | elapsed:  4.7min\n",
      "[Parallel(n_jobs=-1)]: Done 3644 tasks      | elapsed:  4.8min\n",
      "[Parallel(n_jobs=-1)]: Done 3721 tasks      | elapsed:  4.9min\n",
      "[Parallel(n_jobs=-1)]: Done 3798 tasks      | elapsed:  5.1min\n",
      "[Parallel(n_jobs=-1)]: Done 3877 tasks      | elapsed:  5.2min\n",
      "[Parallel(n_jobs=-1)]: Done 3956 tasks      | elapsed:  5.3min\n",
      "[Parallel(n_jobs=-1)]: Done 4037 tasks      | elapsed:  5.5min\n",
      "[Parallel(n_jobs=-1)]: Done 4118 tasks      | elapsed:  5.7min\n",
      "[Parallel(n_jobs=-1)]: Done 4201 tasks      | elapsed:  5.8min\n",
      "[Parallel(n_jobs=-1)]: Done 4284 tasks      | elapsed:  6.0min\n",
      "[Parallel(n_jobs=-1)]: Done 4369 tasks      | elapsed:  6.2min\n",
      "[Parallel(n_jobs=-1)]: Done 4454 tasks      | elapsed:  6.4min\n",
      "[Parallel(n_jobs=-1)]: Done 4541 tasks      | elapsed:  6.7min\n",
      "[Parallel(n_jobs=-1)]: Done 4628 tasks      | elapsed:  6.9min\n",
      "[Parallel(n_jobs=-1)]: Done 4717 tasks      | elapsed:  7.1min\n",
      "[Parallel(n_jobs=-1)]: Done 4806 tasks      | elapsed:  7.4min\n",
      "[Parallel(n_jobs=-1)]: Done 4897 tasks      | elapsed:  7.6min\n",
      "[Parallel(n_jobs=-1)]: Done 4988 tasks      | elapsed:  7.9min\n",
      "[Parallel(n_jobs=-1)]: Done 5000 out of 5000 | elapsed:  8.0min finished\n"
     ]
    },
    {
     "output_type": "execute_result",
     "data": {
      "text/plain": [
       "GridSearchCV(estimator=RandomForestClassifier(), n_jobs=-1,\n",
       "             param_grid={'criterion': ['gini', 'entropy'],\n",
       "                         'n_estimators': range(0, 500)},\n",
       "             verbose=10)"
      ]
     },
     "metadata": {},
     "execution_count": 79
    }
   ],
   "source": [
    "gscv_2.fit(X_train2, y_train2)"
   ]
  },
  {
   "cell_type": "code",
   "execution_count": 80,
   "metadata": {},
   "outputs": [
    {
     "output_type": "execute_result",
     "data": {
      "text/plain": [
       "{'criterion': 'entropy', 'n_estimators': 45}"
      ]
     },
     "metadata": {},
     "execution_count": 80
    }
   ],
   "source": [
    "gscv_2.best_params_"
   ]
  },
  {
   "source": [
    "## Валидация Моделей"
   ],
   "cell_type": "markdown",
   "metadata": {}
  },
  {
   "source": [
    "Мы используем `ROC_AUC` - площадь под кривой оперативной характеристики приёмника - для валидации модели и оценки её качества."
   ],
   "cell_type": "markdown",
   "metadata": {}
  },
  {
   "source": [
    "### Сохраним наши модели"
   ],
   "cell_type": "markdown",
   "metadata": {}
  },
  {
   "cell_type": "code",
   "execution_count": 81,
   "metadata": {},
   "outputs": [],
   "source": [
    "estimator_1 = gscv_1.best_estimator_\n",
    "estimator_2 = gscv_2.best_estimator_"
   ]
  },
  {
   "cell_type": "code",
   "execution_count": 82,
   "metadata": {},
   "outputs": [],
   "source": [
    "import pickle\n",
    "save = open(r'..\\estimators\\est1.pkl', 'wb')\n",
    "pickle.dump(estimator_1, save)\n",
    "save.close()\n",
    "save = open(r'..\\estimators\\est2.pkl', 'wb')\n",
    "pickle.dump(estimator_2, save)\n",
    "save.close()"
   ]
  },
  {
   "source": [
    "### Собственно, валидация моделей"
   ],
   "cell_type": "markdown",
   "metadata": {}
  },
  {
   "cell_type": "code",
   "execution_count": 83,
   "metadata": {},
   "outputs": [],
   "source": [
    "y_pred = estimator_1.predict_proba(X_test)\n",
    "y_pred2 = estimator_2.predict_proba(X_test2)"
   ]
  },
  {
   "cell_type": "code",
   "execution_count": 84,
   "metadata": {},
   "outputs": [
    {
     "output_type": "display_data",
     "data": {
      "text/plain": "<Figure size 648x432 with 1 Axes>",
      "image/svg+xml": "<?xml version=\"1.0\" encoding=\"utf-8\" standalone=\"no\"?>\r\n<!DOCTYPE svg PUBLIC \"-//W3C//DTD SVG 1.1//EN\"\r\n  \"http://www.w3.org/Graphics/SVG/1.1/DTD/svg11.dtd\">\r\n<!-- Created with matplotlib (https://matplotlib.org/) -->\r\n<svg height=\"389.829844pt\" version=\"1.1\" viewBox=\"0 0 564.009375 389.829844\" width=\"564.009375pt\" xmlns=\"http://www.w3.org/2000/svg\" xmlns:xlink=\"http://www.w3.org/1999/xlink\">\r\n <metadata>\r\n  <rdf:RDF xmlns:cc=\"http://creativecommons.org/ns#\" xmlns:dc=\"http://purl.org/dc/elements/1.1/\" xmlns:rdf=\"http://www.w3.org/1999/02/22-rdf-syntax-ns#\">\r\n   <cc:Work>\r\n    <dc:type rdf:resource=\"http://purl.org/dc/dcmitype/StillImage\"/>\r\n    <dc:date>2021-02-06T20:40:21.257559</dc:date>\r\n    <dc:format>image/svg+xml</dc:format>\r\n    <dc:creator>\r\n     <cc:Agent>\r\n      <dc:title>Matplotlib v3.3.3, https://matplotlib.org/</dc:title>\r\n     </cc:Agent>\r\n    </dc:creator>\r\n   </cc:Work>\r\n  </rdf:RDF>\r\n </metadata>\r\n <defs>\r\n  <style type=\"text/css\">*{stroke-linecap:butt;stroke-linejoin:round;}</style>\r\n </defs>\r\n <g id=\"figure_1\">\r\n  <g id=\"patch_1\">\r\n   <path d=\"M 0 389.829844 \r\nL 564.009375 389.829844 \r\nL 564.009375 0 \r\nL 0 0 \r\nz\r\n\" style=\"fill:#ffffff;\"/>\r\n  </g>\r\n  <g id=\"axes_1\">\r\n   <g id=\"patch_2\">\r\n    <path d=\"M 46.964375 348.095625 \r\nL 549.164375 348.095625 \r\nL 549.164375 21.935625 \r\nL 46.964375 21.935625 \r\nz\r\n\" style=\"fill:#eaeaf2;\"/>\r\n   </g>\r\n   <g id=\"matplotlib.axis_1\">\r\n    <g id=\"xtick_1\">\r\n     <g id=\"line2d_1\">\r\n      <path clip-path=\"url(#p563de48f97)\" d=\"M 46.964375 348.095625 \r\nL 46.964375 21.935625 \r\n\" style=\"fill:none;stroke:#ffffff;stroke-linecap:round;\"/>\r\n     </g>\r\n     <g id=\"text_1\">\r\n      <!-- 0.0 -->\r\n      <g style=\"fill:#262626;\" transform=\"translate(39.319375 365.469219)scale(0.11 -0.11)\">\r\n       <defs>\r\n        <path d=\"M 4.15625 35.296875 \r\nQ 4.15625 48 6.765625 55.734375 \r\nQ 9.375 63.484375 14.515625 67.671875 \r\nQ 19.671875 71.875 27.484375 71.875 \r\nQ 33.25 71.875 37.59375 69.546875 \r\nQ 41.9375 67.234375 44.765625 62.859375 \r\nQ 47.609375 58.5 49.21875 52.21875 \r\nQ 50.828125 45.953125 50.828125 35.296875 \r\nQ 50.828125 22.703125 48.234375 14.96875 \r\nQ 45.65625 7.234375 40.5 3 \r\nQ 35.359375 -1.21875 27.484375 -1.21875 \r\nQ 17.140625 -1.21875 11.234375 6.203125 \r\nQ 4.15625 15.140625 4.15625 35.296875 \r\nz\r\nM 13.1875 35.296875 \r\nQ 13.1875 17.671875 17.3125 11.828125 \r\nQ 21.4375 6 27.484375 6 \r\nQ 33.546875 6 37.671875 11.859375 \r\nQ 41.796875 17.71875 41.796875 35.296875 \r\nQ 41.796875 52.984375 37.671875 58.78125 \r\nQ 33.546875 64.59375 27.390625 64.59375 \r\nQ 21.34375 64.59375 17.71875 59.46875 \r\nQ 13.1875 52.9375 13.1875 35.296875 \r\nz\r\n\" id=\"ArialMT-48\"/>\r\n        <path d=\"M 9.078125 0 \r\nL 9.078125 10.015625 \r\nL 19.09375 10.015625 \r\nL 19.09375 0 \r\nz\r\n\" id=\"ArialMT-46\"/>\r\n       </defs>\r\n       <use xlink:href=\"#ArialMT-48\"/>\r\n       <use x=\"55.615234\" xlink:href=\"#ArialMT-46\"/>\r\n       <use x=\"83.398438\" xlink:href=\"#ArialMT-48\"/>\r\n      </g>\r\n     </g>\r\n    </g>\r\n    <g id=\"xtick_2\">\r\n     <g id=\"line2d_2\">\r\n      <path clip-path=\"url(#p563de48f97)\" d=\"M 147.404375 348.095625 \r\nL 147.404375 21.935625 \r\n\" style=\"fill:none;stroke:#ffffff;stroke-linecap:round;\"/>\r\n     </g>\r\n     <g id=\"text_2\">\r\n      <!-- 0.2 -->\r\n      <g style=\"fill:#262626;\" transform=\"translate(139.759375 365.469219)scale(0.11 -0.11)\">\r\n       <defs>\r\n        <path d=\"M 50.34375 8.453125 \r\nL 50.34375 0 \r\nL 3.03125 0 \r\nQ 2.9375 3.171875 4.046875 6.109375 \r\nQ 5.859375 10.9375 9.828125 15.625 \r\nQ 13.8125 20.3125 21.34375 26.46875 \r\nQ 33.015625 36.03125 37.109375 41.625 \r\nQ 41.21875 47.21875 41.21875 52.203125 \r\nQ 41.21875 57.421875 37.46875 61 \r\nQ 33.734375 64.59375 27.734375 64.59375 \r\nQ 21.390625 64.59375 17.578125 60.78125 \r\nQ 13.765625 56.984375 13.71875 50.25 \r\nL 4.6875 51.171875 \r\nQ 5.609375 61.28125 11.65625 66.578125 \r\nQ 17.71875 71.875 27.9375 71.875 \r\nQ 38.234375 71.875 44.234375 66.15625 \r\nQ 50.25 60.453125 50.25 52 \r\nQ 50.25 47.703125 48.484375 43.546875 \r\nQ 46.734375 39.40625 42.65625 34.8125 \r\nQ 38.578125 30.21875 29.109375 22.21875 \r\nQ 21.1875 15.578125 18.9375 13.203125 \r\nQ 16.703125 10.84375 15.234375 8.453125 \r\nz\r\n\" id=\"ArialMT-50\"/>\r\n       </defs>\r\n       <use xlink:href=\"#ArialMT-48\"/>\r\n       <use x=\"55.615234\" xlink:href=\"#ArialMT-46\"/>\r\n       <use x=\"83.398438\" xlink:href=\"#ArialMT-50\"/>\r\n      </g>\r\n     </g>\r\n    </g>\r\n    <g id=\"xtick_3\">\r\n     <g id=\"line2d_3\">\r\n      <path clip-path=\"url(#p563de48f97)\" d=\"M 247.844375 348.095625 \r\nL 247.844375 21.935625 \r\n\" style=\"fill:none;stroke:#ffffff;stroke-linecap:round;\"/>\r\n     </g>\r\n     <g id=\"text_3\">\r\n      <!-- 0.4 -->\r\n      <g style=\"fill:#262626;\" transform=\"translate(240.199375 365.469219)scale(0.11 -0.11)\">\r\n       <defs>\r\n        <path d=\"M 32.328125 0 \r\nL 32.328125 17.140625 \r\nL 1.265625 17.140625 \r\nL 1.265625 25.203125 \r\nL 33.9375 71.578125 \r\nL 41.109375 71.578125 \r\nL 41.109375 25.203125 \r\nL 50.78125 25.203125 \r\nL 50.78125 17.140625 \r\nL 41.109375 17.140625 \r\nL 41.109375 0 \r\nz\r\nM 32.328125 25.203125 \r\nL 32.328125 57.46875 \r\nL 9.90625 25.203125 \r\nz\r\n\" id=\"ArialMT-52\"/>\r\n       </defs>\r\n       <use xlink:href=\"#ArialMT-48\"/>\r\n       <use x=\"55.615234\" xlink:href=\"#ArialMT-46\"/>\r\n       <use x=\"83.398438\" xlink:href=\"#ArialMT-52\"/>\r\n      </g>\r\n     </g>\r\n    </g>\r\n    <g id=\"xtick_4\">\r\n     <g id=\"line2d_4\">\r\n      <path clip-path=\"url(#p563de48f97)\" d=\"M 348.284375 348.095625 \r\nL 348.284375 21.935625 \r\n\" style=\"fill:none;stroke:#ffffff;stroke-linecap:round;\"/>\r\n     </g>\r\n     <g id=\"text_4\">\r\n      <!-- 0.6 -->\r\n      <g style=\"fill:#262626;\" transform=\"translate(340.639375 365.469219)scale(0.11 -0.11)\">\r\n       <defs>\r\n        <path d=\"M 49.75 54.046875 \r\nL 41.015625 53.375 \r\nQ 39.84375 58.546875 37.703125 60.890625 \r\nQ 34.125 64.65625 28.90625 64.65625 \r\nQ 24.703125 64.65625 21.53125 62.3125 \r\nQ 17.390625 59.28125 14.984375 53.46875 \r\nQ 12.59375 47.65625 12.5 36.921875 \r\nQ 15.671875 41.75 20.265625 44.09375 \r\nQ 24.859375 46.4375 29.890625 46.4375 \r\nQ 38.671875 46.4375 44.84375 39.96875 \r\nQ 51.03125 33.5 51.03125 23.25 \r\nQ 51.03125 16.5 48.125 10.71875 \r\nQ 45.21875 4.9375 40.140625 1.859375 \r\nQ 35.0625 -1.21875 28.609375 -1.21875 \r\nQ 17.625 -1.21875 10.6875 6.859375 \r\nQ 3.765625 14.9375 3.765625 33.5 \r\nQ 3.765625 54.25 11.421875 63.671875 \r\nQ 18.109375 71.875 29.4375 71.875 \r\nQ 37.890625 71.875 43.28125 67.140625 \r\nQ 48.6875 62.40625 49.75 54.046875 \r\nz\r\nM 13.875 23.1875 \r\nQ 13.875 18.65625 15.796875 14.5 \r\nQ 17.71875 10.359375 21.1875 8.171875 \r\nQ 24.65625 6 28.46875 6 \r\nQ 34.03125 6 38.03125 10.484375 \r\nQ 42.046875 14.984375 42.046875 22.703125 \r\nQ 42.046875 30.125 38.078125 34.390625 \r\nQ 34.125 38.671875 28.125 38.671875 \r\nQ 22.171875 38.671875 18.015625 34.390625 \r\nQ 13.875 30.125 13.875 23.1875 \r\nz\r\n\" id=\"ArialMT-54\"/>\r\n       </defs>\r\n       <use xlink:href=\"#ArialMT-48\"/>\r\n       <use x=\"55.615234\" xlink:href=\"#ArialMT-46\"/>\r\n       <use x=\"83.398438\" xlink:href=\"#ArialMT-54\"/>\r\n      </g>\r\n     </g>\r\n    </g>\r\n    <g id=\"xtick_5\">\r\n     <g id=\"line2d_5\">\r\n      <path clip-path=\"url(#p563de48f97)\" d=\"M 448.724375 348.095625 \r\nL 448.724375 21.935625 \r\n\" style=\"fill:none;stroke:#ffffff;stroke-linecap:round;\"/>\r\n     </g>\r\n     <g id=\"text_5\">\r\n      <!-- 0.8 -->\r\n      <g style=\"fill:#262626;\" transform=\"translate(441.079375 365.469219)scale(0.11 -0.11)\">\r\n       <defs>\r\n        <path d=\"M 17.671875 38.8125 \r\nQ 12.203125 40.828125 9.5625 44.53125 \r\nQ 6.9375 48.25 6.9375 53.421875 \r\nQ 6.9375 61.234375 12.546875 66.546875 \r\nQ 18.171875 71.875 27.484375 71.875 \r\nQ 36.859375 71.875 42.578125 66.421875 \r\nQ 48.296875 60.984375 48.296875 53.171875 \r\nQ 48.296875 48.1875 45.671875 44.5 \r\nQ 43.0625 40.828125 37.75 38.8125 \r\nQ 44.34375 36.671875 47.78125 31.875 \r\nQ 51.21875 27.09375 51.21875 20.453125 \r\nQ 51.21875 11.28125 44.71875 5.03125 \r\nQ 38.234375 -1.21875 27.640625 -1.21875 \r\nQ 17.046875 -1.21875 10.546875 5.046875 \r\nQ 4.046875 11.328125 4.046875 20.703125 \r\nQ 4.046875 27.6875 7.59375 32.390625 \r\nQ 11.140625 37.109375 17.671875 38.8125 \r\nz\r\nM 15.921875 53.71875 \r\nQ 15.921875 48.640625 19.1875 45.40625 \r\nQ 22.46875 42.1875 27.6875 42.1875 \r\nQ 32.765625 42.1875 36.015625 45.375 \r\nQ 39.265625 48.578125 39.265625 53.21875 \r\nQ 39.265625 58.0625 35.90625 61.359375 \r\nQ 32.5625 64.65625 27.59375 64.65625 \r\nQ 22.5625 64.65625 19.234375 61.421875 \r\nQ 15.921875 58.203125 15.921875 53.71875 \r\nz\r\nM 13.09375 20.65625 \r\nQ 13.09375 16.890625 14.875 13.375 \r\nQ 16.65625 9.859375 20.171875 7.921875 \r\nQ 23.6875 6 27.734375 6 \r\nQ 34.03125 6 38.125 10.046875 \r\nQ 42.234375 14.109375 42.234375 20.359375 \r\nQ 42.234375 26.703125 38.015625 30.859375 \r\nQ 33.796875 35.015625 27.4375 35.015625 \r\nQ 21.234375 35.015625 17.15625 30.90625 \r\nQ 13.09375 26.8125 13.09375 20.65625 \r\nz\r\n\" id=\"ArialMT-56\"/>\r\n       </defs>\r\n       <use xlink:href=\"#ArialMT-48\"/>\r\n       <use x=\"55.615234\" xlink:href=\"#ArialMT-46\"/>\r\n       <use x=\"83.398438\" xlink:href=\"#ArialMT-56\"/>\r\n      </g>\r\n     </g>\r\n    </g>\r\n    <g id=\"xtick_6\">\r\n     <g id=\"line2d_6\">\r\n      <path clip-path=\"url(#p563de48f97)\" d=\"M 549.164375 348.095625 \r\nL 549.164375 21.935625 \r\n\" style=\"fill:none;stroke:#ffffff;stroke-linecap:round;\"/>\r\n     </g>\r\n     <g id=\"text_6\">\r\n      <!-- 1.0 -->\r\n      <g style=\"fill:#262626;\" transform=\"translate(541.519375 365.469219)scale(0.11 -0.11)\">\r\n       <defs>\r\n        <path d=\"M 37.25 0 \r\nL 28.46875 0 \r\nL 28.46875 56 \r\nQ 25.296875 52.984375 20.140625 49.953125 \r\nQ 14.984375 46.921875 10.890625 45.40625 \r\nL 10.890625 53.90625 \r\nQ 18.265625 57.375 23.78125 62.296875 \r\nQ 29.296875 67.234375 31.59375 71.875 \r\nL 37.25 71.875 \r\nz\r\n\" id=\"ArialMT-49\"/>\r\n       </defs>\r\n       <use xlink:href=\"#ArialMT-49\"/>\r\n       <use x=\"55.615234\" xlink:href=\"#ArialMT-46\"/>\r\n       <use x=\"83.398438\" xlink:href=\"#ArialMT-48\"/>\r\n      </g>\r\n     </g>\r\n    </g>\r\n    <g id=\"text_7\">\r\n     <!-- False Positive Rate -->\r\n     <g style=\"fill:#262626;\" transform=\"translate(246.378125 380.244844)scale(0.12 -0.12)\">\r\n      <defs>\r\n       <path d=\"M 8.203125 0 \r\nL 8.203125 71.578125 \r\nL 56.5 71.578125 \r\nL 56.5 63.140625 \r\nL 17.671875 63.140625 \r\nL 17.671875 40.96875 \r\nL 51.265625 40.96875 \r\nL 51.265625 32.515625 \r\nL 17.671875 32.515625 \r\nL 17.671875 0 \r\nz\r\n\" id=\"ArialMT-70\"/>\r\n       <path d=\"M 40.4375 6.390625 \r\nQ 35.546875 2.25 31.03125 0.53125 \r\nQ 26.515625 -1.171875 21.34375 -1.171875 \r\nQ 12.796875 -1.171875 8.203125 3 \r\nQ 3.609375 7.171875 3.609375 13.671875 \r\nQ 3.609375 17.484375 5.34375 20.625 \r\nQ 7.078125 23.78125 9.890625 25.6875 \r\nQ 12.703125 27.59375 16.21875 28.5625 \r\nQ 18.796875 29.25 24.03125 29.890625 \r\nQ 34.671875 31.15625 39.703125 32.90625 \r\nQ 39.75 34.71875 39.75 35.203125 \r\nQ 39.75 40.578125 37.25 42.78125 \r\nQ 33.890625 45.75 27.25 45.75 \r\nQ 21.046875 45.75 18.09375 43.578125 \r\nQ 15.140625 41.40625 13.71875 35.890625 \r\nL 5.125 37.0625 \r\nQ 6.296875 42.578125 8.984375 45.96875 \r\nQ 11.671875 49.359375 16.75 51.1875 \r\nQ 21.828125 53.03125 28.515625 53.03125 \r\nQ 35.15625 53.03125 39.296875 51.46875 \r\nQ 43.453125 49.90625 45.40625 47.53125 \r\nQ 47.359375 45.171875 48.140625 41.546875 \r\nQ 48.578125 39.3125 48.578125 33.453125 \r\nL 48.578125 21.734375 \r\nQ 48.578125 9.46875 49.140625 6.21875 \r\nQ 49.703125 2.984375 51.375 0 \r\nL 42.1875 0 \r\nQ 40.828125 2.734375 40.4375 6.390625 \r\nz\r\nM 39.703125 26.03125 \r\nQ 34.90625 24.078125 25.34375 22.703125 \r\nQ 19.921875 21.921875 17.671875 20.9375 \r\nQ 15.4375 19.96875 14.203125 18.09375 \r\nQ 12.984375 16.21875 12.984375 13.921875 \r\nQ 12.984375 10.40625 15.640625 8.0625 \r\nQ 18.3125 5.71875 23.4375 5.71875 \r\nQ 28.515625 5.71875 32.46875 7.9375 \r\nQ 36.421875 10.15625 38.28125 14.015625 \r\nQ 39.703125 17 39.703125 22.796875 \r\nz\r\n\" id=\"ArialMT-97\"/>\r\n       <path d=\"M 6.390625 0 \r\nL 6.390625 71.578125 \r\nL 15.1875 71.578125 \r\nL 15.1875 0 \r\nz\r\n\" id=\"ArialMT-108\"/>\r\n       <path d=\"M 3.078125 15.484375 \r\nL 11.765625 16.84375 \r\nQ 12.5 11.625 15.84375 8.84375 \r\nQ 19.1875 6.0625 25.203125 6.0625 \r\nQ 31.25 6.0625 34.171875 8.515625 \r\nQ 37.109375 10.984375 37.109375 14.3125 \r\nQ 37.109375 17.28125 34.515625 19 \r\nQ 32.71875 20.171875 25.53125 21.96875 \r\nQ 15.875 24.421875 12.140625 26.203125 \r\nQ 8.40625 27.984375 6.46875 31.125 \r\nQ 4.546875 34.28125 4.546875 38.09375 \r\nQ 4.546875 41.546875 6.125 44.5 \r\nQ 7.71875 47.46875 10.453125 49.421875 \r\nQ 12.5 50.921875 16.03125 51.96875 \r\nQ 19.578125 53.03125 23.640625 53.03125 \r\nQ 29.734375 53.03125 34.34375 51.265625 \r\nQ 38.96875 49.515625 41.15625 46.5 \r\nQ 43.359375 43.5 44.1875 38.484375 \r\nL 35.59375 37.3125 \r\nQ 35.015625 41.3125 32.203125 43.546875 \r\nQ 29.390625 45.796875 24.265625 45.796875 \r\nQ 18.21875 45.796875 15.625 43.796875 \r\nQ 13.03125 41.796875 13.03125 39.109375 \r\nQ 13.03125 37.40625 14.109375 36.03125 \r\nQ 15.1875 34.625 17.484375 33.6875 \r\nQ 18.796875 33.203125 25.25 31.453125 \r\nQ 34.578125 28.953125 38.25 27.359375 \r\nQ 41.9375 25.78125 44.03125 22.75 \r\nQ 46.140625 19.734375 46.140625 15.234375 \r\nQ 46.140625 10.84375 43.578125 6.953125 \r\nQ 41.015625 3.078125 36.171875 0.953125 \r\nQ 31.34375 -1.171875 25.25 -1.171875 \r\nQ 15.140625 -1.171875 9.84375 3.03125 \r\nQ 4.546875 7.234375 3.078125 15.484375 \r\nz\r\n\" id=\"ArialMT-115\"/>\r\n       <path d=\"M 42.09375 16.703125 \r\nL 51.171875 15.578125 \r\nQ 49.03125 7.625 43.21875 3.21875 \r\nQ 37.40625 -1.171875 28.375 -1.171875 \r\nQ 17 -1.171875 10.328125 5.828125 \r\nQ 3.65625 12.84375 3.65625 25.484375 \r\nQ 3.65625 38.578125 10.390625 45.796875 \r\nQ 17.140625 53.03125 27.875 53.03125 \r\nQ 38.28125 53.03125 44.875 45.953125 \r\nQ 51.46875 38.875 51.46875 26.03125 \r\nQ 51.46875 25.25 51.421875 23.6875 \r\nL 12.75 23.6875 \r\nQ 13.234375 15.140625 17.578125 10.59375 \r\nQ 21.921875 6.0625 28.421875 6.0625 \r\nQ 33.25 6.0625 36.671875 8.59375 \r\nQ 40.09375 11.140625 42.09375 16.703125 \r\nz\r\nM 13.234375 30.90625 \r\nL 42.1875 30.90625 \r\nQ 41.609375 37.453125 38.875 40.71875 \r\nQ 34.671875 45.796875 27.984375 45.796875 \r\nQ 21.921875 45.796875 17.796875 41.75 \r\nQ 13.671875 37.703125 13.234375 30.90625 \r\nz\r\n\" id=\"ArialMT-101\"/>\r\n       <path id=\"ArialMT-32\"/>\r\n       <path d=\"M 7.71875 0 \r\nL 7.71875 71.578125 \r\nL 34.71875 71.578125 \r\nQ 41.84375 71.578125 45.609375 70.90625 \r\nQ 50.875 70.015625 54.4375 67.546875 \r\nQ 58.015625 65.09375 60.1875 60.640625 \r\nQ 62.359375 56.203125 62.359375 50.875 \r\nQ 62.359375 41.75 56.546875 35.421875 \r\nQ 50.734375 29.109375 35.546875 29.109375 \r\nL 17.1875 29.109375 \r\nL 17.1875 0 \r\nz\r\nM 17.1875 37.546875 \r\nL 35.6875 37.546875 \r\nQ 44.875 37.546875 48.734375 40.96875 \r\nQ 52.59375 44.390625 52.59375 50.59375 \r\nQ 52.59375 55.078125 50.3125 58.265625 \r\nQ 48.046875 61.46875 44.34375 62.5 \r\nQ 41.9375 63.140625 35.5 63.140625 \r\nL 17.1875 63.140625 \r\nz\r\n\" id=\"ArialMT-80\"/>\r\n       <path d=\"M 3.328125 25.921875 \r\nQ 3.328125 40.328125 11.328125 47.265625 \r\nQ 18.015625 53.03125 27.640625 53.03125 \r\nQ 38.328125 53.03125 45.109375 46.015625 \r\nQ 51.90625 39.015625 51.90625 26.65625 \r\nQ 51.90625 16.65625 48.90625 10.90625 \r\nQ 45.90625 5.171875 40.15625 2 \r\nQ 34.421875 -1.171875 27.640625 -1.171875 \r\nQ 16.75 -1.171875 10.03125 5.8125 \r\nQ 3.328125 12.796875 3.328125 25.921875 \r\nz\r\nM 12.359375 25.921875 \r\nQ 12.359375 15.96875 16.703125 11.015625 \r\nQ 21.046875 6.0625 27.640625 6.0625 \r\nQ 34.1875 6.0625 38.53125 11.03125 \r\nQ 42.875 16.015625 42.875 26.21875 \r\nQ 42.875 35.84375 38.5 40.796875 \r\nQ 34.125 45.75 27.640625 45.75 \r\nQ 21.046875 45.75 16.703125 40.8125 \r\nQ 12.359375 35.890625 12.359375 25.921875 \r\nz\r\n\" id=\"ArialMT-111\"/>\r\n       <path d=\"M 6.640625 61.46875 \r\nL 6.640625 71.578125 \r\nL 15.4375 71.578125 \r\nL 15.4375 61.46875 \r\nz\r\nM 6.640625 0 \r\nL 6.640625 51.859375 \r\nL 15.4375 51.859375 \r\nL 15.4375 0 \r\nz\r\n\" id=\"ArialMT-105\"/>\r\n       <path d=\"M 25.78125 7.859375 \r\nL 27.046875 0.09375 \r\nQ 23.34375 -0.6875 20.40625 -0.6875 \r\nQ 15.625 -0.6875 12.984375 0.828125 \r\nQ 10.359375 2.34375 9.28125 4.8125 \r\nQ 8.203125 7.28125 8.203125 15.1875 \r\nL 8.203125 45.015625 \r\nL 1.765625 45.015625 \r\nL 1.765625 51.859375 \r\nL 8.203125 51.859375 \r\nL 8.203125 64.703125 \r\nL 16.9375 69.96875 \r\nL 16.9375 51.859375 \r\nL 25.78125 51.859375 \r\nL 25.78125 45.015625 \r\nL 16.9375 45.015625 \r\nL 16.9375 14.703125 \r\nQ 16.9375 10.9375 17.40625 9.859375 \r\nQ 17.875 8.796875 18.921875 8.15625 \r\nQ 19.96875 7.515625 21.921875 7.515625 \r\nQ 23.390625 7.515625 25.78125 7.859375 \r\nz\r\n\" id=\"ArialMT-116\"/>\r\n       <path d=\"M 21 0 \r\nL 1.265625 51.859375 \r\nL 10.546875 51.859375 \r\nL 21.6875 20.796875 \r\nQ 23.484375 15.765625 25 10.359375 \r\nQ 26.171875 14.453125 28.265625 20.21875 \r\nL 39.796875 51.859375 \r\nL 48.828125 51.859375 \r\nL 29.203125 0 \r\nz\r\n\" id=\"ArialMT-118\"/>\r\n       <path d=\"M 7.859375 0 \r\nL 7.859375 71.578125 \r\nL 39.59375 71.578125 \r\nQ 49.171875 71.578125 54.140625 69.640625 \r\nQ 59.125 67.71875 62.109375 62.828125 \r\nQ 65.09375 57.953125 65.09375 52.046875 \r\nQ 65.09375 44.4375 60.15625 39.203125 \r\nQ 55.21875 33.984375 44.921875 32.5625 \r\nQ 48.6875 30.765625 50.640625 29 \r\nQ 54.78125 25.203125 58.5 19.484375 \r\nL 70.953125 0 \r\nL 59.03125 0 \r\nL 49.5625 14.890625 \r\nQ 45.40625 21.34375 42.71875 24.75 \r\nQ 40.046875 28.171875 37.921875 29.53125 \r\nQ 35.796875 30.90625 33.59375 31.453125 \r\nQ 31.984375 31.78125 28.328125 31.78125 \r\nL 17.328125 31.78125 \r\nL 17.328125 0 \r\nz\r\nM 17.328125 39.984375 \r\nL 37.703125 39.984375 \r\nQ 44.1875 39.984375 47.84375 41.328125 \r\nQ 51.515625 42.671875 53.421875 45.625 \r\nQ 55.328125 48.578125 55.328125 52.046875 \r\nQ 55.328125 57.125 51.640625 60.390625 \r\nQ 47.953125 63.671875 39.984375 63.671875 \r\nL 17.328125 63.671875 \r\nz\r\n\" id=\"ArialMT-82\"/>\r\n      </defs>\r\n      <use xlink:href=\"#ArialMT-70\"/>\r\n      <use x=\"61.083984\" xlink:href=\"#ArialMT-97\"/>\r\n      <use x=\"116.699219\" xlink:href=\"#ArialMT-108\"/>\r\n      <use x=\"138.916016\" xlink:href=\"#ArialMT-115\"/>\r\n      <use x=\"188.916016\" xlink:href=\"#ArialMT-101\"/>\r\n      <use x=\"244.53125\" xlink:href=\"#ArialMT-32\"/>\r\n      <use x=\"272.314453\" xlink:href=\"#ArialMT-80\"/>\r\n      <use x=\"339.013672\" xlink:href=\"#ArialMT-111\"/>\r\n      <use x=\"394.628906\" xlink:href=\"#ArialMT-115\"/>\r\n      <use x=\"444.628906\" xlink:href=\"#ArialMT-105\"/>\r\n      <use x=\"466.845703\" xlink:href=\"#ArialMT-116\"/>\r\n      <use x=\"494.628906\" xlink:href=\"#ArialMT-105\"/>\r\n      <use x=\"516.845703\" xlink:href=\"#ArialMT-118\"/>\r\n      <use x=\"566.845703\" xlink:href=\"#ArialMT-101\"/>\r\n      <use x=\"622.460938\" xlink:href=\"#ArialMT-32\"/>\r\n      <use x=\"650.244141\" xlink:href=\"#ArialMT-82\"/>\r\n      <use x=\"722.460938\" xlink:href=\"#ArialMT-97\"/>\r\n      <use x=\"778.076172\" xlink:href=\"#ArialMT-116\"/>\r\n      <use x=\"805.859375\" xlink:href=\"#ArialMT-101\"/>\r\n     </g>\r\n    </g>\r\n   </g>\r\n   <g id=\"matplotlib.axis_2\">\r\n    <g id=\"ytick_1\">\r\n     <g id=\"line2d_7\">\r\n      <path clip-path=\"url(#p563de48f97)\" d=\"M 46.964375 348.095625 \r\nL 549.164375 348.095625 \r\n\" style=\"fill:none;stroke:#ffffff;stroke-linecap:round;\"/>\r\n     </g>\r\n     <g id=\"text_8\">\r\n      <!-- 0.0 -->\r\n      <g style=\"fill:#262626;\" transform=\"translate(22.174375 352.032422)scale(0.11 -0.11)\">\r\n       <use xlink:href=\"#ArialMT-48\"/>\r\n       <use x=\"55.615234\" xlink:href=\"#ArialMT-46\"/>\r\n       <use x=\"83.398438\" xlink:href=\"#ArialMT-48\"/>\r\n      </g>\r\n     </g>\r\n    </g>\r\n    <g id=\"ytick_2\">\r\n     <g id=\"line2d_8\">\r\n      <path clip-path=\"url(#p563de48f97)\" d=\"M 46.964375 285.969911 \r\nL 549.164375 285.969911 \r\n\" style=\"fill:none;stroke:#ffffff;stroke-linecap:round;\"/>\r\n     </g>\r\n     <g id=\"text_9\">\r\n      <!-- 0.2 -->\r\n      <g style=\"fill:#262626;\" transform=\"translate(22.174375 289.906708)scale(0.11 -0.11)\">\r\n       <use xlink:href=\"#ArialMT-48\"/>\r\n       <use x=\"55.615234\" xlink:href=\"#ArialMT-46\"/>\r\n       <use x=\"83.398438\" xlink:href=\"#ArialMT-50\"/>\r\n      </g>\r\n     </g>\r\n    </g>\r\n    <g id=\"ytick_3\">\r\n     <g id=\"line2d_9\">\r\n      <path clip-path=\"url(#p563de48f97)\" d=\"M 46.964375 223.844196 \r\nL 549.164375 223.844196 \r\n\" style=\"fill:none;stroke:#ffffff;stroke-linecap:round;\"/>\r\n     </g>\r\n     <g id=\"text_10\">\r\n      <!-- 0.4 -->\r\n      <g style=\"fill:#262626;\" transform=\"translate(22.174375 227.780993)scale(0.11 -0.11)\">\r\n       <use xlink:href=\"#ArialMT-48\"/>\r\n       <use x=\"55.615234\" xlink:href=\"#ArialMT-46\"/>\r\n       <use x=\"83.398438\" xlink:href=\"#ArialMT-52\"/>\r\n      </g>\r\n     </g>\r\n    </g>\r\n    <g id=\"ytick_4\">\r\n     <g id=\"line2d_10\">\r\n      <path clip-path=\"url(#p563de48f97)\" d=\"M 46.964375 161.718482 \r\nL 549.164375 161.718482 \r\n\" style=\"fill:none;stroke:#ffffff;stroke-linecap:round;\"/>\r\n     </g>\r\n     <g id=\"text_11\">\r\n      <!-- 0.6 -->\r\n      <g style=\"fill:#262626;\" transform=\"translate(22.174375 165.655279)scale(0.11 -0.11)\">\r\n       <use xlink:href=\"#ArialMT-48\"/>\r\n       <use x=\"55.615234\" xlink:href=\"#ArialMT-46\"/>\r\n       <use x=\"83.398438\" xlink:href=\"#ArialMT-54\"/>\r\n      </g>\r\n     </g>\r\n    </g>\r\n    <g id=\"ytick_5\">\r\n     <g id=\"line2d_11\">\r\n      <path clip-path=\"url(#p563de48f97)\" d=\"M 46.964375 99.592768 \r\nL 549.164375 99.592768 \r\n\" style=\"fill:none;stroke:#ffffff;stroke-linecap:round;\"/>\r\n     </g>\r\n     <g id=\"text_12\">\r\n      <!-- 0.8 -->\r\n      <g style=\"fill:#262626;\" transform=\"translate(22.174375 103.529565)scale(0.11 -0.11)\">\r\n       <use xlink:href=\"#ArialMT-48\"/>\r\n       <use x=\"55.615234\" xlink:href=\"#ArialMT-46\"/>\r\n       <use x=\"83.398438\" xlink:href=\"#ArialMT-56\"/>\r\n      </g>\r\n     </g>\r\n    </g>\r\n    <g id=\"ytick_6\">\r\n     <g id=\"line2d_12\">\r\n      <path clip-path=\"url(#p563de48f97)\" d=\"M 46.964375 37.467054 \r\nL 549.164375 37.467054 \r\n\" style=\"fill:none;stroke:#ffffff;stroke-linecap:round;\"/>\r\n     </g>\r\n     <g id=\"text_13\">\r\n      <!-- 1.0 -->\r\n      <g style=\"fill:#262626;\" transform=\"translate(22.174375 41.40385)scale(0.11 -0.11)\">\r\n       <use xlink:href=\"#ArialMT-49\"/>\r\n       <use x=\"55.615234\" xlink:href=\"#ArialMT-46\"/>\r\n       <use x=\"83.398438\" xlink:href=\"#ArialMT-48\"/>\r\n      </g>\r\n     </g>\r\n    </g>\r\n    <g id=\"text_14\">\r\n     <!-- True Positive Rate -->\r\n     <g style=\"fill:#262626;\" transform=\"translate(15.789375 234.141562)rotate(-90)scale(0.12 -0.12)\">\r\n      <defs>\r\n       <path d=\"M 25.921875 0 \r\nL 25.921875 63.140625 \r\nL 2.34375 63.140625 \r\nL 2.34375 71.578125 \r\nL 59.078125 71.578125 \r\nL 59.078125 63.140625 \r\nL 35.40625 63.140625 \r\nL 35.40625 0 \r\nz\r\n\" id=\"ArialMT-84\"/>\r\n       <path d=\"M 6.5 0 \r\nL 6.5 51.859375 \r\nL 14.40625 51.859375 \r\nL 14.40625 44 \r\nQ 17.4375 49.515625 20 51.265625 \r\nQ 22.5625 53.03125 25.640625 53.03125 \r\nQ 30.078125 53.03125 34.671875 50.203125 \r\nL 31.640625 42.046875 \r\nQ 28.421875 43.953125 25.203125 43.953125 \r\nQ 22.3125 43.953125 20.015625 42.21875 \r\nQ 17.71875 40.484375 16.75 37.40625 \r\nQ 15.28125 32.71875 15.28125 27.15625 \r\nL 15.28125 0 \r\nz\r\n\" id=\"ArialMT-114\"/>\r\n       <path d=\"M 40.578125 0 \r\nL 40.578125 7.625 \r\nQ 34.515625 -1.171875 24.125 -1.171875 \r\nQ 19.53125 -1.171875 15.546875 0.578125 \r\nQ 11.578125 2.34375 9.640625 5 \r\nQ 7.71875 7.671875 6.9375 11.53125 \r\nQ 6.390625 14.109375 6.390625 19.734375 \r\nL 6.390625 51.859375 \r\nL 15.1875 51.859375 \r\nL 15.1875 23.09375 \r\nQ 15.1875 16.21875 15.71875 13.8125 \r\nQ 16.546875 10.359375 19.234375 8.375 \r\nQ 21.921875 6.390625 25.875 6.390625 \r\nQ 29.828125 6.390625 33.296875 8.421875 \r\nQ 36.765625 10.453125 38.203125 13.9375 \r\nQ 39.65625 17.4375 39.65625 24.078125 \r\nL 39.65625 51.859375 \r\nL 48.4375 51.859375 \r\nL 48.4375 0 \r\nz\r\n\" id=\"ArialMT-117\"/>\r\n      </defs>\r\n      <use xlink:href=\"#ArialMT-84\"/>\r\n      <use x=\"57.333984\" xlink:href=\"#ArialMT-114\"/>\r\n      <use x=\"90.634766\" xlink:href=\"#ArialMT-117\"/>\r\n      <use x=\"146.25\" xlink:href=\"#ArialMT-101\"/>\r\n      <use x=\"201.865234\" xlink:href=\"#ArialMT-32\"/>\r\n      <use x=\"229.648438\" xlink:href=\"#ArialMT-80\"/>\r\n      <use x=\"296.347656\" xlink:href=\"#ArialMT-111\"/>\r\n      <use x=\"351.962891\" xlink:href=\"#ArialMT-115\"/>\r\n      <use x=\"401.962891\" xlink:href=\"#ArialMT-105\"/>\r\n      <use x=\"424.179688\" xlink:href=\"#ArialMT-116\"/>\r\n      <use x=\"451.962891\" xlink:href=\"#ArialMT-105\"/>\r\n      <use x=\"474.179688\" xlink:href=\"#ArialMT-118\"/>\r\n      <use x=\"524.179688\" xlink:href=\"#ArialMT-101\"/>\r\n      <use x=\"579.794922\" xlink:href=\"#ArialMT-32\"/>\r\n      <use x=\"607.578125\" xlink:href=\"#ArialMT-82\"/>\r\n      <use x=\"679.794922\" xlink:href=\"#ArialMT-97\"/>\r\n      <use x=\"735.410156\" xlink:href=\"#ArialMT-116\"/>\r\n      <use x=\"763.193359\" xlink:href=\"#ArialMT-101\"/>\r\n     </g>\r\n    </g>\r\n   </g>\r\n   <g id=\"line2d_13\">\r\n    <path clip-path=\"url(#p563de48f97)\" d=\"M 46.964375 348.095625 \r\nL 46.964375 248.250727 \r\nL 46.964375 242.703788 \r\nL 46.964375 220.516033 \r\nL 46.964375 217.742564 \r\nL 46.964375 209.422156 \r\nL 46.964375 198.328278 \r\nL 46.964375 192.781339 \r\nL 58.124375 192.781339 \r\nL 69.284375 187.234401 \r\nL 69.284375 176.140523 \r\nL 80.444375 165.046645 \r\nL 80.444375 156.726237 \r\nL 91.604375 156.726237 \r\nL 91.604375 153.952768 \r\nL 102.764375 153.952768 \r\nL 102.764375 148.405829 \r\nL 113.924375 145.63236 \r\nL 125.084375 145.63236 \r\nL 125.084375 131.765013 \r\nL 125.084375 126.218074 \r\nL 125.084375 120.671135 \r\nL 136.244375 120.671135 \r\nL 136.244375 112.350727 \r\nL 158.564375 112.350727 \r\nL 158.564375 109.577258 \r\nL 192.044375 109.577258 \r\nL 192.044375 92.936441 \r\nL 214.364375 92.936441 \r\nL 214.364375 87.389503 \r\nL 214.364375 84.616033 \r\nL 214.364375 79.069094 \r\nL 225.524375 79.069094 \r\nL 236.684375 76.295625 \r\nL 236.684375 73.522156 \r\nL 247.844375 73.522156 \r\nL 247.844375 70.748686 \r\nL 270.164375 70.748686 \r\nL 270.164375 67.975217 \r\nL 404.084375 62.428278 \r\nL 404.084375 56.881339 \r\nL 415.244375 56.881339 \r\nL 415.244375 51.334401 \r\nL 437.564375 51.334401 \r\nL 459.884375 51.334401 \r\nL 459.884375 43.013992 \r\nL 459.884375 37.467054 \r\nL 482.204375 37.467054 \r\nL 504.524375 37.467054 \r\nL 549.164375 37.467054 \r\n\" style=\"fill:none;stroke:#4c72b0;stroke-linecap:round;stroke-width:1.5;\"/>\r\n   </g>\r\n   <g id=\"line2d_14\">\r\n    <path clip-path=\"url(#p563de48f97)\" d=\"M 46.964375 348.095625 \r\nL 549.164375 37.467054 \r\n\" style=\"fill:none;stroke:#1a1a1a;stroke-dasharray:5.55,2.4;stroke-dashoffset:0;stroke-width:1.5;\"/>\r\n   </g>\r\n   <g id=\"patch_3\">\r\n    <path d=\"M 46.964375 348.095625 \r\nL 46.964375 21.935625 \r\n\" style=\"fill:none;stroke:#ffffff;stroke-linecap:square;stroke-linejoin:miter;stroke-width:1.25;\"/>\r\n   </g>\r\n   <g id=\"patch_4\">\r\n    <path d=\"M 549.164375 348.095625 \r\nL 549.164375 21.935625 \r\n\" style=\"fill:none;stroke:#ffffff;stroke-linecap:square;stroke-linejoin:miter;stroke-width:1.25;\"/>\r\n   </g>\r\n   <g id=\"patch_5\">\r\n    <path d=\"M 46.964375 348.095625 \r\nL 549.164375 348.095625 \r\n\" style=\"fill:none;stroke:#ffffff;stroke-linecap:square;stroke-linejoin:miter;stroke-width:1.25;\"/>\r\n   </g>\r\n   <g id=\"patch_6\">\r\n    <path d=\"M 46.964375 21.935625 \r\nL 549.164375 21.935625 \r\n\" style=\"fill:none;stroke:#ffffff;stroke-linecap:square;stroke-linejoin:miter;stroke-width:1.25;\"/>\r\n   </g>\r\n   <g id=\"text_15\">\r\n    <!-- Receiver operating characteristic for first model -->\r\n    <g style=\"fill:#262626;\" transform=\"translate(172.690625 15.935625)scale(0.12 -0.12)\">\r\n     <defs>\r\n      <path d=\"M 40.4375 19 \r\nL 49.078125 17.875 \r\nQ 47.65625 8.9375 41.8125 3.875 \r\nQ 35.984375 -1.171875 27.484375 -1.171875 \r\nQ 16.84375 -1.171875 10.375 5.78125 \r\nQ 3.90625 12.75 3.90625 25.734375 \r\nQ 3.90625 34.125 6.6875 40.421875 \r\nQ 9.46875 46.734375 15.15625 49.875 \r\nQ 20.84375 53.03125 27.546875 53.03125 \r\nQ 35.984375 53.03125 41.359375 48.75 \r\nQ 46.734375 44.484375 48.25 36.625 \r\nL 39.703125 35.296875 \r\nQ 38.484375 40.53125 35.375 43.15625 \r\nQ 32.28125 45.796875 27.875 45.796875 \r\nQ 21.234375 45.796875 17.078125 41.03125 \r\nQ 12.9375 36.28125 12.9375 25.984375 \r\nQ 12.9375 15.53125 16.9375 10.796875 \r\nQ 20.953125 6.0625 27.390625 6.0625 \r\nQ 32.5625 6.0625 36.03125 9.234375 \r\nQ 39.5 12.40625 40.4375 19 \r\nz\r\n\" id=\"ArialMT-99\"/>\r\n      <path d=\"M 6.59375 -19.875 \r\nL 6.59375 51.859375 \r\nL 14.59375 51.859375 \r\nL 14.59375 45.125 \r\nQ 17.4375 49.078125 21 51.046875 \r\nQ 24.5625 53.03125 29.640625 53.03125 \r\nQ 36.28125 53.03125 41.359375 49.609375 \r\nQ 46.4375 46.1875 49.015625 39.953125 \r\nQ 51.609375 33.734375 51.609375 26.3125 \r\nQ 51.609375 18.359375 48.75 11.984375 \r\nQ 45.90625 5.609375 40.453125 2.21875 \r\nQ 35.015625 -1.171875 29 -1.171875 \r\nQ 24.609375 -1.171875 21.109375 0.6875 \r\nQ 17.625 2.546875 15.375 5.375 \r\nL 15.375 -19.875 \r\nz\r\nM 14.546875 25.640625 \r\nQ 14.546875 15.625 18.59375 10.84375 \r\nQ 22.65625 6.0625 28.421875 6.0625 \r\nQ 34.28125 6.0625 38.453125 11.015625 \r\nQ 42.625 15.96875 42.625 26.375 \r\nQ 42.625 36.28125 38.546875 41.203125 \r\nQ 34.46875 46.140625 28.8125 46.140625 \r\nQ 23.1875 46.140625 18.859375 40.890625 \r\nQ 14.546875 35.640625 14.546875 25.640625 \r\nz\r\n\" id=\"ArialMT-112\"/>\r\n      <path d=\"M 6.59375 0 \r\nL 6.59375 51.859375 \r\nL 14.5 51.859375 \r\nL 14.5 44.484375 \r\nQ 20.21875 53.03125 31 53.03125 \r\nQ 35.6875 53.03125 39.625 51.34375 \r\nQ 43.5625 49.65625 45.515625 46.921875 \r\nQ 47.46875 44.1875 48.25 40.4375 \r\nQ 48.734375 37.984375 48.734375 31.890625 \r\nL 48.734375 0 \r\nL 39.9375 0 \r\nL 39.9375 31.546875 \r\nQ 39.9375 36.921875 38.90625 39.578125 \r\nQ 37.890625 42.234375 35.28125 43.8125 \r\nQ 32.671875 45.40625 29.15625 45.40625 \r\nQ 23.53125 45.40625 19.453125 41.84375 \r\nQ 15.375 38.28125 15.375 28.328125 \r\nL 15.375 0 \r\nz\r\n\" id=\"ArialMT-110\"/>\r\n      <path d=\"M 4.984375 -4.296875 \r\nL 13.53125 -5.5625 \r\nQ 14.0625 -9.515625 16.5 -11.328125 \r\nQ 19.78125 -13.765625 25.4375 -13.765625 \r\nQ 31.546875 -13.765625 34.859375 -11.328125 \r\nQ 38.1875 -8.890625 39.359375 -4.5 \r\nQ 40.046875 -1.8125 39.984375 6.78125 \r\nQ 34.234375 0 25.640625 0 \r\nQ 14.9375 0 9.078125 7.71875 \r\nQ 3.21875 15.4375 3.21875 26.21875 \r\nQ 3.21875 33.640625 5.90625 39.90625 \r\nQ 8.59375 46.1875 13.6875 49.609375 \r\nQ 18.796875 53.03125 25.6875 53.03125 \r\nQ 34.859375 53.03125 40.828125 45.609375 \r\nL 40.828125 51.859375 \r\nL 48.921875 51.859375 \r\nL 48.921875 7.03125 \r\nQ 48.921875 -5.078125 46.453125 -10.125 \r\nQ 44 -15.1875 38.640625 -18.109375 \r\nQ 33.296875 -21.046875 25.484375 -21.046875 \r\nQ 16.21875 -21.046875 10.5 -16.875 \r\nQ 4.78125 -12.703125 4.984375 -4.296875 \r\nz\r\nM 12.25 26.859375 \r\nQ 12.25 16.65625 16.296875 11.96875 \r\nQ 20.359375 7.28125 26.46875 7.28125 \r\nQ 32.515625 7.28125 36.609375 11.9375 \r\nQ 40.71875 16.609375 40.71875 26.5625 \r\nQ 40.71875 36.078125 36.5 40.90625 \r\nQ 32.28125 45.75 26.3125 45.75 \r\nQ 20.453125 45.75 16.34375 40.984375 \r\nQ 12.25 36.234375 12.25 26.859375 \r\nz\r\n\" id=\"ArialMT-103\"/>\r\n      <path d=\"M 6.59375 0 \r\nL 6.59375 71.578125 \r\nL 15.375 71.578125 \r\nL 15.375 45.90625 \r\nQ 21.53125 53.03125 30.90625 53.03125 \r\nQ 36.671875 53.03125 40.921875 50.75 \r\nQ 45.171875 48.484375 47 44.484375 \r\nQ 48.828125 40.484375 48.828125 32.859375 \r\nL 48.828125 0 \r\nL 40.046875 0 \r\nL 40.046875 32.859375 \r\nQ 40.046875 39.453125 37.1875 42.453125 \r\nQ 34.328125 45.453125 29.109375 45.453125 \r\nQ 25.203125 45.453125 21.75 43.421875 \r\nQ 18.3125 41.40625 16.84375 37.9375 \r\nQ 15.375 34.46875 15.375 28.375 \r\nL 15.375 0 \r\nz\r\n\" id=\"ArialMT-104\"/>\r\n      <path d=\"M 8.6875 0 \r\nL 8.6875 45.015625 \r\nL 0.921875 45.015625 \r\nL 0.921875 51.859375 \r\nL 8.6875 51.859375 \r\nL 8.6875 57.375 \r\nQ 8.6875 62.59375 9.625 65.140625 \r\nQ 10.890625 68.5625 14.078125 70.671875 \r\nQ 17.28125 72.796875 23.046875 72.796875 \r\nQ 26.765625 72.796875 31.25 71.921875 \r\nL 29.9375 64.265625 \r\nQ 27.203125 64.75 24.75 64.75 \r\nQ 20.75 64.75 19.09375 63.03125 \r\nQ 17.4375 61.328125 17.4375 56.640625 \r\nL 17.4375 51.859375 \r\nL 27.546875 51.859375 \r\nL 27.546875 45.015625 \r\nL 17.4375 45.015625 \r\nL 17.4375 0 \r\nz\r\n\" id=\"ArialMT-102\"/>\r\n      <path d=\"M 6.59375 0 \r\nL 6.59375 51.859375 \r\nL 14.453125 51.859375 \r\nL 14.453125 44.578125 \r\nQ 16.890625 48.390625 20.9375 50.703125 \r\nQ 25 53.03125 30.171875 53.03125 \r\nQ 35.9375 53.03125 39.625 50.640625 \r\nQ 43.3125 48.25 44.828125 43.953125 \r\nQ 50.984375 53.03125 60.84375 53.03125 \r\nQ 68.5625 53.03125 72.703125 48.75 \r\nQ 76.859375 44.484375 76.859375 35.59375 \r\nL 76.859375 0 \r\nL 68.109375 0 \r\nL 68.109375 32.671875 \r\nQ 68.109375 37.9375 67.25 40.25 \r\nQ 66.40625 42.578125 64.15625 43.984375 \r\nQ 61.921875 45.40625 58.890625 45.40625 \r\nQ 53.421875 45.40625 49.796875 41.765625 \r\nQ 46.1875 38.140625 46.1875 30.125 \r\nL 46.1875 0 \r\nL 37.40625 0 \r\nL 37.40625 33.6875 \r\nQ 37.40625 39.546875 35.25 42.46875 \r\nQ 33.109375 45.40625 28.21875 45.40625 \r\nQ 24.515625 45.40625 21.359375 43.453125 \r\nQ 18.21875 41.5 16.796875 37.734375 \r\nQ 15.375 33.984375 15.375 26.90625 \r\nL 15.375 0 \r\nz\r\n\" id=\"ArialMT-109\"/>\r\n      <path d=\"M 40.234375 0 \r\nL 40.234375 6.546875 \r\nQ 35.296875 -1.171875 25.734375 -1.171875 \r\nQ 19.53125 -1.171875 14.328125 2.25 \r\nQ 9.125 5.671875 6.265625 11.796875 \r\nQ 3.421875 17.921875 3.421875 25.875 \r\nQ 3.421875 33.640625 6 39.96875 \r\nQ 8.59375 46.296875 13.765625 49.65625 \r\nQ 18.953125 53.03125 25.34375 53.03125 \r\nQ 30.03125 53.03125 33.6875 51.046875 \r\nQ 37.359375 49.078125 39.65625 45.90625 \r\nL 39.65625 71.578125 \r\nL 48.390625 71.578125 \r\nL 48.390625 0 \r\nz\r\nM 12.453125 25.875 \r\nQ 12.453125 15.921875 16.640625 10.984375 \r\nQ 20.84375 6.0625 26.5625 6.0625 \r\nQ 32.328125 6.0625 36.34375 10.765625 \r\nQ 40.375 15.484375 40.375 25.140625 \r\nQ 40.375 35.796875 36.265625 40.765625 \r\nQ 32.171875 45.75 26.171875 45.75 \r\nQ 20.3125 45.75 16.375 40.96875 \r\nQ 12.453125 36.1875 12.453125 25.875 \r\nz\r\n\" id=\"ArialMT-100\"/>\r\n     </defs>\r\n     <use xlink:href=\"#ArialMT-82\"/>\r\n     <use x=\"72.216797\" xlink:href=\"#ArialMT-101\"/>\r\n     <use x=\"127.832031\" xlink:href=\"#ArialMT-99\"/>\r\n     <use x=\"177.832031\" xlink:href=\"#ArialMT-101\"/>\r\n     <use x=\"233.447266\" xlink:href=\"#ArialMT-105\"/>\r\n     <use x=\"255.664062\" xlink:href=\"#ArialMT-118\"/>\r\n     <use x=\"305.664062\" xlink:href=\"#ArialMT-101\"/>\r\n     <use x=\"361.279297\" xlink:href=\"#ArialMT-114\"/>\r\n     <use x=\"394.580078\" xlink:href=\"#ArialMT-32\"/>\r\n     <use x=\"422.363281\" xlink:href=\"#ArialMT-111\"/>\r\n     <use x=\"477.978516\" xlink:href=\"#ArialMT-112\"/>\r\n     <use x=\"533.59375\" xlink:href=\"#ArialMT-101\"/>\r\n     <use x=\"589.208984\" xlink:href=\"#ArialMT-114\"/>\r\n     <use x=\"622.509766\" xlink:href=\"#ArialMT-97\"/>\r\n     <use x=\"678.125\" xlink:href=\"#ArialMT-116\"/>\r\n     <use x=\"705.908203\" xlink:href=\"#ArialMT-105\"/>\r\n     <use x=\"728.125\" xlink:href=\"#ArialMT-110\"/>\r\n     <use x=\"783.740234\" xlink:href=\"#ArialMT-103\"/>\r\n     <use x=\"839.355469\" xlink:href=\"#ArialMT-32\"/>\r\n     <use x=\"867.138672\" xlink:href=\"#ArialMT-99\"/>\r\n     <use x=\"917.138672\" xlink:href=\"#ArialMT-104\"/>\r\n     <use x=\"972.753906\" xlink:href=\"#ArialMT-97\"/>\r\n     <use x=\"1028.369141\" xlink:href=\"#ArialMT-114\"/>\r\n     <use x=\"1061.669922\" xlink:href=\"#ArialMT-97\"/>\r\n     <use x=\"1117.285156\" xlink:href=\"#ArialMT-99\"/>\r\n     <use x=\"1167.285156\" xlink:href=\"#ArialMT-116\"/>\r\n     <use x=\"1195.068359\" xlink:href=\"#ArialMT-101\"/>\r\n     <use x=\"1250.683594\" xlink:href=\"#ArialMT-114\"/>\r\n     <use x=\"1283.984375\" xlink:href=\"#ArialMT-105\"/>\r\n     <use x=\"1306.201172\" xlink:href=\"#ArialMT-115\"/>\r\n     <use x=\"1356.201172\" xlink:href=\"#ArialMT-116\"/>\r\n     <use x=\"1383.984375\" xlink:href=\"#ArialMT-105\"/>\r\n     <use x=\"1406.201172\" xlink:href=\"#ArialMT-99\"/>\r\n     <use x=\"1456.201172\" xlink:href=\"#ArialMT-32\"/>\r\n     <use x=\"1483.984375\" xlink:href=\"#ArialMT-102\"/>\r\n     <use x=\"1511.767578\" xlink:href=\"#ArialMT-111\"/>\r\n     <use x=\"1567.382812\" xlink:href=\"#ArialMT-114\"/>\r\n     <use x=\"1600.683594\" xlink:href=\"#ArialMT-32\"/>\r\n     <use x=\"1628.466797\" xlink:href=\"#ArialMT-102\"/>\r\n     <use x=\"1656.25\" xlink:href=\"#ArialMT-105\"/>\r\n     <use x=\"1678.466797\" xlink:href=\"#ArialMT-114\"/>\r\n     <use x=\"1711.767578\" xlink:href=\"#ArialMT-115\"/>\r\n     <use x=\"1761.767578\" xlink:href=\"#ArialMT-116\"/>\r\n     <use x=\"1789.550781\" xlink:href=\"#ArialMT-32\"/>\r\n     <use x=\"1817.333984\" xlink:href=\"#ArialMT-109\"/>\r\n     <use x=\"1900.634766\" xlink:href=\"#ArialMT-111\"/>\r\n     <use x=\"1956.25\" xlink:href=\"#ArialMT-100\"/>\r\n     <use x=\"2011.865234\" xlink:href=\"#ArialMT-101\"/>\r\n     <use x=\"2067.480469\" xlink:href=\"#ArialMT-108\"/>\r\n    </g>\r\n   </g>\r\n   <g id=\"legend_1\">\r\n    <g id=\"patch_7\">\r\n     <path d=\"M 379.412031 342.595625 \r\nL 541.464375 342.595625 \r\nQ 543.664375 342.595625 543.664375 340.395625 \r\nL 543.664375 325.665937 \r\nQ 543.664375 323.465937 541.464375 323.465937 \r\nL 379.412031 323.465937 \r\nQ 377.212031 323.465937 377.212031 325.665937 \r\nL 377.212031 340.395625 \r\nQ 377.212031 342.595625 379.412031 342.595625 \r\nz\r\n\" style=\"fill:#eaeaf2;opacity:0.8;stroke:#cccccc;stroke-linejoin:miter;\"/>\r\n    </g>\r\n    <g id=\"line2d_15\">\r\n     <path d=\"M 381.612031 332.030469 \r\nL 403.612031 332.030469 \r\n\" style=\"fill:none;stroke:#4c72b0;stroke-linecap:round;stroke-width:1.5;\"/>\r\n    </g>\r\n    <g id=\"line2d_16\"/>\r\n    <g id=\"text_16\">\r\n     <!-- ROC curve (area = 0.854) -->\r\n     <g style=\"fill:#262626;\" transform=\"translate(412.412031 335.880469)scale(0.11 -0.11)\">\r\n      <defs>\r\n       <path d=\"M 4.828125 34.859375 \r\nQ 4.828125 52.6875 14.390625 62.765625 \r\nQ 23.96875 72.859375 39.109375 72.859375 \r\nQ 49.03125 72.859375 56.984375 68.109375 \r\nQ 64.9375 63.375 69.109375 54.90625 \r\nQ 73.296875 46.4375 73.296875 35.6875 \r\nQ 73.296875 24.8125 68.890625 16.21875 \r\nQ 64.5 7.625 56.4375 3.203125 \r\nQ 48.390625 -1.21875 39.0625 -1.21875 \r\nQ 28.953125 -1.21875 20.984375 3.65625 \r\nQ 13.03125 8.546875 8.921875 16.984375 \r\nQ 4.828125 25.4375 4.828125 34.859375 \r\nz\r\nM 14.59375 34.71875 \r\nQ 14.59375 21.78125 21.546875 14.328125 \r\nQ 28.515625 6.890625 39.015625 6.890625 \r\nQ 49.703125 6.890625 56.609375 14.40625 \r\nQ 63.53125 21.921875 63.53125 35.75 \r\nQ 63.53125 44.484375 60.578125 51 \r\nQ 57.625 57.515625 51.921875 61.109375 \r\nQ 46.234375 64.703125 39.15625 64.703125 \r\nQ 29.109375 64.703125 21.84375 57.78125 \r\nQ 14.59375 50.875 14.59375 34.71875 \r\nz\r\n\" id=\"ArialMT-79\"/>\r\n       <path d=\"M 58.796875 25.09375 \r\nL 68.265625 22.703125 \r\nQ 65.28125 11.03125 57.546875 4.90625 \r\nQ 49.8125 -1.21875 38.625 -1.21875 \r\nQ 27.046875 -1.21875 19.796875 3.484375 \r\nQ 12.546875 8.203125 8.765625 17.140625 \r\nQ 4.984375 26.078125 4.984375 36.328125 \r\nQ 4.984375 47.515625 9.25 55.828125 \r\nQ 13.53125 64.15625 21.40625 68.46875 \r\nQ 29.296875 72.796875 38.765625 72.796875 \r\nQ 49.515625 72.796875 56.828125 67.328125 \r\nQ 64.15625 61.859375 67.046875 51.953125 \r\nL 57.71875 49.75 \r\nQ 55.21875 57.5625 50.484375 61.125 \r\nQ 45.75 64.703125 38.578125 64.703125 \r\nQ 30.328125 64.703125 24.78125 60.734375 \r\nQ 19.234375 56.78125 16.984375 50.109375 \r\nQ 14.75 43.453125 14.75 36.375 \r\nQ 14.75 27.25 17.40625 20.4375 \r\nQ 20.0625 13.625 25.671875 10.25 \r\nQ 31.296875 6.890625 37.84375 6.890625 \r\nQ 45.796875 6.890625 51.3125 11.46875 \r\nQ 56.84375 16.0625 58.796875 25.09375 \r\nz\r\n\" id=\"ArialMT-67\"/>\r\n       <path d=\"M 23.390625 -21.046875 \r\nQ 16.109375 -11.859375 11.078125 0.4375 \r\nQ 6.0625 12.75 6.0625 25.921875 \r\nQ 6.0625 37.546875 9.8125 48.1875 \r\nQ 14.203125 60.546875 23.390625 72.796875 \r\nL 29.6875 72.796875 \r\nQ 23.78125 62.640625 21.875 58.296875 \r\nQ 18.890625 51.5625 17.1875 44.234375 \r\nQ 15.09375 35.109375 15.09375 25.875 \r\nQ 15.09375 2.390625 29.6875 -21.046875 \r\nz\r\n\" id=\"ArialMT-40\"/>\r\n       <path d=\"M 52.828125 42.09375 \r\nL 5.5625 42.09375 \r\nL 5.5625 50.296875 \r\nL 52.828125 50.296875 \r\nz\r\nM 52.828125 20.359375 \r\nL 5.5625 20.359375 \r\nL 5.5625 28.5625 \r\nL 52.828125 28.5625 \r\nz\r\n\" id=\"ArialMT-61\"/>\r\n       <path d=\"M 4.15625 18.75 \r\nL 13.375 19.53125 \r\nQ 14.40625 12.796875 18.140625 9.390625 \r\nQ 21.875 6 27.15625 6 \r\nQ 33.5 6 37.890625 10.78125 \r\nQ 42.28125 15.578125 42.28125 23.484375 \r\nQ 42.28125 31 38.0625 35.34375 \r\nQ 33.84375 39.703125 27 39.703125 \r\nQ 22.75 39.703125 19.328125 37.765625 \r\nQ 15.921875 35.84375 13.96875 32.765625 \r\nL 5.71875 33.84375 \r\nL 12.640625 70.609375 \r\nL 48.25 70.609375 \r\nL 48.25 62.203125 \r\nL 19.671875 62.203125 \r\nL 15.828125 42.96875 \r\nQ 22.265625 47.46875 29.34375 47.46875 \r\nQ 38.71875 47.46875 45.15625 40.96875 \r\nQ 51.609375 34.46875 51.609375 24.265625 \r\nQ 51.609375 14.546875 45.953125 7.46875 \r\nQ 39.0625 -1.21875 27.15625 -1.21875 \r\nQ 17.390625 -1.21875 11.203125 4.25 \r\nQ 5.03125 9.71875 4.15625 18.75 \r\nz\r\n\" id=\"ArialMT-53\"/>\r\n       <path d=\"M 12.359375 -21.046875 \r\nL 6.0625 -21.046875 \r\nQ 20.65625 2.390625 20.65625 25.875 \r\nQ 20.65625 35.0625 18.5625 44.09375 \r\nQ 16.890625 51.421875 13.921875 58.15625 \r\nQ 12.015625 62.546875 6.0625 72.796875 \r\nL 12.359375 72.796875 \r\nQ 21.53125 60.546875 25.921875 48.1875 \r\nQ 29.6875 37.546875 29.6875 25.921875 \r\nQ 29.6875 12.75 24.625 0.4375 \r\nQ 19.578125 -11.859375 12.359375 -21.046875 \r\nz\r\n\" id=\"ArialMT-41\"/>\r\n      </defs>\r\n      <use xlink:href=\"#ArialMT-82\"/>\r\n      <use x=\"72.216797\" xlink:href=\"#ArialMT-79\"/>\r\n      <use x=\"150\" xlink:href=\"#ArialMT-67\"/>\r\n      <use x=\"222.216797\" xlink:href=\"#ArialMT-32\"/>\r\n      <use x=\"250\" xlink:href=\"#ArialMT-99\"/>\r\n      <use x=\"300\" xlink:href=\"#ArialMT-117\"/>\r\n      <use x=\"355.615234\" xlink:href=\"#ArialMT-114\"/>\r\n      <use x=\"388.916016\" xlink:href=\"#ArialMT-118\"/>\r\n      <use x=\"438.916016\" xlink:href=\"#ArialMT-101\"/>\r\n      <use x=\"494.53125\" xlink:href=\"#ArialMT-32\"/>\r\n      <use x=\"522.314453\" xlink:href=\"#ArialMT-40\"/>\r\n      <use x=\"555.615234\" xlink:href=\"#ArialMT-97\"/>\r\n      <use x=\"611.230469\" xlink:href=\"#ArialMT-114\"/>\r\n      <use x=\"644.53125\" xlink:href=\"#ArialMT-101\"/>\r\n      <use x=\"700.146484\" xlink:href=\"#ArialMT-97\"/>\r\n      <use x=\"755.761719\" xlink:href=\"#ArialMT-32\"/>\r\n      <use x=\"783.544922\" xlink:href=\"#ArialMT-61\"/>\r\n      <use x=\"841.943359\" xlink:href=\"#ArialMT-32\"/>\r\n      <use x=\"869.726562\" xlink:href=\"#ArialMT-48\"/>\r\n      <use x=\"925.341797\" xlink:href=\"#ArialMT-46\"/>\r\n      <use x=\"953.125\" xlink:href=\"#ArialMT-56\"/>\r\n      <use x=\"1008.740234\" xlink:href=\"#ArialMT-53\"/>\r\n      <use x=\"1064.355469\" xlink:href=\"#ArialMT-52\"/>\r\n      <use x=\"1119.970703\" xlink:href=\"#ArialMT-41\"/>\r\n     </g>\r\n    </g>\r\n   </g>\r\n  </g>\r\n </g>\r\n <defs>\r\n  <clipPath id=\"p563de48f97\">\r\n   <rect height=\"326.16\" width=\"502.2\" x=\"46.964375\" y=\"21.935625\"/>\r\n  </clipPath>\r\n </defs>\r\n</svg>\r\n",
      "image/png": "[encoded data removed]"
     },
     "metadata": {}
    }
   ],
   "source": [
    "fpr, tpr, thresholds = roc_curve(y_test, y_pred[:,1])\n",
    "roc_auc= auc(fpr, tpr)\n",
    "plt.figure()\n",
    "plt.plot(fpr, tpr, label='ROC curve (area = %0.3f)' % (roc_auc))\n",
    "plt.plot([0, 1], [0, 1], 'k--')\n",
    "plt.xlim([0.0, 1.0])\n",
    "plt.ylim([0.0, 1.05])\n",
    "plt.xlabel('False Positive Rate')\n",
    "plt.ylabel('True Positive Rate')\n",
    "plt.title('Receiver operating characteristic for first model')\n",
    "plt.legend(loc=\"lower right\")\n",
    "plt.show()"
   ]
  },
  {
   "cell_type": "code",
   "execution_count": 85,
   "metadata": {},
   "outputs": [
    {
     "output_type": "display_data",
     "data": {
      "text/plain": "<Figure size 648x432 with 1 Axes>",
      "image/svg+xml": "<?xml version=\"1.0\" encoding=\"utf-8\" standalone=\"no\"?>\r\n<!DOCTYPE svg PUBLIC \"-//W3C//DTD SVG 1.1//EN\"\r\n  \"http://www.w3.org/Graphics/SVG/1.1/DTD/svg11.dtd\">\r\n<!-- Created with matplotlib (https://matplotlib.org/) -->\r\n<svg height=\"389.829844pt\" version=\"1.1\" viewBox=\"0 0 564.009375 389.829844\" width=\"564.009375pt\" xmlns=\"http://www.w3.org/2000/svg\" xmlns:xlink=\"http://www.w3.org/1999/xlink\">\r\n <metadata>\r\n  <rdf:RDF xmlns:cc=\"http://creativecommons.org/ns#\" xmlns:dc=\"http://purl.org/dc/elements/1.1/\" xmlns:rdf=\"http://www.w3.org/1999/02/22-rdf-syntax-ns#\">\r\n   <cc:Work>\r\n    <dc:type rdf:resource=\"http://purl.org/dc/dcmitype/StillImage\"/>\r\n    <dc:date>2021-02-06T20:40:22.134043</dc:date>\r\n    <dc:format>image/svg+xml</dc:format>\r\n    <dc:creator>\r\n     <cc:Agent>\r\n      <dc:title>Matplotlib v3.3.3, https://matplotlib.org/</dc:title>\r\n     </cc:Agent>\r\n    </dc:creator>\r\n   </cc:Work>\r\n  </rdf:RDF>\r\n </metadata>\r\n <defs>\r\n  <style type=\"text/css\">*{stroke-linecap:butt;stroke-linejoin:round;}</style>\r\n </defs>\r\n <g id=\"figure_1\">\r\n  <g id=\"patch_1\">\r\n   <path d=\"M 0 389.829844 \r\nL 564.009375 389.829844 \r\nL 564.009375 0 \r\nL 0 0 \r\nz\r\n\" style=\"fill:#ffffff;\"/>\r\n  </g>\r\n  <g id=\"axes_1\">\r\n   <g id=\"patch_2\">\r\n    <path d=\"M 46.964375 348.095625 \r\nL 549.164375 348.095625 \r\nL 549.164375 21.935625 \r\nL 46.964375 21.935625 \r\nz\r\n\" style=\"fill:#eaeaf2;\"/>\r\n   </g>\r\n   <g id=\"matplotlib.axis_1\">\r\n    <g id=\"xtick_1\">\r\n     <g id=\"line2d_1\">\r\n      <path clip-path=\"url(#pffabe42d49)\" d=\"M 46.964375 348.095625 \r\nL 46.964375 21.935625 \r\n\" style=\"fill:none;stroke:#ffffff;stroke-linecap:round;\"/>\r\n     </g>\r\n     <g id=\"text_1\">\r\n      <!-- 0.0 -->\r\n      <g style=\"fill:#262626;\" transform=\"translate(39.319375 365.469219)scale(0.11 -0.11)\">\r\n       <defs>\r\n        <path d=\"M 4.15625 35.296875 \r\nQ 4.15625 48 6.765625 55.734375 \r\nQ 9.375 63.484375 14.515625 67.671875 \r\nQ 19.671875 71.875 27.484375 71.875 \r\nQ 33.25 71.875 37.59375 69.546875 \r\nQ 41.9375 67.234375 44.765625 62.859375 \r\nQ 47.609375 58.5 49.21875 52.21875 \r\nQ 50.828125 45.953125 50.828125 35.296875 \r\nQ 50.828125 22.703125 48.234375 14.96875 \r\nQ 45.65625 7.234375 40.5 3 \r\nQ 35.359375 -1.21875 27.484375 -1.21875 \r\nQ 17.140625 -1.21875 11.234375 6.203125 \r\nQ 4.15625 15.140625 4.15625 35.296875 \r\nz\r\nM 13.1875 35.296875 \r\nQ 13.1875 17.671875 17.3125 11.828125 \r\nQ 21.4375 6 27.484375 6 \r\nQ 33.546875 6 37.671875 11.859375 \r\nQ 41.796875 17.71875 41.796875 35.296875 \r\nQ 41.796875 52.984375 37.671875 58.78125 \r\nQ 33.546875 64.59375 27.390625 64.59375 \r\nQ 21.34375 64.59375 17.71875 59.46875 \r\nQ 13.1875 52.9375 13.1875 35.296875 \r\nz\r\n\" id=\"ArialMT-48\"/>\r\n        <path d=\"M 9.078125 0 \r\nL 9.078125 10.015625 \r\nL 19.09375 10.015625 \r\nL 19.09375 0 \r\nz\r\n\" id=\"ArialMT-46\"/>\r\n       </defs>\r\n       <use xlink:href=\"#ArialMT-48\"/>\r\n       <use x=\"55.615234\" xlink:href=\"#ArialMT-46\"/>\r\n       <use x=\"83.398438\" xlink:href=\"#ArialMT-48\"/>\r\n      </g>\r\n     </g>\r\n    </g>\r\n    <g id=\"xtick_2\">\r\n     <g id=\"line2d_2\">\r\n      <path clip-path=\"url(#pffabe42d49)\" d=\"M 147.404375 348.095625 \r\nL 147.404375 21.935625 \r\n\" style=\"fill:none;stroke:#ffffff;stroke-linecap:round;\"/>\r\n     </g>\r\n     <g id=\"text_2\">\r\n      <!-- 0.2 -->\r\n      <g style=\"fill:#262626;\" transform=\"translate(139.759375 365.469219)scale(0.11 -0.11)\">\r\n       <defs>\r\n        <path d=\"M 50.34375 8.453125 \r\nL 50.34375 0 \r\nL 3.03125 0 \r\nQ 2.9375 3.171875 4.046875 6.109375 \r\nQ 5.859375 10.9375 9.828125 15.625 \r\nQ 13.8125 20.3125 21.34375 26.46875 \r\nQ 33.015625 36.03125 37.109375 41.625 \r\nQ 41.21875 47.21875 41.21875 52.203125 \r\nQ 41.21875 57.421875 37.46875 61 \r\nQ 33.734375 64.59375 27.734375 64.59375 \r\nQ 21.390625 64.59375 17.578125 60.78125 \r\nQ 13.765625 56.984375 13.71875 50.25 \r\nL 4.6875 51.171875 \r\nQ 5.609375 61.28125 11.65625 66.578125 \r\nQ 17.71875 71.875 27.9375 71.875 \r\nQ 38.234375 71.875 44.234375 66.15625 \r\nQ 50.25 60.453125 50.25 52 \r\nQ 50.25 47.703125 48.484375 43.546875 \r\nQ 46.734375 39.40625 42.65625 34.8125 \r\nQ 38.578125 30.21875 29.109375 22.21875 \r\nQ 21.1875 15.578125 18.9375 13.203125 \r\nQ 16.703125 10.84375 15.234375 8.453125 \r\nz\r\n\" id=\"ArialMT-50\"/>\r\n       </defs>\r\n       <use xlink:href=\"#ArialMT-48\"/>\r\n       <use x=\"55.615234\" xlink:href=\"#ArialMT-46\"/>\r\n       <use x=\"83.398438\" xlink:href=\"#ArialMT-50\"/>\r\n      </g>\r\n     </g>\r\n    </g>\r\n    <g id=\"xtick_3\">\r\n     <g id=\"line2d_3\">\r\n      <path clip-path=\"url(#pffabe42d49)\" d=\"M 247.844375 348.095625 \r\nL 247.844375 21.935625 \r\n\" style=\"fill:none;stroke:#ffffff;stroke-linecap:round;\"/>\r\n     </g>\r\n     <g id=\"text_3\">\r\n      <!-- 0.4 -->\r\n      <g style=\"fill:#262626;\" transform=\"translate(240.199375 365.469219)scale(0.11 -0.11)\">\r\n       <defs>\r\n        <path d=\"M 32.328125 0 \r\nL 32.328125 17.140625 \r\nL 1.265625 17.140625 \r\nL 1.265625 25.203125 \r\nL 33.9375 71.578125 \r\nL 41.109375 71.578125 \r\nL 41.109375 25.203125 \r\nL 50.78125 25.203125 \r\nL 50.78125 17.140625 \r\nL 41.109375 17.140625 \r\nL 41.109375 0 \r\nz\r\nM 32.328125 25.203125 \r\nL 32.328125 57.46875 \r\nL 9.90625 25.203125 \r\nz\r\n\" id=\"ArialMT-52\"/>\r\n       </defs>\r\n       <use xlink:href=\"#ArialMT-48\"/>\r\n       <use x=\"55.615234\" xlink:href=\"#ArialMT-46\"/>\r\n       <use x=\"83.398438\" xlink:href=\"#ArialMT-52\"/>\r\n      </g>\r\n     </g>\r\n    </g>\r\n    <g id=\"xtick_4\">\r\n     <g id=\"line2d_4\">\r\n      <path clip-path=\"url(#pffabe42d49)\" d=\"M 348.284375 348.095625 \r\nL 348.284375 21.935625 \r\n\" style=\"fill:none;stroke:#ffffff;stroke-linecap:round;\"/>\r\n     </g>\r\n     <g id=\"text_4\">\r\n      <!-- 0.6 -->\r\n      <g style=\"fill:#262626;\" transform=\"translate(340.639375 365.469219)scale(0.11 -0.11)\">\r\n       <defs>\r\n        <path d=\"M 49.75 54.046875 \r\nL 41.015625 53.375 \r\nQ 39.84375 58.546875 37.703125 60.890625 \r\nQ 34.125 64.65625 28.90625 64.65625 \r\nQ 24.703125 64.65625 21.53125 62.3125 \r\nQ 17.390625 59.28125 14.984375 53.46875 \r\nQ 12.59375 47.65625 12.5 36.921875 \r\nQ 15.671875 41.75 20.265625 44.09375 \r\nQ 24.859375 46.4375 29.890625 46.4375 \r\nQ 38.671875 46.4375 44.84375 39.96875 \r\nQ 51.03125 33.5 51.03125 23.25 \r\nQ 51.03125 16.5 48.125 10.71875 \r\nQ 45.21875 4.9375 40.140625 1.859375 \r\nQ 35.0625 -1.21875 28.609375 -1.21875 \r\nQ 17.625 -1.21875 10.6875 6.859375 \r\nQ 3.765625 14.9375 3.765625 33.5 \r\nQ 3.765625 54.25 11.421875 63.671875 \r\nQ 18.109375 71.875 29.4375 71.875 \r\nQ 37.890625 71.875 43.28125 67.140625 \r\nQ 48.6875 62.40625 49.75 54.046875 \r\nz\r\nM 13.875 23.1875 \r\nQ 13.875 18.65625 15.796875 14.5 \r\nQ 17.71875 10.359375 21.1875 8.171875 \r\nQ 24.65625 6 28.46875 6 \r\nQ 34.03125 6 38.03125 10.484375 \r\nQ 42.046875 14.984375 42.046875 22.703125 \r\nQ 42.046875 30.125 38.078125 34.390625 \r\nQ 34.125 38.671875 28.125 38.671875 \r\nQ 22.171875 38.671875 18.015625 34.390625 \r\nQ 13.875 30.125 13.875 23.1875 \r\nz\r\n\" id=\"ArialMT-54\"/>\r\n       </defs>\r\n       <use xlink:href=\"#ArialMT-48\"/>\r\n       <use x=\"55.615234\" xlink:href=\"#ArialMT-46\"/>\r\n       <use x=\"83.398438\" xlink:href=\"#ArialMT-54\"/>\r\n      </g>\r\n     </g>\r\n    </g>\r\n    <g id=\"xtick_5\">\r\n     <g id=\"line2d_5\">\r\n      <path clip-path=\"url(#pffabe42d49)\" d=\"M 448.724375 348.095625 \r\nL 448.724375 21.935625 \r\n\" style=\"fill:none;stroke:#ffffff;stroke-linecap:round;\"/>\r\n     </g>\r\n     <g id=\"text_5\">\r\n      <!-- 0.8 -->\r\n      <g style=\"fill:#262626;\" transform=\"translate(441.079375 365.469219)scale(0.11 -0.11)\">\r\n       <defs>\r\n        <path d=\"M 17.671875 38.8125 \r\nQ 12.203125 40.828125 9.5625 44.53125 \r\nQ 6.9375 48.25 6.9375 53.421875 \r\nQ 6.9375 61.234375 12.546875 66.546875 \r\nQ 18.171875 71.875 27.484375 71.875 \r\nQ 36.859375 71.875 42.578125 66.421875 \r\nQ 48.296875 60.984375 48.296875 53.171875 \r\nQ 48.296875 48.1875 45.671875 44.5 \r\nQ 43.0625 40.828125 37.75 38.8125 \r\nQ 44.34375 36.671875 47.78125 31.875 \r\nQ 51.21875 27.09375 51.21875 20.453125 \r\nQ 51.21875 11.28125 44.71875 5.03125 \r\nQ 38.234375 -1.21875 27.640625 -1.21875 \r\nQ 17.046875 -1.21875 10.546875 5.046875 \r\nQ 4.046875 11.328125 4.046875 20.703125 \r\nQ 4.046875 27.6875 7.59375 32.390625 \r\nQ 11.140625 37.109375 17.671875 38.8125 \r\nz\r\nM 15.921875 53.71875 \r\nQ 15.921875 48.640625 19.1875 45.40625 \r\nQ 22.46875 42.1875 27.6875 42.1875 \r\nQ 32.765625 42.1875 36.015625 45.375 \r\nQ 39.265625 48.578125 39.265625 53.21875 \r\nQ 39.265625 58.0625 35.90625 61.359375 \r\nQ 32.5625 64.65625 27.59375 64.65625 \r\nQ 22.5625 64.65625 19.234375 61.421875 \r\nQ 15.921875 58.203125 15.921875 53.71875 \r\nz\r\nM 13.09375 20.65625 \r\nQ 13.09375 16.890625 14.875 13.375 \r\nQ 16.65625 9.859375 20.171875 7.921875 \r\nQ 23.6875 6 27.734375 6 \r\nQ 34.03125 6 38.125 10.046875 \r\nQ 42.234375 14.109375 42.234375 20.359375 \r\nQ 42.234375 26.703125 38.015625 30.859375 \r\nQ 33.796875 35.015625 27.4375 35.015625 \r\nQ 21.234375 35.015625 17.15625 30.90625 \r\nQ 13.09375 26.8125 13.09375 20.65625 \r\nz\r\n\" id=\"ArialMT-56\"/>\r\n       </defs>\r\n       <use xlink:href=\"#ArialMT-48\"/>\r\n       <use x=\"55.615234\" xlink:href=\"#ArialMT-46\"/>\r\n       <use x=\"83.398438\" xlink:href=\"#ArialMT-56\"/>\r\n      </g>\r\n     </g>\r\n    </g>\r\n    <g id=\"xtick_6\">\r\n     <g id=\"line2d_6\">\r\n      <path clip-path=\"url(#pffabe42d49)\" d=\"M 549.164375 348.095625 \r\nL 549.164375 21.935625 \r\n\" style=\"fill:none;stroke:#ffffff;stroke-linecap:round;\"/>\r\n     </g>\r\n     <g id=\"text_6\">\r\n      <!-- 1.0 -->\r\n      <g style=\"fill:#262626;\" transform=\"translate(541.519375 365.469219)scale(0.11 -0.11)\">\r\n       <defs>\r\n        <path d=\"M 37.25 0 \r\nL 28.46875 0 \r\nL 28.46875 56 \r\nQ 25.296875 52.984375 20.140625 49.953125 \r\nQ 14.984375 46.921875 10.890625 45.40625 \r\nL 10.890625 53.90625 \r\nQ 18.265625 57.375 23.78125 62.296875 \r\nQ 29.296875 67.234375 31.59375 71.875 \r\nL 37.25 71.875 \r\nz\r\n\" id=\"ArialMT-49\"/>\r\n       </defs>\r\n       <use xlink:href=\"#ArialMT-49\"/>\r\n       <use x=\"55.615234\" xlink:href=\"#ArialMT-46\"/>\r\n       <use x=\"83.398438\" xlink:href=\"#ArialMT-48\"/>\r\n      </g>\r\n     </g>\r\n    </g>\r\n    <g id=\"text_7\">\r\n     <!-- False Positive Rate -->\r\n     <g style=\"fill:#262626;\" transform=\"translate(246.378125 380.244844)scale(0.12 -0.12)\">\r\n      <defs>\r\n       <path d=\"M 8.203125 0 \r\nL 8.203125 71.578125 \r\nL 56.5 71.578125 \r\nL 56.5 63.140625 \r\nL 17.671875 63.140625 \r\nL 17.671875 40.96875 \r\nL 51.265625 40.96875 \r\nL 51.265625 32.515625 \r\nL 17.671875 32.515625 \r\nL 17.671875 0 \r\nz\r\n\" id=\"ArialMT-70\"/>\r\n       <path d=\"M 40.4375 6.390625 \r\nQ 35.546875 2.25 31.03125 0.53125 \r\nQ 26.515625 -1.171875 21.34375 -1.171875 \r\nQ 12.796875 -1.171875 8.203125 3 \r\nQ 3.609375 7.171875 3.609375 13.671875 \r\nQ 3.609375 17.484375 5.34375 20.625 \r\nQ 7.078125 23.78125 9.890625 25.6875 \r\nQ 12.703125 27.59375 16.21875 28.5625 \r\nQ 18.796875 29.25 24.03125 29.890625 \r\nQ 34.671875 31.15625 39.703125 32.90625 \r\nQ 39.75 34.71875 39.75 35.203125 \r\nQ 39.75 40.578125 37.25 42.78125 \r\nQ 33.890625 45.75 27.25 45.75 \r\nQ 21.046875 45.75 18.09375 43.578125 \r\nQ 15.140625 41.40625 13.71875 35.890625 \r\nL 5.125 37.0625 \r\nQ 6.296875 42.578125 8.984375 45.96875 \r\nQ 11.671875 49.359375 16.75 51.1875 \r\nQ 21.828125 53.03125 28.515625 53.03125 \r\nQ 35.15625 53.03125 39.296875 51.46875 \r\nQ 43.453125 49.90625 45.40625 47.53125 \r\nQ 47.359375 45.171875 48.140625 41.546875 \r\nQ 48.578125 39.3125 48.578125 33.453125 \r\nL 48.578125 21.734375 \r\nQ 48.578125 9.46875 49.140625 6.21875 \r\nQ 49.703125 2.984375 51.375 0 \r\nL 42.1875 0 \r\nQ 40.828125 2.734375 40.4375 6.390625 \r\nz\r\nM 39.703125 26.03125 \r\nQ 34.90625 24.078125 25.34375 22.703125 \r\nQ 19.921875 21.921875 17.671875 20.9375 \r\nQ 15.4375 19.96875 14.203125 18.09375 \r\nQ 12.984375 16.21875 12.984375 13.921875 \r\nQ 12.984375 10.40625 15.640625 8.0625 \r\nQ 18.3125 5.71875 23.4375 5.71875 \r\nQ 28.515625 5.71875 32.46875 7.9375 \r\nQ 36.421875 10.15625 38.28125 14.015625 \r\nQ 39.703125 17 39.703125 22.796875 \r\nz\r\n\" id=\"ArialMT-97\"/>\r\n       <path d=\"M 6.390625 0 \r\nL 6.390625 71.578125 \r\nL 15.1875 71.578125 \r\nL 15.1875 0 \r\nz\r\n\" id=\"ArialMT-108\"/>\r\n       <path d=\"M 3.078125 15.484375 \r\nL 11.765625 16.84375 \r\nQ 12.5 11.625 15.84375 8.84375 \r\nQ 19.1875 6.0625 25.203125 6.0625 \r\nQ 31.25 6.0625 34.171875 8.515625 \r\nQ 37.109375 10.984375 37.109375 14.3125 \r\nQ 37.109375 17.28125 34.515625 19 \r\nQ 32.71875 20.171875 25.53125 21.96875 \r\nQ 15.875 24.421875 12.140625 26.203125 \r\nQ 8.40625 27.984375 6.46875 31.125 \r\nQ 4.546875 34.28125 4.546875 38.09375 \r\nQ 4.546875 41.546875 6.125 44.5 \r\nQ 7.71875 47.46875 10.453125 49.421875 \r\nQ 12.5 50.921875 16.03125 51.96875 \r\nQ 19.578125 53.03125 23.640625 53.03125 \r\nQ 29.734375 53.03125 34.34375 51.265625 \r\nQ 38.96875 49.515625 41.15625 46.5 \r\nQ 43.359375 43.5 44.1875 38.484375 \r\nL 35.59375 37.3125 \r\nQ 35.015625 41.3125 32.203125 43.546875 \r\nQ 29.390625 45.796875 24.265625 45.796875 \r\nQ 18.21875 45.796875 15.625 43.796875 \r\nQ 13.03125 41.796875 13.03125 39.109375 \r\nQ 13.03125 37.40625 14.109375 36.03125 \r\nQ 15.1875 34.625 17.484375 33.6875 \r\nQ 18.796875 33.203125 25.25 31.453125 \r\nQ 34.578125 28.953125 38.25 27.359375 \r\nQ 41.9375 25.78125 44.03125 22.75 \r\nQ 46.140625 19.734375 46.140625 15.234375 \r\nQ 46.140625 10.84375 43.578125 6.953125 \r\nQ 41.015625 3.078125 36.171875 0.953125 \r\nQ 31.34375 -1.171875 25.25 -1.171875 \r\nQ 15.140625 -1.171875 9.84375 3.03125 \r\nQ 4.546875 7.234375 3.078125 15.484375 \r\nz\r\n\" id=\"ArialMT-115\"/>\r\n       <path d=\"M 42.09375 16.703125 \r\nL 51.171875 15.578125 \r\nQ 49.03125 7.625 43.21875 3.21875 \r\nQ 37.40625 -1.171875 28.375 -1.171875 \r\nQ 17 -1.171875 10.328125 5.828125 \r\nQ 3.65625 12.84375 3.65625 25.484375 \r\nQ 3.65625 38.578125 10.390625 45.796875 \r\nQ 17.140625 53.03125 27.875 53.03125 \r\nQ 38.28125 53.03125 44.875 45.953125 \r\nQ 51.46875 38.875 51.46875 26.03125 \r\nQ 51.46875 25.25 51.421875 23.6875 \r\nL 12.75 23.6875 \r\nQ 13.234375 15.140625 17.578125 10.59375 \r\nQ 21.921875 6.0625 28.421875 6.0625 \r\nQ 33.25 6.0625 36.671875 8.59375 \r\nQ 40.09375 11.140625 42.09375 16.703125 \r\nz\r\nM 13.234375 30.90625 \r\nL 42.1875 30.90625 \r\nQ 41.609375 37.453125 38.875 40.71875 \r\nQ 34.671875 45.796875 27.984375 45.796875 \r\nQ 21.921875 45.796875 17.796875 41.75 \r\nQ 13.671875 37.703125 13.234375 30.90625 \r\nz\r\n\" id=\"ArialMT-101\"/>\r\n       <path id=\"ArialMT-32\"/>\r\n       <path d=\"M 7.71875 0 \r\nL 7.71875 71.578125 \r\nL 34.71875 71.578125 \r\nQ 41.84375 71.578125 45.609375 70.90625 \r\nQ 50.875 70.015625 54.4375 67.546875 \r\nQ 58.015625 65.09375 60.1875 60.640625 \r\nQ 62.359375 56.203125 62.359375 50.875 \r\nQ 62.359375 41.75 56.546875 35.421875 \r\nQ 50.734375 29.109375 35.546875 29.109375 \r\nL 17.1875 29.109375 \r\nL 17.1875 0 \r\nz\r\nM 17.1875 37.546875 \r\nL 35.6875 37.546875 \r\nQ 44.875 37.546875 48.734375 40.96875 \r\nQ 52.59375 44.390625 52.59375 50.59375 \r\nQ 52.59375 55.078125 50.3125 58.265625 \r\nQ 48.046875 61.46875 44.34375 62.5 \r\nQ 41.9375 63.140625 35.5 63.140625 \r\nL 17.1875 63.140625 \r\nz\r\n\" id=\"ArialMT-80\"/>\r\n       <path d=\"M 3.328125 25.921875 \r\nQ 3.328125 40.328125 11.328125 47.265625 \r\nQ 18.015625 53.03125 27.640625 53.03125 \r\nQ 38.328125 53.03125 45.109375 46.015625 \r\nQ 51.90625 39.015625 51.90625 26.65625 \r\nQ 51.90625 16.65625 48.90625 10.90625 \r\nQ 45.90625 5.171875 40.15625 2 \r\nQ 34.421875 -1.171875 27.640625 -1.171875 \r\nQ 16.75 -1.171875 10.03125 5.8125 \r\nQ 3.328125 12.796875 3.328125 25.921875 \r\nz\r\nM 12.359375 25.921875 \r\nQ 12.359375 15.96875 16.703125 11.015625 \r\nQ 21.046875 6.0625 27.640625 6.0625 \r\nQ 34.1875 6.0625 38.53125 11.03125 \r\nQ 42.875 16.015625 42.875 26.21875 \r\nQ 42.875 35.84375 38.5 40.796875 \r\nQ 34.125 45.75 27.640625 45.75 \r\nQ 21.046875 45.75 16.703125 40.8125 \r\nQ 12.359375 35.890625 12.359375 25.921875 \r\nz\r\n\" id=\"ArialMT-111\"/>\r\n       <path d=\"M 6.640625 61.46875 \r\nL 6.640625 71.578125 \r\nL 15.4375 71.578125 \r\nL 15.4375 61.46875 \r\nz\r\nM 6.640625 0 \r\nL 6.640625 51.859375 \r\nL 15.4375 51.859375 \r\nL 15.4375 0 \r\nz\r\n\" id=\"ArialMT-105\"/>\r\n       <path d=\"M 25.78125 7.859375 \r\nL 27.046875 0.09375 \r\nQ 23.34375 -0.6875 20.40625 -0.6875 \r\nQ 15.625 -0.6875 12.984375 0.828125 \r\nQ 10.359375 2.34375 9.28125 4.8125 \r\nQ 8.203125 7.28125 8.203125 15.1875 \r\nL 8.203125 45.015625 \r\nL 1.765625 45.015625 \r\nL 1.765625 51.859375 \r\nL 8.203125 51.859375 \r\nL 8.203125 64.703125 \r\nL 16.9375 69.96875 \r\nL 16.9375 51.859375 \r\nL 25.78125 51.859375 \r\nL 25.78125 45.015625 \r\nL 16.9375 45.015625 \r\nL 16.9375 14.703125 \r\nQ 16.9375 10.9375 17.40625 9.859375 \r\nQ 17.875 8.796875 18.921875 8.15625 \r\nQ 19.96875 7.515625 21.921875 7.515625 \r\nQ 23.390625 7.515625 25.78125 7.859375 \r\nz\r\n\" id=\"ArialMT-116\"/>\r\n       <path d=\"M 21 0 \r\nL 1.265625 51.859375 \r\nL 10.546875 51.859375 \r\nL 21.6875 20.796875 \r\nQ 23.484375 15.765625 25 10.359375 \r\nQ 26.171875 14.453125 28.265625 20.21875 \r\nL 39.796875 51.859375 \r\nL 48.828125 51.859375 \r\nL 29.203125 0 \r\nz\r\n\" id=\"ArialMT-118\"/>\r\n       <path d=\"M 7.859375 0 \r\nL 7.859375 71.578125 \r\nL 39.59375 71.578125 \r\nQ 49.171875 71.578125 54.140625 69.640625 \r\nQ 59.125 67.71875 62.109375 62.828125 \r\nQ 65.09375 57.953125 65.09375 52.046875 \r\nQ 65.09375 44.4375 60.15625 39.203125 \r\nQ 55.21875 33.984375 44.921875 32.5625 \r\nQ 48.6875 30.765625 50.640625 29 \r\nQ 54.78125 25.203125 58.5 19.484375 \r\nL 70.953125 0 \r\nL 59.03125 0 \r\nL 49.5625 14.890625 \r\nQ 45.40625 21.34375 42.71875 24.75 \r\nQ 40.046875 28.171875 37.921875 29.53125 \r\nQ 35.796875 30.90625 33.59375 31.453125 \r\nQ 31.984375 31.78125 28.328125 31.78125 \r\nL 17.328125 31.78125 \r\nL 17.328125 0 \r\nz\r\nM 17.328125 39.984375 \r\nL 37.703125 39.984375 \r\nQ 44.1875 39.984375 47.84375 41.328125 \r\nQ 51.515625 42.671875 53.421875 45.625 \r\nQ 55.328125 48.578125 55.328125 52.046875 \r\nQ 55.328125 57.125 51.640625 60.390625 \r\nQ 47.953125 63.671875 39.984375 63.671875 \r\nL 17.328125 63.671875 \r\nz\r\n\" id=\"ArialMT-82\"/>\r\n      </defs>\r\n      <use xlink:href=\"#ArialMT-70\"/>\r\n      <use x=\"61.083984\" xlink:href=\"#ArialMT-97\"/>\r\n      <use x=\"116.699219\" xlink:href=\"#ArialMT-108\"/>\r\n      <use x=\"138.916016\" xlink:href=\"#ArialMT-115\"/>\r\n      <use x=\"188.916016\" xlink:href=\"#ArialMT-101\"/>\r\n      <use x=\"244.53125\" xlink:href=\"#ArialMT-32\"/>\r\n      <use x=\"272.314453\" xlink:href=\"#ArialMT-80\"/>\r\n      <use x=\"339.013672\" xlink:href=\"#ArialMT-111\"/>\r\n      <use x=\"394.628906\" xlink:href=\"#ArialMT-115\"/>\r\n      <use x=\"444.628906\" xlink:href=\"#ArialMT-105\"/>\r\n      <use x=\"466.845703\" xlink:href=\"#ArialMT-116\"/>\r\n      <use x=\"494.628906\" xlink:href=\"#ArialMT-105\"/>\r\n      <use x=\"516.845703\" xlink:href=\"#ArialMT-118\"/>\r\n      <use x=\"566.845703\" xlink:href=\"#ArialMT-101\"/>\r\n      <use x=\"622.460938\" xlink:href=\"#ArialMT-32\"/>\r\n      <use x=\"650.244141\" xlink:href=\"#ArialMT-82\"/>\r\n      <use x=\"722.460938\" xlink:href=\"#ArialMT-97\"/>\r\n      <use x=\"778.076172\" xlink:href=\"#ArialMT-116\"/>\r\n      <use x=\"805.859375\" xlink:href=\"#ArialMT-101\"/>\r\n     </g>\r\n    </g>\r\n   </g>\r\n   <g id=\"matplotlib.axis_2\">\r\n    <g id=\"ytick_1\">\r\n     <g id=\"line2d_7\">\r\n      <path clip-path=\"url(#pffabe42d49)\" d=\"M 46.964375 348.095625 \r\nL 549.164375 348.095625 \r\n\" style=\"fill:none;stroke:#ffffff;stroke-linecap:round;\"/>\r\n     </g>\r\n     <g id=\"text_8\">\r\n      <!-- 0.0 -->\r\n      <g style=\"fill:#262626;\" transform=\"translate(22.174375 352.032422)scale(0.11 -0.11)\">\r\n       <use xlink:href=\"#ArialMT-48\"/>\r\n       <use x=\"55.615234\" xlink:href=\"#ArialMT-46\"/>\r\n       <use x=\"83.398438\" xlink:href=\"#ArialMT-48\"/>\r\n      </g>\r\n     </g>\r\n    </g>\r\n    <g id=\"ytick_2\">\r\n     <g id=\"line2d_8\">\r\n      <path clip-path=\"url(#pffabe42d49)\" d=\"M 46.964375 285.969911 \r\nL 549.164375 285.969911 \r\n\" style=\"fill:none;stroke:#ffffff;stroke-linecap:round;\"/>\r\n     </g>\r\n     <g id=\"text_9\">\r\n      <!-- 0.2 -->\r\n      <g style=\"fill:#262626;\" transform=\"translate(22.174375 289.906708)scale(0.11 -0.11)\">\r\n       <use xlink:href=\"#ArialMT-48\"/>\r\n       <use x=\"55.615234\" xlink:href=\"#ArialMT-46\"/>\r\n       <use x=\"83.398438\" xlink:href=\"#ArialMT-50\"/>\r\n      </g>\r\n     </g>\r\n    </g>\r\n    <g id=\"ytick_3\">\r\n     <g id=\"line2d_9\">\r\n      <path clip-path=\"url(#pffabe42d49)\" d=\"M 46.964375 223.844196 \r\nL 549.164375 223.844196 \r\n\" style=\"fill:none;stroke:#ffffff;stroke-linecap:round;\"/>\r\n     </g>\r\n     <g id=\"text_10\">\r\n      <!-- 0.4 -->\r\n      <g style=\"fill:#262626;\" transform=\"translate(22.174375 227.780993)scale(0.11 -0.11)\">\r\n       <use xlink:href=\"#ArialMT-48\"/>\r\n       <use x=\"55.615234\" xlink:href=\"#ArialMT-46\"/>\r\n       <use x=\"83.398438\" xlink:href=\"#ArialMT-52\"/>\r\n      </g>\r\n     </g>\r\n    </g>\r\n    <g id=\"ytick_4\">\r\n     <g id=\"line2d_10\">\r\n      <path clip-path=\"url(#pffabe42d49)\" d=\"M 46.964375 161.718482 \r\nL 549.164375 161.718482 \r\n\" style=\"fill:none;stroke:#ffffff;stroke-linecap:round;\"/>\r\n     </g>\r\n     <g id=\"text_11\">\r\n      <!-- 0.6 -->\r\n      <g style=\"fill:#262626;\" transform=\"translate(22.174375 165.655279)scale(0.11 -0.11)\">\r\n       <use xlink:href=\"#ArialMT-48\"/>\r\n       <use x=\"55.615234\" xlink:href=\"#ArialMT-46\"/>\r\n       <use x=\"83.398438\" xlink:href=\"#ArialMT-54\"/>\r\n      </g>\r\n     </g>\r\n    </g>\r\n    <g id=\"ytick_5\">\r\n     <g id=\"line2d_11\">\r\n      <path clip-path=\"url(#pffabe42d49)\" d=\"M 46.964375 99.592768 \r\nL 549.164375 99.592768 \r\n\" style=\"fill:none;stroke:#ffffff;stroke-linecap:round;\"/>\r\n     </g>\r\n     <g id=\"text_12\">\r\n      <!-- 0.8 -->\r\n      <g style=\"fill:#262626;\" transform=\"translate(22.174375 103.529565)scale(0.11 -0.11)\">\r\n       <use xlink:href=\"#ArialMT-48\"/>\r\n       <use x=\"55.615234\" xlink:href=\"#ArialMT-46\"/>\r\n       <use x=\"83.398438\" xlink:href=\"#ArialMT-56\"/>\r\n      </g>\r\n     </g>\r\n    </g>\r\n    <g id=\"ytick_6\">\r\n     <g id=\"line2d_12\">\r\n      <path clip-path=\"url(#pffabe42d49)\" d=\"M 46.964375 37.467054 \r\nL 549.164375 37.467054 \r\n\" style=\"fill:none;stroke:#ffffff;stroke-linecap:round;\"/>\r\n     </g>\r\n     <g id=\"text_13\">\r\n      <!-- 1.0 -->\r\n      <g style=\"fill:#262626;\" transform=\"translate(22.174375 41.40385)scale(0.11 -0.11)\">\r\n       <use xlink:href=\"#ArialMT-49\"/>\r\n       <use x=\"55.615234\" xlink:href=\"#ArialMT-46\"/>\r\n       <use x=\"83.398438\" xlink:href=\"#ArialMT-48\"/>\r\n      </g>\r\n     </g>\r\n    </g>\r\n    <g id=\"text_14\">\r\n     <!-- True Positive Rate -->\r\n     <g style=\"fill:#262626;\" transform=\"translate(15.789375 234.141562)rotate(-90)scale(0.12 -0.12)\">\r\n      <defs>\r\n       <path d=\"M 25.921875 0 \r\nL 25.921875 63.140625 \r\nL 2.34375 63.140625 \r\nL 2.34375 71.578125 \r\nL 59.078125 71.578125 \r\nL 59.078125 63.140625 \r\nL 35.40625 63.140625 \r\nL 35.40625 0 \r\nz\r\n\" id=\"ArialMT-84\"/>\r\n       <path d=\"M 6.5 0 \r\nL 6.5 51.859375 \r\nL 14.40625 51.859375 \r\nL 14.40625 44 \r\nQ 17.4375 49.515625 20 51.265625 \r\nQ 22.5625 53.03125 25.640625 53.03125 \r\nQ 30.078125 53.03125 34.671875 50.203125 \r\nL 31.640625 42.046875 \r\nQ 28.421875 43.953125 25.203125 43.953125 \r\nQ 22.3125 43.953125 20.015625 42.21875 \r\nQ 17.71875 40.484375 16.75 37.40625 \r\nQ 15.28125 32.71875 15.28125 27.15625 \r\nL 15.28125 0 \r\nz\r\n\" id=\"ArialMT-114\"/>\r\n       <path d=\"M 40.578125 0 \r\nL 40.578125 7.625 \r\nQ 34.515625 -1.171875 24.125 -1.171875 \r\nQ 19.53125 -1.171875 15.546875 0.578125 \r\nQ 11.578125 2.34375 9.640625 5 \r\nQ 7.71875 7.671875 6.9375 11.53125 \r\nQ 6.390625 14.109375 6.390625 19.734375 \r\nL 6.390625 51.859375 \r\nL 15.1875 51.859375 \r\nL 15.1875 23.09375 \r\nQ 15.1875 16.21875 15.71875 13.8125 \r\nQ 16.546875 10.359375 19.234375 8.375 \r\nQ 21.921875 6.390625 25.875 6.390625 \r\nQ 29.828125 6.390625 33.296875 8.421875 \r\nQ 36.765625 10.453125 38.203125 13.9375 \r\nQ 39.65625 17.4375 39.65625 24.078125 \r\nL 39.65625 51.859375 \r\nL 48.4375 51.859375 \r\nL 48.4375 0 \r\nz\r\n\" id=\"ArialMT-117\"/>\r\n      </defs>\r\n      <use xlink:href=\"#ArialMT-84\"/>\r\n      <use x=\"57.333984\" xlink:href=\"#ArialMT-114\"/>\r\n      <use x=\"90.634766\" xlink:href=\"#ArialMT-117\"/>\r\n      <use x=\"146.25\" xlink:href=\"#ArialMT-101\"/>\r\n      <use x=\"201.865234\" xlink:href=\"#ArialMT-32\"/>\r\n      <use x=\"229.648438\" xlink:href=\"#ArialMT-80\"/>\r\n      <use x=\"296.347656\" xlink:href=\"#ArialMT-111\"/>\r\n      <use x=\"351.962891\" xlink:href=\"#ArialMT-115\"/>\r\n      <use x=\"401.962891\" xlink:href=\"#ArialMT-105\"/>\r\n      <use x=\"424.179688\" xlink:href=\"#ArialMT-116\"/>\r\n      <use x=\"451.962891\" xlink:href=\"#ArialMT-105\"/>\r\n      <use x=\"474.179688\" xlink:href=\"#ArialMT-118\"/>\r\n      <use x=\"524.179688\" xlink:href=\"#ArialMT-101\"/>\r\n      <use x=\"579.794922\" xlink:href=\"#ArialMT-32\"/>\r\n      <use x=\"607.578125\" xlink:href=\"#ArialMT-82\"/>\r\n      <use x=\"679.794922\" xlink:href=\"#ArialMT-97\"/>\r\n      <use x=\"735.410156\" xlink:href=\"#ArialMT-116\"/>\r\n      <use x=\"763.193359\" xlink:href=\"#ArialMT-101\"/>\r\n     </g>\r\n    </g>\r\n   </g>\r\n   <g id=\"line2d_13\">\r\n    <path clip-path=\"url(#pffabe42d49)\" d=\"M 46.964375 348.095625 \r\nL 46.964375 235.139781 \r\nL 46.964375 206.90082 \r\nL 46.964375 122.183937 \r\nL 298.064375 93.944976 \r\nL 549.164375 93.944976 \r\nL 549.164375 65.706015 \r\nL 549.164375 37.467054 \r\n\" style=\"fill:none;stroke:#4c72b0;stroke-linecap:round;stroke-width:1.5;\"/>\r\n   </g>\r\n   <g id=\"line2d_14\">\r\n    <path clip-path=\"url(#pffabe42d49)\" d=\"M 46.964375 348.095625 \r\nL 549.164375 37.467054 \r\n\" style=\"fill:none;stroke:#1a1a1a;stroke-dasharray:5.55,2.4;stroke-dashoffset:0;stroke-width:1.5;\"/>\r\n   </g>\r\n   <g id=\"patch_3\">\r\n    <path d=\"M 46.964375 348.095625 \r\nL 46.964375 21.935625 \r\n\" style=\"fill:none;stroke:#ffffff;stroke-linecap:square;stroke-linejoin:miter;stroke-width:1.25;\"/>\r\n   </g>\r\n   <g id=\"patch_4\">\r\n    <path d=\"M 549.164375 348.095625 \r\nL 549.164375 21.935625 \r\n\" style=\"fill:none;stroke:#ffffff;stroke-linecap:square;stroke-linejoin:miter;stroke-width:1.25;\"/>\r\n   </g>\r\n   <g id=\"patch_5\">\r\n    <path d=\"M 46.964375 348.095625 \r\nL 549.164375 348.095625 \r\n\" style=\"fill:none;stroke:#ffffff;stroke-linecap:square;stroke-linejoin:miter;stroke-width:1.25;\"/>\r\n   </g>\r\n   <g id=\"patch_6\">\r\n    <path d=\"M 46.964375 21.935625 \r\nL 549.164375 21.935625 \r\n\" style=\"fill:none;stroke:#ffffff;stroke-linecap:square;stroke-linejoin:miter;stroke-width:1.25;\"/>\r\n   </g>\r\n   <g id=\"text_15\">\r\n    <!-- Receiver operating characteristic for second model -->\r\n    <g style=\"fill:#262626;\" transform=\"translate(163.009063 15.935625)scale(0.12 -0.12)\">\r\n     <defs>\r\n      <path d=\"M 40.4375 19 \r\nL 49.078125 17.875 \r\nQ 47.65625 8.9375 41.8125 3.875 \r\nQ 35.984375 -1.171875 27.484375 -1.171875 \r\nQ 16.84375 -1.171875 10.375 5.78125 \r\nQ 3.90625 12.75 3.90625 25.734375 \r\nQ 3.90625 34.125 6.6875 40.421875 \r\nQ 9.46875 46.734375 15.15625 49.875 \r\nQ 20.84375 53.03125 27.546875 53.03125 \r\nQ 35.984375 53.03125 41.359375 48.75 \r\nQ 46.734375 44.484375 48.25 36.625 \r\nL 39.703125 35.296875 \r\nQ 38.484375 40.53125 35.375 43.15625 \r\nQ 32.28125 45.796875 27.875 45.796875 \r\nQ 21.234375 45.796875 17.078125 41.03125 \r\nQ 12.9375 36.28125 12.9375 25.984375 \r\nQ 12.9375 15.53125 16.9375 10.796875 \r\nQ 20.953125 6.0625 27.390625 6.0625 \r\nQ 32.5625 6.0625 36.03125 9.234375 \r\nQ 39.5 12.40625 40.4375 19 \r\nz\r\n\" id=\"ArialMT-99\"/>\r\n      <path d=\"M 6.59375 -19.875 \r\nL 6.59375 51.859375 \r\nL 14.59375 51.859375 \r\nL 14.59375 45.125 \r\nQ 17.4375 49.078125 21 51.046875 \r\nQ 24.5625 53.03125 29.640625 53.03125 \r\nQ 36.28125 53.03125 41.359375 49.609375 \r\nQ 46.4375 46.1875 49.015625 39.953125 \r\nQ 51.609375 33.734375 51.609375 26.3125 \r\nQ 51.609375 18.359375 48.75 11.984375 \r\nQ 45.90625 5.609375 40.453125 2.21875 \r\nQ 35.015625 -1.171875 29 -1.171875 \r\nQ 24.609375 -1.171875 21.109375 0.6875 \r\nQ 17.625 2.546875 15.375 5.375 \r\nL 15.375 -19.875 \r\nz\r\nM 14.546875 25.640625 \r\nQ 14.546875 15.625 18.59375 10.84375 \r\nQ 22.65625 6.0625 28.421875 6.0625 \r\nQ 34.28125 6.0625 38.453125 11.015625 \r\nQ 42.625 15.96875 42.625 26.375 \r\nQ 42.625 36.28125 38.546875 41.203125 \r\nQ 34.46875 46.140625 28.8125 46.140625 \r\nQ 23.1875 46.140625 18.859375 40.890625 \r\nQ 14.546875 35.640625 14.546875 25.640625 \r\nz\r\n\" id=\"ArialMT-112\"/>\r\n      <path d=\"M 6.59375 0 \r\nL 6.59375 51.859375 \r\nL 14.5 51.859375 \r\nL 14.5 44.484375 \r\nQ 20.21875 53.03125 31 53.03125 \r\nQ 35.6875 53.03125 39.625 51.34375 \r\nQ 43.5625 49.65625 45.515625 46.921875 \r\nQ 47.46875 44.1875 48.25 40.4375 \r\nQ 48.734375 37.984375 48.734375 31.890625 \r\nL 48.734375 0 \r\nL 39.9375 0 \r\nL 39.9375 31.546875 \r\nQ 39.9375 36.921875 38.90625 39.578125 \r\nQ 37.890625 42.234375 35.28125 43.8125 \r\nQ 32.671875 45.40625 29.15625 45.40625 \r\nQ 23.53125 45.40625 19.453125 41.84375 \r\nQ 15.375 38.28125 15.375 28.328125 \r\nL 15.375 0 \r\nz\r\n\" id=\"ArialMT-110\"/>\r\n      <path d=\"M 4.984375 -4.296875 \r\nL 13.53125 -5.5625 \r\nQ 14.0625 -9.515625 16.5 -11.328125 \r\nQ 19.78125 -13.765625 25.4375 -13.765625 \r\nQ 31.546875 -13.765625 34.859375 -11.328125 \r\nQ 38.1875 -8.890625 39.359375 -4.5 \r\nQ 40.046875 -1.8125 39.984375 6.78125 \r\nQ 34.234375 0 25.640625 0 \r\nQ 14.9375 0 9.078125 7.71875 \r\nQ 3.21875 15.4375 3.21875 26.21875 \r\nQ 3.21875 33.640625 5.90625 39.90625 \r\nQ 8.59375 46.1875 13.6875 49.609375 \r\nQ 18.796875 53.03125 25.6875 53.03125 \r\nQ 34.859375 53.03125 40.828125 45.609375 \r\nL 40.828125 51.859375 \r\nL 48.921875 51.859375 \r\nL 48.921875 7.03125 \r\nQ 48.921875 -5.078125 46.453125 -10.125 \r\nQ 44 -15.1875 38.640625 -18.109375 \r\nQ 33.296875 -21.046875 25.484375 -21.046875 \r\nQ 16.21875 -21.046875 10.5 -16.875 \r\nQ 4.78125 -12.703125 4.984375 -4.296875 \r\nz\r\nM 12.25 26.859375 \r\nQ 12.25 16.65625 16.296875 11.96875 \r\nQ 20.359375 7.28125 26.46875 7.28125 \r\nQ 32.515625 7.28125 36.609375 11.9375 \r\nQ 40.71875 16.609375 40.71875 26.5625 \r\nQ 40.71875 36.078125 36.5 40.90625 \r\nQ 32.28125 45.75 26.3125 45.75 \r\nQ 20.453125 45.75 16.34375 40.984375 \r\nQ 12.25 36.234375 12.25 26.859375 \r\nz\r\n\" id=\"ArialMT-103\"/>\r\n      <path d=\"M 6.59375 0 \r\nL 6.59375 71.578125 \r\nL 15.375 71.578125 \r\nL 15.375 45.90625 \r\nQ 21.53125 53.03125 30.90625 53.03125 \r\nQ 36.671875 53.03125 40.921875 50.75 \r\nQ 45.171875 48.484375 47 44.484375 \r\nQ 48.828125 40.484375 48.828125 32.859375 \r\nL 48.828125 0 \r\nL 40.046875 0 \r\nL 40.046875 32.859375 \r\nQ 40.046875 39.453125 37.1875 42.453125 \r\nQ 34.328125 45.453125 29.109375 45.453125 \r\nQ 25.203125 45.453125 21.75 43.421875 \r\nQ 18.3125 41.40625 16.84375 37.9375 \r\nQ 15.375 34.46875 15.375 28.375 \r\nL 15.375 0 \r\nz\r\n\" id=\"ArialMT-104\"/>\r\n      <path d=\"M 8.6875 0 \r\nL 8.6875 45.015625 \r\nL 0.921875 45.015625 \r\nL 0.921875 51.859375 \r\nL 8.6875 51.859375 \r\nL 8.6875 57.375 \r\nQ 8.6875 62.59375 9.625 65.140625 \r\nQ 10.890625 68.5625 14.078125 70.671875 \r\nQ 17.28125 72.796875 23.046875 72.796875 \r\nQ 26.765625 72.796875 31.25 71.921875 \r\nL 29.9375 64.265625 \r\nQ 27.203125 64.75 24.75 64.75 \r\nQ 20.75 64.75 19.09375 63.03125 \r\nQ 17.4375 61.328125 17.4375 56.640625 \r\nL 17.4375 51.859375 \r\nL 27.546875 51.859375 \r\nL 27.546875 45.015625 \r\nL 17.4375 45.015625 \r\nL 17.4375 0 \r\nz\r\n\" id=\"ArialMT-102\"/>\r\n      <path d=\"M 40.234375 0 \r\nL 40.234375 6.546875 \r\nQ 35.296875 -1.171875 25.734375 -1.171875 \r\nQ 19.53125 -1.171875 14.328125 2.25 \r\nQ 9.125 5.671875 6.265625 11.796875 \r\nQ 3.421875 17.921875 3.421875 25.875 \r\nQ 3.421875 33.640625 6 39.96875 \r\nQ 8.59375 46.296875 13.765625 49.65625 \r\nQ 18.953125 53.03125 25.34375 53.03125 \r\nQ 30.03125 53.03125 33.6875 51.046875 \r\nQ 37.359375 49.078125 39.65625 45.90625 \r\nL 39.65625 71.578125 \r\nL 48.390625 71.578125 \r\nL 48.390625 0 \r\nz\r\nM 12.453125 25.875 \r\nQ 12.453125 15.921875 16.640625 10.984375 \r\nQ 20.84375 6.0625 26.5625 6.0625 \r\nQ 32.328125 6.0625 36.34375 10.765625 \r\nQ 40.375 15.484375 40.375 25.140625 \r\nQ 40.375 35.796875 36.265625 40.765625 \r\nQ 32.171875 45.75 26.171875 45.75 \r\nQ 20.3125 45.75 16.375 40.96875 \r\nQ 12.453125 36.1875 12.453125 25.875 \r\nz\r\n\" id=\"ArialMT-100\"/>\r\n      <path d=\"M 6.59375 0 \r\nL 6.59375 51.859375 \r\nL 14.453125 51.859375 \r\nL 14.453125 44.578125 \r\nQ 16.890625 48.390625 20.9375 50.703125 \r\nQ 25 53.03125 30.171875 53.03125 \r\nQ 35.9375 53.03125 39.625 50.640625 \r\nQ 43.3125 48.25 44.828125 43.953125 \r\nQ 50.984375 53.03125 60.84375 53.03125 \r\nQ 68.5625 53.03125 72.703125 48.75 \r\nQ 76.859375 44.484375 76.859375 35.59375 \r\nL 76.859375 0 \r\nL 68.109375 0 \r\nL 68.109375 32.671875 \r\nQ 68.109375 37.9375 67.25 40.25 \r\nQ 66.40625 42.578125 64.15625 43.984375 \r\nQ 61.921875 45.40625 58.890625 45.40625 \r\nQ 53.421875 45.40625 49.796875 41.765625 \r\nQ 46.1875 38.140625 46.1875 30.125 \r\nL 46.1875 0 \r\nL 37.40625 0 \r\nL 37.40625 33.6875 \r\nQ 37.40625 39.546875 35.25 42.46875 \r\nQ 33.109375 45.40625 28.21875 45.40625 \r\nQ 24.515625 45.40625 21.359375 43.453125 \r\nQ 18.21875 41.5 16.796875 37.734375 \r\nQ 15.375 33.984375 15.375 26.90625 \r\nL 15.375 0 \r\nz\r\n\" id=\"ArialMT-109\"/>\r\n     </defs>\r\n     <use xlink:href=\"#ArialMT-82\"/>\r\n     <use x=\"72.216797\" xlink:href=\"#ArialMT-101\"/>\r\n     <use x=\"127.832031\" xlink:href=\"#ArialMT-99\"/>\r\n     <use x=\"177.832031\" xlink:href=\"#ArialMT-101\"/>\r\n     <use x=\"233.447266\" xlink:href=\"#ArialMT-105\"/>\r\n     <use x=\"255.664062\" xlink:href=\"#ArialMT-118\"/>\r\n     <use x=\"305.664062\" xlink:href=\"#ArialMT-101\"/>\r\n     <use x=\"361.279297\" xlink:href=\"#ArialMT-114\"/>\r\n     <use x=\"394.580078\" xlink:href=\"#ArialMT-32\"/>\r\n     <use x=\"422.363281\" xlink:href=\"#ArialMT-111\"/>\r\n     <use x=\"477.978516\" xlink:href=\"#ArialMT-112\"/>\r\n     <use x=\"533.59375\" xlink:href=\"#ArialMT-101\"/>\r\n     <use x=\"589.208984\" xlink:href=\"#ArialMT-114\"/>\r\n     <use x=\"622.509766\" xlink:href=\"#ArialMT-97\"/>\r\n     <use x=\"678.125\" xlink:href=\"#ArialMT-116\"/>\r\n     <use x=\"705.908203\" xlink:href=\"#ArialMT-105\"/>\r\n     <use x=\"728.125\" xlink:href=\"#ArialMT-110\"/>\r\n     <use x=\"783.740234\" xlink:href=\"#ArialMT-103\"/>\r\n     <use x=\"839.355469\" xlink:href=\"#ArialMT-32\"/>\r\n     <use x=\"867.138672\" xlink:href=\"#ArialMT-99\"/>\r\n     <use x=\"917.138672\" xlink:href=\"#ArialMT-104\"/>\r\n     <use x=\"972.753906\" xlink:href=\"#ArialMT-97\"/>\r\n     <use x=\"1028.369141\" xlink:href=\"#ArialMT-114\"/>\r\n     <use x=\"1061.669922\" xlink:href=\"#ArialMT-97\"/>\r\n     <use x=\"1117.285156\" xlink:href=\"#ArialMT-99\"/>\r\n     <use x=\"1167.285156\" xlink:href=\"#ArialMT-116\"/>\r\n     <use x=\"1195.068359\" xlink:href=\"#ArialMT-101\"/>\r\n     <use x=\"1250.683594\" xlink:href=\"#ArialMT-114\"/>\r\n     <use x=\"1283.984375\" xlink:href=\"#ArialMT-105\"/>\r\n     <use x=\"1306.201172\" xlink:href=\"#ArialMT-115\"/>\r\n     <use x=\"1356.201172\" xlink:href=\"#ArialMT-116\"/>\r\n     <use x=\"1383.984375\" xlink:href=\"#ArialMT-105\"/>\r\n     <use x=\"1406.201172\" xlink:href=\"#ArialMT-99\"/>\r\n     <use x=\"1456.201172\" xlink:href=\"#ArialMT-32\"/>\r\n     <use x=\"1483.984375\" xlink:href=\"#ArialMT-102\"/>\r\n     <use x=\"1511.767578\" xlink:href=\"#ArialMT-111\"/>\r\n     <use x=\"1567.382812\" xlink:href=\"#ArialMT-114\"/>\r\n     <use x=\"1600.683594\" xlink:href=\"#ArialMT-32\"/>\r\n     <use x=\"1628.466797\" xlink:href=\"#ArialMT-115\"/>\r\n     <use x=\"1678.466797\" xlink:href=\"#ArialMT-101\"/>\r\n     <use x=\"1734.082031\" xlink:href=\"#ArialMT-99\"/>\r\n     <use x=\"1784.082031\" xlink:href=\"#ArialMT-111\"/>\r\n     <use x=\"1839.697266\" xlink:href=\"#ArialMT-110\"/>\r\n     <use x=\"1895.3125\" xlink:href=\"#ArialMT-100\"/>\r\n     <use x=\"1950.927734\" xlink:href=\"#ArialMT-32\"/>\r\n     <use x=\"1978.710938\" xlink:href=\"#ArialMT-109\"/>\r\n     <use x=\"2062.011719\" xlink:href=\"#ArialMT-111\"/>\r\n     <use x=\"2117.626953\" xlink:href=\"#ArialMT-100\"/>\r\n     <use x=\"2173.242188\" xlink:href=\"#ArialMT-101\"/>\r\n     <use x=\"2228.857422\" xlink:href=\"#ArialMT-108\"/>\r\n    </g>\r\n   </g>\r\n   <g id=\"legend_1\">\r\n    <g id=\"patch_7\">\r\n     <path d=\"M 379.412031 342.595625 \r\nL 541.464375 342.595625 \r\nQ 543.664375 342.595625 543.664375 340.395625 \r\nL 543.664375 325.665937 \r\nQ 543.664375 323.465937 541.464375 323.465937 \r\nL 379.412031 323.465937 \r\nQ 377.212031 323.465937 377.212031 325.665937 \r\nL 377.212031 340.395625 \r\nQ 377.212031 342.595625 379.412031 342.595625 \r\nz\r\n\" style=\"fill:#eaeaf2;opacity:0.8;stroke:#cccccc;stroke-linejoin:miter;\"/>\r\n    </g>\r\n    <g id=\"line2d_15\">\r\n     <path d=\"M 381.612031 332.030469 \r\nL 403.612031 332.030469 \r\n\" style=\"fill:none;stroke:#4c72b0;stroke-linecap:round;stroke-width:1.5;\"/>\r\n    </g>\r\n    <g id=\"line2d_16\"/>\r\n    <g id=\"text_16\">\r\n     <!-- ROC curve (area = 0.795) -->\r\n     <g style=\"fill:#262626;\" transform=\"translate(412.412031 335.880469)scale(0.11 -0.11)\">\r\n      <defs>\r\n       <path d=\"M 4.828125 34.859375 \r\nQ 4.828125 52.6875 14.390625 62.765625 \r\nQ 23.96875 72.859375 39.109375 72.859375 \r\nQ 49.03125 72.859375 56.984375 68.109375 \r\nQ 64.9375 63.375 69.109375 54.90625 \r\nQ 73.296875 46.4375 73.296875 35.6875 \r\nQ 73.296875 24.8125 68.890625 16.21875 \r\nQ 64.5 7.625 56.4375 3.203125 \r\nQ 48.390625 -1.21875 39.0625 -1.21875 \r\nQ 28.953125 -1.21875 20.984375 3.65625 \r\nQ 13.03125 8.546875 8.921875 16.984375 \r\nQ 4.828125 25.4375 4.828125 34.859375 \r\nz\r\nM 14.59375 34.71875 \r\nQ 14.59375 21.78125 21.546875 14.328125 \r\nQ 28.515625 6.890625 39.015625 6.890625 \r\nQ 49.703125 6.890625 56.609375 14.40625 \r\nQ 63.53125 21.921875 63.53125 35.75 \r\nQ 63.53125 44.484375 60.578125 51 \r\nQ 57.625 57.515625 51.921875 61.109375 \r\nQ 46.234375 64.703125 39.15625 64.703125 \r\nQ 29.109375 64.703125 21.84375 57.78125 \r\nQ 14.59375 50.875 14.59375 34.71875 \r\nz\r\n\" id=\"ArialMT-79\"/>\r\n       <path d=\"M 58.796875 25.09375 \r\nL 68.265625 22.703125 \r\nQ 65.28125 11.03125 57.546875 4.90625 \r\nQ 49.8125 -1.21875 38.625 -1.21875 \r\nQ 27.046875 -1.21875 19.796875 3.484375 \r\nQ 12.546875 8.203125 8.765625 17.140625 \r\nQ 4.984375 26.078125 4.984375 36.328125 \r\nQ 4.984375 47.515625 9.25 55.828125 \r\nQ 13.53125 64.15625 21.40625 68.46875 \r\nQ 29.296875 72.796875 38.765625 72.796875 \r\nQ 49.515625 72.796875 56.828125 67.328125 \r\nQ 64.15625 61.859375 67.046875 51.953125 \r\nL 57.71875 49.75 \r\nQ 55.21875 57.5625 50.484375 61.125 \r\nQ 45.75 64.703125 38.578125 64.703125 \r\nQ 30.328125 64.703125 24.78125 60.734375 \r\nQ 19.234375 56.78125 16.984375 50.109375 \r\nQ 14.75 43.453125 14.75 36.375 \r\nQ 14.75 27.25 17.40625 20.4375 \r\nQ 20.0625 13.625 25.671875 10.25 \r\nQ 31.296875 6.890625 37.84375 6.890625 \r\nQ 45.796875 6.890625 51.3125 11.46875 \r\nQ 56.84375 16.0625 58.796875 25.09375 \r\nz\r\n\" id=\"ArialMT-67\"/>\r\n       <path d=\"M 23.390625 -21.046875 \r\nQ 16.109375 -11.859375 11.078125 0.4375 \r\nQ 6.0625 12.75 6.0625 25.921875 \r\nQ 6.0625 37.546875 9.8125 48.1875 \r\nQ 14.203125 60.546875 23.390625 72.796875 \r\nL 29.6875 72.796875 \r\nQ 23.78125 62.640625 21.875 58.296875 \r\nQ 18.890625 51.5625 17.1875 44.234375 \r\nQ 15.09375 35.109375 15.09375 25.875 \r\nQ 15.09375 2.390625 29.6875 -21.046875 \r\nz\r\n\" id=\"ArialMT-40\"/>\r\n       <path d=\"M 52.828125 42.09375 \r\nL 5.5625 42.09375 \r\nL 5.5625 50.296875 \r\nL 52.828125 50.296875 \r\nz\r\nM 52.828125 20.359375 \r\nL 5.5625 20.359375 \r\nL 5.5625 28.5625 \r\nL 52.828125 28.5625 \r\nz\r\n\" id=\"ArialMT-61\"/>\r\n       <path d=\"M 4.734375 62.203125 \r\nL 4.734375 70.65625 \r\nL 51.078125 70.65625 \r\nL 51.078125 63.8125 \r\nQ 44.234375 56.546875 37.515625 44.484375 \r\nQ 30.8125 32.421875 27.15625 19.671875 \r\nQ 24.515625 10.6875 23.78125 0 \r\nL 14.75 0 \r\nQ 14.890625 8.453125 18.0625 20.40625 \r\nQ 21.234375 32.375 27.171875 43.484375 \r\nQ 33.109375 54.59375 39.796875 62.203125 \r\nz\r\n\" id=\"ArialMT-55\"/>\r\n       <path d=\"M 5.46875 16.546875 \r\nL 13.921875 17.328125 \r\nQ 14.984375 11.375 18.015625 8.6875 \r\nQ 21.046875 6 25.78125 6 \r\nQ 29.828125 6 32.875 7.859375 \r\nQ 35.9375 9.71875 37.890625 12.8125 \r\nQ 39.84375 15.921875 41.15625 21.1875 \r\nQ 42.484375 26.46875 42.484375 31.9375 \r\nQ 42.484375 32.515625 42.4375 33.6875 \r\nQ 39.796875 29.5 35.234375 26.875 \r\nQ 30.671875 24.265625 25.34375 24.265625 \r\nQ 16.453125 24.265625 10.296875 30.703125 \r\nQ 4.15625 37.15625 4.15625 47.703125 \r\nQ 4.15625 58.59375 10.578125 65.234375 \r\nQ 17 71.875 26.65625 71.875 \r\nQ 33.640625 71.875 39.421875 68.109375 \r\nQ 45.21875 64.359375 48.21875 57.390625 \r\nQ 51.21875 50.4375 51.21875 37.25 \r\nQ 51.21875 23.53125 48.234375 15.40625 \r\nQ 45.265625 7.28125 39.375 3.03125 \r\nQ 33.5 -1.21875 25.59375 -1.21875 \r\nQ 17.1875 -1.21875 11.859375 3.4375 \r\nQ 6.546875 8.109375 5.46875 16.546875 \r\nz\r\nM 41.453125 48.140625 \r\nQ 41.453125 55.71875 37.421875 60.15625 \r\nQ 33.40625 64.59375 27.734375 64.59375 \r\nQ 21.875 64.59375 17.53125 59.8125 \r\nQ 13.1875 55.03125 13.1875 47.40625 \r\nQ 13.1875 40.578125 17.3125 36.296875 \r\nQ 21.4375 32.03125 27.484375 32.03125 \r\nQ 33.59375 32.03125 37.515625 36.296875 \r\nQ 41.453125 40.578125 41.453125 48.140625 \r\nz\r\n\" id=\"ArialMT-57\"/>\r\n       <path d=\"M 4.15625 18.75 \r\nL 13.375 19.53125 \r\nQ 14.40625 12.796875 18.140625 9.390625 \r\nQ 21.875 6 27.15625 6 \r\nQ 33.5 6 37.890625 10.78125 \r\nQ 42.28125 15.578125 42.28125 23.484375 \r\nQ 42.28125 31 38.0625 35.34375 \r\nQ 33.84375 39.703125 27 39.703125 \r\nQ 22.75 39.703125 19.328125 37.765625 \r\nQ 15.921875 35.84375 13.96875 32.765625 \r\nL 5.71875 33.84375 \r\nL 12.640625 70.609375 \r\nL 48.25 70.609375 \r\nL 48.25 62.203125 \r\nL 19.671875 62.203125 \r\nL 15.828125 42.96875 \r\nQ 22.265625 47.46875 29.34375 47.46875 \r\nQ 38.71875 47.46875 45.15625 40.96875 \r\nQ 51.609375 34.46875 51.609375 24.265625 \r\nQ 51.609375 14.546875 45.953125 7.46875 \r\nQ 39.0625 -1.21875 27.15625 -1.21875 \r\nQ 17.390625 -1.21875 11.203125 4.25 \r\nQ 5.03125 9.71875 4.15625 18.75 \r\nz\r\n\" id=\"ArialMT-53\"/>\r\n       <path d=\"M 12.359375 -21.046875 \r\nL 6.0625 -21.046875 \r\nQ 20.65625 2.390625 20.65625 25.875 \r\nQ 20.65625 35.0625 18.5625 44.09375 \r\nQ 16.890625 51.421875 13.921875 58.15625 \r\nQ 12.015625 62.546875 6.0625 72.796875 \r\nL 12.359375 72.796875 \r\nQ 21.53125 60.546875 25.921875 48.1875 \r\nQ 29.6875 37.546875 29.6875 25.921875 \r\nQ 29.6875 12.75 24.625 0.4375 \r\nQ 19.578125 -11.859375 12.359375 -21.046875 \r\nz\r\n\" id=\"ArialMT-41\"/>\r\n      </defs>\r\n      <use xlink:href=\"#ArialMT-82\"/>\r\n      <use x=\"72.216797\" xlink:href=\"#ArialMT-79\"/>\r\n      <use x=\"150\" xlink:href=\"#ArialMT-67\"/>\r\n      <use x=\"222.216797\" xlink:href=\"#ArialMT-32\"/>\r\n      <use x=\"250\" xlink:href=\"#ArialMT-99\"/>\r\n      <use x=\"300\" xlink:href=\"#ArialMT-117\"/>\r\n      <use x=\"355.615234\" xlink:href=\"#ArialMT-114\"/>\r\n      <use x=\"388.916016\" xlink:href=\"#ArialMT-118\"/>\r\n      <use x=\"438.916016\" xlink:href=\"#ArialMT-101\"/>\r\n      <use x=\"494.53125\" xlink:href=\"#ArialMT-32\"/>\r\n      <use x=\"522.314453\" xlink:href=\"#ArialMT-40\"/>\r\n      <use x=\"555.615234\" xlink:href=\"#ArialMT-97\"/>\r\n      <use x=\"611.230469\" xlink:href=\"#ArialMT-114\"/>\r\n      <use x=\"644.53125\" xlink:href=\"#ArialMT-101\"/>\r\n      <use x=\"700.146484\" xlink:href=\"#ArialMT-97\"/>\r\n      <use x=\"755.761719\" xlink:href=\"#ArialMT-32\"/>\r\n      <use x=\"783.544922\" xlink:href=\"#ArialMT-61\"/>\r\n      <use x=\"841.943359\" xlink:href=\"#ArialMT-32\"/>\r\n      <use x=\"869.726562\" xlink:href=\"#ArialMT-48\"/>\r\n      <use x=\"925.341797\" xlink:href=\"#ArialMT-46\"/>\r\n      <use x=\"953.125\" xlink:href=\"#ArialMT-55\"/>\r\n      <use x=\"1008.740234\" xlink:href=\"#ArialMT-57\"/>\r\n      <use x=\"1064.355469\" xlink:href=\"#ArialMT-53\"/>\r\n      <use x=\"1119.970703\" xlink:href=\"#ArialMT-41\"/>\r\n     </g>\r\n    </g>\r\n   </g>\r\n  </g>\r\n </g>\r\n <defs>\r\n  <clipPath id=\"pffabe42d49\">\r\n   <rect height=\"326.16\" width=\"502.2\" x=\"46.964375\" y=\"21.935625\"/>\r\n  </clipPath>\r\n </defs>\r\n</svg>\r\n",
      "image/png": "[encoded data removed]"
     },
     "metadata": {}
    }
   ],
   "source": [
    "fpr, tpr, thresholds = roc_curve(y_test2, y_pred2[:,1])\n",
    "roc_auc= auc(fpr, tpr)\n",
    "plt.figure()\n",
    "plt.plot(fpr, tpr, label='ROC curve (area = %0.3f)' % (roc_auc))\n",
    "plt.plot([0, 1], [0, 1], 'k--')\n",
    "plt.xlim([0.0, 1.0])\n",
    "plt.ylim([0.0, 1.05])\n",
    "plt.xlabel('False Positive Rate')\n",
    "plt.ylabel('True Positive Rate')\n",
    "plt.title('Receiver operating characteristic for second model')\n",
    "plt.legend(loc=\"lower right\")\n",
    "plt.show()"
   ]
  },
  {
   "source": [
    "Как видно, вторая модель показывает результаты, которые лучше результатов первой. Давайте что-нибудь предскажем для полного набора данных!"
   ],
   "cell_type": "markdown",
   "metadata": {}
  },
  {
   "cell_type": "code",
   "execution_count": 86,
   "metadata": {},
   "outputs": [],
   "source": [
    "y_pred_all = estimator_1.predict_proba(X)\n",
    "y_pred2_all = estimator_2.predict_proba(X2)"
   ]
  },
  {
   "cell_type": "code",
   "execution_count": 87,
   "metadata": {},
   "outputs": [
    {
     "output_type": "display_data",
     "data": {
      "text/plain": "<Figure size 648x432 with 1 Axes>",
      "image/svg+xml": "<?xml version=\"1.0\" encoding=\"utf-8\" standalone=\"no\"?>\r\n<!DOCTYPE svg PUBLIC \"-//W3C//DTD SVG 1.1//EN\"\r\n  \"http://www.w3.org/Graphics/SVG/1.1/DTD/svg11.dtd\">\r\n<!-- Created with matplotlib (https://matplotlib.org/) -->\r\n<svg height=\"389.829844pt\" version=\"1.1\" viewBox=\"0 0 564.009375 389.829844\" width=\"564.009375pt\" xmlns=\"http://www.w3.org/2000/svg\" xmlns:xlink=\"http://www.w3.org/1999/xlink\">\r\n <metadata>\r\n  <rdf:RDF xmlns:cc=\"http://creativecommons.org/ns#\" xmlns:dc=\"http://purl.org/dc/elements/1.1/\" xmlns:rdf=\"http://www.w3.org/1999/02/22-rdf-syntax-ns#\">\r\n   <cc:Work>\r\n    <dc:type rdf:resource=\"http://purl.org/dc/dcmitype/StillImage\"/>\r\n    <dc:date>2021-02-06T20:40:23.033115</dc:date>\r\n    <dc:format>image/svg+xml</dc:format>\r\n    <dc:creator>\r\n     <cc:Agent>\r\n      <dc:title>Matplotlib v3.3.3, https://matplotlib.org/</dc:title>\r\n     </cc:Agent>\r\n    </dc:creator>\r\n   </cc:Work>\r\n  </rdf:RDF>\r\n </metadata>\r\n <defs>\r\n  <style type=\"text/css\">*{stroke-linecap:butt;stroke-linejoin:round;}</style>\r\n </defs>\r\n <g id=\"figure_1\">\r\n  <g id=\"patch_1\">\r\n   <path d=\"M 0 389.829844 \r\nL 564.009375 389.829844 \r\nL 564.009375 0 \r\nL 0 0 \r\nz\r\n\" style=\"fill:#ffffff;\"/>\r\n  </g>\r\n  <g id=\"axes_1\">\r\n   <g id=\"patch_2\">\r\n    <path d=\"M 46.964375 348.095625 \r\nL 549.164375 348.095625 \r\nL 549.164375 21.935625 \r\nL 46.964375 21.935625 \r\nz\r\n\" style=\"fill:#eaeaf2;\"/>\r\n   </g>\r\n   <g id=\"matplotlib.axis_1\">\r\n    <g id=\"xtick_1\">\r\n     <g id=\"line2d_1\">\r\n      <path clip-path=\"url(#pa4fc10efc5)\" d=\"M 46.964375 348.095625 \r\nL 46.964375 21.935625 \r\n\" style=\"fill:none;stroke:#ffffff;stroke-linecap:round;\"/>\r\n     </g>\r\n     <g id=\"text_1\">\r\n      <!-- 0.0 -->\r\n      <g style=\"fill:#262626;\" transform=\"translate(39.319375 365.469219)scale(0.11 -0.11)\">\r\n       <defs>\r\n        <path d=\"M 4.15625 35.296875 \r\nQ 4.15625 48 6.765625 55.734375 \r\nQ 9.375 63.484375 14.515625 67.671875 \r\nQ 19.671875 71.875 27.484375 71.875 \r\nQ 33.25 71.875 37.59375 69.546875 \r\nQ 41.9375 67.234375 44.765625 62.859375 \r\nQ 47.609375 58.5 49.21875 52.21875 \r\nQ 50.828125 45.953125 50.828125 35.296875 \r\nQ 50.828125 22.703125 48.234375 14.96875 \r\nQ 45.65625 7.234375 40.5 3 \r\nQ 35.359375 -1.21875 27.484375 -1.21875 \r\nQ 17.140625 -1.21875 11.234375 6.203125 \r\nQ 4.15625 15.140625 4.15625 35.296875 \r\nz\r\nM 13.1875 35.296875 \r\nQ 13.1875 17.671875 17.3125 11.828125 \r\nQ 21.4375 6 27.484375 6 \r\nQ 33.546875 6 37.671875 11.859375 \r\nQ 41.796875 17.71875 41.796875 35.296875 \r\nQ 41.796875 52.984375 37.671875 58.78125 \r\nQ 33.546875 64.59375 27.390625 64.59375 \r\nQ 21.34375 64.59375 17.71875 59.46875 \r\nQ 13.1875 52.9375 13.1875 35.296875 \r\nz\r\n\" id=\"ArialMT-48\"/>\r\n        <path d=\"M 9.078125 0 \r\nL 9.078125 10.015625 \r\nL 19.09375 10.015625 \r\nL 19.09375 0 \r\nz\r\n\" id=\"ArialMT-46\"/>\r\n       </defs>\r\n       <use xlink:href=\"#ArialMT-48\"/>\r\n       <use x=\"55.615234\" xlink:href=\"#ArialMT-46\"/>\r\n       <use x=\"83.398438\" xlink:href=\"#ArialMT-48\"/>\r\n      </g>\r\n     </g>\r\n    </g>\r\n    <g id=\"xtick_2\">\r\n     <g id=\"line2d_2\">\r\n      <path clip-path=\"url(#pa4fc10efc5)\" d=\"M 147.404375 348.095625 \r\nL 147.404375 21.935625 \r\n\" style=\"fill:none;stroke:#ffffff;stroke-linecap:round;\"/>\r\n     </g>\r\n     <g id=\"text_2\">\r\n      <!-- 0.2 -->\r\n      <g style=\"fill:#262626;\" transform=\"translate(139.759375 365.469219)scale(0.11 -0.11)\">\r\n       <defs>\r\n        <path d=\"M 50.34375 8.453125 \r\nL 50.34375 0 \r\nL 3.03125 0 \r\nQ 2.9375 3.171875 4.046875 6.109375 \r\nQ 5.859375 10.9375 9.828125 15.625 \r\nQ 13.8125 20.3125 21.34375 26.46875 \r\nQ 33.015625 36.03125 37.109375 41.625 \r\nQ 41.21875 47.21875 41.21875 52.203125 \r\nQ 41.21875 57.421875 37.46875 61 \r\nQ 33.734375 64.59375 27.734375 64.59375 \r\nQ 21.390625 64.59375 17.578125 60.78125 \r\nQ 13.765625 56.984375 13.71875 50.25 \r\nL 4.6875 51.171875 \r\nQ 5.609375 61.28125 11.65625 66.578125 \r\nQ 17.71875 71.875 27.9375 71.875 \r\nQ 38.234375 71.875 44.234375 66.15625 \r\nQ 50.25 60.453125 50.25 52 \r\nQ 50.25 47.703125 48.484375 43.546875 \r\nQ 46.734375 39.40625 42.65625 34.8125 \r\nQ 38.578125 30.21875 29.109375 22.21875 \r\nQ 21.1875 15.578125 18.9375 13.203125 \r\nQ 16.703125 10.84375 15.234375 8.453125 \r\nz\r\n\" id=\"ArialMT-50\"/>\r\n       </defs>\r\n       <use xlink:href=\"#ArialMT-48\"/>\r\n       <use x=\"55.615234\" xlink:href=\"#ArialMT-46\"/>\r\n       <use x=\"83.398438\" xlink:href=\"#ArialMT-50\"/>\r\n      </g>\r\n     </g>\r\n    </g>\r\n    <g id=\"xtick_3\">\r\n     <g id=\"line2d_3\">\r\n      <path clip-path=\"url(#pa4fc10efc5)\" d=\"M 247.844375 348.095625 \r\nL 247.844375 21.935625 \r\n\" style=\"fill:none;stroke:#ffffff;stroke-linecap:round;\"/>\r\n     </g>\r\n     <g id=\"text_3\">\r\n      <!-- 0.4 -->\r\n      <g style=\"fill:#262626;\" transform=\"translate(240.199375 365.469219)scale(0.11 -0.11)\">\r\n       <defs>\r\n        <path d=\"M 32.328125 0 \r\nL 32.328125 17.140625 \r\nL 1.265625 17.140625 \r\nL 1.265625 25.203125 \r\nL 33.9375 71.578125 \r\nL 41.109375 71.578125 \r\nL 41.109375 25.203125 \r\nL 50.78125 25.203125 \r\nL 50.78125 17.140625 \r\nL 41.109375 17.140625 \r\nL 41.109375 0 \r\nz\r\nM 32.328125 25.203125 \r\nL 32.328125 57.46875 \r\nL 9.90625 25.203125 \r\nz\r\n\" id=\"ArialMT-52\"/>\r\n       </defs>\r\n       <use xlink:href=\"#ArialMT-48\"/>\r\n       <use x=\"55.615234\" xlink:href=\"#ArialMT-46\"/>\r\n       <use x=\"83.398438\" xlink:href=\"#ArialMT-52\"/>\r\n      </g>\r\n     </g>\r\n    </g>\r\n    <g id=\"xtick_4\">\r\n     <g id=\"line2d_4\">\r\n      <path clip-path=\"url(#pa4fc10efc5)\" d=\"M 348.284375 348.095625 \r\nL 348.284375 21.935625 \r\n\" style=\"fill:none;stroke:#ffffff;stroke-linecap:round;\"/>\r\n     </g>\r\n     <g id=\"text_4\">\r\n      <!-- 0.6 -->\r\n      <g style=\"fill:#262626;\" transform=\"translate(340.639375 365.469219)scale(0.11 -0.11)\">\r\n       <defs>\r\n        <path d=\"M 49.75 54.046875 \r\nL 41.015625 53.375 \r\nQ 39.84375 58.546875 37.703125 60.890625 \r\nQ 34.125 64.65625 28.90625 64.65625 \r\nQ 24.703125 64.65625 21.53125 62.3125 \r\nQ 17.390625 59.28125 14.984375 53.46875 \r\nQ 12.59375 47.65625 12.5 36.921875 \r\nQ 15.671875 41.75 20.265625 44.09375 \r\nQ 24.859375 46.4375 29.890625 46.4375 \r\nQ 38.671875 46.4375 44.84375 39.96875 \r\nQ 51.03125 33.5 51.03125 23.25 \r\nQ 51.03125 16.5 48.125 10.71875 \r\nQ 45.21875 4.9375 40.140625 1.859375 \r\nQ 35.0625 -1.21875 28.609375 -1.21875 \r\nQ 17.625 -1.21875 10.6875 6.859375 \r\nQ 3.765625 14.9375 3.765625 33.5 \r\nQ 3.765625 54.25 11.421875 63.671875 \r\nQ 18.109375 71.875 29.4375 71.875 \r\nQ 37.890625 71.875 43.28125 67.140625 \r\nQ 48.6875 62.40625 49.75 54.046875 \r\nz\r\nM 13.875 23.1875 \r\nQ 13.875 18.65625 15.796875 14.5 \r\nQ 17.71875 10.359375 21.1875 8.171875 \r\nQ 24.65625 6 28.46875 6 \r\nQ 34.03125 6 38.03125 10.484375 \r\nQ 42.046875 14.984375 42.046875 22.703125 \r\nQ 42.046875 30.125 38.078125 34.390625 \r\nQ 34.125 38.671875 28.125 38.671875 \r\nQ 22.171875 38.671875 18.015625 34.390625 \r\nQ 13.875 30.125 13.875 23.1875 \r\nz\r\n\" id=\"ArialMT-54\"/>\r\n       </defs>\r\n       <use xlink:href=\"#ArialMT-48\"/>\r\n       <use x=\"55.615234\" xlink:href=\"#ArialMT-46\"/>\r\n       <use x=\"83.398438\" xlink:href=\"#ArialMT-54\"/>\r\n      </g>\r\n     </g>\r\n    </g>\r\n    <g id=\"xtick_5\">\r\n     <g id=\"line2d_5\">\r\n      <path clip-path=\"url(#pa4fc10efc5)\" d=\"M 448.724375 348.095625 \r\nL 448.724375 21.935625 \r\n\" style=\"fill:none;stroke:#ffffff;stroke-linecap:round;\"/>\r\n     </g>\r\n     <g id=\"text_5\">\r\n      <!-- 0.8 -->\r\n      <g style=\"fill:#262626;\" transform=\"translate(441.079375 365.469219)scale(0.11 -0.11)\">\r\n       <defs>\r\n        <path d=\"M 17.671875 38.8125 \r\nQ 12.203125 40.828125 9.5625 44.53125 \r\nQ 6.9375 48.25 6.9375 53.421875 \r\nQ 6.9375 61.234375 12.546875 66.546875 \r\nQ 18.171875 71.875 27.484375 71.875 \r\nQ 36.859375 71.875 42.578125 66.421875 \r\nQ 48.296875 60.984375 48.296875 53.171875 \r\nQ 48.296875 48.1875 45.671875 44.5 \r\nQ 43.0625 40.828125 37.75 38.8125 \r\nQ 44.34375 36.671875 47.78125 31.875 \r\nQ 51.21875 27.09375 51.21875 20.453125 \r\nQ 51.21875 11.28125 44.71875 5.03125 \r\nQ 38.234375 -1.21875 27.640625 -1.21875 \r\nQ 17.046875 -1.21875 10.546875 5.046875 \r\nQ 4.046875 11.328125 4.046875 20.703125 \r\nQ 4.046875 27.6875 7.59375 32.390625 \r\nQ 11.140625 37.109375 17.671875 38.8125 \r\nz\r\nM 15.921875 53.71875 \r\nQ 15.921875 48.640625 19.1875 45.40625 \r\nQ 22.46875 42.1875 27.6875 42.1875 \r\nQ 32.765625 42.1875 36.015625 45.375 \r\nQ 39.265625 48.578125 39.265625 53.21875 \r\nQ 39.265625 58.0625 35.90625 61.359375 \r\nQ 32.5625 64.65625 27.59375 64.65625 \r\nQ 22.5625 64.65625 19.234375 61.421875 \r\nQ 15.921875 58.203125 15.921875 53.71875 \r\nz\r\nM 13.09375 20.65625 \r\nQ 13.09375 16.890625 14.875 13.375 \r\nQ 16.65625 9.859375 20.171875 7.921875 \r\nQ 23.6875 6 27.734375 6 \r\nQ 34.03125 6 38.125 10.046875 \r\nQ 42.234375 14.109375 42.234375 20.359375 \r\nQ 42.234375 26.703125 38.015625 30.859375 \r\nQ 33.796875 35.015625 27.4375 35.015625 \r\nQ 21.234375 35.015625 17.15625 30.90625 \r\nQ 13.09375 26.8125 13.09375 20.65625 \r\nz\r\n\" id=\"ArialMT-56\"/>\r\n       </defs>\r\n       <use xlink:href=\"#ArialMT-48\"/>\r\n       <use x=\"55.615234\" xlink:href=\"#ArialMT-46\"/>\r\n       <use x=\"83.398438\" xlink:href=\"#ArialMT-56\"/>\r\n      </g>\r\n     </g>\r\n    </g>\r\n    <g id=\"xtick_6\">\r\n     <g id=\"line2d_6\">\r\n      <path clip-path=\"url(#pa4fc10efc5)\" d=\"M 549.164375 348.095625 \r\nL 549.164375 21.935625 \r\n\" style=\"fill:none;stroke:#ffffff;stroke-linecap:round;\"/>\r\n     </g>\r\n     <g id=\"text_6\">\r\n      <!-- 1.0 -->\r\n      <g style=\"fill:#262626;\" transform=\"translate(541.519375 365.469219)scale(0.11 -0.11)\">\r\n       <defs>\r\n        <path d=\"M 37.25 0 \r\nL 28.46875 0 \r\nL 28.46875 56 \r\nQ 25.296875 52.984375 20.140625 49.953125 \r\nQ 14.984375 46.921875 10.890625 45.40625 \r\nL 10.890625 53.90625 \r\nQ 18.265625 57.375 23.78125 62.296875 \r\nQ 29.296875 67.234375 31.59375 71.875 \r\nL 37.25 71.875 \r\nz\r\n\" id=\"ArialMT-49\"/>\r\n       </defs>\r\n       <use xlink:href=\"#ArialMT-49\"/>\r\n       <use x=\"55.615234\" xlink:href=\"#ArialMT-46\"/>\r\n       <use x=\"83.398438\" xlink:href=\"#ArialMT-48\"/>\r\n      </g>\r\n     </g>\r\n    </g>\r\n    <g id=\"text_7\">\r\n     <!-- False Positive Rate -->\r\n     <g style=\"fill:#262626;\" transform=\"translate(246.378125 380.244844)scale(0.12 -0.12)\">\r\n      <defs>\r\n       <path d=\"M 8.203125 0 \r\nL 8.203125 71.578125 \r\nL 56.5 71.578125 \r\nL 56.5 63.140625 \r\nL 17.671875 63.140625 \r\nL 17.671875 40.96875 \r\nL 51.265625 40.96875 \r\nL 51.265625 32.515625 \r\nL 17.671875 32.515625 \r\nL 17.671875 0 \r\nz\r\n\" id=\"ArialMT-70\"/>\r\n       <path d=\"M 40.4375 6.390625 \r\nQ 35.546875 2.25 31.03125 0.53125 \r\nQ 26.515625 -1.171875 21.34375 -1.171875 \r\nQ 12.796875 -1.171875 8.203125 3 \r\nQ 3.609375 7.171875 3.609375 13.671875 \r\nQ 3.609375 17.484375 5.34375 20.625 \r\nQ 7.078125 23.78125 9.890625 25.6875 \r\nQ 12.703125 27.59375 16.21875 28.5625 \r\nQ 18.796875 29.25 24.03125 29.890625 \r\nQ 34.671875 31.15625 39.703125 32.90625 \r\nQ 39.75 34.71875 39.75 35.203125 \r\nQ 39.75 40.578125 37.25 42.78125 \r\nQ 33.890625 45.75 27.25 45.75 \r\nQ 21.046875 45.75 18.09375 43.578125 \r\nQ 15.140625 41.40625 13.71875 35.890625 \r\nL 5.125 37.0625 \r\nQ 6.296875 42.578125 8.984375 45.96875 \r\nQ 11.671875 49.359375 16.75 51.1875 \r\nQ 21.828125 53.03125 28.515625 53.03125 \r\nQ 35.15625 53.03125 39.296875 51.46875 \r\nQ 43.453125 49.90625 45.40625 47.53125 \r\nQ 47.359375 45.171875 48.140625 41.546875 \r\nQ 48.578125 39.3125 48.578125 33.453125 \r\nL 48.578125 21.734375 \r\nQ 48.578125 9.46875 49.140625 6.21875 \r\nQ 49.703125 2.984375 51.375 0 \r\nL 42.1875 0 \r\nQ 40.828125 2.734375 40.4375 6.390625 \r\nz\r\nM 39.703125 26.03125 \r\nQ 34.90625 24.078125 25.34375 22.703125 \r\nQ 19.921875 21.921875 17.671875 20.9375 \r\nQ 15.4375 19.96875 14.203125 18.09375 \r\nQ 12.984375 16.21875 12.984375 13.921875 \r\nQ 12.984375 10.40625 15.640625 8.0625 \r\nQ 18.3125 5.71875 23.4375 5.71875 \r\nQ 28.515625 5.71875 32.46875 7.9375 \r\nQ 36.421875 10.15625 38.28125 14.015625 \r\nQ 39.703125 17 39.703125 22.796875 \r\nz\r\n\" id=\"ArialMT-97\"/>\r\n       <path d=\"M 6.390625 0 \r\nL 6.390625 71.578125 \r\nL 15.1875 71.578125 \r\nL 15.1875 0 \r\nz\r\n\" id=\"ArialMT-108\"/>\r\n       <path d=\"M 3.078125 15.484375 \r\nL 11.765625 16.84375 \r\nQ 12.5 11.625 15.84375 8.84375 \r\nQ 19.1875 6.0625 25.203125 6.0625 \r\nQ 31.25 6.0625 34.171875 8.515625 \r\nQ 37.109375 10.984375 37.109375 14.3125 \r\nQ 37.109375 17.28125 34.515625 19 \r\nQ 32.71875 20.171875 25.53125 21.96875 \r\nQ 15.875 24.421875 12.140625 26.203125 \r\nQ 8.40625 27.984375 6.46875 31.125 \r\nQ 4.546875 34.28125 4.546875 38.09375 \r\nQ 4.546875 41.546875 6.125 44.5 \r\nQ 7.71875 47.46875 10.453125 49.421875 \r\nQ 12.5 50.921875 16.03125 51.96875 \r\nQ 19.578125 53.03125 23.640625 53.03125 \r\nQ 29.734375 53.03125 34.34375 51.265625 \r\nQ 38.96875 49.515625 41.15625 46.5 \r\nQ 43.359375 43.5 44.1875 38.484375 \r\nL 35.59375 37.3125 \r\nQ 35.015625 41.3125 32.203125 43.546875 \r\nQ 29.390625 45.796875 24.265625 45.796875 \r\nQ 18.21875 45.796875 15.625 43.796875 \r\nQ 13.03125 41.796875 13.03125 39.109375 \r\nQ 13.03125 37.40625 14.109375 36.03125 \r\nQ 15.1875 34.625 17.484375 33.6875 \r\nQ 18.796875 33.203125 25.25 31.453125 \r\nQ 34.578125 28.953125 38.25 27.359375 \r\nQ 41.9375 25.78125 44.03125 22.75 \r\nQ 46.140625 19.734375 46.140625 15.234375 \r\nQ 46.140625 10.84375 43.578125 6.953125 \r\nQ 41.015625 3.078125 36.171875 0.953125 \r\nQ 31.34375 -1.171875 25.25 -1.171875 \r\nQ 15.140625 -1.171875 9.84375 3.03125 \r\nQ 4.546875 7.234375 3.078125 15.484375 \r\nz\r\n\" id=\"ArialMT-115\"/>\r\n       <path d=\"M 42.09375 16.703125 \r\nL 51.171875 15.578125 \r\nQ 49.03125 7.625 43.21875 3.21875 \r\nQ 37.40625 -1.171875 28.375 -1.171875 \r\nQ 17 -1.171875 10.328125 5.828125 \r\nQ 3.65625 12.84375 3.65625 25.484375 \r\nQ 3.65625 38.578125 10.390625 45.796875 \r\nQ 17.140625 53.03125 27.875 53.03125 \r\nQ 38.28125 53.03125 44.875 45.953125 \r\nQ 51.46875 38.875 51.46875 26.03125 \r\nQ 51.46875 25.25 51.421875 23.6875 \r\nL 12.75 23.6875 \r\nQ 13.234375 15.140625 17.578125 10.59375 \r\nQ 21.921875 6.0625 28.421875 6.0625 \r\nQ 33.25 6.0625 36.671875 8.59375 \r\nQ 40.09375 11.140625 42.09375 16.703125 \r\nz\r\nM 13.234375 30.90625 \r\nL 42.1875 30.90625 \r\nQ 41.609375 37.453125 38.875 40.71875 \r\nQ 34.671875 45.796875 27.984375 45.796875 \r\nQ 21.921875 45.796875 17.796875 41.75 \r\nQ 13.671875 37.703125 13.234375 30.90625 \r\nz\r\n\" id=\"ArialMT-101\"/>\r\n       <path id=\"ArialMT-32\"/>\r\n       <path d=\"M 7.71875 0 \r\nL 7.71875 71.578125 \r\nL 34.71875 71.578125 \r\nQ 41.84375 71.578125 45.609375 70.90625 \r\nQ 50.875 70.015625 54.4375 67.546875 \r\nQ 58.015625 65.09375 60.1875 60.640625 \r\nQ 62.359375 56.203125 62.359375 50.875 \r\nQ 62.359375 41.75 56.546875 35.421875 \r\nQ 50.734375 29.109375 35.546875 29.109375 \r\nL 17.1875 29.109375 \r\nL 17.1875 0 \r\nz\r\nM 17.1875 37.546875 \r\nL 35.6875 37.546875 \r\nQ 44.875 37.546875 48.734375 40.96875 \r\nQ 52.59375 44.390625 52.59375 50.59375 \r\nQ 52.59375 55.078125 50.3125 58.265625 \r\nQ 48.046875 61.46875 44.34375 62.5 \r\nQ 41.9375 63.140625 35.5 63.140625 \r\nL 17.1875 63.140625 \r\nz\r\n\" id=\"ArialMT-80\"/>\r\n       <path d=\"M 3.328125 25.921875 \r\nQ 3.328125 40.328125 11.328125 47.265625 \r\nQ 18.015625 53.03125 27.640625 53.03125 \r\nQ 38.328125 53.03125 45.109375 46.015625 \r\nQ 51.90625 39.015625 51.90625 26.65625 \r\nQ 51.90625 16.65625 48.90625 10.90625 \r\nQ 45.90625 5.171875 40.15625 2 \r\nQ 34.421875 -1.171875 27.640625 -1.171875 \r\nQ 16.75 -1.171875 10.03125 5.8125 \r\nQ 3.328125 12.796875 3.328125 25.921875 \r\nz\r\nM 12.359375 25.921875 \r\nQ 12.359375 15.96875 16.703125 11.015625 \r\nQ 21.046875 6.0625 27.640625 6.0625 \r\nQ 34.1875 6.0625 38.53125 11.03125 \r\nQ 42.875 16.015625 42.875 26.21875 \r\nQ 42.875 35.84375 38.5 40.796875 \r\nQ 34.125 45.75 27.640625 45.75 \r\nQ 21.046875 45.75 16.703125 40.8125 \r\nQ 12.359375 35.890625 12.359375 25.921875 \r\nz\r\n\" id=\"ArialMT-111\"/>\r\n       <path d=\"M 6.640625 61.46875 \r\nL 6.640625 71.578125 \r\nL 15.4375 71.578125 \r\nL 15.4375 61.46875 \r\nz\r\nM 6.640625 0 \r\nL 6.640625 51.859375 \r\nL 15.4375 51.859375 \r\nL 15.4375 0 \r\nz\r\n\" id=\"ArialMT-105\"/>\r\n       <path d=\"M 25.78125 7.859375 \r\nL 27.046875 0.09375 \r\nQ 23.34375 -0.6875 20.40625 -0.6875 \r\nQ 15.625 -0.6875 12.984375 0.828125 \r\nQ 10.359375 2.34375 9.28125 4.8125 \r\nQ 8.203125 7.28125 8.203125 15.1875 \r\nL 8.203125 45.015625 \r\nL 1.765625 45.015625 \r\nL 1.765625 51.859375 \r\nL 8.203125 51.859375 \r\nL 8.203125 64.703125 \r\nL 16.9375 69.96875 \r\nL 16.9375 51.859375 \r\nL 25.78125 51.859375 \r\nL 25.78125 45.015625 \r\nL 16.9375 45.015625 \r\nL 16.9375 14.703125 \r\nQ 16.9375 10.9375 17.40625 9.859375 \r\nQ 17.875 8.796875 18.921875 8.15625 \r\nQ 19.96875 7.515625 21.921875 7.515625 \r\nQ 23.390625 7.515625 25.78125 7.859375 \r\nz\r\n\" id=\"ArialMT-116\"/>\r\n       <path d=\"M 21 0 \r\nL 1.265625 51.859375 \r\nL 10.546875 51.859375 \r\nL 21.6875 20.796875 \r\nQ 23.484375 15.765625 25 10.359375 \r\nQ 26.171875 14.453125 28.265625 20.21875 \r\nL 39.796875 51.859375 \r\nL 48.828125 51.859375 \r\nL 29.203125 0 \r\nz\r\n\" id=\"ArialMT-118\"/>\r\n       <path d=\"M 7.859375 0 \r\nL 7.859375 71.578125 \r\nL 39.59375 71.578125 \r\nQ 49.171875 71.578125 54.140625 69.640625 \r\nQ 59.125 67.71875 62.109375 62.828125 \r\nQ 65.09375 57.953125 65.09375 52.046875 \r\nQ 65.09375 44.4375 60.15625 39.203125 \r\nQ 55.21875 33.984375 44.921875 32.5625 \r\nQ 48.6875 30.765625 50.640625 29 \r\nQ 54.78125 25.203125 58.5 19.484375 \r\nL 70.953125 0 \r\nL 59.03125 0 \r\nL 49.5625 14.890625 \r\nQ 45.40625 21.34375 42.71875 24.75 \r\nQ 40.046875 28.171875 37.921875 29.53125 \r\nQ 35.796875 30.90625 33.59375 31.453125 \r\nQ 31.984375 31.78125 28.328125 31.78125 \r\nL 17.328125 31.78125 \r\nL 17.328125 0 \r\nz\r\nM 17.328125 39.984375 \r\nL 37.703125 39.984375 \r\nQ 44.1875 39.984375 47.84375 41.328125 \r\nQ 51.515625 42.671875 53.421875 45.625 \r\nQ 55.328125 48.578125 55.328125 52.046875 \r\nQ 55.328125 57.125 51.640625 60.390625 \r\nQ 47.953125 63.671875 39.984375 63.671875 \r\nL 17.328125 63.671875 \r\nz\r\n\" id=\"ArialMT-82\"/>\r\n      </defs>\r\n      <use xlink:href=\"#ArialMT-70\"/>\r\n      <use x=\"61.083984\" xlink:href=\"#ArialMT-97\"/>\r\n      <use x=\"116.699219\" xlink:href=\"#ArialMT-108\"/>\r\n      <use x=\"138.916016\" xlink:href=\"#ArialMT-115\"/>\r\n      <use x=\"188.916016\" xlink:href=\"#ArialMT-101\"/>\r\n      <use x=\"244.53125\" xlink:href=\"#ArialMT-32\"/>\r\n      <use x=\"272.314453\" xlink:href=\"#ArialMT-80\"/>\r\n      <use x=\"339.013672\" xlink:href=\"#ArialMT-111\"/>\r\n      <use x=\"394.628906\" xlink:href=\"#ArialMT-115\"/>\r\n      <use x=\"444.628906\" xlink:href=\"#ArialMT-105\"/>\r\n      <use x=\"466.845703\" xlink:href=\"#ArialMT-116\"/>\r\n      <use x=\"494.628906\" xlink:href=\"#ArialMT-105\"/>\r\n      <use x=\"516.845703\" xlink:href=\"#ArialMT-118\"/>\r\n      <use x=\"566.845703\" xlink:href=\"#ArialMT-101\"/>\r\n      <use x=\"622.460938\" xlink:href=\"#ArialMT-32\"/>\r\n      <use x=\"650.244141\" xlink:href=\"#ArialMT-82\"/>\r\n      <use x=\"722.460938\" xlink:href=\"#ArialMT-97\"/>\r\n      <use x=\"778.076172\" xlink:href=\"#ArialMT-116\"/>\r\n      <use x=\"805.859375\" xlink:href=\"#ArialMT-101\"/>\r\n     </g>\r\n    </g>\r\n   </g>\r\n   <g id=\"matplotlib.axis_2\">\r\n    <g id=\"ytick_1\">\r\n     <g id=\"line2d_7\">\r\n      <path clip-path=\"url(#pa4fc10efc5)\" d=\"M 46.964375 348.095625 \r\nL 549.164375 348.095625 \r\n\" style=\"fill:none;stroke:#ffffff;stroke-linecap:round;\"/>\r\n     </g>\r\n     <g id=\"text_8\">\r\n      <!-- 0.0 -->\r\n      <g style=\"fill:#262626;\" transform=\"translate(22.174375 352.032422)scale(0.11 -0.11)\">\r\n       <use xlink:href=\"#ArialMT-48\"/>\r\n       <use x=\"55.615234\" xlink:href=\"#ArialMT-46\"/>\r\n       <use x=\"83.398438\" xlink:href=\"#ArialMT-48\"/>\r\n      </g>\r\n     </g>\r\n    </g>\r\n    <g id=\"ytick_2\">\r\n     <g id=\"line2d_8\">\r\n      <path clip-path=\"url(#pa4fc10efc5)\" d=\"M 46.964375 285.969911 \r\nL 549.164375 285.969911 \r\n\" style=\"fill:none;stroke:#ffffff;stroke-linecap:round;\"/>\r\n     </g>\r\n     <g id=\"text_9\">\r\n      <!-- 0.2 -->\r\n      <g style=\"fill:#262626;\" transform=\"translate(22.174375 289.906708)scale(0.11 -0.11)\">\r\n       <use xlink:href=\"#ArialMT-48\"/>\r\n       <use x=\"55.615234\" xlink:href=\"#ArialMT-46\"/>\r\n       <use x=\"83.398438\" xlink:href=\"#ArialMT-50\"/>\r\n      </g>\r\n     </g>\r\n    </g>\r\n    <g id=\"ytick_3\">\r\n     <g id=\"line2d_9\">\r\n      <path clip-path=\"url(#pa4fc10efc5)\" d=\"M 46.964375 223.844196 \r\nL 549.164375 223.844196 \r\n\" style=\"fill:none;stroke:#ffffff;stroke-linecap:round;\"/>\r\n     </g>\r\n     <g id=\"text_10\">\r\n      <!-- 0.4 -->\r\n      <g style=\"fill:#262626;\" transform=\"translate(22.174375 227.780993)scale(0.11 -0.11)\">\r\n       <use xlink:href=\"#ArialMT-48\"/>\r\n       <use x=\"55.615234\" xlink:href=\"#ArialMT-46\"/>\r\n       <use x=\"83.398438\" xlink:href=\"#ArialMT-52\"/>\r\n      </g>\r\n     </g>\r\n    </g>\r\n    <g id=\"ytick_4\">\r\n     <g id=\"line2d_10\">\r\n      <path clip-path=\"url(#pa4fc10efc5)\" d=\"M 46.964375 161.718482 \r\nL 549.164375 161.718482 \r\n\" style=\"fill:none;stroke:#ffffff;stroke-linecap:round;\"/>\r\n     </g>\r\n     <g id=\"text_11\">\r\n      <!-- 0.6 -->\r\n      <g style=\"fill:#262626;\" transform=\"translate(22.174375 165.655279)scale(0.11 -0.11)\">\r\n       <use xlink:href=\"#ArialMT-48\"/>\r\n       <use x=\"55.615234\" xlink:href=\"#ArialMT-46\"/>\r\n       <use x=\"83.398438\" xlink:href=\"#ArialMT-54\"/>\r\n      </g>\r\n     </g>\r\n    </g>\r\n    <g id=\"ytick_5\">\r\n     <g id=\"line2d_11\">\r\n      <path clip-path=\"url(#pa4fc10efc5)\" d=\"M 46.964375 99.592768 \r\nL 549.164375 99.592768 \r\n\" style=\"fill:none;stroke:#ffffff;stroke-linecap:round;\"/>\r\n     </g>\r\n     <g id=\"text_12\">\r\n      <!-- 0.8 -->\r\n      <g style=\"fill:#262626;\" transform=\"translate(22.174375 103.529565)scale(0.11 -0.11)\">\r\n       <use xlink:href=\"#ArialMT-48\"/>\r\n       <use x=\"55.615234\" xlink:href=\"#ArialMT-46\"/>\r\n       <use x=\"83.398438\" xlink:href=\"#ArialMT-56\"/>\r\n      </g>\r\n     </g>\r\n    </g>\r\n    <g id=\"ytick_6\">\r\n     <g id=\"line2d_12\">\r\n      <path clip-path=\"url(#pa4fc10efc5)\" d=\"M 46.964375 37.467054 \r\nL 549.164375 37.467054 \r\n\" style=\"fill:none;stroke:#ffffff;stroke-linecap:round;\"/>\r\n     </g>\r\n     <g id=\"text_13\">\r\n      <!-- 1.0 -->\r\n      <g style=\"fill:#262626;\" transform=\"translate(22.174375 41.40385)scale(0.11 -0.11)\">\r\n       <use xlink:href=\"#ArialMT-49\"/>\r\n       <use x=\"55.615234\" xlink:href=\"#ArialMT-46\"/>\r\n       <use x=\"83.398438\" xlink:href=\"#ArialMT-48\"/>\r\n      </g>\r\n     </g>\r\n    </g>\r\n    <g id=\"text_14\">\r\n     <!-- True Positive Rate -->\r\n     <g style=\"fill:#262626;\" transform=\"translate(15.789375 234.141562)rotate(-90)scale(0.12 -0.12)\">\r\n      <defs>\r\n       <path d=\"M 25.921875 0 \r\nL 25.921875 63.140625 \r\nL 2.34375 63.140625 \r\nL 2.34375 71.578125 \r\nL 59.078125 71.578125 \r\nL 59.078125 63.140625 \r\nL 35.40625 63.140625 \r\nL 35.40625 0 \r\nz\r\n\" id=\"ArialMT-84\"/>\r\n       <path d=\"M 6.5 0 \r\nL 6.5 51.859375 \r\nL 14.40625 51.859375 \r\nL 14.40625 44 \r\nQ 17.4375 49.515625 20 51.265625 \r\nQ 22.5625 53.03125 25.640625 53.03125 \r\nQ 30.078125 53.03125 34.671875 50.203125 \r\nL 31.640625 42.046875 \r\nQ 28.421875 43.953125 25.203125 43.953125 \r\nQ 22.3125 43.953125 20.015625 42.21875 \r\nQ 17.71875 40.484375 16.75 37.40625 \r\nQ 15.28125 32.71875 15.28125 27.15625 \r\nL 15.28125 0 \r\nz\r\n\" id=\"ArialMT-114\"/>\r\n       <path d=\"M 40.578125 0 \r\nL 40.578125 7.625 \r\nQ 34.515625 -1.171875 24.125 -1.171875 \r\nQ 19.53125 -1.171875 15.546875 0.578125 \r\nQ 11.578125 2.34375 9.640625 5 \r\nQ 7.71875 7.671875 6.9375 11.53125 \r\nQ 6.390625 14.109375 6.390625 19.734375 \r\nL 6.390625 51.859375 \r\nL 15.1875 51.859375 \r\nL 15.1875 23.09375 \r\nQ 15.1875 16.21875 15.71875 13.8125 \r\nQ 16.546875 10.359375 19.234375 8.375 \r\nQ 21.921875 6.390625 25.875 6.390625 \r\nQ 29.828125 6.390625 33.296875 8.421875 \r\nQ 36.765625 10.453125 38.203125 13.9375 \r\nQ 39.65625 17.4375 39.65625 24.078125 \r\nL 39.65625 51.859375 \r\nL 48.4375 51.859375 \r\nL 48.4375 0 \r\nz\r\n\" id=\"ArialMT-117\"/>\r\n      </defs>\r\n      <use xlink:href=\"#ArialMT-84\"/>\r\n      <use x=\"57.333984\" xlink:href=\"#ArialMT-114\"/>\r\n      <use x=\"90.634766\" xlink:href=\"#ArialMT-117\"/>\r\n      <use x=\"146.25\" xlink:href=\"#ArialMT-101\"/>\r\n      <use x=\"201.865234\" xlink:href=\"#ArialMT-32\"/>\r\n      <use x=\"229.648438\" xlink:href=\"#ArialMT-80\"/>\r\n      <use x=\"296.347656\" xlink:href=\"#ArialMT-111\"/>\r\n      <use x=\"351.962891\" xlink:href=\"#ArialMT-115\"/>\r\n      <use x=\"401.962891\" xlink:href=\"#ArialMT-105\"/>\r\n      <use x=\"424.179688\" xlink:href=\"#ArialMT-116\"/>\r\n      <use x=\"451.962891\" xlink:href=\"#ArialMT-105\"/>\r\n      <use x=\"474.179688\" xlink:href=\"#ArialMT-118\"/>\r\n      <use x=\"524.179688\" xlink:href=\"#ArialMT-101\"/>\r\n      <use x=\"579.794922\" xlink:href=\"#ArialMT-32\"/>\r\n      <use x=\"607.578125\" xlink:href=\"#ArialMT-82\"/>\r\n      <use x=\"679.794922\" xlink:href=\"#ArialMT-97\"/>\r\n      <use x=\"735.410156\" xlink:href=\"#ArialMT-116\"/>\r\n      <use x=\"763.193359\" xlink:href=\"#ArialMT-101\"/>\r\n     </g>\r\n    </g>\r\n   </g>\r\n   <g id=\"line2d_13\">\r\n    <path clip-path=\"url(#pa4fc10efc5)\" d=\"M 46.964375 348.095625 \r\nL 46.964375 166.895625 \r\nL 48.632814 165.601339 \r\nL 48.632814 164.954196 \r\nL 50.301252 161.718482 \r\nL 50.301252 137.774196 \r\nL 51.969691 132.597054 \r\nL 51.969691 123.537054 \r\nL 53.638129 123.537054 \r\nL 53.638129 116.418482 \r\nL 55.306568 113.829911 \r\nL 55.306568 98.298482 \r\nL 56.975006 97.004196 \r\nL 56.975006 92.474196 \r\nL 58.643445 91.179911 \r\nL 58.643445 70.471339 \r\nL 60.311883 70.471339 \r\nL 60.311883 68.529911 \r\nL 63.64876 68.529911 \r\nL 65.317199 67.882768 \r\nL 65.317199 67.235625 \r\nL 68.654076 67.235625 \r\nL 70.322515 66.588482 \r\nL 71.990953 66.588482 \r\nL 71.990953 65.941339 \r\nL 73.659392 65.294196 \r\nL 73.659392 64.647054 \r\nL 75.32783 64.647054 \r\nL 75.32783 63.352768 \r\nL 76.996269 62.705625 \r\nL 76.996269 62.058482 \r\nL 82.001584 62.058482 \r\nL 85.338461 60.117054 \r\nL 88.675338 60.117054 \r\nL 92.012216 59.469911 \r\nL 95.349093 59.469911 \r\nL 97.017531 58.175625 \r\nL 112.033478 58.175625 \r\nL 115.370355 57.528482 \r\nL 123.712548 57.528482 \r\nL 125.380986 56.881339 \r\nL 147.070687 56.881339 \r\nL 148.739126 56.234196 \r\nL 157.081319 56.234196 \r\nL 162.086634 55.587054 \r\nL 178.77102 55.587054 \r\nL 185.444774 54.939911 \r\nL 193.786966 54.939911 \r\nL 202.129159 54.292768 \r\nL 203.797598 53.645625 \r\nL 210.471352 53.645625 \r\nL 335.604242 43.291339 \r\nL 345.614873 43.291339 \r\nL 345.614873 42.644196 \r\nL 358.962382 42.644196 \r\nL 358.962382 41.997054 \r\nL 368.973013 41.997054 \r\nL 370.641451 41.349911 \r\nL 375.646767 41.349911 \r\nL 378.983644 40.702768 \r\nL 414.020853 40.702768 \r\nL 417.35773 38.761339 \r\nL 422.363046 38.761339 \r\nL 424.031485 38.114196 \r\nL 424.031485 37.467054 \r\nL 549.164375 37.467054 \r\nL 549.164375 37.467054 \r\n\" style=\"fill:none;stroke:#4c72b0;stroke-linecap:round;stroke-width:1.5;\"/>\r\n   </g>\r\n   <g id=\"line2d_14\">\r\n    <path clip-path=\"url(#pa4fc10efc5)\" d=\"M 46.964375 348.095625 \r\nL 549.164375 37.467054 \r\n\" style=\"fill:none;stroke:#1a1a1a;stroke-dasharray:5.55,2.4;stroke-dashoffset:0;stroke-width:1.5;\"/>\r\n   </g>\r\n   <g id=\"patch_3\">\r\n    <path d=\"M 46.964375 348.095625 \r\nL 46.964375 21.935625 \r\n\" style=\"fill:none;stroke:#ffffff;stroke-linecap:square;stroke-linejoin:miter;stroke-width:1.25;\"/>\r\n   </g>\r\n   <g id=\"patch_4\">\r\n    <path d=\"M 549.164375 348.095625 \r\nL 549.164375 21.935625 \r\n\" style=\"fill:none;stroke:#ffffff;stroke-linecap:square;stroke-linejoin:miter;stroke-width:1.25;\"/>\r\n   </g>\r\n   <g id=\"patch_5\">\r\n    <path d=\"M 46.964375 348.095625 \r\nL 549.164375 348.095625 \r\n\" style=\"fill:none;stroke:#ffffff;stroke-linecap:square;stroke-linejoin:miter;stroke-width:1.25;\"/>\r\n   </g>\r\n   <g id=\"patch_6\">\r\n    <path d=\"M 46.964375 21.935625 \r\nL 549.164375 21.935625 \r\n\" style=\"fill:none;stroke:#ffffff;stroke-linecap:square;stroke-linejoin:miter;stroke-width:1.25;\"/>\r\n   </g>\r\n   <g id=\"text_15\">\r\n    <!-- Receiver operating characteristic for first model (on all the data) -->\r\n    <g style=\"fill:#262626;\" transform=\"translate(129.335 15.935625)scale(0.12 -0.12)\">\r\n     <defs>\r\n      <path d=\"M 40.4375 19 \r\nL 49.078125 17.875 \r\nQ 47.65625 8.9375 41.8125 3.875 \r\nQ 35.984375 -1.171875 27.484375 -1.171875 \r\nQ 16.84375 -1.171875 10.375 5.78125 \r\nQ 3.90625 12.75 3.90625 25.734375 \r\nQ 3.90625 34.125 6.6875 40.421875 \r\nQ 9.46875 46.734375 15.15625 49.875 \r\nQ 20.84375 53.03125 27.546875 53.03125 \r\nQ 35.984375 53.03125 41.359375 48.75 \r\nQ 46.734375 44.484375 48.25 36.625 \r\nL 39.703125 35.296875 \r\nQ 38.484375 40.53125 35.375 43.15625 \r\nQ 32.28125 45.796875 27.875 45.796875 \r\nQ 21.234375 45.796875 17.078125 41.03125 \r\nQ 12.9375 36.28125 12.9375 25.984375 \r\nQ 12.9375 15.53125 16.9375 10.796875 \r\nQ 20.953125 6.0625 27.390625 6.0625 \r\nQ 32.5625 6.0625 36.03125 9.234375 \r\nQ 39.5 12.40625 40.4375 19 \r\nz\r\n\" id=\"ArialMT-99\"/>\r\n      <path d=\"M 6.59375 -19.875 \r\nL 6.59375 51.859375 \r\nL 14.59375 51.859375 \r\nL 14.59375 45.125 \r\nQ 17.4375 49.078125 21 51.046875 \r\nQ 24.5625 53.03125 29.640625 53.03125 \r\nQ 36.28125 53.03125 41.359375 49.609375 \r\nQ 46.4375 46.1875 49.015625 39.953125 \r\nQ 51.609375 33.734375 51.609375 26.3125 \r\nQ 51.609375 18.359375 48.75 11.984375 \r\nQ 45.90625 5.609375 40.453125 2.21875 \r\nQ 35.015625 -1.171875 29 -1.171875 \r\nQ 24.609375 -1.171875 21.109375 0.6875 \r\nQ 17.625 2.546875 15.375 5.375 \r\nL 15.375 -19.875 \r\nz\r\nM 14.546875 25.640625 \r\nQ 14.546875 15.625 18.59375 10.84375 \r\nQ 22.65625 6.0625 28.421875 6.0625 \r\nQ 34.28125 6.0625 38.453125 11.015625 \r\nQ 42.625 15.96875 42.625 26.375 \r\nQ 42.625 36.28125 38.546875 41.203125 \r\nQ 34.46875 46.140625 28.8125 46.140625 \r\nQ 23.1875 46.140625 18.859375 40.890625 \r\nQ 14.546875 35.640625 14.546875 25.640625 \r\nz\r\n\" id=\"ArialMT-112\"/>\r\n      <path d=\"M 6.59375 0 \r\nL 6.59375 51.859375 \r\nL 14.5 51.859375 \r\nL 14.5 44.484375 \r\nQ 20.21875 53.03125 31 53.03125 \r\nQ 35.6875 53.03125 39.625 51.34375 \r\nQ 43.5625 49.65625 45.515625 46.921875 \r\nQ 47.46875 44.1875 48.25 40.4375 \r\nQ 48.734375 37.984375 48.734375 31.890625 \r\nL 48.734375 0 \r\nL 39.9375 0 \r\nL 39.9375 31.546875 \r\nQ 39.9375 36.921875 38.90625 39.578125 \r\nQ 37.890625 42.234375 35.28125 43.8125 \r\nQ 32.671875 45.40625 29.15625 45.40625 \r\nQ 23.53125 45.40625 19.453125 41.84375 \r\nQ 15.375 38.28125 15.375 28.328125 \r\nL 15.375 0 \r\nz\r\n\" id=\"ArialMT-110\"/>\r\n      <path d=\"M 4.984375 -4.296875 \r\nL 13.53125 -5.5625 \r\nQ 14.0625 -9.515625 16.5 -11.328125 \r\nQ 19.78125 -13.765625 25.4375 -13.765625 \r\nQ 31.546875 -13.765625 34.859375 -11.328125 \r\nQ 38.1875 -8.890625 39.359375 -4.5 \r\nQ 40.046875 -1.8125 39.984375 6.78125 \r\nQ 34.234375 0 25.640625 0 \r\nQ 14.9375 0 9.078125 7.71875 \r\nQ 3.21875 15.4375 3.21875 26.21875 \r\nQ 3.21875 33.640625 5.90625 39.90625 \r\nQ 8.59375 46.1875 13.6875 49.609375 \r\nQ 18.796875 53.03125 25.6875 53.03125 \r\nQ 34.859375 53.03125 40.828125 45.609375 \r\nL 40.828125 51.859375 \r\nL 48.921875 51.859375 \r\nL 48.921875 7.03125 \r\nQ 48.921875 -5.078125 46.453125 -10.125 \r\nQ 44 -15.1875 38.640625 -18.109375 \r\nQ 33.296875 -21.046875 25.484375 -21.046875 \r\nQ 16.21875 -21.046875 10.5 -16.875 \r\nQ 4.78125 -12.703125 4.984375 -4.296875 \r\nz\r\nM 12.25 26.859375 \r\nQ 12.25 16.65625 16.296875 11.96875 \r\nQ 20.359375 7.28125 26.46875 7.28125 \r\nQ 32.515625 7.28125 36.609375 11.9375 \r\nQ 40.71875 16.609375 40.71875 26.5625 \r\nQ 40.71875 36.078125 36.5 40.90625 \r\nQ 32.28125 45.75 26.3125 45.75 \r\nQ 20.453125 45.75 16.34375 40.984375 \r\nQ 12.25 36.234375 12.25 26.859375 \r\nz\r\n\" id=\"ArialMT-103\"/>\r\n      <path d=\"M 6.59375 0 \r\nL 6.59375 71.578125 \r\nL 15.375 71.578125 \r\nL 15.375 45.90625 \r\nQ 21.53125 53.03125 30.90625 53.03125 \r\nQ 36.671875 53.03125 40.921875 50.75 \r\nQ 45.171875 48.484375 47 44.484375 \r\nQ 48.828125 40.484375 48.828125 32.859375 \r\nL 48.828125 0 \r\nL 40.046875 0 \r\nL 40.046875 32.859375 \r\nQ 40.046875 39.453125 37.1875 42.453125 \r\nQ 34.328125 45.453125 29.109375 45.453125 \r\nQ 25.203125 45.453125 21.75 43.421875 \r\nQ 18.3125 41.40625 16.84375 37.9375 \r\nQ 15.375 34.46875 15.375 28.375 \r\nL 15.375 0 \r\nz\r\n\" id=\"ArialMT-104\"/>\r\n      <path d=\"M 8.6875 0 \r\nL 8.6875 45.015625 \r\nL 0.921875 45.015625 \r\nL 0.921875 51.859375 \r\nL 8.6875 51.859375 \r\nL 8.6875 57.375 \r\nQ 8.6875 62.59375 9.625 65.140625 \r\nQ 10.890625 68.5625 14.078125 70.671875 \r\nQ 17.28125 72.796875 23.046875 72.796875 \r\nQ 26.765625 72.796875 31.25 71.921875 \r\nL 29.9375 64.265625 \r\nQ 27.203125 64.75 24.75 64.75 \r\nQ 20.75 64.75 19.09375 63.03125 \r\nQ 17.4375 61.328125 17.4375 56.640625 \r\nL 17.4375 51.859375 \r\nL 27.546875 51.859375 \r\nL 27.546875 45.015625 \r\nL 17.4375 45.015625 \r\nL 17.4375 0 \r\nz\r\n\" id=\"ArialMT-102\"/>\r\n      <path d=\"M 6.59375 0 \r\nL 6.59375 51.859375 \r\nL 14.453125 51.859375 \r\nL 14.453125 44.578125 \r\nQ 16.890625 48.390625 20.9375 50.703125 \r\nQ 25 53.03125 30.171875 53.03125 \r\nQ 35.9375 53.03125 39.625 50.640625 \r\nQ 43.3125 48.25 44.828125 43.953125 \r\nQ 50.984375 53.03125 60.84375 53.03125 \r\nQ 68.5625 53.03125 72.703125 48.75 \r\nQ 76.859375 44.484375 76.859375 35.59375 \r\nL 76.859375 0 \r\nL 68.109375 0 \r\nL 68.109375 32.671875 \r\nQ 68.109375 37.9375 67.25 40.25 \r\nQ 66.40625 42.578125 64.15625 43.984375 \r\nQ 61.921875 45.40625 58.890625 45.40625 \r\nQ 53.421875 45.40625 49.796875 41.765625 \r\nQ 46.1875 38.140625 46.1875 30.125 \r\nL 46.1875 0 \r\nL 37.40625 0 \r\nL 37.40625 33.6875 \r\nQ 37.40625 39.546875 35.25 42.46875 \r\nQ 33.109375 45.40625 28.21875 45.40625 \r\nQ 24.515625 45.40625 21.359375 43.453125 \r\nQ 18.21875 41.5 16.796875 37.734375 \r\nQ 15.375 33.984375 15.375 26.90625 \r\nL 15.375 0 \r\nz\r\n\" id=\"ArialMT-109\"/>\r\n      <path d=\"M 40.234375 0 \r\nL 40.234375 6.546875 \r\nQ 35.296875 -1.171875 25.734375 -1.171875 \r\nQ 19.53125 -1.171875 14.328125 2.25 \r\nQ 9.125 5.671875 6.265625 11.796875 \r\nQ 3.421875 17.921875 3.421875 25.875 \r\nQ 3.421875 33.640625 6 39.96875 \r\nQ 8.59375 46.296875 13.765625 49.65625 \r\nQ 18.953125 53.03125 25.34375 53.03125 \r\nQ 30.03125 53.03125 33.6875 51.046875 \r\nQ 37.359375 49.078125 39.65625 45.90625 \r\nL 39.65625 71.578125 \r\nL 48.390625 71.578125 \r\nL 48.390625 0 \r\nz\r\nM 12.453125 25.875 \r\nQ 12.453125 15.921875 16.640625 10.984375 \r\nQ 20.84375 6.0625 26.5625 6.0625 \r\nQ 32.328125 6.0625 36.34375 10.765625 \r\nQ 40.375 15.484375 40.375 25.140625 \r\nQ 40.375 35.796875 36.265625 40.765625 \r\nQ 32.171875 45.75 26.171875 45.75 \r\nQ 20.3125 45.75 16.375 40.96875 \r\nQ 12.453125 36.1875 12.453125 25.875 \r\nz\r\n\" id=\"ArialMT-100\"/>\r\n      <path d=\"M 23.390625 -21.046875 \r\nQ 16.109375 -11.859375 11.078125 0.4375 \r\nQ 6.0625 12.75 6.0625 25.921875 \r\nQ 6.0625 37.546875 9.8125 48.1875 \r\nQ 14.203125 60.546875 23.390625 72.796875 \r\nL 29.6875 72.796875 \r\nQ 23.78125 62.640625 21.875 58.296875 \r\nQ 18.890625 51.5625 17.1875 44.234375 \r\nQ 15.09375 35.109375 15.09375 25.875 \r\nQ 15.09375 2.390625 29.6875 -21.046875 \r\nz\r\n\" id=\"ArialMT-40\"/>\r\n      <path d=\"M 12.359375 -21.046875 \r\nL 6.0625 -21.046875 \r\nQ 20.65625 2.390625 20.65625 25.875 \r\nQ 20.65625 35.0625 18.5625 44.09375 \r\nQ 16.890625 51.421875 13.921875 58.15625 \r\nQ 12.015625 62.546875 6.0625 72.796875 \r\nL 12.359375 72.796875 \r\nQ 21.53125 60.546875 25.921875 48.1875 \r\nQ 29.6875 37.546875 29.6875 25.921875 \r\nQ 29.6875 12.75 24.625 0.4375 \r\nQ 19.578125 -11.859375 12.359375 -21.046875 \r\nz\r\n\" id=\"ArialMT-41\"/>\r\n     </defs>\r\n     <use xlink:href=\"#ArialMT-82\"/>\r\n     <use x=\"72.216797\" xlink:href=\"#ArialMT-101\"/>\r\n     <use x=\"127.832031\" xlink:href=\"#ArialMT-99\"/>\r\n     <use x=\"177.832031\" xlink:href=\"#ArialMT-101\"/>\r\n     <use x=\"233.447266\" xlink:href=\"#ArialMT-105\"/>\r\n     <use x=\"255.664062\" xlink:href=\"#ArialMT-118\"/>\r\n     <use x=\"305.664062\" xlink:href=\"#ArialMT-101\"/>\r\n     <use x=\"361.279297\" xlink:href=\"#ArialMT-114\"/>\r\n     <use x=\"394.580078\" xlink:href=\"#ArialMT-32\"/>\r\n     <use x=\"422.363281\" xlink:href=\"#ArialMT-111\"/>\r\n     <use x=\"477.978516\" xlink:href=\"#ArialMT-112\"/>\r\n     <use x=\"533.59375\" xlink:href=\"#ArialMT-101\"/>\r\n     <use x=\"589.208984\" xlink:href=\"#ArialMT-114\"/>\r\n     <use x=\"622.509766\" xlink:href=\"#ArialMT-97\"/>\r\n     <use x=\"678.125\" xlink:href=\"#ArialMT-116\"/>\r\n     <use x=\"705.908203\" xlink:href=\"#ArialMT-105\"/>\r\n     <use x=\"728.125\" xlink:href=\"#ArialMT-110\"/>\r\n     <use x=\"783.740234\" xlink:href=\"#ArialMT-103\"/>\r\n     <use x=\"839.355469\" xlink:href=\"#ArialMT-32\"/>\r\n     <use x=\"867.138672\" xlink:href=\"#ArialMT-99\"/>\r\n     <use x=\"917.138672\" xlink:href=\"#ArialMT-104\"/>\r\n     <use x=\"972.753906\" xlink:href=\"#ArialMT-97\"/>\r\n     <use x=\"1028.369141\" xlink:href=\"#ArialMT-114\"/>\r\n     <use x=\"1061.669922\" xlink:href=\"#ArialMT-97\"/>\r\n     <use x=\"1117.285156\" xlink:href=\"#ArialMT-99\"/>\r\n     <use x=\"1167.285156\" xlink:href=\"#ArialMT-116\"/>\r\n     <use x=\"1195.068359\" xlink:href=\"#ArialMT-101\"/>\r\n     <use x=\"1250.683594\" xlink:href=\"#ArialMT-114\"/>\r\n     <use x=\"1283.984375\" xlink:href=\"#ArialMT-105\"/>\r\n     <use x=\"1306.201172\" xlink:href=\"#ArialMT-115\"/>\r\n     <use x=\"1356.201172\" xlink:href=\"#ArialMT-116\"/>\r\n     <use x=\"1383.984375\" xlink:href=\"#ArialMT-105\"/>\r\n     <use x=\"1406.201172\" xlink:href=\"#ArialMT-99\"/>\r\n     <use x=\"1456.201172\" xlink:href=\"#ArialMT-32\"/>\r\n     <use x=\"1483.984375\" xlink:href=\"#ArialMT-102\"/>\r\n     <use x=\"1511.767578\" xlink:href=\"#ArialMT-111\"/>\r\n     <use x=\"1567.382812\" xlink:href=\"#ArialMT-114\"/>\r\n     <use x=\"1600.683594\" xlink:href=\"#ArialMT-32\"/>\r\n     <use x=\"1628.466797\" xlink:href=\"#ArialMT-102\"/>\r\n     <use x=\"1656.25\" xlink:href=\"#ArialMT-105\"/>\r\n     <use x=\"1678.466797\" xlink:href=\"#ArialMT-114\"/>\r\n     <use x=\"1711.767578\" xlink:href=\"#ArialMT-115\"/>\r\n     <use x=\"1761.767578\" xlink:href=\"#ArialMT-116\"/>\r\n     <use x=\"1789.550781\" xlink:href=\"#ArialMT-32\"/>\r\n     <use x=\"1817.333984\" xlink:href=\"#ArialMT-109\"/>\r\n     <use x=\"1900.634766\" xlink:href=\"#ArialMT-111\"/>\r\n     <use x=\"1956.25\" xlink:href=\"#ArialMT-100\"/>\r\n     <use x=\"2011.865234\" xlink:href=\"#ArialMT-101\"/>\r\n     <use x=\"2067.480469\" xlink:href=\"#ArialMT-108\"/>\r\n     <use x=\"2089.697266\" xlink:href=\"#ArialMT-32\"/>\r\n     <use x=\"2117.480469\" xlink:href=\"#ArialMT-40\"/>\r\n     <use x=\"2150.78125\" xlink:href=\"#ArialMT-111\"/>\r\n     <use x=\"2206.396484\" xlink:href=\"#ArialMT-110\"/>\r\n     <use x=\"2262.011719\" xlink:href=\"#ArialMT-32\"/>\r\n     <use x=\"2289.794922\" xlink:href=\"#ArialMT-97\"/>\r\n     <use x=\"2345.410156\" xlink:href=\"#ArialMT-108\"/>\r\n     <use x=\"2367.626953\" xlink:href=\"#ArialMT-108\"/>\r\n     <use x=\"2389.84375\" xlink:href=\"#ArialMT-32\"/>\r\n     <use x=\"2417.626953\" xlink:href=\"#ArialMT-116\"/>\r\n     <use x=\"2445.410156\" xlink:href=\"#ArialMT-104\"/>\r\n     <use x=\"2501.025391\" xlink:href=\"#ArialMT-101\"/>\r\n     <use x=\"2556.640625\" xlink:href=\"#ArialMT-32\"/>\r\n     <use x=\"2584.423828\" xlink:href=\"#ArialMT-100\"/>\r\n     <use x=\"2640.039062\" xlink:href=\"#ArialMT-97\"/>\r\n     <use x=\"2695.654297\" xlink:href=\"#ArialMT-116\"/>\r\n     <use x=\"2723.4375\" xlink:href=\"#ArialMT-97\"/>\r\n     <use x=\"2779.052734\" xlink:href=\"#ArialMT-41\"/>\r\n    </g>\r\n   </g>\r\n   <g id=\"legend_1\">\r\n    <g id=\"patch_7\">\r\n     <path d=\"M 379.412031 342.595625 \r\nL 541.464375 342.595625 \r\nQ 543.664375 342.595625 543.664375 340.395625 \r\nL 543.664375 325.665937 \r\nQ 543.664375 323.465937 541.464375 323.465937 \r\nL 379.412031 323.465937 \r\nQ 377.212031 323.465937 377.212031 325.665937 \r\nL 377.212031 340.395625 \r\nQ 377.212031 342.595625 379.412031 342.595625 \r\nz\r\n\" style=\"fill:#eaeaf2;opacity:0.8;stroke:#cccccc;stroke-linejoin:miter;\"/>\r\n    </g>\r\n    <g id=\"line2d_15\">\r\n     <path d=\"M 381.612031 332.030469 \r\nL 403.612031 332.030469 \r\n\" style=\"fill:none;stroke:#4c72b0;stroke-linecap:round;stroke-width:1.5;\"/>\r\n    </g>\r\n    <g id=\"line2d_16\"/>\r\n    <g id=\"text_16\">\r\n     <!-- ROC curve (area = 0.962) -->\r\n     <g style=\"fill:#262626;\" transform=\"translate(412.412031 335.880469)scale(0.11 -0.11)\">\r\n      <defs>\r\n       <path d=\"M 4.828125 34.859375 \r\nQ 4.828125 52.6875 14.390625 62.765625 \r\nQ 23.96875 72.859375 39.109375 72.859375 \r\nQ 49.03125 72.859375 56.984375 68.109375 \r\nQ 64.9375 63.375 69.109375 54.90625 \r\nQ 73.296875 46.4375 73.296875 35.6875 \r\nQ 73.296875 24.8125 68.890625 16.21875 \r\nQ 64.5 7.625 56.4375 3.203125 \r\nQ 48.390625 -1.21875 39.0625 -1.21875 \r\nQ 28.953125 -1.21875 20.984375 3.65625 \r\nQ 13.03125 8.546875 8.921875 16.984375 \r\nQ 4.828125 25.4375 4.828125 34.859375 \r\nz\r\nM 14.59375 34.71875 \r\nQ 14.59375 21.78125 21.546875 14.328125 \r\nQ 28.515625 6.890625 39.015625 6.890625 \r\nQ 49.703125 6.890625 56.609375 14.40625 \r\nQ 63.53125 21.921875 63.53125 35.75 \r\nQ 63.53125 44.484375 60.578125 51 \r\nQ 57.625 57.515625 51.921875 61.109375 \r\nQ 46.234375 64.703125 39.15625 64.703125 \r\nQ 29.109375 64.703125 21.84375 57.78125 \r\nQ 14.59375 50.875 14.59375 34.71875 \r\nz\r\n\" id=\"ArialMT-79\"/>\r\n       <path d=\"M 58.796875 25.09375 \r\nL 68.265625 22.703125 \r\nQ 65.28125 11.03125 57.546875 4.90625 \r\nQ 49.8125 -1.21875 38.625 -1.21875 \r\nQ 27.046875 -1.21875 19.796875 3.484375 \r\nQ 12.546875 8.203125 8.765625 17.140625 \r\nQ 4.984375 26.078125 4.984375 36.328125 \r\nQ 4.984375 47.515625 9.25 55.828125 \r\nQ 13.53125 64.15625 21.40625 68.46875 \r\nQ 29.296875 72.796875 38.765625 72.796875 \r\nQ 49.515625 72.796875 56.828125 67.328125 \r\nQ 64.15625 61.859375 67.046875 51.953125 \r\nL 57.71875 49.75 \r\nQ 55.21875 57.5625 50.484375 61.125 \r\nQ 45.75 64.703125 38.578125 64.703125 \r\nQ 30.328125 64.703125 24.78125 60.734375 \r\nQ 19.234375 56.78125 16.984375 50.109375 \r\nQ 14.75 43.453125 14.75 36.375 \r\nQ 14.75 27.25 17.40625 20.4375 \r\nQ 20.0625 13.625 25.671875 10.25 \r\nQ 31.296875 6.890625 37.84375 6.890625 \r\nQ 45.796875 6.890625 51.3125 11.46875 \r\nQ 56.84375 16.0625 58.796875 25.09375 \r\nz\r\n\" id=\"ArialMT-67\"/>\r\n       <path d=\"M 52.828125 42.09375 \r\nL 5.5625 42.09375 \r\nL 5.5625 50.296875 \r\nL 52.828125 50.296875 \r\nz\r\nM 52.828125 20.359375 \r\nL 5.5625 20.359375 \r\nL 5.5625 28.5625 \r\nL 52.828125 28.5625 \r\nz\r\n\" id=\"ArialMT-61\"/>\r\n       <path d=\"M 5.46875 16.546875 \r\nL 13.921875 17.328125 \r\nQ 14.984375 11.375 18.015625 8.6875 \r\nQ 21.046875 6 25.78125 6 \r\nQ 29.828125 6 32.875 7.859375 \r\nQ 35.9375 9.71875 37.890625 12.8125 \r\nQ 39.84375 15.921875 41.15625 21.1875 \r\nQ 42.484375 26.46875 42.484375 31.9375 \r\nQ 42.484375 32.515625 42.4375 33.6875 \r\nQ 39.796875 29.5 35.234375 26.875 \r\nQ 30.671875 24.265625 25.34375 24.265625 \r\nQ 16.453125 24.265625 10.296875 30.703125 \r\nQ 4.15625 37.15625 4.15625 47.703125 \r\nQ 4.15625 58.59375 10.578125 65.234375 \r\nQ 17 71.875 26.65625 71.875 \r\nQ 33.640625 71.875 39.421875 68.109375 \r\nQ 45.21875 64.359375 48.21875 57.390625 \r\nQ 51.21875 50.4375 51.21875 37.25 \r\nQ 51.21875 23.53125 48.234375 15.40625 \r\nQ 45.265625 7.28125 39.375 3.03125 \r\nQ 33.5 -1.21875 25.59375 -1.21875 \r\nQ 17.1875 -1.21875 11.859375 3.4375 \r\nQ 6.546875 8.109375 5.46875 16.546875 \r\nz\r\nM 41.453125 48.140625 \r\nQ 41.453125 55.71875 37.421875 60.15625 \r\nQ 33.40625 64.59375 27.734375 64.59375 \r\nQ 21.875 64.59375 17.53125 59.8125 \r\nQ 13.1875 55.03125 13.1875 47.40625 \r\nQ 13.1875 40.578125 17.3125 36.296875 \r\nQ 21.4375 32.03125 27.484375 32.03125 \r\nQ 33.59375 32.03125 37.515625 36.296875 \r\nQ 41.453125 40.578125 41.453125 48.140625 \r\nz\r\n\" id=\"ArialMT-57\"/>\r\n      </defs>\r\n      <use xlink:href=\"#ArialMT-82\"/>\r\n      <use x=\"72.216797\" xlink:href=\"#ArialMT-79\"/>\r\n      <use x=\"150\" xlink:href=\"#ArialMT-67\"/>\r\n      <use x=\"222.216797\" xlink:href=\"#ArialMT-32\"/>\r\n      <use x=\"250\" xlink:href=\"#ArialMT-99\"/>\r\n      <use x=\"300\" xlink:href=\"#ArialMT-117\"/>\r\n      <use x=\"355.615234\" xlink:href=\"#ArialMT-114\"/>\r\n      <use x=\"388.916016\" xlink:href=\"#ArialMT-118\"/>\r\n      <use x=\"438.916016\" xlink:href=\"#ArialMT-101\"/>\r\n      <use x=\"494.53125\" xlink:href=\"#ArialMT-32\"/>\r\n      <use x=\"522.314453\" xlink:href=\"#ArialMT-40\"/>\r\n      <use x=\"555.615234\" xlink:href=\"#ArialMT-97\"/>\r\n      <use x=\"611.230469\" xlink:href=\"#ArialMT-114\"/>\r\n      <use x=\"644.53125\" xlink:href=\"#ArialMT-101\"/>\r\n      <use x=\"700.146484\" xlink:href=\"#ArialMT-97\"/>\r\n      <use x=\"755.761719\" xlink:href=\"#ArialMT-32\"/>\r\n      <use x=\"783.544922\" xlink:href=\"#ArialMT-61\"/>\r\n      <use x=\"841.943359\" xlink:href=\"#ArialMT-32\"/>\r\n      <use x=\"869.726562\" xlink:href=\"#ArialMT-48\"/>\r\n      <use x=\"925.341797\" xlink:href=\"#ArialMT-46\"/>\r\n      <use x=\"953.125\" xlink:href=\"#ArialMT-57\"/>\r\n      <use x=\"1008.740234\" xlink:href=\"#ArialMT-54\"/>\r\n      <use x=\"1064.355469\" xlink:href=\"#ArialMT-50\"/>\r\n      <use x=\"1119.970703\" xlink:href=\"#ArialMT-41\"/>\r\n     </g>\r\n    </g>\r\n   </g>\r\n  </g>\r\n </g>\r\n <defs>\r\n  <clipPath id=\"pa4fc10efc5\">\r\n   <rect height=\"326.16\" width=\"502.2\" x=\"46.964375\" y=\"21.935625\"/>\r\n  </clipPath>\r\n </defs>\r\n</svg>\r\n",
      "image/png": "[encoded data removed]"
     },
     "metadata": {}
    }
   ],
   "source": [
    "fpr, tpr, thresholds = roc_curve(y, y_pred_all[:,1])\n",
    "roc_auc= auc(fpr, tpr)\n",
    "plt.figure()\n",
    "plt.plot(fpr, tpr, label='ROC curve (area = %0.3f)' % (roc_auc))\n",
    "plt.plot([0, 1], [0, 1], 'k--')\n",
    "plt.xlim([0.0, 1.0])\n",
    "plt.ylim([0.0, 1.05])\n",
    "plt.xlabel('False Positive Rate')\n",
    "plt.ylabel('True Positive Rate')\n",
    "plt.title('Receiver operating characteristic for first model (on all the data)')\n",
    "plt.legend(loc=\"lower right\")\n",
    "plt.show()"
   ]
  },
  {
   "cell_type": "code",
   "execution_count": 88,
   "metadata": {},
   "outputs": [
    {
     "output_type": "display_data",
     "data": {
      "text/plain": "<Figure size 648x432 with 1 Axes>",
      "image/svg+xml": "<?xml version=\"1.0\" encoding=\"utf-8\" standalone=\"no\"?>\r\n<!DOCTYPE svg PUBLIC \"-//W3C//DTD SVG 1.1//EN\"\r\n  \"http://www.w3.org/Graphics/SVG/1.1/DTD/svg11.dtd\">\r\n<!-- Created with matplotlib (https://matplotlib.org/) -->\r\n<svg height=\"389.829844pt\" version=\"1.1\" viewBox=\"0 0 564.009375 389.829844\" width=\"564.009375pt\" xmlns=\"http://www.w3.org/2000/svg\" xmlns:xlink=\"http://www.w3.org/1999/xlink\">\r\n <metadata>\r\n  <rdf:RDF xmlns:cc=\"http://creativecommons.org/ns#\" xmlns:dc=\"http://purl.org/dc/elements/1.1/\" xmlns:rdf=\"http://www.w3.org/1999/02/22-rdf-syntax-ns#\">\r\n   <cc:Work>\r\n    <dc:type rdf:resource=\"http://purl.org/dc/dcmitype/StillImage\"/>\r\n    <dc:date>2021-02-06T20:40:23.875797</dc:date>\r\n    <dc:format>image/svg+xml</dc:format>\r\n    <dc:creator>\r\n     <cc:Agent>\r\n      <dc:title>Matplotlib v3.3.3, https://matplotlib.org/</dc:title>\r\n     </cc:Agent>\r\n    </dc:creator>\r\n   </cc:Work>\r\n  </rdf:RDF>\r\n </metadata>\r\n <defs>\r\n  <style type=\"text/css\">*{stroke-linecap:butt;stroke-linejoin:round;}</style>\r\n </defs>\r\n <g id=\"figure_1\">\r\n  <g id=\"patch_1\">\r\n   <path d=\"M 0 389.829844 \r\nL 564.009375 389.829844 \r\nL 564.009375 0 \r\nL 0 0 \r\nz\r\n\" style=\"fill:#ffffff;\"/>\r\n  </g>\r\n  <g id=\"axes_1\">\r\n   <g id=\"patch_2\">\r\n    <path d=\"M 46.964375 348.095625 \r\nL 549.164375 348.095625 \r\nL 549.164375 21.935625 \r\nL 46.964375 21.935625 \r\nz\r\n\" style=\"fill:#eaeaf2;\"/>\r\n   </g>\r\n   <g id=\"matplotlib.axis_1\">\r\n    <g id=\"xtick_1\">\r\n     <g id=\"line2d_1\">\r\n      <path clip-path=\"url(#p53ecf327b8)\" d=\"M 46.964375 348.095625 \r\nL 46.964375 21.935625 \r\n\" style=\"fill:none;stroke:#ffffff;stroke-linecap:round;\"/>\r\n     </g>\r\n     <g id=\"text_1\">\r\n      <!-- 0.0 -->\r\n      <g style=\"fill:#262626;\" transform=\"translate(39.319375 365.469219)scale(0.11 -0.11)\">\r\n       <defs>\r\n        <path d=\"M 4.15625 35.296875 \r\nQ 4.15625 48 6.765625 55.734375 \r\nQ 9.375 63.484375 14.515625 67.671875 \r\nQ 19.671875 71.875 27.484375 71.875 \r\nQ 33.25 71.875 37.59375 69.546875 \r\nQ 41.9375 67.234375 44.765625 62.859375 \r\nQ 47.609375 58.5 49.21875 52.21875 \r\nQ 50.828125 45.953125 50.828125 35.296875 \r\nQ 50.828125 22.703125 48.234375 14.96875 \r\nQ 45.65625 7.234375 40.5 3 \r\nQ 35.359375 -1.21875 27.484375 -1.21875 \r\nQ 17.140625 -1.21875 11.234375 6.203125 \r\nQ 4.15625 15.140625 4.15625 35.296875 \r\nz\r\nM 13.1875 35.296875 \r\nQ 13.1875 17.671875 17.3125 11.828125 \r\nQ 21.4375 6 27.484375 6 \r\nQ 33.546875 6 37.671875 11.859375 \r\nQ 41.796875 17.71875 41.796875 35.296875 \r\nQ 41.796875 52.984375 37.671875 58.78125 \r\nQ 33.546875 64.59375 27.390625 64.59375 \r\nQ 21.34375 64.59375 17.71875 59.46875 \r\nQ 13.1875 52.9375 13.1875 35.296875 \r\nz\r\n\" id=\"ArialMT-48\"/>\r\n        <path d=\"M 9.078125 0 \r\nL 9.078125 10.015625 \r\nL 19.09375 10.015625 \r\nL 19.09375 0 \r\nz\r\n\" id=\"ArialMT-46\"/>\r\n       </defs>\r\n       <use xlink:href=\"#ArialMT-48\"/>\r\n       <use x=\"55.615234\" xlink:href=\"#ArialMT-46\"/>\r\n       <use x=\"83.398438\" xlink:href=\"#ArialMT-48\"/>\r\n      </g>\r\n     </g>\r\n    </g>\r\n    <g id=\"xtick_2\">\r\n     <g id=\"line2d_2\">\r\n      <path clip-path=\"url(#p53ecf327b8)\" d=\"M 147.404375 348.095625 \r\nL 147.404375 21.935625 \r\n\" style=\"fill:none;stroke:#ffffff;stroke-linecap:round;\"/>\r\n     </g>\r\n     <g id=\"text_2\">\r\n      <!-- 0.2 -->\r\n      <g style=\"fill:#262626;\" transform=\"translate(139.759375 365.469219)scale(0.11 -0.11)\">\r\n       <defs>\r\n        <path d=\"M 50.34375 8.453125 \r\nL 50.34375 0 \r\nL 3.03125 0 \r\nQ 2.9375 3.171875 4.046875 6.109375 \r\nQ 5.859375 10.9375 9.828125 15.625 \r\nQ 13.8125 20.3125 21.34375 26.46875 \r\nQ 33.015625 36.03125 37.109375 41.625 \r\nQ 41.21875 47.21875 41.21875 52.203125 \r\nQ 41.21875 57.421875 37.46875 61 \r\nQ 33.734375 64.59375 27.734375 64.59375 \r\nQ 21.390625 64.59375 17.578125 60.78125 \r\nQ 13.765625 56.984375 13.71875 50.25 \r\nL 4.6875 51.171875 \r\nQ 5.609375 61.28125 11.65625 66.578125 \r\nQ 17.71875 71.875 27.9375 71.875 \r\nQ 38.234375 71.875 44.234375 66.15625 \r\nQ 50.25 60.453125 50.25 52 \r\nQ 50.25 47.703125 48.484375 43.546875 \r\nQ 46.734375 39.40625 42.65625 34.8125 \r\nQ 38.578125 30.21875 29.109375 22.21875 \r\nQ 21.1875 15.578125 18.9375 13.203125 \r\nQ 16.703125 10.84375 15.234375 8.453125 \r\nz\r\n\" id=\"ArialMT-50\"/>\r\n       </defs>\r\n       <use xlink:href=\"#ArialMT-48\"/>\r\n       <use x=\"55.615234\" xlink:href=\"#ArialMT-46\"/>\r\n       <use x=\"83.398438\" xlink:href=\"#ArialMT-50\"/>\r\n      </g>\r\n     </g>\r\n    </g>\r\n    <g id=\"xtick_3\">\r\n     <g id=\"line2d_3\">\r\n      <path clip-path=\"url(#p53ecf327b8)\" d=\"M 247.844375 348.095625 \r\nL 247.844375 21.935625 \r\n\" style=\"fill:none;stroke:#ffffff;stroke-linecap:round;\"/>\r\n     </g>\r\n     <g id=\"text_3\">\r\n      <!-- 0.4 -->\r\n      <g style=\"fill:#262626;\" transform=\"translate(240.199375 365.469219)scale(0.11 -0.11)\">\r\n       <defs>\r\n        <path d=\"M 32.328125 0 \r\nL 32.328125 17.140625 \r\nL 1.265625 17.140625 \r\nL 1.265625 25.203125 \r\nL 33.9375 71.578125 \r\nL 41.109375 71.578125 \r\nL 41.109375 25.203125 \r\nL 50.78125 25.203125 \r\nL 50.78125 17.140625 \r\nL 41.109375 17.140625 \r\nL 41.109375 0 \r\nz\r\nM 32.328125 25.203125 \r\nL 32.328125 57.46875 \r\nL 9.90625 25.203125 \r\nz\r\n\" id=\"ArialMT-52\"/>\r\n       </defs>\r\n       <use xlink:href=\"#ArialMT-48\"/>\r\n       <use x=\"55.615234\" xlink:href=\"#ArialMT-46\"/>\r\n       <use x=\"83.398438\" xlink:href=\"#ArialMT-52\"/>\r\n      </g>\r\n     </g>\r\n    </g>\r\n    <g id=\"xtick_4\">\r\n     <g id=\"line2d_4\">\r\n      <path clip-path=\"url(#p53ecf327b8)\" d=\"M 348.284375 348.095625 \r\nL 348.284375 21.935625 \r\n\" style=\"fill:none;stroke:#ffffff;stroke-linecap:round;\"/>\r\n     </g>\r\n     <g id=\"text_4\">\r\n      <!-- 0.6 -->\r\n      <g style=\"fill:#262626;\" transform=\"translate(340.639375 365.469219)scale(0.11 -0.11)\">\r\n       <defs>\r\n        <path d=\"M 49.75 54.046875 \r\nL 41.015625 53.375 \r\nQ 39.84375 58.546875 37.703125 60.890625 \r\nQ 34.125 64.65625 28.90625 64.65625 \r\nQ 24.703125 64.65625 21.53125 62.3125 \r\nQ 17.390625 59.28125 14.984375 53.46875 \r\nQ 12.59375 47.65625 12.5 36.921875 \r\nQ 15.671875 41.75 20.265625 44.09375 \r\nQ 24.859375 46.4375 29.890625 46.4375 \r\nQ 38.671875 46.4375 44.84375 39.96875 \r\nQ 51.03125 33.5 51.03125 23.25 \r\nQ 51.03125 16.5 48.125 10.71875 \r\nQ 45.21875 4.9375 40.140625 1.859375 \r\nQ 35.0625 -1.21875 28.609375 -1.21875 \r\nQ 17.625 -1.21875 10.6875 6.859375 \r\nQ 3.765625 14.9375 3.765625 33.5 \r\nQ 3.765625 54.25 11.421875 63.671875 \r\nQ 18.109375 71.875 29.4375 71.875 \r\nQ 37.890625 71.875 43.28125 67.140625 \r\nQ 48.6875 62.40625 49.75 54.046875 \r\nz\r\nM 13.875 23.1875 \r\nQ 13.875 18.65625 15.796875 14.5 \r\nQ 17.71875 10.359375 21.1875 8.171875 \r\nQ 24.65625 6 28.46875 6 \r\nQ 34.03125 6 38.03125 10.484375 \r\nQ 42.046875 14.984375 42.046875 22.703125 \r\nQ 42.046875 30.125 38.078125 34.390625 \r\nQ 34.125 38.671875 28.125 38.671875 \r\nQ 22.171875 38.671875 18.015625 34.390625 \r\nQ 13.875 30.125 13.875 23.1875 \r\nz\r\n\" id=\"ArialMT-54\"/>\r\n       </defs>\r\n       <use xlink:href=\"#ArialMT-48\"/>\r\n       <use x=\"55.615234\" xlink:href=\"#ArialMT-46\"/>\r\n       <use x=\"83.398438\" xlink:href=\"#ArialMT-54\"/>\r\n      </g>\r\n     </g>\r\n    </g>\r\n    <g id=\"xtick_5\">\r\n     <g id=\"line2d_5\">\r\n      <path clip-path=\"url(#p53ecf327b8)\" d=\"M 448.724375 348.095625 \r\nL 448.724375 21.935625 \r\n\" style=\"fill:none;stroke:#ffffff;stroke-linecap:round;\"/>\r\n     </g>\r\n     <g id=\"text_5\">\r\n      <!-- 0.8 -->\r\n      <g style=\"fill:#262626;\" transform=\"translate(441.079375 365.469219)scale(0.11 -0.11)\">\r\n       <defs>\r\n        <path d=\"M 17.671875 38.8125 \r\nQ 12.203125 40.828125 9.5625 44.53125 \r\nQ 6.9375 48.25 6.9375 53.421875 \r\nQ 6.9375 61.234375 12.546875 66.546875 \r\nQ 18.171875 71.875 27.484375 71.875 \r\nQ 36.859375 71.875 42.578125 66.421875 \r\nQ 48.296875 60.984375 48.296875 53.171875 \r\nQ 48.296875 48.1875 45.671875 44.5 \r\nQ 43.0625 40.828125 37.75 38.8125 \r\nQ 44.34375 36.671875 47.78125 31.875 \r\nQ 51.21875 27.09375 51.21875 20.453125 \r\nQ 51.21875 11.28125 44.71875 5.03125 \r\nQ 38.234375 -1.21875 27.640625 -1.21875 \r\nQ 17.046875 -1.21875 10.546875 5.046875 \r\nQ 4.046875 11.328125 4.046875 20.703125 \r\nQ 4.046875 27.6875 7.59375 32.390625 \r\nQ 11.140625 37.109375 17.671875 38.8125 \r\nz\r\nM 15.921875 53.71875 \r\nQ 15.921875 48.640625 19.1875 45.40625 \r\nQ 22.46875 42.1875 27.6875 42.1875 \r\nQ 32.765625 42.1875 36.015625 45.375 \r\nQ 39.265625 48.578125 39.265625 53.21875 \r\nQ 39.265625 58.0625 35.90625 61.359375 \r\nQ 32.5625 64.65625 27.59375 64.65625 \r\nQ 22.5625 64.65625 19.234375 61.421875 \r\nQ 15.921875 58.203125 15.921875 53.71875 \r\nz\r\nM 13.09375 20.65625 \r\nQ 13.09375 16.890625 14.875 13.375 \r\nQ 16.65625 9.859375 20.171875 7.921875 \r\nQ 23.6875 6 27.734375 6 \r\nQ 34.03125 6 38.125 10.046875 \r\nQ 42.234375 14.109375 42.234375 20.359375 \r\nQ 42.234375 26.703125 38.015625 30.859375 \r\nQ 33.796875 35.015625 27.4375 35.015625 \r\nQ 21.234375 35.015625 17.15625 30.90625 \r\nQ 13.09375 26.8125 13.09375 20.65625 \r\nz\r\n\" id=\"ArialMT-56\"/>\r\n       </defs>\r\n       <use xlink:href=\"#ArialMT-48\"/>\r\n       <use x=\"55.615234\" xlink:href=\"#ArialMT-46\"/>\r\n       <use x=\"83.398438\" xlink:href=\"#ArialMT-56\"/>\r\n      </g>\r\n     </g>\r\n    </g>\r\n    <g id=\"xtick_6\">\r\n     <g id=\"line2d_6\">\r\n      <path clip-path=\"url(#p53ecf327b8)\" d=\"M 549.164375 348.095625 \r\nL 549.164375 21.935625 \r\n\" style=\"fill:none;stroke:#ffffff;stroke-linecap:round;\"/>\r\n     </g>\r\n     <g id=\"text_6\">\r\n      <!-- 1.0 -->\r\n      <g style=\"fill:#262626;\" transform=\"translate(541.519375 365.469219)scale(0.11 -0.11)\">\r\n       <defs>\r\n        <path d=\"M 37.25 0 \r\nL 28.46875 0 \r\nL 28.46875 56 \r\nQ 25.296875 52.984375 20.140625 49.953125 \r\nQ 14.984375 46.921875 10.890625 45.40625 \r\nL 10.890625 53.90625 \r\nQ 18.265625 57.375 23.78125 62.296875 \r\nQ 29.296875 67.234375 31.59375 71.875 \r\nL 37.25 71.875 \r\nz\r\n\" id=\"ArialMT-49\"/>\r\n       </defs>\r\n       <use xlink:href=\"#ArialMT-49\"/>\r\n       <use x=\"55.615234\" xlink:href=\"#ArialMT-46\"/>\r\n       <use x=\"83.398438\" xlink:href=\"#ArialMT-48\"/>\r\n      </g>\r\n     </g>\r\n    </g>\r\n    <g id=\"text_7\">\r\n     <!-- False Positive Rate -->\r\n     <g style=\"fill:#262626;\" transform=\"translate(246.378125 380.244844)scale(0.12 -0.12)\">\r\n      <defs>\r\n       <path d=\"M 8.203125 0 \r\nL 8.203125 71.578125 \r\nL 56.5 71.578125 \r\nL 56.5 63.140625 \r\nL 17.671875 63.140625 \r\nL 17.671875 40.96875 \r\nL 51.265625 40.96875 \r\nL 51.265625 32.515625 \r\nL 17.671875 32.515625 \r\nL 17.671875 0 \r\nz\r\n\" id=\"ArialMT-70\"/>\r\n       <path d=\"M 40.4375 6.390625 \r\nQ 35.546875 2.25 31.03125 0.53125 \r\nQ 26.515625 -1.171875 21.34375 -1.171875 \r\nQ 12.796875 -1.171875 8.203125 3 \r\nQ 3.609375 7.171875 3.609375 13.671875 \r\nQ 3.609375 17.484375 5.34375 20.625 \r\nQ 7.078125 23.78125 9.890625 25.6875 \r\nQ 12.703125 27.59375 16.21875 28.5625 \r\nQ 18.796875 29.25 24.03125 29.890625 \r\nQ 34.671875 31.15625 39.703125 32.90625 \r\nQ 39.75 34.71875 39.75 35.203125 \r\nQ 39.75 40.578125 37.25 42.78125 \r\nQ 33.890625 45.75 27.25 45.75 \r\nQ 21.046875 45.75 18.09375 43.578125 \r\nQ 15.140625 41.40625 13.71875 35.890625 \r\nL 5.125 37.0625 \r\nQ 6.296875 42.578125 8.984375 45.96875 \r\nQ 11.671875 49.359375 16.75 51.1875 \r\nQ 21.828125 53.03125 28.515625 53.03125 \r\nQ 35.15625 53.03125 39.296875 51.46875 \r\nQ 43.453125 49.90625 45.40625 47.53125 \r\nQ 47.359375 45.171875 48.140625 41.546875 \r\nQ 48.578125 39.3125 48.578125 33.453125 \r\nL 48.578125 21.734375 \r\nQ 48.578125 9.46875 49.140625 6.21875 \r\nQ 49.703125 2.984375 51.375 0 \r\nL 42.1875 0 \r\nQ 40.828125 2.734375 40.4375 6.390625 \r\nz\r\nM 39.703125 26.03125 \r\nQ 34.90625 24.078125 25.34375 22.703125 \r\nQ 19.921875 21.921875 17.671875 20.9375 \r\nQ 15.4375 19.96875 14.203125 18.09375 \r\nQ 12.984375 16.21875 12.984375 13.921875 \r\nQ 12.984375 10.40625 15.640625 8.0625 \r\nQ 18.3125 5.71875 23.4375 5.71875 \r\nQ 28.515625 5.71875 32.46875 7.9375 \r\nQ 36.421875 10.15625 38.28125 14.015625 \r\nQ 39.703125 17 39.703125 22.796875 \r\nz\r\n\" id=\"ArialMT-97\"/>\r\n       <path d=\"M 6.390625 0 \r\nL 6.390625 71.578125 \r\nL 15.1875 71.578125 \r\nL 15.1875 0 \r\nz\r\n\" id=\"ArialMT-108\"/>\r\n       <path d=\"M 3.078125 15.484375 \r\nL 11.765625 16.84375 \r\nQ 12.5 11.625 15.84375 8.84375 \r\nQ 19.1875 6.0625 25.203125 6.0625 \r\nQ 31.25 6.0625 34.171875 8.515625 \r\nQ 37.109375 10.984375 37.109375 14.3125 \r\nQ 37.109375 17.28125 34.515625 19 \r\nQ 32.71875 20.171875 25.53125 21.96875 \r\nQ 15.875 24.421875 12.140625 26.203125 \r\nQ 8.40625 27.984375 6.46875 31.125 \r\nQ 4.546875 34.28125 4.546875 38.09375 \r\nQ 4.546875 41.546875 6.125 44.5 \r\nQ 7.71875 47.46875 10.453125 49.421875 \r\nQ 12.5 50.921875 16.03125 51.96875 \r\nQ 19.578125 53.03125 23.640625 53.03125 \r\nQ 29.734375 53.03125 34.34375 51.265625 \r\nQ 38.96875 49.515625 41.15625 46.5 \r\nQ 43.359375 43.5 44.1875 38.484375 \r\nL 35.59375 37.3125 \r\nQ 35.015625 41.3125 32.203125 43.546875 \r\nQ 29.390625 45.796875 24.265625 45.796875 \r\nQ 18.21875 45.796875 15.625 43.796875 \r\nQ 13.03125 41.796875 13.03125 39.109375 \r\nQ 13.03125 37.40625 14.109375 36.03125 \r\nQ 15.1875 34.625 17.484375 33.6875 \r\nQ 18.796875 33.203125 25.25 31.453125 \r\nQ 34.578125 28.953125 38.25 27.359375 \r\nQ 41.9375 25.78125 44.03125 22.75 \r\nQ 46.140625 19.734375 46.140625 15.234375 \r\nQ 46.140625 10.84375 43.578125 6.953125 \r\nQ 41.015625 3.078125 36.171875 0.953125 \r\nQ 31.34375 -1.171875 25.25 -1.171875 \r\nQ 15.140625 -1.171875 9.84375 3.03125 \r\nQ 4.546875 7.234375 3.078125 15.484375 \r\nz\r\n\" id=\"ArialMT-115\"/>\r\n       <path d=\"M 42.09375 16.703125 \r\nL 51.171875 15.578125 \r\nQ 49.03125 7.625 43.21875 3.21875 \r\nQ 37.40625 -1.171875 28.375 -1.171875 \r\nQ 17 -1.171875 10.328125 5.828125 \r\nQ 3.65625 12.84375 3.65625 25.484375 \r\nQ 3.65625 38.578125 10.390625 45.796875 \r\nQ 17.140625 53.03125 27.875 53.03125 \r\nQ 38.28125 53.03125 44.875 45.953125 \r\nQ 51.46875 38.875 51.46875 26.03125 \r\nQ 51.46875 25.25 51.421875 23.6875 \r\nL 12.75 23.6875 \r\nQ 13.234375 15.140625 17.578125 10.59375 \r\nQ 21.921875 6.0625 28.421875 6.0625 \r\nQ 33.25 6.0625 36.671875 8.59375 \r\nQ 40.09375 11.140625 42.09375 16.703125 \r\nz\r\nM 13.234375 30.90625 \r\nL 42.1875 30.90625 \r\nQ 41.609375 37.453125 38.875 40.71875 \r\nQ 34.671875 45.796875 27.984375 45.796875 \r\nQ 21.921875 45.796875 17.796875 41.75 \r\nQ 13.671875 37.703125 13.234375 30.90625 \r\nz\r\n\" id=\"ArialMT-101\"/>\r\n       <path id=\"ArialMT-32\"/>\r\n       <path d=\"M 7.71875 0 \r\nL 7.71875 71.578125 \r\nL 34.71875 71.578125 \r\nQ 41.84375 71.578125 45.609375 70.90625 \r\nQ 50.875 70.015625 54.4375 67.546875 \r\nQ 58.015625 65.09375 60.1875 60.640625 \r\nQ 62.359375 56.203125 62.359375 50.875 \r\nQ 62.359375 41.75 56.546875 35.421875 \r\nQ 50.734375 29.109375 35.546875 29.109375 \r\nL 17.1875 29.109375 \r\nL 17.1875 0 \r\nz\r\nM 17.1875 37.546875 \r\nL 35.6875 37.546875 \r\nQ 44.875 37.546875 48.734375 40.96875 \r\nQ 52.59375 44.390625 52.59375 50.59375 \r\nQ 52.59375 55.078125 50.3125 58.265625 \r\nQ 48.046875 61.46875 44.34375 62.5 \r\nQ 41.9375 63.140625 35.5 63.140625 \r\nL 17.1875 63.140625 \r\nz\r\n\" id=\"ArialMT-80\"/>\r\n       <path d=\"M 3.328125 25.921875 \r\nQ 3.328125 40.328125 11.328125 47.265625 \r\nQ 18.015625 53.03125 27.640625 53.03125 \r\nQ 38.328125 53.03125 45.109375 46.015625 \r\nQ 51.90625 39.015625 51.90625 26.65625 \r\nQ 51.90625 16.65625 48.90625 10.90625 \r\nQ 45.90625 5.171875 40.15625 2 \r\nQ 34.421875 -1.171875 27.640625 -1.171875 \r\nQ 16.75 -1.171875 10.03125 5.8125 \r\nQ 3.328125 12.796875 3.328125 25.921875 \r\nz\r\nM 12.359375 25.921875 \r\nQ 12.359375 15.96875 16.703125 11.015625 \r\nQ 21.046875 6.0625 27.640625 6.0625 \r\nQ 34.1875 6.0625 38.53125 11.03125 \r\nQ 42.875 16.015625 42.875 26.21875 \r\nQ 42.875 35.84375 38.5 40.796875 \r\nQ 34.125 45.75 27.640625 45.75 \r\nQ 21.046875 45.75 16.703125 40.8125 \r\nQ 12.359375 35.890625 12.359375 25.921875 \r\nz\r\n\" id=\"ArialMT-111\"/>\r\n       <path d=\"M 6.640625 61.46875 \r\nL 6.640625 71.578125 \r\nL 15.4375 71.578125 \r\nL 15.4375 61.46875 \r\nz\r\nM 6.640625 0 \r\nL 6.640625 51.859375 \r\nL 15.4375 51.859375 \r\nL 15.4375 0 \r\nz\r\n\" id=\"ArialMT-105\"/>\r\n       <path d=\"M 25.78125 7.859375 \r\nL 27.046875 0.09375 \r\nQ 23.34375 -0.6875 20.40625 -0.6875 \r\nQ 15.625 -0.6875 12.984375 0.828125 \r\nQ 10.359375 2.34375 9.28125 4.8125 \r\nQ 8.203125 7.28125 8.203125 15.1875 \r\nL 8.203125 45.015625 \r\nL 1.765625 45.015625 \r\nL 1.765625 51.859375 \r\nL 8.203125 51.859375 \r\nL 8.203125 64.703125 \r\nL 16.9375 69.96875 \r\nL 16.9375 51.859375 \r\nL 25.78125 51.859375 \r\nL 25.78125 45.015625 \r\nL 16.9375 45.015625 \r\nL 16.9375 14.703125 \r\nQ 16.9375 10.9375 17.40625 9.859375 \r\nQ 17.875 8.796875 18.921875 8.15625 \r\nQ 19.96875 7.515625 21.921875 7.515625 \r\nQ 23.390625 7.515625 25.78125 7.859375 \r\nz\r\n\" id=\"ArialMT-116\"/>\r\n       <path d=\"M 21 0 \r\nL 1.265625 51.859375 \r\nL 10.546875 51.859375 \r\nL 21.6875 20.796875 \r\nQ 23.484375 15.765625 25 10.359375 \r\nQ 26.171875 14.453125 28.265625 20.21875 \r\nL 39.796875 51.859375 \r\nL 48.828125 51.859375 \r\nL 29.203125 0 \r\nz\r\n\" id=\"ArialMT-118\"/>\r\n       <path d=\"M 7.859375 0 \r\nL 7.859375 71.578125 \r\nL 39.59375 71.578125 \r\nQ 49.171875 71.578125 54.140625 69.640625 \r\nQ 59.125 67.71875 62.109375 62.828125 \r\nQ 65.09375 57.953125 65.09375 52.046875 \r\nQ 65.09375 44.4375 60.15625 39.203125 \r\nQ 55.21875 33.984375 44.921875 32.5625 \r\nQ 48.6875 30.765625 50.640625 29 \r\nQ 54.78125 25.203125 58.5 19.484375 \r\nL 70.953125 0 \r\nL 59.03125 0 \r\nL 49.5625 14.890625 \r\nQ 45.40625 21.34375 42.71875 24.75 \r\nQ 40.046875 28.171875 37.921875 29.53125 \r\nQ 35.796875 30.90625 33.59375 31.453125 \r\nQ 31.984375 31.78125 28.328125 31.78125 \r\nL 17.328125 31.78125 \r\nL 17.328125 0 \r\nz\r\nM 17.328125 39.984375 \r\nL 37.703125 39.984375 \r\nQ 44.1875 39.984375 47.84375 41.328125 \r\nQ 51.515625 42.671875 53.421875 45.625 \r\nQ 55.328125 48.578125 55.328125 52.046875 \r\nQ 55.328125 57.125 51.640625 60.390625 \r\nQ 47.953125 63.671875 39.984375 63.671875 \r\nL 17.328125 63.671875 \r\nz\r\n\" id=\"ArialMT-82\"/>\r\n      </defs>\r\n      <use xlink:href=\"#ArialMT-70\"/>\r\n      <use x=\"61.083984\" xlink:href=\"#ArialMT-97\"/>\r\n      <use x=\"116.699219\" xlink:href=\"#ArialMT-108\"/>\r\n      <use x=\"138.916016\" xlink:href=\"#ArialMT-115\"/>\r\n      <use x=\"188.916016\" xlink:href=\"#ArialMT-101\"/>\r\n      <use x=\"244.53125\" xlink:href=\"#ArialMT-32\"/>\r\n      <use x=\"272.314453\" xlink:href=\"#ArialMT-80\"/>\r\n      <use x=\"339.013672\" xlink:href=\"#ArialMT-111\"/>\r\n      <use x=\"394.628906\" xlink:href=\"#ArialMT-115\"/>\r\n      <use x=\"444.628906\" xlink:href=\"#ArialMT-105\"/>\r\n      <use x=\"466.845703\" xlink:href=\"#ArialMT-116\"/>\r\n      <use x=\"494.628906\" xlink:href=\"#ArialMT-105\"/>\r\n      <use x=\"516.845703\" xlink:href=\"#ArialMT-118\"/>\r\n      <use x=\"566.845703\" xlink:href=\"#ArialMT-101\"/>\r\n      <use x=\"622.460938\" xlink:href=\"#ArialMT-32\"/>\r\n      <use x=\"650.244141\" xlink:href=\"#ArialMT-82\"/>\r\n      <use x=\"722.460938\" xlink:href=\"#ArialMT-97\"/>\r\n      <use x=\"778.076172\" xlink:href=\"#ArialMT-116\"/>\r\n      <use x=\"805.859375\" xlink:href=\"#ArialMT-101\"/>\r\n     </g>\r\n    </g>\r\n   </g>\r\n   <g id=\"matplotlib.axis_2\">\r\n    <g id=\"ytick_1\">\r\n     <g id=\"line2d_7\">\r\n      <path clip-path=\"url(#p53ecf327b8)\" d=\"M 46.964375 348.095625 \r\nL 549.164375 348.095625 \r\n\" style=\"fill:none;stroke:#ffffff;stroke-linecap:round;\"/>\r\n     </g>\r\n     <g id=\"text_8\">\r\n      <!-- 0.0 -->\r\n      <g style=\"fill:#262626;\" transform=\"translate(22.174375 352.032422)scale(0.11 -0.11)\">\r\n       <use xlink:href=\"#ArialMT-48\"/>\r\n       <use x=\"55.615234\" xlink:href=\"#ArialMT-46\"/>\r\n       <use x=\"83.398438\" xlink:href=\"#ArialMT-48\"/>\r\n      </g>\r\n     </g>\r\n    </g>\r\n    <g id=\"ytick_2\">\r\n     <g id=\"line2d_8\">\r\n      <path clip-path=\"url(#p53ecf327b8)\" d=\"M 46.964375 285.969911 \r\nL 549.164375 285.969911 \r\n\" style=\"fill:none;stroke:#ffffff;stroke-linecap:round;\"/>\r\n     </g>\r\n     <g id=\"text_9\">\r\n      <!-- 0.2 -->\r\n      <g style=\"fill:#262626;\" transform=\"translate(22.174375 289.906708)scale(0.11 -0.11)\">\r\n       <use xlink:href=\"#ArialMT-48\"/>\r\n       <use x=\"55.615234\" xlink:href=\"#ArialMT-46\"/>\r\n       <use x=\"83.398438\" xlink:href=\"#ArialMT-50\"/>\r\n      </g>\r\n     </g>\r\n    </g>\r\n    <g id=\"ytick_3\">\r\n     <g id=\"line2d_9\">\r\n      <path clip-path=\"url(#p53ecf327b8)\" d=\"M 46.964375 223.844196 \r\nL 549.164375 223.844196 \r\n\" style=\"fill:none;stroke:#ffffff;stroke-linecap:round;\"/>\r\n     </g>\r\n     <g id=\"text_10\">\r\n      <!-- 0.4 -->\r\n      <g style=\"fill:#262626;\" transform=\"translate(22.174375 227.780993)scale(0.11 -0.11)\">\r\n       <use xlink:href=\"#ArialMT-48\"/>\r\n       <use x=\"55.615234\" xlink:href=\"#ArialMT-46\"/>\r\n       <use x=\"83.398438\" xlink:href=\"#ArialMT-52\"/>\r\n      </g>\r\n     </g>\r\n    </g>\r\n    <g id=\"ytick_4\">\r\n     <g id=\"line2d_10\">\r\n      <path clip-path=\"url(#p53ecf327b8)\" d=\"M 46.964375 161.718482 \r\nL 549.164375 161.718482 \r\n\" style=\"fill:none;stroke:#ffffff;stroke-linecap:round;\"/>\r\n     </g>\r\n     <g id=\"text_11\">\r\n      <!-- 0.6 -->\r\n      <g style=\"fill:#262626;\" transform=\"translate(22.174375 165.655279)scale(0.11 -0.11)\">\r\n       <use xlink:href=\"#ArialMT-48\"/>\r\n       <use x=\"55.615234\" xlink:href=\"#ArialMT-46\"/>\r\n       <use x=\"83.398438\" xlink:href=\"#ArialMT-54\"/>\r\n      </g>\r\n     </g>\r\n    </g>\r\n    <g id=\"ytick_5\">\r\n     <g id=\"line2d_11\">\r\n      <path clip-path=\"url(#p53ecf327b8)\" d=\"M 46.964375 99.592768 \r\nL 549.164375 99.592768 \r\n\" style=\"fill:none;stroke:#ffffff;stroke-linecap:round;\"/>\r\n     </g>\r\n     <g id=\"text_12\">\r\n      <!-- 0.8 -->\r\n      <g style=\"fill:#262626;\" transform=\"translate(22.174375 103.529565)scale(0.11 -0.11)\">\r\n       <use xlink:href=\"#ArialMT-48\"/>\r\n       <use x=\"55.615234\" xlink:href=\"#ArialMT-46\"/>\r\n       <use x=\"83.398438\" xlink:href=\"#ArialMT-56\"/>\r\n      </g>\r\n     </g>\r\n    </g>\r\n    <g id=\"ytick_6\">\r\n     <g id=\"line2d_12\">\r\n      <path clip-path=\"url(#p53ecf327b8)\" d=\"M 46.964375 37.467054 \r\nL 549.164375 37.467054 \r\n\" style=\"fill:none;stroke:#ffffff;stroke-linecap:round;\"/>\r\n     </g>\r\n     <g id=\"text_13\">\r\n      <!-- 1.0 -->\r\n      <g style=\"fill:#262626;\" transform=\"translate(22.174375 41.40385)scale(0.11 -0.11)\">\r\n       <use xlink:href=\"#ArialMT-49\"/>\r\n       <use x=\"55.615234\" xlink:href=\"#ArialMT-46\"/>\r\n       <use x=\"83.398438\" xlink:href=\"#ArialMT-48\"/>\r\n      </g>\r\n     </g>\r\n    </g>\r\n    <g id=\"text_14\">\r\n     <!-- True Positive Rate -->\r\n     <g style=\"fill:#262626;\" transform=\"translate(15.789375 234.141562)rotate(-90)scale(0.12 -0.12)\">\r\n      <defs>\r\n       <path d=\"M 25.921875 0 \r\nL 25.921875 63.140625 \r\nL 2.34375 63.140625 \r\nL 2.34375 71.578125 \r\nL 59.078125 71.578125 \r\nL 59.078125 63.140625 \r\nL 35.40625 63.140625 \r\nL 35.40625 0 \r\nz\r\n\" id=\"ArialMT-84\"/>\r\n       <path d=\"M 6.5 0 \r\nL 6.5 51.859375 \r\nL 14.40625 51.859375 \r\nL 14.40625 44 \r\nQ 17.4375 49.515625 20 51.265625 \r\nQ 22.5625 53.03125 25.640625 53.03125 \r\nQ 30.078125 53.03125 34.671875 50.203125 \r\nL 31.640625 42.046875 \r\nQ 28.421875 43.953125 25.203125 43.953125 \r\nQ 22.3125 43.953125 20.015625 42.21875 \r\nQ 17.71875 40.484375 16.75 37.40625 \r\nQ 15.28125 32.71875 15.28125 27.15625 \r\nL 15.28125 0 \r\nz\r\n\" id=\"ArialMT-114\"/>\r\n       <path d=\"M 40.578125 0 \r\nL 40.578125 7.625 \r\nQ 34.515625 -1.171875 24.125 -1.171875 \r\nQ 19.53125 -1.171875 15.546875 0.578125 \r\nQ 11.578125 2.34375 9.640625 5 \r\nQ 7.71875 7.671875 6.9375 11.53125 \r\nQ 6.390625 14.109375 6.390625 19.734375 \r\nL 6.390625 51.859375 \r\nL 15.1875 51.859375 \r\nL 15.1875 23.09375 \r\nQ 15.1875 16.21875 15.71875 13.8125 \r\nQ 16.546875 10.359375 19.234375 8.375 \r\nQ 21.921875 6.390625 25.875 6.390625 \r\nQ 29.828125 6.390625 33.296875 8.421875 \r\nQ 36.765625 10.453125 38.203125 13.9375 \r\nQ 39.65625 17.4375 39.65625 24.078125 \r\nL 39.65625 51.859375 \r\nL 48.4375 51.859375 \r\nL 48.4375 0 \r\nz\r\n\" id=\"ArialMT-117\"/>\r\n      </defs>\r\n      <use xlink:href=\"#ArialMT-84\"/>\r\n      <use x=\"57.333984\" xlink:href=\"#ArialMT-114\"/>\r\n      <use x=\"90.634766\" xlink:href=\"#ArialMT-117\"/>\r\n      <use x=\"146.25\" xlink:href=\"#ArialMT-101\"/>\r\n      <use x=\"201.865234\" xlink:href=\"#ArialMT-32\"/>\r\n      <use x=\"229.648438\" xlink:href=\"#ArialMT-80\"/>\r\n      <use x=\"296.347656\" xlink:href=\"#ArialMT-111\"/>\r\n      <use x=\"351.962891\" xlink:href=\"#ArialMT-115\"/>\r\n      <use x=\"401.962891\" xlink:href=\"#ArialMT-105\"/>\r\n      <use x=\"424.179688\" xlink:href=\"#ArialMT-116\"/>\r\n      <use x=\"451.962891\" xlink:href=\"#ArialMT-105\"/>\r\n      <use x=\"474.179688\" xlink:href=\"#ArialMT-118\"/>\r\n      <use x=\"524.179688\" xlink:href=\"#ArialMT-101\"/>\r\n      <use x=\"579.794922\" xlink:href=\"#ArialMT-32\"/>\r\n      <use x=\"607.578125\" xlink:href=\"#ArialMT-82\"/>\r\n      <use x=\"679.794922\" xlink:href=\"#ArialMT-97\"/>\r\n      <use x=\"735.410156\" xlink:href=\"#ArialMT-116\"/>\r\n      <use x=\"763.193359\" xlink:href=\"#ArialMT-101\"/>\r\n     </g>\r\n    </g>\r\n   </g>\r\n   <g id=\"line2d_13\">\r\n    <path clip-path=\"url(#p53ecf327b8)\" d=\"M 46.964375 348.095625 \r\nL 46.964375 189.675054 \r\nL 46.964375 177.249911 \r\nL 46.964375 155.505911 \r\nL 46.964375 136.868196 \r\nL 46.964375 133.761911 \r\nL 46.964375 102.699054 \r\nL 46.964375 96.486482 \r\nL 46.964375 80.955054 \r\nL 74.864375 68.529911 \r\nL 74.864375 59.211054 \r\nL 102.764375 56.104768 \r\nL 102.764375 49.892196 \r\nL 102.764375 43.679625 \r\nL 102.764375 40.573339 \r\nL 130.664375 40.573339 \r\nL 186.464375 40.573339 \r\nL 186.464375 37.467054 \r\nL 325.964375 37.467054 \r\nL 437.564375 37.467054 \r\nL 549.164375 37.467054 \r\n\" style=\"fill:none;stroke:#4c72b0;stroke-linecap:round;stroke-width:1.5;\"/>\r\n   </g>\r\n   <g id=\"line2d_14\">\r\n    <path clip-path=\"url(#p53ecf327b8)\" d=\"M 46.964375 348.095625 \r\nL 549.164375 37.467054 \r\n\" style=\"fill:none;stroke:#1a1a1a;stroke-dasharray:5.55,2.4;stroke-dashoffset:0;stroke-width:1.5;\"/>\r\n   </g>\r\n   <g id=\"patch_3\">\r\n    <path d=\"M 46.964375 348.095625 \r\nL 46.964375 21.935625 \r\n\" style=\"fill:none;stroke:#ffffff;stroke-linecap:square;stroke-linejoin:miter;stroke-width:1.25;\"/>\r\n   </g>\r\n   <g id=\"patch_4\">\r\n    <path d=\"M 549.164375 348.095625 \r\nL 549.164375 21.935625 \r\n\" style=\"fill:none;stroke:#ffffff;stroke-linecap:square;stroke-linejoin:miter;stroke-width:1.25;\"/>\r\n   </g>\r\n   <g id=\"patch_5\">\r\n    <path d=\"M 46.964375 348.095625 \r\nL 549.164375 348.095625 \r\n\" style=\"fill:none;stroke:#ffffff;stroke-linecap:square;stroke-linejoin:miter;stroke-width:1.25;\"/>\r\n   </g>\r\n   <g id=\"patch_6\">\r\n    <path d=\"M 46.964375 21.935625 \r\nL 549.164375 21.935625 \r\n\" style=\"fill:none;stroke:#ffffff;stroke-linecap:square;stroke-linejoin:miter;stroke-width:1.25;\"/>\r\n   </g>\r\n   <g id=\"text_15\">\r\n    <!-- Receiver operating characteristic for second model (on all the data) -->\r\n    <g style=\"fill:#262626;\" transform=\"translate(119.653438 15.935625)scale(0.12 -0.12)\">\r\n     <defs>\r\n      <path d=\"M 40.4375 19 \r\nL 49.078125 17.875 \r\nQ 47.65625 8.9375 41.8125 3.875 \r\nQ 35.984375 -1.171875 27.484375 -1.171875 \r\nQ 16.84375 -1.171875 10.375 5.78125 \r\nQ 3.90625 12.75 3.90625 25.734375 \r\nQ 3.90625 34.125 6.6875 40.421875 \r\nQ 9.46875 46.734375 15.15625 49.875 \r\nQ 20.84375 53.03125 27.546875 53.03125 \r\nQ 35.984375 53.03125 41.359375 48.75 \r\nQ 46.734375 44.484375 48.25 36.625 \r\nL 39.703125 35.296875 \r\nQ 38.484375 40.53125 35.375 43.15625 \r\nQ 32.28125 45.796875 27.875 45.796875 \r\nQ 21.234375 45.796875 17.078125 41.03125 \r\nQ 12.9375 36.28125 12.9375 25.984375 \r\nQ 12.9375 15.53125 16.9375 10.796875 \r\nQ 20.953125 6.0625 27.390625 6.0625 \r\nQ 32.5625 6.0625 36.03125 9.234375 \r\nQ 39.5 12.40625 40.4375 19 \r\nz\r\n\" id=\"ArialMT-99\"/>\r\n      <path d=\"M 6.59375 -19.875 \r\nL 6.59375 51.859375 \r\nL 14.59375 51.859375 \r\nL 14.59375 45.125 \r\nQ 17.4375 49.078125 21 51.046875 \r\nQ 24.5625 53.03125 29.640625 53.03125 \r\nQ 36.28125 53.03125 41.359375 49.609375 \r\nQ 46.4375 46.1875 49.015625 39.953125 \r\nQ 51.609375 33.734375 51.609375 26.3125 \r\nQ 51.609375 18.359375 48.75 11.984375 \r\nQ 45.90625 5.609375 40.453125 2.21875 \r\nQ 35.015625 -1.171875 29 -1.171875 \r\nQ 24.609375 -1.171875 21.109375 0.6875 \r\nQ 17.625 2.546875 15.375 5.375 \r\nL 15.375 -19.875 \r\nz\r\nM 14.546875 25.640625 \r\nQ 14.546875 15.625 18.59375 10.84375 \r\nQ 22.65625 6.0625 28.421875 6.0625 \r\nQ 34.28125 6.0625 38.453125 11.015625 \r\nQ 42.625 15.96875 42.625 26.375 \r\nQ 42.625 36.28125 38.546875 41.203125 \r\nQ 34.46875 46.140625 28.8125 46.140625 \r\nQ 23.1875 46.140625 18.859375 40.890625 \r\nQ 14.546875 35.640625 14.546875 25.640625 \r\nz\r\n\" id=\"ArialMT-112\"/>\r\n      <path d=\"M 6.59375 0 \r\nL 6.59375 51.859375 \r\nL 14.5 51.859375 \r\nL 14.5 44.484375 \r\nQ 20.21875 53.03125 31 53.03125 \r\nQ 35.6875 53.03125 39.625 51.34375 \r\nQ 43.5625 49.65625 45.515625 46.921875 \r\nQ 47.46875 44.1875 48.25 40.4375 \r\nQ 48.734375 37.984375 48.734375 31.890625 \r\nL 48.734375 0 \r\nL 39.9375 0 \r\nL 39.9375 31.546875 \r\nQ 39.9375 36.921875 38.90625 39.578125 \r\nQ 37.890625 42.234375 35.28125 43.8125 \r\nQ 32.671875 45.40625 29.15625 45.40625 \r\nQ 23.53125 45.40625 19.453125 41.84375 \r\nQ 15.375 38.28125 15.375 28.328125 \r\nL 15.375 0 \r\nz\r\n\" id=\"ArialMT-110\"/>\r\n      <path d=\"M 4.984375 -4.296875 \r\nL 13.53125 -5.5625 \r\nQ 14.0625 -9.515625 16.5 -11.328125 \r\nQ 19.78125 -13.765625 25.4375 -13.765625 \r\nQ 31.546875 -13.765625 34.859375 -11.328125 \r\nQ 38.1875 -8.890625 39.359375 -4.5 \r\nQ 40.046875 -1.8125 39.984375 6.78125 \r\nQ 34.234375 0 25.640625 0 \r\nQ 14.9375 0 9.078125 7.71875 \r\nQ 3.21875 15.4375 3.21875 26.21875 \r\nQ 3.21875 33.640625 5.90625 39.90625 \r\nQ 8.59375 46.1875 13.6875 49.609375 \r\nQ 18.796875 53.03125 25.6875 53.03125 \r\nQ 34.859375 53.03125 40.828125 45.609375 \r\nL 40.828125 51.859375 \r\nL 48.921875 51.859375 \r\nL 48.921875 7.03125 \r\nQ 48.921875 -5.078125 46.453125 -10.125 \r\nQ 44 -15.1875 38.640625 -18.109375 \r\nQ 33.296875 -21.046875 25.484375 -21.046875 \r\nQ 16.21875 -21.046875 10.5 -16.875 \r\nQ 4.78125 -12.703125 4.984375 -4.296875 \r\nz\r\nM 12.25 26.859375 \r\nQ 12.25 16.65625 16.296875 11.96875 \r\nQ 20.359375 7.28125 26.46875 7.28125 \r\nQ 32.515625 7.28125 36.609375 11.9375 \r\nQ 40.71875 16.609375 40.71875 26.5625 \r\nQ 40.71875 36.078125 36.5 40.90625 \r\nQ 32.28125 45.75 26.3125 45.75 \r\nQ 20.453125 45.75 16.34375 40.984375 \r\nQ 12.25 36.234375 12.25 26.859375 \r\nz\r\n\" id=\"ArialMT-103\"/>\r\n      <path d=\"M 6.59375 0 \r\nL 6.59375 71.578125 \r\nL 15.375 71.578125 \r\nL 15.375 45.90625 \r\nQ 21.53125 53.03125 30.90625 53.03125 \r\nQ 36.671875 53.03125 40.921875 50.75 \r\nQ 45.171875 48.484375 47 44.484375 \r\nQ 48.828125 40.484375 48.828125 32.859375 \r\nL 48.828125 0 \r\nL 40.046875 0 \r\nL 40.046875 32.859375 \r\nQ 40.046875 39.453125 37.1875 42.453125 \r\nQ 34.328125 45.453125 29.109375 45.453125 \r\nQ 25.203125 45.453125 21.75 43.421875 \r\nQ 18.3125 41.40625 16.84375 37.9375 \r\nQ 15.375 34.46875 15.375 28.375 \r\nL 15.375 0 \r\nz\r\n\" id=\"ArialMT-104\"/>\r\n      <path d=\"M 8.6875 0 \r\nL 8.6875 45.015625 \r\nL 0.921875 45.015625 \r\nL 0.921875 51.859375 \r\nL 8.6875 51.859375 \r\nL 8.6875 57.375 \r\nQ 8.6875 62.59375 9.625 65.140625 \r\nQ 10.890625 68.5625 14.078125 70.671875 \r\nQ 17.28125 72.796875 23.046875 72.796875 \r\nQ 26.765625 72.796875 31.25 71.921875 \r\nL 29.9375 64.265625 \r\nQ 27.203125 64.75 24.75 64.75 \r\nQ 20.75 64.75 19.09375 63.03125 \r\nQ 17.4375 61.328125 17.4375 56.640625 \r\nL 17.4375 51.859375 \r\nL 27.546875 51.859375 \r\nL 27.546875 45.015625 \r\nL 17.4375 45.015625 \r\nL 17.4375 0 \r\nz\r\n\" id=\"ArialMT-102\"/>\r\n      <path d=\"M 40.234375 0 \r\nL 40.234375 6.546875 \r\nQ 35.296875 -1.171875 25.734375 -1.171875 \r\nQ 19.53125 -1.171875 14.328125 2.25 \r\nQ 9.125 5.671875 6.265625 11.796875 \r\nQ 3.421875 17.921875 3.421875 25.875 \r\nQ 3.421875 33.640625 6 39.96875 \r\nQ 8.59375 46.296875 13.765625 49.65625 \r\nQ 18.953125 53.03125 25.34375 53.03125 \r\nQ 30.03125 53.03125 33.6875 51.046875 \r\nQ 37.359375 49.078125 39.65625 45.90625 \r\nL 39.65625 71.578125 \r\nL 48.390625 71.578125 \r\nL 48.390625 0 \r\nz\r\nM 12.453125 25.875 \r\nQ 12.453125 15.921875 16.640625 10.984375 \r\nQ 20.84375 6.0625 26.5625 6.0625 \r\nQ 32.328125 6.0625 36.34375 10.765625 \r\nQ 40.375 15.484375 40.375 25.140625 \r\nQ 40.375 35.796875 36.265625 40.765625 \r\nQ 32.171875 45.75 26.171875 45.75 \r\nQ 20.3125 45.75 16.375 40.96875 \r\nQ 12.453125 36.1875 12.453125 25.875 \r\nz\r\n\" id=\"ArialMT-100\"/>\r\n      <path d=\"M 6.59375 0 \r\nL 6.59375 51.859375 \r\nL 14.453125 51.859375 \r\nL 14.453125 44.578125 \r\nQ 16.890625 48.390625 20.9375 50.703125 \r\nQ 25 53.03125 30.171875 53.03125 \r\nQ 35.9375 53.03125 39.625 50.640625 \r\nQ 43.3125 48.25 44.828125 43.953125 \r\nQ 50.984375 53.03125 60.84375 53.03125 \r\nQ 68.5625 53.03125 72.703125 48.75 \r\nQ 76.859375 44.484375 76.859375 35.59375 \r\nL 76.859375 0 \r\nL 68.109375 0 \r\nL 68.109375 32.671875 \r\nQ 68.109375 37.9375 67.25 40.25 \r\nQ 66.40625 42.578125 64.15625 43.984375 \r\nQ 61.921875 45.40625 58.890625 45.40625 \r\nQ 53.421875 45.40625 49.796875 41.765625 \r\nQ 46.1875 38.140625 46.1875 30.125 \r\nL 46.1875 0 \r\nL 37.40625 0 \r\nL 37.40625 33.6875 \r\nQ 37.40625 39.546875 35.25 42.46875 \r\nQ 33.109375 45.40625 28.21875 45.40625 \r\nQ 24.515625 45.40625 21.359375 43.453125 \r\nQ 18.21875 41.5 16.796875 37.734375 \r\nQ 15.375 33.984375 15.375 26.90625 \r\nL 15.375 0 \r\nz\r\n\" id=\"ArialMT-109\"/>\r\n      <path d=\"M 23.390625 -21.046875 \r\nQ 16.109375 -11.859375 11.078125 0.4375 \r\nQ 6.0625 12.75 6.0625 25.921875 \r\nQ 6.0625 37.546875 9.8125 48.1875 \r\nQ 14.203125 60.546875 23.390625 72.796875 \r\nL 29.6875 72.796875 \r\nQ 23.78125 62.640625 21.875 58.296875 \r\nQ 18.890625 51.5625 17.1875 44.234375 \r\nQ 15.09375 35.109375 15.09375 25.875 \r\nQ 15.09375 2.390625 29.6875 -21.046875 \r\nz\r\n\" id=\"ArialMT-40\"/>\r\n      <path d=\"M 12.359375 -21.046875 \r\nL 6.0625 -21.046875 \r\nQ 20.65625 2.390625 20.65625 25.875 \r\nQ 20.65625 35.0625 18.5625 44.09375 \r\nQ 16.890625 51.421875 13.921875 58.15625 \r\nQ 12.015625 62.546875 6.0625 72.796875 \r\nL 12.359375 72.796875 \r\nQ 21.53125 60.546875 25.921875 48.1875 \r\nQ 29.6875 37.546875 29.6875 25.921875 \r\nQ 29.6875 12.75 24.625 0.4375 \r\nQ 19.578125 -11.859375 12.359375 -21.046875 \r\nz\r\n\" id=\"ArialMT-41\"/>\r\n     </defs>\r\n     <use xlink:href=\"#ArialMT-82\"/>\r\n     <use x=\"72.216797\" xlink:href=\"#ArialMT-101\"/>\r\n     <use x=\"127.832031\" xlink:href=\"#ArialMT-99\"/>\r\n     <use x=\"177.832031\" xlink:href=\"#ArialMT-101\"/>\r\n     <use x=\"233.447266\" xlink:href=\"#ArialMT-105\"/>\r\n     <use x=\"255.664062\" xlink:href=\"#ArialMT-118\"/>\r\n     <use x=\"305.664062\" xlink:href=\"#ArialMT-101\"/>\r\n     <use x=\"361.279297\" xlink:href=\"#ArialMT-114\"/>\r\n     <use x=\"394.580078\" xlink:href=\"#ArialMT-32\"/>\r\n     <use x=\"422.363281\" xlink:href=\"#ArialMT-111\"/>\r\n     <use x=\"477.978516\" xlink:href=\"#ArialMT-112\"/>\r\n     <use x=\"533.59375\" xlink:href=\"#ArialMT-101\"/>\r\n     <use x=\"589.208984\" xlink:href=\"#ArialMT-114\"/>\r\n     <use x=\"622.509766\" xlink:href=\"#ArialMT-97\"/>\r\n     <use x=\"678.125\" xlink:href=\"#ArialMT-116\"/>\r\n     <use x=\"705.908203\" xlink:href=\"#ArialMT-105\"/>\r\n     <use x=\"728.125\" xlink:href=\"#ArialMT-110\"/>\r\n     <use x=\"783.740234\" xlink:href=\"#ArialMT-103\"/>\r\n     <use x=\"839.355469\" xlink:href=\"#ArialMT-32\"/>\r\n     <use x=\"867.138672\" xlink:href=\"#ArialMT-99\"/>\r\n     <use x=\"917.138672\" xlink:href=\"#ArialMT-104\"/>\r\n     <use x=\"972.753906\" xlink:href=\"#ArialMT-97\"/>\r\n     <use x=\"1028.369141\" xlink:href=\"#ArialMT-114\"/>\r\n     <use x=\"1061.669922\" xlink:href=\"#ArialMT-97\"/>\r\n     <use x=\"1117.285156\" xlink:href=\"#ArialMT-99\"/>\r\n     <use x=\"1167.285156\" xlink:href=\"#ArialMT-116\"/>\r\n     <use x=\"1195.068359\" xlink:href=\"#ArialMT-101\"/>\r\n     <use x=\"1250.683594\" xlink:href=\"#ArialMT-114\"/>\r\n     <use x=\"1283.984375\" xlink:href=\"#ArialMT-105\"/>\r\n     <use x=\"1306.201172\" xlink:href=\"#ArialMT-115\"/>\r\n     <use x=\"1356.201172\" xlink:href=\"#ArialMT-116\"/>\r\n     <use x=\"1383.984375\" xlink:href=\"#ArialMT-105\"/>\r\n     <use x=\"1406.201172\" xlink:href=\"#ArialMT-99\"/>\r\n     <use x=\"1456.201172\" xlink:href=\"#ArialMT-32\"/>\r\n     <use x=\"1483.984375\" xlink:href=\"#ArialMT-102\"/>\r\n     <use x=\"1511.767578\" xlink:href=\"#ArialMT-111\"/>\r\n     <use x=\"1567.382812\" xlink:href=\"#ArialMT-114\"/>\r\n     <use x=\"1600.683594\" xlink:href=\"#ArialMT-32\"/>\r\n     <use x=\"1628.466797\" xlink:href=\"#ArialMT-115\"/>\r\n     <use x=\"1678.466797\" xlink:href=\"#ArialMT-101\"/>\r\n     <use x=\"1734.082031\" xlink:href=\"#ArialMT-99\"/>\r\n     <use x=\"1784.082031\" xlink:href=\"#ArialMT-111\"/>\r\n     <use x=\"1839.697266\" xlink:href=\"#ArialMT-110\"/>\r\n     <use x=\"1895.3125\" xlink:href=\"#ArialMT-100\"/>\r\n     <use x=\"1950.927734\" xlink:href=\"#ArialMT-32\"/>\r\n     <use x=\"1978.710938\" xlink:href=\"#ArialMT-109\"/>\r\n     <use x=\"2062.011719\" xlink:href=\"#ArialMT-111\"/>\r\n     <use x=\"2117.626953\" xlink:href=\"#ArialMT-100\"/>\r\n     <use x=\"2173.242188\" xlink:href=\"#ArialMT-101\"/>\r\n     <use x=\"2228.857422\" xlink:href=\"#ArialMT-108\"/>\r\n     <use x=\"2251.074219\" xlink:href=\"#ArialMT-32\"/>\r\n     <use x=\"2278.857422\" xlink:href=\"#ArialMT-40\"/>\r\n     <use x=\"2312.158203\" xlink:href=\"#ArialMT-111\"/>\r\n     <use x=\"2367.773438\" xlink:href=\"#ArialMT-110\"/>\r\n     <use x=\"2423.388672\" xlink:href=\"#ArialMT-32\"/>\r\n     <use x=\"2451.171875\" xlink:href=\"#ArialMT-97\"/>\r\n     <use x=\"2506.787109\" xlink:href=\"#ArialMT-108\"/>\r\n     <use x=\"2529.003906\" xlink:href=\"#ArialMT-108\"/>\r\n     <use x=\"2551.220703\" xlink:href=\"#ArialMT-32\"/>\r\n     <use x=\"2579.003906\" xlink:href=\"#ArialMT-116\"/>\r\n     <use x=\"2606.787109\" xlink:href=\"#ArialMT-104\"/>\r\n     <use x=\"2662.402344\" xlink:href=\"#ArialMT-101\"/>\r\n     <use x=\"2718.017578\" xlink:href=\"#ArialMT-32\"/>\r\n     <use x=\"2745.800781\" xlink:href=\"#ArialMT-100\"/>\r\n     <use x=\"2801.416016\" xlink:href=\"#ArialMT-97\"/>\r\n     <use x=\"2857.03125\" xlink:href=\"#ArialMT-116\"/>\r\n     <use x=\"2884.814453\" xlink:href=\"#ArialMT-97\"/>\r\n     <use x=\"2940.429688\" xlink:href=\"#ArialMT-41\"/>\r\n    </g>\r\n   </g>\r\n   <g id=\"legend_1\">\r\n    <g id=\"patch_7\">\r\n     <path d=\"M 379.412031 342.595625 \r\nL 541.464375 342.595625 \r\nQ 543.664375 342.595625 543.664375 340.395625 \r\nL 543.664375 325.665937 \r\nQ 543.664375 323.465937 541.464375 323.465937 \r\nL 379.412031 323.465937 \r\nQ 377.212031 323.465937 377.212031 325.665937 \r\nL 377.212031 340.395625 \r\nQ 377.212031 342.595625 379.412031 342.595625 \r\nz\r\n\" style=\"fill:#eaeaf2;opacity:0.8;stroke:#cccccc;stroke-linejoin:miter;\"/>\r\n    </g>\r\n    <g id=\"line2d_15\">\r\n     <path d=\"M 381.612031 332.030469 \r\nL 403.612031 332.030469 \r\n\" style=\"fill:none;stroke:#4c72b0;stroke-linecap:round;stroke-width:1.5;\"/>\r\n    </g>\r\n    <g id=\"line2d_16\"/>\r\n    <g id=\"text_16\">\r\n     <!-- ROC curve (area = 0.988) -->\r\n     <g style=\"fill:#262626;\" transform=\"translate(412.412031 335.880469)scale(0.11 -0.11)\">\r\n      <defs>\r\n       <path d=\"M 4.828125 34.859375 \r\nQ 4.828125 52.6875 14.390625 62.765625 \r\nQ 23.96875 72.859375 39.109375 72.859375 \r\nQ 49.03125 72.859375 56.984375 68.109375 \r\nQ 64.9375 63.375 69.109375 54.90625 \r\nQ 73.296875 46.4375 73.296875 35.6875 \r\nQ 73.296875 24.8125 68.890625 16.21875 \r\nQ 64.5 7.625 56.4375 3.203125 \r\nQ 48.390625 -1.21875 39.0625 -1.21875 \r\nQ 28.953125 -1.21875 20.984375 3.65625 \r\nQ 13.03125 8.546875 8.921875 16.984375 \r\nQ 4.828125 25.4375 4.828125 34.859375 \r\nz\r\nM 14.59375 34.71875 \r\nQ 14.59375 21.78125 21.546875 14.328125 \r\nQ 28.515625 6.890625 39.015625 6.890625 \r\nQ 49.703125 6.890625 56.609375 14.40625 \r\nQ 63.53125 21.921875 63.53125 35.75 \r\nQ 63.53125 44.484375 60.578125 51 \r\nQ 57.625 57.515625 51.921875 61.109375 \r\nQ 46.234375 64.703125 39.15625 64.703125 \r\nQ 29.109375 64.703125 21.84375 57.78125 \r\nQ 14.59375 50.875 14.59375 34.71875 \r\nz\r\n\" id=\"ArialMT-79\"/>\r\n       <path d=\"M 58.796875 25.09375 \r\nL 68.265625 22.703125 \r\nQ 65.28125 11.03125 57.546875 4.90625 \r\nQ 49.8125 -1.21875 38.625 -1.21875 \r\nQ 27.046875 -1.21875 19.796875 3.484375 \r\nQ 12.546875 8.203125 8.765625 17.140625 \r\nQ 4.984375 26.078125 4.984375 36.328125 \r\nQ 4.984375 47.515625 9.25 55.828125 \r\nQ 13.53125 64.15625 21.40625 68.46875 \r\nQ 29.296875 72.796875 38.765625 72.796875 \r\nQ 49.515625 72.796875 56.828125 67.328125 \r\nQ 64.15625 61.859375 67.046875 51.953125 \r\nL 57.71875 49.75 \r\nQ 55.21875 57.5625 50.484375 61.125 \r\nQ 45.75 64.703125 38.578125 64.703125 \r\nQ 30.328125 64.703125 24.78125 60.734375 \r\nQ 19.234375 56.78125 16.984375 50.109375 \r\nQ 14.75 43.453125 14.75 36.375 \r\nQ 14.75 27.25 17.40625 20.4375 \r\nQ 20.0625 13.625 25.671875 10.25 \r\nQ 31.296875 6.890625 37.84375 6.890625 \r\nQ 45.796875 6.890625 51.3125 11.46875 \r\nQ 56.84375 16.0625 58.796875 25.09375 \r\nz\r\n\" id=\"ArialMT-67\"/>\r\n       <path d=\"M 52.828125 42.09375 \r\nL 5.5625 42.09375 \r\nL 5.5625 50.296875 \r\nL 52.828125 50.296875 \r\nz\r\nM 52.828125 20.359375 \r\nL 5.5625 20.359375 \r\nL 5.5625 28.5625 \r\nL 52.828125 28.5625 \r\nz\r\n\" id=\"ArialMT-61\"/>\r\n       <path d=\"M 5.46875 16.546875 \r\nL 13.921875 17.328125 \r\nQ 14.984375 11.375 18.015625 8.6875 \r\nQ 21.046875 6 25.78125 6 \r\nQ 29.828125 6 32.875 7.859375 \r\nQ 35.9375 9.71875 37.890625 12.8125 \r\nQ 39.84375 15.921875 41.15625 21.1875 \r\nQ 42.484375 26.46875 42.484375 31.9375 \r\nQ 42.484375 32.515625 42.4375 33.6875 \r\nQ 39.796875 29.5 35.234375 26.875 \r\nQ 30.671875 24.265625 25.34375 24.265625 \r\nQ 16.453125 24.265625 10.296875 30.703125 \r\nQ 4.15625 37.15625 4.15625 47.703125 \r\nQ 4.15625 58.59375 10.578125 65.234375 \r\nQ 17 71.875 26.65625 71.875 \r\nQ 33.640625 71.875 39.421875 68.109375 \r\nQ 45.21875 64.359375 48.21875 57.390625 \r\nQ 51.21875 50.4375 51.21875 37.25 \r\nQ 51.21875 23.53125 48.234375 15.40625 \r\nQ 45.265625 7.28125 39.375 3.03125 \r\nQ 33.5 -1.21875 25.59375 -1.21875 \r\nQ 17.1875 -1.21875 11.859375 3.4375 \r\nQ 6.546875 8.109375 5.46875 16.546875 \r\nz\r\nM 41.453125 48.140625 \r\nQ 41.453125 55.71875 37.421875 60.15625 \r\nQ 33.40625 64.59375 27.734375 64.59375 \r\nQ 21.875 64.59375 17.53125 59.8125 \r\nQ 13.1875 55.03125 13.1875 47.40625 \r\nQ 13.1875 40.578125 17.3125 36.296875 \r\nQ 21.4375 32.03125 27.484375 32.03125 \r\nQ 33.59375 32.03125 37.515625 36.296875 \r\nQ 41.453125 40.578125 41.453125 48.140625 \r\nz\r\n\" id=\"ArialMT-57\"/>\r\n      </defs>\r\n      <use xlink:href=\"#ArialMT-82\"/>\r\n      <use x=\"72.216797\" xlink:href=\"#ArialMT-79\"/>\r\n      <use x=\"150\" xlink:href=\"#ArialMT-67\"/>\r\n      <use x=\"222.216797\" xlink:href=\"#ArialMT-32\"/>\r\n      <use x=\"250\" xlink:href=\"#ArialMT-99\"/>\r\n      <use x=\"300\" xlink:href=\"#ArialMT-117\"/>\r\n      <use x=\"355.615234\" xlink:href=\"#ArialMT-114\"/>\r\n      <use x=\"388.916016\" xlink:href=\"#ArialMT-118\"/>\r\n      <use x=\"438.916016\" xlink:href=\"#ArialMT-101\"/>\r\n      <use x=\"494.53125\" xlink:href=\"#ArialMT-32\"/>\r\n      <use x=\"522.314453\" xlink:href=\"#ArialMT-40\"/>\r\n      <use x=\"555.615234\" xlink:href=\"#ArialMT-97\"/>\r\n      <use x=\"611.230469\" xlink:href=\"#ArialMT-114\"/>\r\n      <use x=\"644.53125\" xlink:href=\"#ArialMT-101\"/>\r\n      <use x=\"700.146484\" xlink:href=\"#ArialMT-97\"/>\r\n      <use x=\"755.761719\" xlink:href=\"#ArialMT-32\"/>\r\n      <use x=\"783.544922\" xlink:href=\"#ArialMT-61\"/>\r\n      <use x=\"841.943359\" xlink:href=\"#ArialMT-32\"/>\r\n      <use x=\"869.726562\" xlink:href=\"#ArialMT-48\"/>\r\n      <use x=\"925.341797\" xlink:href=\"#ArialMT-46\"/>\r\n      <use x=\"953.125\" xlink:href=\"#ArialMT-57\"/>\r\n      <use x=\"1008.740234\" xlink:href=\"#ArialMT-56\"/>\r\n      <use x=\"1064.355469\" xlink:href=\"#ArialMT-56\"/>\r\n      <use x=\"1119.970703\" xlink:href=\"#ArialMT-41\"/>\r\n     </g>\r\n    </g>\r\n   </g>\r\n  </g>\r\n </g>\r\n <defs>\r\n  <clipPath id=\"p53ecf327b8\">\r\n   <rect height=\"326.16\" width=\"502.2\" x=\"46.964375\" y=\"21.935625\"/>\r\n  </clipPath>\r\n </defs>\r\n</svg>\r\n",
      "image/png": "[encoded data removed]"
     },
     "metadata": {}
    }
   ],
   "source": [
    "fpr, tpr, thresholds = roc_curve(y2, y_pred2_all[:,1])\n",
    "roc_auc= auc(fpr, tpr)\n",
    "plt.figure()\n",
    "plt.plot(fpr, tpr, label='ROC curve (area = %0.3f)' % (roc_auc))\n",
    "plt.plot([0, 1], [0, 1], 'k--')\n",
    "plt.xlim([0.0, 1.0])\n",
    "plt.ylim([0.0, 1.05])\n",
    "plt.xlabel('False Positive Rate')\n",
    "plt.ylabel('True Positive Rate')\n",
    "plt.title('Receiver operating characteristic for second model (on all the data)')\n",
    "plt.legend(loc=\"lower right\")\n",
    "plt.show()"
   ]
  },
  {
   "source": [
    "Последняя модель побеждает. Количество комментариев на пользователя имеет значение.\n",
    "\n",
    "Имеется некоторая вероятность, что это просто переобучение, но будем надеяться, что это не так.\n",
    "\n",
    "На всякий случай используем обе модели."
   ],
   "cell_type": "markdown",
   "metadata": {}
  },
  {
   "cell_type": "code",
   "execution_count": 91,
   "metadata": {},
   "outputs": [
    {
     "output_type": "execute_result",
     "data": {
      "text/plain": [
       "<AxesSubplot:>"
      ]
     },
     "metadata": {},
     "execution_count": 91
    },
    {
     "output_type": "display_data",
     "data": {
      "text/plain": "<Figure size 864x576 with 1 Axes>",
      "image/svg+xml": "<?xml version=\"1.0\" encoding=\"utf-8\" standalone=\"no\"?>\r\n<!DOCTYPE svg PUBLIC \"-//W3C//DTD SVG 1.1//EN\"\r\n  \"http://www.w3.org/Graphics/SVG/1.1/DTD/svg11.dtd\">\r\n<!-- Created with matplotlib (https://matplotlib.org/) -->\r\n<svg height=\"468.839844pt\" version=\"1.1\" viewBox=\"0 0 747.30375 468.839844\" width=\"747.30375pt\" xmlns=\"http://www.w3.org/2000/svg\" xmlns:xlink=\"http://www.w3.org/1999/xlink\">\r\n <metadata>\r\n  <rdf:RDF xmlns:cc=\"http://creativecommons.org/ns#\" xmlns:dc=\"http://purl.org/dc/elements/1.1/\" xmlns:rdf=\"http://www.w3.org/1999/02/22-rdf-syntax-ns#\">\r\n   <cc:Work>\r\n    <dc:type rdf:resource=\"http://purl.org/dc/dcmitype/StillImage\"/>\r\n    <dc:date>2021-02-06T20:57:01.900391</dc:date>\r\n    <dc:format>image/svg+xml</dc:format>\r\n    <dc:creator>\r\n     <cc:Agent>\r\n      <dc:title>Matplotlib v3.3.3, https://matplotlib.org/</dc:title>\r\n     </cc:Agent>\r\n    </dc:creator>\r\n   </cc:Work>\r\n  </rdf:RDF>\r\n </metadata>\r\n <defs>\r\n  <style type=\"text/css\">*{stroke-linecap:butt;stroke-linejoin:round;}</style>\r\n </defs>\r\n <g id=\"figure_1\">\r\n  <g id=\"patch_1\">\r\n   <path d=\"M 0 468.839844 \r\nL 747.30375 468.839844 \r\nL 747.30375 0 \r\nL 0 0 \r\nz\r\n\" style=\"fill:#ffffff;\"/>\r\n  </g>\r\n  <g id=\"axes_1\">\r\n   <g id=\"patch_2\">\r\n    <path d=\"M 70.50375 442.08 \r\nL 740.10375 442.08 \r\nL 740.10375 7.2 \r\nL 70.50375 7.2 \r\nz\r\n\" style=\"fill:#eaeaf2;\"/>\r\n   </g>\r\n   <g id=\"matplotlib.axis_1\">\r\n    <g id=\"xtick_1\">\r\n     <g id=\"line2d_1\">\r\n      <path clip-path=\"url(#pd1ff3d4f8b)\" d=\"M 70.50375 442.08 \r\nL 70.50375 7.2 \r\n\" style=\"fill:none;stroke:#ffffff;stroke-linecap:round;\"/>\r\n     </g>\r\n     <g id=\"text_1\">\r\n      <!-- 0.00 -->\r\n      <g style=\"fill:#262626;\" transform=\"translate(59.800234 459.453594)scale(0.11 -0.11)\">\r\n       <defs>\r\n        <path d=\"M 4.15625 35.296875 \r\nQ 4.15625 48 6.765625 55.734375 \r\nQ 9.375 63.484375 14.515625 67.671875 \r\nQ 19.671875 71.875 27.484375 71.875 \r\nQ 33.25 71.875 37.59375 69.546875 \r\nQ 41.9375 67.234375 44.765625 62.859375 \r\nQ 47.609375 58.5 49.21875 52.21875 \r\nQ 50.828125 45.953125 50.828125 35.296875 \r\nQ 50.828125 22.703125 48.234375 14.96875 \r\nQ 45.65625 7.234375 40.5 3 \r\nQ 35.359375 -1.21875 27.484375 -1.21875 \r\nQ 17.140625 -1.21875 11.234375 6.203125 \r\nQ 4.15625 15.140625 4.15625 35.296875 \r\nz\r\nM 13.1875 35.296875 \r\nQ 13.1875 17.671875 17.3125 11.828125 \r\nQ 21.4375 6 27.484375 6 \r\nQ 33.546875 6 37.671875 11.859375 \r\nQ 41.796875 17.71875 41.796875 35.296875 \r\nQ 41.796875 52.984375 37.671875 58.78125 \r\nQ 33.546875 64.59375 27.390625 64.59375 \r\nQ 21.34375 64.59375 17.71875 59.46875 \r\nQ 13.1875 52.9375 13.1875 35.296875 \r\nz\r\n\" id=\"ArialMT-48\"/>\r\n        <path d=\"M 9.078125 0 \r\nL 9.078125 10.015625 \r\nL 19.09375 10.015625 \r\nL 19.09375 0 \r\nz\r\n\" id=\"ArialMT-46\"/>\r\n       </defs>\r\n       <use xlink:href=\"#ArialMT-48\"/>\r\n       <use x=\"55.615234\" xlink:href=\"#ArialMT-46\"/>\r\n       <use x=\"83.398438\" xlink:href=\"#ArialMT-48\"/>\r\n       <use x=\"139.013672\" xlink:href=\"#ArialMT-48\"/>\r\n      </g>\r\n     </g>\r\n    </g>\r\n    <g id=\"xtick_2\">\r\n     <g id=\"line2d_2\">\r\n      <path clip-path=\"url(#pd1ff3d4f8b)\" d=\"M 162.5652 442.08 \r\nL 162.5652 7.2 \r\n\" style=\"fill:none;stroke:#ffffff;stroke-linecap:round;\"/>\r\n     </g>\r\n     <g id=\"text_2\">\r\n      <!-- 0.05 -->\r\n      <g style=\"fill:#262626;\" transform=\"translate(151.861684 459.453594)scale(0.11 -0.11)\">\r\n       <defs>\r\n        <path d=\"M 4.15625 18.75 \r\nL 13.375 19.53125 \r\nQ 14.40625 12.796875 18.140625 9.390625 \r\nQ 21.875 6 27.15625 6 \r\nQ 33.5 6 37.890625 10.78125 \r\nQ 42.28125 15.578125 42.28125 23.484375 \r\nQ 42.28125 31 38.0625 35.34375 \r\nQ 33.84375 39.703125 27 39.703125 \r\nQ 22.75 39.703125 19.328125 37.765625 \r\nQ 15.921875 35.84375 13.96875 32.765625 \r\nL 5.71875 33.84375 \r\nL 12.640625 70.609375 \r\nL 48.25 70.609375 \r\nL 48.25 62.203125 \r\nL 19.671875 62.203125 \r\nL 15.828125 42.96875 \r\nQ 22.265625 47.46875 29.34375 47.46875 \r\nQ 38.71875 47.46875 45.15625 40.96875 \r\nQ 51.609375 34.46875 51.609375 24.265625 \r\nQ 51.609375 14.546875 45.953125 7.46875 \r\nQ 39.0625 -1.21875 27.15625 -1.21875 \r\nQ 17.390625 -1.21875 11.203125 4.25 \r\nQ 5.03125 9.71875 4.15625 18.75 \r\nz\r\n\" id=\"ArialMT-53\"/>\r\n       </defs>\r\n       <use xlink:href=\"#ArialMT-48\"/>\r\n       <use x=\"55.615234\" xlink:href=\"#ArialMT-46\"/>\r\n       <use x=\"83.398438\" xlink:href=\"#ArialMT-48\"/>\r\n       <use x=\"139.013672\" xlink:href=\"#ArialMT-53\"/>\r\n      </g>\r\n     </g>\r\n    </g>\r\n    <g id=\"xtick_3\">\r\n     <g id=\"line2d_3\">\r\n      <path clip-path=\"url(#pd1ff3d4f8b)\" d=\"M 254.62665 442.08 \r\nL 254.62665 7.2 \r\n\" style=\"fill:none;stroke:#ffffff;stroke-linecap:round;\"/>\r\n     </g>\r\n     <g id=\"text_3\">\r\n      <!-- 0.10 -->\r\n      <g style=\"fill:#262626;\" transform=\"translate(243.923134 459.453594)scale(0.11 -0.11)\">\r\n       <defs>\r\n        <path d=\"M 37.25 0 \r\nL 28.46875 0 \r\nL 28.46875 56 \r\nQ 25.296875 52.984375 20.140625 49.953125 \r\nQ 14.984375 46.921875 10.890625 45.40625 \r\nL 10.890625 53.90625 \r\nQ 18.265625 57.375 23.78125 62.296875 \r\nQ 29.296875 67.234375 31.59375 71.875 \r\nL 37.25 71.875 \r\nz\r\n\" id=\"ArialMT-49\"/>\r\n       </defs>\r\n       <use xlink:href=\"#ArialMT-48\"/>\r\n       <use x=\"55.615234\" xlink:href=\"#ArialMT-46\"/>\r\n       <use x=\"83.398438\" xlink:href=\"#ArialMT-49\"/>\r\n       <use x=\"139.013672\" xlink:href=\"#ArialMT-48\"/>\r\n      </g>\r\n     </g>\r\n    </g>\r\n    <g id=\"xtick_4\">\r\n     <g id=\"line2d_4\">\r\n      <path clip-path=\"url(#pd1ff3d4f8b)\" d=\"M 346.6881 442.08 \r\nL 346.6881 7.2 \r\n\" style=\"fill:none;stroke:#ffffff;stroke-linecap:round;\"/>\r\n     </g>\r\n     <g id=\"text_4\">\r\n      <!-- 0.15 -->\r\n      <g style=\"fill:#262626;\" transform=\"translate(335.984584 459.453594)scale(0.11 -0.11)\">\r\n       <use xlink:href=\"#ArialMT-48\"/>\r\n       <use x=\"55.615234\" xlink:href=\"#ArialMT-46\"/>\r\n       <use x=\"83.398438\" xlink:href=\"#ArialMT-49\"/>\r\n       <use x=\"139.013672\" xlink:href=\"#ArialMT-53\"/>\r\n      </g>\r\n     </g>\r\n    </g>\r\n    <g id=\"xtick_5\">\r\n     <g id=\"line2d_5\">\r\n      <path clip-path=\"url(#pd1ff3d4f8b)\" d=\"M 438.749549 442.08 \r\nL 438.749549 7.2 \r\n\" style=\"fill:none;stroke:#ffffff;stroke-linecap:round;\"/>\r\n     </g>\r\n     <g id=\"text_5\">\r\n      <!-- 0.20 -->\r\n      <g style=\"fill:#262626;\" transform=\"translate(428.046034 459.453594)scale(0.11 -0.11)\">\r\n       <defs>\r\n        <path d=\"M 50.34375 8.453125 \r\nL 50.34375 0 \r\nL 3.03125 0 \r\nQ 2.9375 3.171875 4.046875 6.109375 \r\nQ 5.859375 10.9375 9.828125 15.625 \r\nQ 13.8125 20.3125 21.34375 26.46875 \r\nQ 33.015625 36.03125 37.109375 41.625 \r\nQ 41.21875 47.21875 41.21875 52.203125 \r\nQ 41.21875 57.421875 37.46875 61 \r\nQ 33.734375 64.59375 27.734375 64.59375 \r\nQ 21.390625 64.59375 17.578125 60.78125 \r\nQ 13.765625 56.984375 13.71875 50.25 \r\nL 4.6875 51.171875 \r\nQ 5.609375 61.28125 11.65625 66.578125 \r\nQ 17.71875 71.875 27.9375 71.875 \r\nQ 38.234375 71.875 44.234375 66.15625 \r\nQ 50.25 60.453125 50.25 52 \r\nQ 50.25 47.703125 48.484375 43.546875 \r\nQ 46.734375 39.40625 42.65625 34.8125 \r\nQ 38.578125 30.21875 29.109375 22.21875 \r\nQ 21.1875 15.578125 18.9375 13.203125 \r\nQ 16.703125 10.84375 15.234375 8.453125 \r\nz\r\n\" id=\"ArialMT-50\"/>\r\n       </defs>\r\n       <use xlink:href=\"#ArialMT-48\"/>\r\n       <use x=\"55.615234\" xlink:href=\"#ArialMT-46\"/>\r\n       <use x=\"83.398438\" xlink:href=\"#ArialMT-50\"/>\r\n       <use x=\"139.013672\" xlink:href=\"#ArialMT-48\"/>\r\n      </g>\r\n     </g>\r\n    </g>\r\n    <g id=\"xtick_6\">\r\n     <g id=\"line2d_6\">\r\n      <path clip-path=\"url(#pd1ff3d4f8b)\" d=\"M 530.810999 442.08 \r\nL 530.810999 7.2 \r\n\" style=\"fill:none;stroke:#ffffff;stroke-linecap:round;\"/>\r\n     </g>\r\n     <g id=\"text_6\">\r\n      <!-- 0.25 -->\r\n      <g style=\"fill:#262626;\" transform=\"translate(520.107484 459.453594)scale(0.11 -0.11)\">\r\n       <use xlink:href=\"#ArialMT-48\"/>\r\n       <use x=\"55.615234\" xlink:href=\"#ArialMT-46\"/>\r\n       <use x=\"83.398438\" xlink:href=\"#ArialMT-50\"/>\r\n       <use x=\"139.013672\" xlink:href=\"#ArialMT-53\"/>\r\n      </g>\r\n     </g>\r\n    </g>\r\n    <g id=\"xtick_7\">\r\n     <g id=\"line2d_7\">\r\n      <path clip-path=\"url(#pd1ff3d4f8b)\" d=\"M 622.872449 442.08 \r\nL 622.872449 7.2 \r\n\" style=\"fill:none;stroke:#ffffff;stroke-linecap:round;\"/>\r\n     </g>\r\n     <g id=\"text_7\">\r\n      <!-- 0.30 -->\r\n      <g style=\"fill:#262626;\" transform=\"translate(612.168934 459.453594)scale(0.11 -0.11)\">\r\n       <defs>\r\n        <path d=\"M 4.203125 18.890625 \r\nL 12.984375 20.0625 \r\nQ 14.5 12.59375 18.140625 9.296875 \r\nQ 21.78125 6 27 6 \r\nQ 33.203125 6 37.46875 10.296875 \r\nQ 41.75 14.59375 41.75 20.953125 \r\nQ 41.75 27 37.796875 30.921875 \r\nQ 33.84375 34.859375 27.734375 34.859375 \r\nQ 25.25 34.859375 21.53125 33.890625 \r\nL 22.515625 41.609375 \r\nQ 23.390625 41.5 23.921875 41.5 \r\nQ 29.546875 41.5 34.03125 44.421875 \r\nQ 38.53125 47.359375 38.53125 53.46875 \r\nQ 38.53125 58.296875 35.25 61.46875 \r\nQ 31.984375 64.65625 26.8125 64.65625 \r\nQ 21.6875 64.65625 18.265625 61.421875 \r\nQ 14.84375 58.203125 13.875 51.765625 \r\nL 5.078125 53.328125 \r\nQ 6.6875 62.15625 12.390625 67.015625 \r\nQ 18.109375 71.875 26.609375 71.875 \r\nQ 32.46875 71.875 37.390625 69.359375 \r\nQ 42.328125 66.84375 44.9375 62.5 \r\nQ 47.5625 58.15625 47.5625 53.265625 \r\nQ 47.5625 48.640625 45.0625 44.828125 \r\nQ 42.578125 41.015625 37.703125 38.765625 \r\nQ 44.046875 37.3125 47.5625 32.6875 \r\nQ 51.078125 28.078125 51.078125 21.140625 \r\nQ 51.078125 11.765625 44.234375 5.25 \r\nQ 37.40625 -1.265625 26.953125 -1.265625 \r\nQ 17.53125 -1.265625 11.296875 4.34375 \r\nQ 5.078125 9.96875 4.203125 18.890625 \r\nz\r\n\" id=\"ArialMT-51\"/>\r\n       </defs>\r\n       <use xlink:href=\"#ArialMT-48\"/>\r\n       <use x=\"55.615234\" xlink:href=\"#ArialMT-46\"/>\r\n       <use x=\"83.398438\" xlink:href=\"#ArialMT-51\"/>\r\n       <use x=\"139.013672\" xlink:href=\"#ArialMT-48\"/>\r\n      </g>\r\n     </g>\r\n    </g>\r\n    <g id=\"xtick_8\">\r\n     <g id=\"line2d_8\">\r\n      <path clip-path=\"url(#pd1ff3d4f8b)\" d=\"M 714.933899 442.08 \r\nL 714.933899 7.2 \r\n\" style=\"fill:none;stroke:#ffffff;stroke-linecap:round;\"/>\r\n     </g>\r\n     <g id=\"text_8\">\r\n      <!-- 0.35 -->\r\n      <g style=\"fill:#262626;\" transform=\"translate(704.230383 459.453594)scale(0.11 -0.11)\">\r\n       <use xlink:href=\"#ArialMT-48\"/>\r\n       <use x=\"55.615234\" xlink:href=\"#ArialMT-46\"/>\r\n       <use x=\"83.398438\" xlink:href=\"#ArialMT-51\"/>\r\n       <use x=\"139.013672\" xlink:href=\"#ArialMT-53\"/>\r\n      </g>\r\n     </g>\r\n    </g>\r\n   </g>\r\n   <g id=\"matplotlib.axis_2\">\r\n    <g id=\"ytick_1\">\r\n     <g id=\"line2d_9\">\r\n      <path clip-path=\"url(#pd1ff3d4f8b)\" d=\"M 70.50375 387.72 \r\nL 740.10375 387.72 \r\n\" style=\"fill:none;stroke:#ffffff;stroke-linecap:round;\"/>\r\n     </g>\r\n     <g id=\"text_9\">\r\n      <!-- comments -->\r\n      <g style=\"fill:#262626;\" transform=\"translate(10.271406 391.656797)scale(0.11 -0.11)\">\r\n       <defs>\r\n        <path d=\"M 40.4375 19 \r\nL 49.078125 17.875 \r\nQ 47.65625 8.9375 41.8125 3.875 \r\nQ 35.984375 -1.171875 27.484375 -1.171875 \r\nQ 16.84375 -1.171875 10.375 5.78125 \r\nQ 3.90625 12.75 3.90625 25.734375 \r\nQ 3.90625 34.125 6.6875 40.421875 \r\nQ 9.46875 46.734375 15.15625 49.875 \r\nQ 20.84375 53.03125 27.546875 53.03125 \r\nQ 35.984375 53.03125 41.359375 48.75 \r\nQ 46.734375 44.484375 48.25 36.625 \r\nL 39.703125 35.296875 \r\nQ 38.484375 40.53125 35.375 43.15625 \r\nQ 32.28125 45.796875 27.875 45.796875 \r\nQ 21.234375 45.796875 17.078125 41.03125 \r\nQ 12.9375 36.28125 12.9375 25.984375 \r\nQ 12.9375 15.53125 16.9375 10.796875 \r\nQ 20.953125 6.0625 27.390625 6.0625 \r\nQ 32.5625 6.0625 36.03125 9.234375 \r\nQ 39.5 12.40625 40.4375 19 \r\nz\r\n\" id=\"ArialMT-99\"/>\r\n        <path d=\"M 3.328125 25.921875 \r\nQ 3.328125 40.328125 11.328125 47.265625 \r\nQ 18.015625 53.03125 27.640625 53.03125 \r\nQ 38.328125 53.03125 45.109375 46.015625 \r\nQ 51.90625 39.015625 51.90625 26.65625 \r\nQ 51.90625 16.65625 48.90625 10.90625 \r\nQ 45.90625 5.171875 40.15625 2 \r\nQ 34.421875 -1.171875 27.640625 -1.171875 \r\nQ 16.75 -1.171875 10.03125 5.8125 \r\nQ 3.328125 12.796875 3.328125 25.921875 \r\nz\r\nM 12.359375 25.921875 \r\nQ 12.359375 15.96875 16.703125 11.015625 \r\nQ 21.046875 6.0625 27.640625 6.0625 \r\nQ 34.1875 6.0625 38.53125 11.03125 \r\nQ 42.875 16.015625 42.875 26.21875 \r\nQ 42.875 35.84375 38.5 40.796875 \r\nQ 34.125 45.75 27.640625 45.75 \r\nQ 21.046875 45.75 16.703125 40.8125 \r\nQ 12.359375 35.890625 12.359375 25.921875 \r\nz\r\n\" id=\"ArialMT-111\"/>\r\n        <path d=\"M 6.59375 0 \r\nL 6.59375 51.859375 \r\nL 14.453125 51.859375 \r\nL 14.453125 44.578125 \r\nQ 16.890625 48.390625 20.9375 50.703125 \r\nQ 25 53.03125 30.171875 53.03125 \r\nQ 35.9375 53.03125 39.625 50.640625 \r\nQ 43.3125 48.25 44.828125 43.953125 \r\nQ 50.984375 53.03125 60.84375 53.03125 \r\nQ 68.5625 53.03125 72.703125 48.75 \r\nQ 76.859375 44.484375 76.859375 35.59375 \r\nL 76.859375 0 \r\nL 68.109375 0 \r\nL 68.109375 32.671875 \r\nQ 68.109375 37.9375 67.25 40.25 \r\nQ 66.40625 42.578125 64.15625 43.984375 \r\nQ 61.921875 45.40625 58.890625 45.40625 \r\nQ 53.421875 45.40625 49.796875 41.765625 \r\nQ 46.1875 38.140625 46.1875 30.125 \r\nL 46.1875 0 \r\nL 37.40625 0 \r\nL 37.40625 33.6875 \r\nQ 37.40625 39.546875 35.25 42.46875 \r\nQ 33.109375 45.40625 28.21875 45.40625 \r\nQ 24.515625 45.40625 21.359375 43.453125 \r\nQ 18.21875 41.5 16.796875 37.734375 \r\nQ 15.375 33.984375 15.375 26.90625 \r\nL 15.375 0 \r\nz\r\n\" id=\"ArialMT-109\"/>\r\n        <path d=\"M 42.09375 16.703125 \r\nL 51.171875 15.578125 \r\nQ 49.03125 7.625 43.21875 3.21875 \r\nQ 37.40625 -1.171875 28.375 -1.171875 \r\nQ 17 -1.171875 10.328125 5.828125 \r\nQ 3.65625 12.84375 3.65625 25.484375 \r\nQ 3.65625 38.578125 10.390625 45.796875 \r\nQ 17.140625 53.03125 27.875 53.03125 \r\nQ 38.28125 53.03125 44.875 45.953125 \r\nQ 51.46875 38.875 51.46875 26.03125 \r\nQ 51.46875 25.25 51.421875 23.6875 \r\nL 12.75 23.6875 \r\nQ 13.234375 15.140625 17.578125 10.59375 \r\nQ 21.921875 6.0625 28.421875 6.0625 \r\nQ 33.25 6.0625 36.671875 8.59375 \r\nQ 40.09375 11.140625 42.09375 16.703125 \r\nz\r\nM 13.234375 30.90625 \r\nL 42.1875 30.90625 \r\nQ 41.609375 37.453125 38.875 40.71875 \r\nQ 34.671875 45.796875 27.984375 45.796875 \r\nQ 21.921875 45.796875 17.796875 41.75 \r\nQ 13.671875 37.703125 13.234375 30.90625 \r\nz\r\n\" id=\"ArialMT-101\"/>\r\n        <path d=\"M 6.59375 0 \r\nL 6.59375 51.859375 \r\nL 14.5 51.859375 \r\nL 14.5 44.484375 \r\nQ 20.21875 53.03125 31 53.03125 \r\nQ 35.6875 53.03125 39.625 51.34375 \r\nQ 43.5625 49.65625 45.515625 46.921875 \r\nQ 47.46875 44.1875 48.25 40.4375 \r\nQ 48.734375 37.984375 48.734375 31.890625 \r\nL 48.734375 0 \r\nL 39.9375 0 \r\nL 39.9375 31.546875 \r\nQ 39.9375 36.921875 38.90625 39.578125 \r\nQ 37.890625 42.234375 35.28125 43.8125 \r\nQ 32.671875 45.40625 29.15625 45.40625 \r\nQ 23.53125 45.40625 19.453125 41.84375 \r\nQ 15.375 38.28125 15.375 28.328125 \r\nL 15.375 0 \r\nz\r\n\" id=\"ArialMT-110\"/>\r\n        <path d=\"M 25.78125 7.859375 \r\nL 27.046875 0.09375 \r\nQ 23.34375 -0.6875 20.40625 -0.6875 \r\nQ 15.625 -0.6875 12.984375 0.828125 \r\nQ 10.359375 2.34375 9.28125 4.8125 \r\nQ 8.203125 7.28125 8.203125 15.1875 \r\nL 8.203125 45.015625 \r\nL 1.765625 45.015625 \r\nL 1.765625 51.859375 \r\nL 8.203125 51.859375 \r\nL 8.203125 64.703125 \r\nL 16.9375 69.96875 \r\nL 16.9375 51.859375 \r\nL 25.78125 51.859375 \r\nL 25.78125 45.015625 \r\nL 16.9375 45.015625 \r\nL 16.9375 14.703125 \r\nQ 16.9375 10.9375 17.40625 9.859375 \r\nQ 17.875 8.796875 18.921875 8.15625 \r\nQ 19.96875 7.515625 21.921875 7.515625 \r\nQ 23.390625 7.515625 25.78125 7.859375 \r\nz\r\n\" id=\"ArialMT-116\"/>\r\n        <path d=\"M 3.078125 15.484375 \r\nL 11.765625 16.84375 \r\nQ 12.5 11.625 15.84375 8.84375 \r\nQ 19.1875 6.0625 25.203125 6.0625 \r\nQ 31.25 6.0625 34.171875 8.515625 \r\nQ 37.109375 10.984375 37.109375 14.3125 \r\nQ 37.109375 17.28125 34.515625 19 \r\nQ 32.71875 20.171875 25.53125 21.96875 \r\nQ 15.875 24.421875 12.140625 26.203125 \r\nQ 8.40625 27.984375 6.46875 31.125 \r\nQ 4.546875 34.28125 4.546875 38.09375 \r\nQ 4.546875 41.546875 6.125 44.5 \r\nQ 7.71875 47.46875 10.453125 49.421875 \r\nQ 12.5 50.921875 16.03125 51.96875 \r\nQ 19.578125 53.03125 23.640625 53.03125 \r\nQ 29.734375 53.03125 34.34375 51.265625 \r\nQ 38.96875 49.515625 41.15625 46.5 \r\nQ 43.359375 43.5 44.1875 38.484375 \r\nL 35.59375 37.3125 \r\nQ 35.015625 41.3125 32.203125 43.546875 \r\nQ 29.390625 45.796875 24.265625 45.796875 \r\nQ 18.21875 45.796875 15.625 43.796875 \r\nQ 13.03125 41.796875 13.03125 39.109375 \r\nQ 13.03125 37.40625 14.109375 36.03125 \r\nQ 15.1875 34.625 17.484375 33.6875 \r\nQ 18.796875 33.203125 25.25 31.453125 \r\nQ 34.578125 28.953125 38.25 27.359375 \r\nQ 41.9375 25.78125 44.03125 22.75 \r\nQ 46.140625 19.734375 46.140625 15.234375 \r\nQ 46.140625 10.84375 43.578125 6.953125 \r\nQ 41.015625 3.078125 36.171875 0.953125 \r\nQ 31.34375 -1.171875 25.25 -1.171875 \r\nQ 15.140625 -1.171875 9.84375 3.03125 \r\nQ 4.546875 7.234375 3.078125 15.484375 \r\nz\r\n\" id=\"ArialMT-115\"/>\r\n       </defs>\r\n       <use xlink:href=\"#ArialMT-99\"/>\r\n       <use x=\"50\" xlink:href=\"#ArialMT-111\"/>\r\n       <use x=\"105.615234\" xlink:href=\"#ArialMT-109\"/>\r\n       <use x=\"188.916016\" xlink:href=\"#ArialMT-109\"/>\r\n       <use x=\"272.216797\" xlink:href=\"#ArialMT-101\"/>\r\n       <use x=\"327.832031\" xlink:href=\"#ArialMT-110\"/>\r\n       <use x=\"383.447266\" xlink:href=\"#ArialMT-116\"/>\r\n       <use x=\"411.230469\" xlink:href=\"#ArialMT-115\"/>\r\n      </g>\r\n     </g>\r\n    </g>\r\n    <g id=\"ytick_2\">\r\n     <g id=\"line2d_10\">\r\n      <path clip-path=\"url(#pd1ff3d4f8b)\" d=\"M 70.50375 279 \r\nL 740.10375 279 \r\n\" style=\"fill:none;stroke:#ffffff;stroke-linecap:round;\"/>\r\n     </g>\r\n     <g id=\"text_10\">\r\n      <!-- steps_tried -->\r\n      <g style=\"fill:#262626;\" transform=\"translate(7.2 282.936797)scale(0.11 -0.11)\">\r\n       <defs>\r\n        <path d=\"M 6.59375 -19.875 \r\nL 6.59375 51.859375 \r\nL 14.59375 51.859375 \r\nL 14.59375 45.125 \r\nQ 17.4375 49.078125 21 51.046875 \r\nQ 24.5625 53.03125 29.640625 53.03125 \r\nQ 36.28125 53.03125 41.359375 49.609375 \r\nQ 46.4375 46.1875 49.015625 39.953125 \r\nQ 51.609375 33.734375 51.609375 26.3125 \r\nQ 51.609375 18.359375 48.75 11.984375 \r\nQ 45.90625 5.609375 40.453125 2.21875 \r\nQ 35.015625 -1.171875 29 -1.171875 \r\nQ 24.609375 -1.171875 21.109375 0.6875 \r\nQ 17.625 2.546875 15.375 5.375 \r\nL 15.375 -19.875 \r\nz\r\nM 14.546875 25.640625 \r\nQ 14.546875 15.625 18.59375 10.84375 \r\nQ 22.65625 6.0625 28.421875 6.0625 \r\nQ 34.28125 6.0625 38.453125 11.015625 \r\nQ 42.625 15.96875 42.625 26.375 \r\nQ 42.625 36.28125 38.546875 41.203125 \r\nQ 34.46875 46.140625 28.8125 46.140625 \r\nQ 23.1875 46.140625 18.859375 40.890625 \r\nQ 14.546875 35.640625 14.546875 25.640625 \r\nz\r\n\" id=\"ArialMT-112\"/>\r\n        <path d=\"M -1.515625 -19.875 \r\nL -1.515625 -13.53125 \r\nL 56.734375 -13.53125 \r\nL 56.734375 -19.875 \r\nz\r\n\" id=\"ArialMT-95\"/>\r\n        <path d=\"M 6.5 0 \r\nL 6.5 51.859375 \r\nL 14.40625 51.859375 \r\nL 14.40625 44 \r\nQ 17.4375 49.515625 20 51.265625 \r\nQ 22.5625 53.03125 25.640625 53.03125 \r\nQ 30.078125 53.03125 34.671875 50.203125 \r\nL 31.640625 42.046875 \r\nQ 28.421875 43.953125 25.203125 43.953125 \r\nQ 22.3125 43.953125 20.015625 42.21875 \r\nQ 17.71875 40.484375 16.75 37.40625 \r\nQ 15.28125 32.71875 15.28125 27.15625 \r\nL 15.28125 0 \r\nz\r\n\" id=\"ArialMT-114\"/>\r\n        <path d=\"M 6.640625 61.46875 \r\nL 6.640625 71.578125 \r\nL 15.4375 71.578125 \r\nL 15.4375 61.46875 \r\nz\r\nM 6.640625 0 \r\nL 6.640625 51.859375 \r\nL 15.4375 51.859375 \r\nL 15.4375 0 \r\nz\r\n\" id=\"ArialMT-105\"/>\r\n        <path d=\"M 40.234375 0 \r\nL 40.234375 6.546875 \r\nQ 35.296875 -1.171875 25.734375 -1.171875 \r\nQ 19.53125 -1.171875 14.328125 2.25 \r\nQ 9.125 5.671875 6.265625 11.796875 \r\nQ 3.421875 17.921875 3.421875 25.875 \r\nQ 3.421875 33.640625 6 39.96875 \r\nQ 8.59375 46.296875 13.765625 49.65625 \r\nQ 18.953125 53.03125 25.34375 53.03125 \r\nQ 30.03125 53.03125 33.6875 51.046875 \r\nQ 37.359375 49.078125 39.65625 45.90625 \r\nL 39.65625 71.578125 \r\nL 48.390625 71.578125 \r\nL 48.390625 0 \r\nz\r\nM 12.453125 25.875 \r\nQ 12.453125 15.921875 16.640625 10.984375 \r\nQ 20.84375 6.0625 26.5625 6.0625 \r\nQ 32.328125 6.0625 36.34375 10.765625 \r\nQ 40.375 15.484375 40.375 25.140625 \r\nQ 40.375 35.796875 36.265625 40.765625 \r\nQ 32.171875 45.75 26.171875 45.75 \r\nQ 20.3125 45.75 16.375 40.96875 \r\nQ 12.453125 36.1875 12.453125 25.875 \r\nz\r\n\" id=\"ArialMT-100\"/>\r\n       </defs>\r\n       <use xlink:href=\"#ArialMT-115\"/>\r\n       <use x=\"50\" xlink:href=\"#ArialMT-116\"/>\r\n       <use x=\"77.783203\" xlink:href=\"#ArialMT-101\"/>\r\n       <use x=\"133.398438\" xlink:href=\"#ArialMT-112\"/>\r\n       <use x=\"189.013672\" xlink:href=\"#ArialMT-115\"/>\r\n       <use x=\"239.013672\" xlink:href=\"#ArialMT-95\"/>\r\n       <use x=\"294.628906\" xlink:href=\"#ArialMT-116\"/>\r\n       <use x=\"322.412109\" xlink:href=\"#ArialMT-114\"/>\r\n       <use x=\"355.712891\" xlink:href=\"#ArialMT-105\"/>\r\n       <use x=\"377.929688\" xlink:href=\"#ArialMT-101\"/>\r\n       <use x=\"433.544922\" xlink:href=\"#ArialMT-100\"/>\r\n      </g>\r\n     </g>\r\n    </g>\r\n    <g id=\"ytick_3\">\r\n     <g id=\"line2d_11\">\r\n      <path clip-path=\"url(#pd1ff3d4f8b)\" d=\"M 70.50375 170.28 \r\nL 740.10375 170.28 \r\n\" style=\"fill:none;stroke:#ffffff;stroke-linecap:round;\"/>\r\n     </g>\r\n     <g id=\"text_11\">\r\n      <!-- correct -->\r\n      <g style=\"fill:#262626;\" transform=\"translate(27.388437 174.216797)scale(0.11 -0.11)\">\r\n       <use xlink:href=\"#ArialMT-99\"/>\r\n       <use x=\"50\" xlink:href=\"#ArialMT-111\"/>\r\n       <use x=\"105.615234\" xlink:href=\"#ArialMT-114\"/>\r\n       <use x=\"138.916016\" xlink:href=\"#ArialMT-114\"/>\r\n       <use x=\"172.216797\" xlink:href=\"#ArialMT-101\"/>\r\n       <use x=\"227.832031\" xlink:href=\"#ArialMT-99\"/>\r\n       <use x=\"277.832031\" xlink:href=\"#ArialMT-116\"/>\r\n      </g>\r\n     </g>\r\n    </g>\r\n    <g id=\"ytick_4\">\r\n     <g id=\"line2d_12\">\r\n      <path clip-path=\"url(#pd1ff3d4f8b)\" d=\"M 70.50375 61.56 \r\nL 740.10375 61.56 \r\n\" style=\"fill:none;stroke:#ffffff;stroke-linecap:round;\"/>\r\n     </g>\r\n     <g id=\"text_12\">\r\n      <!-- wrong -->\r\n      <g style=\"fill:#262626;\" transform=\"translate(31.045937 65.432344)scale(0.11 -0.11)\">\r\n       <defs>\r\n        <path d=\"M 16.15625 0 \r\nL 0.296875 51.859375 \r\nL 9.375 51.859375 \r\nL 17.625 21.921875 \r\nL 20.703125 10.796875 \r\nQ 20.90625 11.625 23.390625 21.484375 \r\nL 31.640625 51.859375 \r\nL 40.671875 51.859375 \r\nL 48.4375 21.78125 \r\nL 51.03125 11.859375 \r\nL 54 21.875 \r\nL 62.890625 51.859375 \r\nL 71.4375 51.859375 \r\nL 55.21875 0 \r\nL 46.09375 0 \r\nL 37.84375 31.0625 \r\nL 35.84375 39.890625 \r\nL 25.34375 0 \r\nz\r\n\" id=\"ArialMT-119\"/>\r\n        <path d=\"M 4.984375 -4.296875 \r\nL 13.53125 -5.5625 \r\nQ 14.0625 -9.515625 16.5 -11.328125 \r\nQ 19.78125 -13.765625 25.4375 -13.765625 \r\nQ 31.546875 -13.765625 34.859375 -11.328125 \r\nQ 38.1875 -8.890625 39.359375 -4.5 \r\nQ 40.046875 -1.8125 39.984375 6.78125 \r\nQ 34.234375 0 25.640625 0 \r\nQ 14.9375 0 9.078125 7.71875 \r\nQ 3.21875 15.4375 3.21875 26.21875 \r\nQ 3.21875 33.640625 5.90625 39.90625 \r\nQ 8.59375 46.1875 13.6875 49.609375 \r\nQ 18.796875 53.03125 25.6875 53.03125 \r\nQ 34.859375 53.03125 40.828125 45.609375 \r\nL 40.828125 51.859375 \r\nL 48.921875 51.859375 \r\nL 48.921875 7.03125 \r\nQ 48.921875 -5.078125 46.453125 -10.125 \r\nQ 44 -15.1875 38.640625 -18.109375 \r\nQ 33.296875 -21.046875 25.484375 -21.046875 \r\nQ 16.21875 -21.046875 10.5 -16.875 \r\nQ 4.78125 -12.703125 4.984375 -4.296875 \r\nz\r\nM 12.25 26.859375 \r\nQ 12.25 16.65625 16.296875 11.96875 \r\nQ 20.359375 7.28125 26.46875 7.28125 \r\nQ 32.515625 7.28125 36.609375 11.9375 \r\nQ 40.71875 16.609375 40.71875 26.5625 \r\nQ 40.71875 36.078125 36.5 40.90625 \r\nQ 32.28125 45.75 26.3125 45.75 \r\nQ 20.453125 45.75 16.34375 40.984375 \r\nQ 12.25 36.234375 12.25 26.859375 \r\nz\r\n\" id=\"ArialMT-103\"/>\r\n       </defs>\r\n       <use xlink:href=\"#ArialMT-119\"/>\r\n       <use x=\"72.216797\" xlink:href=\"#ArialMT-114\"/>\r\n       <use x=\"105.517578\" xlink:href=\"#ArialMT-111\"/>\r\n       <use x=\"161.132812\" xlink:href=\"#ArialMT-110\"/>\r\n       <use x=\"216.748047\" xlink:href=\"#ArialMT-103\"/>\r\n      </g>\r\n     </g>\r\n    </g>\r\n   </g>\r\n   <g id=\"patch_3\">\r\n    <path clip-path=\"url(#pd1ff3d4f8b)\" d=\"M 70.50375 414.9 \r\nL 281.140336 414.9 \r\nL 281.140336 360.54 \r\nL 70.50375 360.54 \r\nz\r\n\" style=\"fill:#4c72b0;stroke:#ffffff;stroke-linejoin:miter;\"/>\r\n   </g>\r\n   <g id=\"patch_4\">\r\n    <path clip-path=\"url(#pd1ff3d4f8b)\" d=\"M 70.50375 306.18 \r\nL 558.118156 306.18 \r\nL 558.118156 251.82 \r\nL 70.50375 251.82 \r\nz\r\n\" style=\"fill:#4c72b0;stroke:#ffffff;stroke-linejoin:miter;\"/>\r\n   </g>\r\n   <g id=\"patch_5\">\r\n    <path clip-path=\"url(#pd1ff3d4f8b)\" d=\"M 70.50375 197.46 \r\nL 575.76747 197.46 \r\nL 575.76747 143.1 \r\nL 70.50375 143.1 \r\nz\r\n\" style=\"fill:#4c72b0;stroke:#ffffff;stroke-linejoin:miter;\"/>\r\n   </g>\r\n   <g id=\"patch_6\">\r\n    <path clip-path=\"url(#pd1ff3d4f8b)\" d=\"M 70.50375 88.74 \r\nL 708.218036 88.74 \r\nL 708.218036 34.38 \r\nL 70.50375 34.38 \r\nz\r\n\" style=\"fill:#4c72b0;stroke:#ffffff;stroke-linejoin:miter;\"/>\r\n   </g>\r\n   <g id=\"patch_7\">\r\n    <path d=\"M 70.50375 442.08 \r\nL 70.50375 7.2 \r\n\" style=\"fill:none;stroke:#ffffff;stroke-linecap:square;stroke-linejoin:miter;stroke-width:1.25;\"/>\r\n   </g>\r\n   <g id=\"patch_8\">\r\n    <path d=\"M 740.10375 442.08 \r\nL 740.10375 7.2 \r\n\" style=\"fill:none;stroke:#ffffff;stroke-linecap:square;stroke-linejoin:miter;stroke-width:1.25;\"/>\r\n   </g>\r\n   <g id=\"patch_9\">\r\n    <path d=\"M 70.50375 442.08 \r\nL 740.10375 442.08 \r\n\" style=\"fill:none;stroke:#ffffff;stroke-linecap:square;stroke-linejoin:miter;stroke-width:1.25;\"/>\r\n   </g>\r\n   <g id=\"patch_10\">\r\n    <path d=\"M 70.50375 7.2 \r\nL 740.10375 7.2 \r\n\" style=\"fill:none;stroke:#ffffff;stroke-linecap:square;stroke-linejoin:miter;stroke-width:1.25;\"/>\r\n   </g>\r\n   <g id=\"legend_1\">\r\n    <g id=\"patch_11\">\r\n     <path d=\"M 642.793281 31.559844 \r\nL 732.40375 31.559844 \r\nQ 734.60375 31.559844 734.60375 29.359844 \r\nL 734.60375 14.9 \r\nQ 734.60375 12.7 732.40375 12.7 \r\nL 642.793281 12.7 \r\nQ 640.593281 12.7 640.593281 14.9 \r\nL 640.593281 29.359844 \r\nQ 640.593281 31.559844 642.793281 31.559844 \r\nz\r\n\" style=\"fill:#eaeaf2;opacity:0.8;stroke:#cccccc;stroke-linejoin:miter;\"/>\r\n    </g>\r\n    <g id=\"patch_12\">\r\n     <path d=\"M 644.993281 24.973594 \r\nL 666.993281 24.973594 \r\nL 666.993281 17.273594 \r\nL 644.993281 17.273594 \r\nz\r\n\" style=\"fill:#4c72b0;stroke:#ffffff;stroke-linejoin:miter;\"/>\r\n    </g>\r\n    <g id=\"text_13\">\r\n     <!-- importance -->\r\n     <g style=\"fill:#262626;\" transform=\"translate(675.793281 24.973594)scale(0.11 -0.11)\">\r\n      <defs>\r\n       <path d=\"M 40.4375 6.390625 \r\nQ 35.546875 2.25 31.03125 0.53125 \r\nQ 26.515625 -1.171875 21.34375 -1.171875 \r\nQ 12.796875 -1.171875 8.203125 3 \r\nQ 3.609375 7.171875 3.609375 13.671875 \r\nQ 3.609375 17.484375 5.34375 20.625 \r\nQ 7.078125 23.78125 9.890625 25.6875 \r\nQ 12.703125 27.59375 16.21875 28.5625 \r\nQ 18.796875 29.25 24.03125 29.890625 \r\nQ 34.671875 31.15625 39.703125 32.90625 \r\nQ 39.75 34.71875 39.75 35.203125 \r\nQ 39.75 40.578125 37.25 42.78125 \r\nQ 33.890625 45.75 27.25 45.75 \r\nQ 21.046875 45.75 18.09375 43.578125 \r\nQ 15.140625 41.40625 13.71875 35.890625 \r\nL 5.125 37.0625 \r\nQ 6.296875 42.578125 8.984375 45.96875 \r\nQ 11.671875 49.359375 16.75 51.1875 \r\nQ 21.828125 53.03125 28.515625 53.03125 \r\nQ 35.15625 53.03125 39.296875 51.46875 \r\nQ 43.453125 49.90625 45.40625 47.53125 \r\nQ 47.359375 45.171875 48.140625 41.546875 \r\nQ 48.578125 39.3125 48.578125 33.453125 \r\nL 48.578125 21.734375 \r\nQ 48.578125 9.46875 49.140625 6.21875 \r\nQ 49.703125 2.984375 51.375 0 \r\nL 42.1875 0 \r\nQ 40.828125 2.734375 40.4375 6.390625 \r\nz\r\nM 39.703125 26.03125 \r\nQ 34.90625 24.078125 25.34375 22.703125 \r\nQ 19.921875 21.921875 17.671875 20.9375 \r\nQ 15.4375 19.96875 14.203125 18.09375 \r\nQ 12.984375 16.21875 12.984375 13.921875 \r\nQ 12.984375 10.40625 15.640625 8.0625 \r\nQ 18.3125 5.71875 23.4375 5.71875 \r\nQ 28.515625 5.71875 32.46875 7.9375 \r\nQ 36.421875 10.15625 38.28125 14.015625 \r\nQ 39.703125 17 39.703125 22.796875 \r\nz\r\n\" id=\"ArialMT-97\"/>\r\n      </defs>\r\n      <use xlink:href=\"#ArialMT-105\"/>\r\n      <use x=\"22.216797\" xlink:href=\"#ArialMT-109\"/>\r\n      <use x=\"105.517578\" xlink:href=\"#ArialMT-112\"/>\r\n      <use x=\"161.132812\" xlink:href=\"#ArialMT-111\"/>\r\n      <use x=\"216.748047\" xlink:href=\"#ArialMT-114\"/>\r\n      <use x=\"250.048828\" xlink:href=\"#ArialMT-116\"/>\r\n      <use x=\"277.832031\" xlink:href=\"#ArialMT-97\"/>\r\n      <use x=\"333.447266\" xlink:href=\"#ArialMT-110\"/>\r\n      <use x=\"389.0625\" xlink:href=\"#ArialMT-99\"/>\r\n      <use x=\"439.0625\" xlink:href=\"#ArialMT-101\"/>\r\n     </g>\r\n    </g>\r\n   </g>\r\n  </g>\r\n </g>\r\n <defs>\r\n  <clipPath id=\"pd1ff3d4f8b\">\r\n   <rect height=\"434.88\" width=\"669.6\" x=\"70.50375\" y=\"7.2\"/>\r\n  </clipPath>\r\n </defs>\r\n</svg>\r\n",
      "image/png": "[encoded data removed]"
     },
     "metadata": {}
    }
   ],
   "source": [
    "imp = pd.DataFrame(estimator_2.feature_importances_, index=X_train2.columns, columns=['importance'])\n",
    "imp.sort_values('importance').plot(kind='barh', figsize=(12, 8))"
   ]
  },
  {
   "cell_type": "code",
   "execution_count": null,
   "metadata": {},
   "outputs": [],
   "source": []
  }
 ]
}