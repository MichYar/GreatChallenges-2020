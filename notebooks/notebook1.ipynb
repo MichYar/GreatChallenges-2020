{
 "metadata": {
  "language_info": {
   "codemirror_mode": {
    "name": "ipython",
    "version": 3
   },
   "file_extension": ".py",
   "mimetype": "text/x-python",
   "name": "python",
   "nbconvert_exporter": "python",
   "pygments_lexer": "ipython3",
   "version": "3.9.1-final"
  },
  "orig_nbformat": 2,
  "kernelspec": {
   "name": "python3",
   "display_name": "Python 3.9.1 64-bit",
   "metadata": {
    "interpreter": {
     "hash": "71d23c1f8c85dab5ca10a7df9e743814890b2991d9ac27ab3e759bde93dc982d"
    }
   }
  }
 },
 "nbformat": 4,
 "nbformat_minor": 2,
 "cells": [
  {
   "source": [
    "# Great Challenges '20 target problem notebook"
   ],
   "cell_type": "markdown",
   "metadata": {}
  },
  {
   "source": [
    "## First. The import"
   ],
   "cell_type": "markdown",
   "metadata": {}
  },
  {
   "cell_type": "code",
   "execution_count": 1,
   "metadata": {},
   "outputs": [],
   "source": [
    "import pandas as pd\n",
    "import numpy as np\n",
    "import matplotlib.pyplot as plt\n",
    "import seaborn as sns\n",
    "from sklearn.tree import *\n",
    "from sklearn.ensemble import *\n",
    "from sklearn.metrics import *\n",
    "from sklearn.model_selection import *"
   ]
  },
  {
   "source": [
    "## Second. Data Preprocession"
   ],
   "cell_type": "markdown",
   "metadata": {}
  },
  {
   "source": [
    "### Read data first"
   ],
   "cell_type": "markdown",
   "metadata": {}
  },
  {
   "cell_type": "code",
   "execution_count": 2,
   "metadata": {},
   "outputs": [],
   "source": [
    "activity = pd.read_csv(r'..\\data\\CSV\\activity.csv', sep=';')"
   ]
  },
  {
   "cell_type": "code",
   "execution_count": 3,
   "metadata": {},
   "outputs": [
    {
     "output_type": "execute_result",
     "data": {
      "text/plain": [
       "   user_id   last_name first_name       last_login_utc  \\\n",
       "0   220676    Shujkova     INESSA  2021-01-13 11:42:12   \n",
       "1   235431     Severyn  Valentyna  2020-07-22 13:46:52   \n",
       "2   326719      Omskiy       Omar  2021-01-02 08:47:26   \n",
       "3   377678  Deryusheva   Evgeniya  2019-12-09 10:27:59   \n",
       "4  1360625       Минин      Антон  2020-12-13 23:02:43   \n",
       "\n",
       "  Вводный модуль.  (steps) Вводный модуль.  (score / max_score)  \\\n",
       "0                   11.11%                                0.00%   \n",
       "1                   11.11%                                0.00%   \n",
       "2                  100.00%                              100.00%   \n",
       "3                    0.00%                                0.00%   \n",
       "4                    0.00%                                0.00%   \n",
       "\n",
       "  Фундаментальный взгляд на развитие образования. А.Г. Асмолов (steps)  \\\n",
       "0                                             17.39%                     \n",
       "1                                              2.17%                     \n",
       "2                                             93.48%                     \n",
       "3                                              0.00%                     \n",
       "4                                              0.00%                     \n",
       "\n",
       "  Фундаментальный взгляд на развитие образования. А.Г. Асмолов (score / max_score)  \\\n",
       "0                                              2.78%                                 \n",
       "1                                              0.00%                                 \n",
       "2                                             97.22%                                 \n",
       "3                                              0.00%                                 \n",
       "4                                              0.00%                                 \n",
       "\n",
       "  Современные подходы к образованию. Дима Зицер (steps)  \\\n",
       "0                                             37.21%      \n",
       "1                                              0.00%      \n",
       "2                                             88.37%      \n",
       "3                                              0.00%      \n",
       "4                                              0.00%      \n",
       "\n",
       "  Современные подходы к образованию. Дима Зицер (score / max_score)  \\\n",
       "0                                             26.47%                  \n",
       "1                                              0.00%                  \n",
       "2                                             97.06%                  \n",
       "3                                              0.00%                  \n",
       "4                                              0.00%                  \n",
       "\n",
       "  Работа с семьями: консультирование детей и родителей (steps)  \\\n",
       "0                                              9.76%             \n",
       "1                                              0.00%             \n",
       "2                                             92.68%             \n",
       "3                                              0.00%             \n",
       "4                                              0.00%             \n",
       "\n",
       "  Работа с семьями: консультирование детей и родителей (score / max_score)  \\\n",
       "0                                              0.00%                         \n",
       "1                                              0.00%                         \n",
       "2                                             90.62%                         \n",
       "3                                              0.00%                         \n",
       "4                                              0.00%                         \n",
       "\n",
       "  Педагогика современности: инструменты и ресурсы (steps)  \\\n",
       "0                                             14.29%        \n",
       "1                                              0.00%        \n",
       "2                                             96.43%        \n",
       "3                                              0.00%        \n",
       "4                                              0.00%        \n",
       "\n",
       "  Педагогика современности: инструменты и ресурсы (score / max_score)  \\\n",
       "0                                              0.00%                    \n",
       "1                                              0.00%                    \n",
       "2                                             95.83%                    \n",
       "3                                              0.00%                    \n",
       "4                                              0.00%                    \n",
       "\n",
       "   Завершающий модуль (бонус). (steps)  \\\n",
       "0                                0.00%   \n",
       "1                                0.00%   \n",
       "2                                0.00%   \n",
       "3                                0.00%   \n",
       "4                                0.00%   \n",
       "\n",
       "   Завершающий модуль (бонус). (score / max_score) total (steps)  \\\n",
       "0                                            0.00%        18.75%   \n",
       "1                                            0.00%         1.14%   \n",
       "2                                            0.00%        88.07%   \n",
       "3                                            0.00%         0.00%   \n",
       "4                                            0.00%         0.00%   \n",
       "\n",
       "  total (score / max_score)  \n",
       "0                     6.80%  \n",
       "1                     0.00%  \n",
       "2                    86.39%  \n",
       "3                     0.00%  \n",
       "4                     0.00%  "
      ],
      "text/html": "<div>\n<style scoped>\n    .dataframe tbody tr th:only-of-type {\n        vertical-align: middle;\n    }\n\n    .dataframe tbody tr th {\n        vertical-align: top;\n    }\n\n    .dataframe thead th {\n        text-align: right;\n    }\n</style>\n<table border=\"1\" class=\"dataframe\">\n  <thead>\n    <tr style=\"text-align: right;\">\n      <th></th>\n      <th>user_id</th>\n      <th>last_name</th>\n      <th>first_name</th>\n      <th>last_login_utc</th>\n      <th>Вводный модуль.  (steps)</th>\n      <th>Вводный модуль.  (score / max_score)</th>\n      <th>Фундаментальный взгляд на развитие образования. А.Г. Асмолов (steps)</th>\n      <th>Фундаментальный взгляд на развитие образования. А.Г. Асмолов (score / max_score)</th>\n      <th>Современные подходы к образованию. Дима Зицер (steps)</th>\n      <th>Современные подходы к образованию. Дима Зицер (score / max_score)</th>\n      <th>Работа с семьями: консультирование детей и родителей (steps)</th>\n      <th>Работа с семьями: консультирование детей и родителей (score / max_score)</th>\n      <th>Педагогика современности: инструменты и ресурсы (steps)</th>\n      <th>Педагогика современности: инструменты и ресурсы (score / max_score)</th>\n      <th>Завершающий модуль (бонус). (steps)</th>\n      <th>Завершающий модуль (бонус). (score / max_score)</th>\n      <th>total (steps)</th>\n      <th>total (score / max_score)</th>\n    </tr>\n  </thead>\n  <tbody>\n    <tr>\n      <th>0</th>\n      <td>220676</td>\n      <td>Shujkova</td>\n      <td>INESSA</td>\n      <td>2021-01-13 11:42:12</td>\n      <td>11.11%</td>\n      <td>0.00%</td>\n      <td>17.39%</td>\n      <td>2.78%</td>\n      <td>37.21%</td>\n      <td>26.47%</td>\n      <td>9.76%</td>\n      <td>0.00%</td>\n      <td>14.29%</td>\n      <td>0.00%</td>\n      <td>0.00%</td>\n      <td>0.00%</td>\n      <td>18.75%</td>\n      <td>6.80%</td>\n    </tr>\n    <tr>\n      <th>1</th>\n      <td>235431</td>\n      <td>Severyn</td>\n      <td>Valentyna</td>\n      <td>2020-07-22 13:46:52</td>\n      <td>11.11%</td>\n      <td>0.00%</td>\n      <td>2.17%</td>\n      <td>0.00%</td>\n      <td>0.00%</td>\n      <td>0.00%</td>\n      <td>0.00%</td>\n      <td>0.00%</td>\n      <td>0.00%</td>\n      <td>0.00%</td>\n      <td>0.00%</td>\n      <td>0.00%</td>\n      <td>1.14%</td>\n      <td>0.00%</td>\n    </tr>\n    <tr>\n      <th>2</th>\n      <td>326719</td>\n      <td>Omskiy</td>\n      <td>Omar</td>\n      <td>2021-01-02 08:47:26</td>\n      <td>100.00%</td>\n      <td>100.00%</td>\n      <td>93.48%</td>\n      <td>97.22%</td>\n      <td>88.37%</td>\n      <td>97.06%</td>\n      <td>92.68%</td>\n      <td>90.62%</td>\n      <td>96.43%</td>\n      <td>95.83%</td>\n      <td>0.00%</td>\n      <td>0.00%</td>\n      <td>88.07%</td>\n      <td>86.39%</td>\n    </tr>\n    <tr>\n      <th>3</th>\n      <td>377678</td>\n      <td>Deryusheva</td>\n      <td>Evgeniya</td>\n      <td>2019-12-09 10:27:59</td>\n      <td>0.00%</td>\n      <td>0.00%</td>\n      <td>0.00%</td>\n      <td>0.00%</td>\n      <td>0.00%</td>\n      <td>0.00%</td>\n      <td>0.00%</td>\n      <td>0.00%</td>\n      <td>0.00%</td>\n      <td>0.00%</td>\n      <td>0.00%</td>\n      <td>0.00%</td>\n      <td>0.00%</td>\n      <td>0.00%</td>\n    </tr>\n    <tr>\n      <th>4</th>\n      <td>1360625</td>\n      <td>Минин</td>\n      <td>Антон</td>\n      <td>2020-12-13 23:02:43</td>\n      <td>0.00%</td>\n      <td>0.00%</td>\n      <td>0.00%</td>\n      <td>0.00%</td>\n      <td>0.00%</td>\n      <td>0.00%</td>\n      <td>0.00%</td>\n      <td>0.00%</td>\n      <td>0.00%</td>\n      <td>0.00%</td>\n      <td>0.00%</td>\n      <td>0.00%</td>\n      <td>0.00%</td>\n      <td>0.00%</td>\n    </tr>\n  </tbody>\n</table>\n</div>"
     },
     "metadata": {},
     "execution_count": 3
    }
   ],
   "source": [
    "activity.head()"
   ]
  },
  {
   "cell_type": "code",
   "execution_count": 4,
   "metadata": {},
   "outputs": [],
   "source": [
    "activity_full = pd.read_csv(r'..\\data\\CSV\\activity-full.csv', sep=';')"
   ]
  },
  {
   "cell_type": "code",
   "execution_count": 5,
   "metadata": {},
   "outputs": [
    {
     "output_type": "execute_result",
     "data": {
      "text/plain": [
       "   user_id   last_name first_name Педагогические ситуации T1 (passed)  \\\n",
       "0   220676    Shujkova     INESSA                              ИСТИНА   \n",
       "1   235431     Severyn  Valentyna                              ИСТИНА   \n",
       "2   326719      Omskiy       Omar                              ИСТИНА   \n",
       "3   377678  Deryusheva   Evgeniya                                ЛОЖЬ   \n",
       "4  1360625       Минин      Антон                                ЛОЖЬ   \n",
       "\n",
       "  Педагогические ситуации Q2 (score / max_score)  \\\n",
       "0                                          0.00%   \n",
       "1                                          0.00%   \n",
       "2                                        100.00%   \n",
       "3                                          0.00%   \n",
       "4                                          0.00%   \n",
       "\n",
       "   Педагогические ситуации Q2 (n_attempts)  \\\n",
       "0                                        0   \n",
       "1                                        0   \n",
       "2                                        1   \n",
       "3                                        0   \n",
       "4                                        0   \n",
       "\n",
       "  Педагогические ситуации Q2 (correct_rate)  \\\n",
       "0                                     0.00%   \n",
       "1                                     0.00%   \n",
       "2                                   100.00%   \n",
       "3                                     0.00%   \n",
       "4                                     0.00%   \n",
       "\n",
       "  Педагогические ситуации Q3 (score / max_score)  \\\n",
       "0                                          0.00%   \n",
       "1                                          0.00%   \n",
       "2                                        100.00%   \n",
       "3                                          0.00%   \n",
       "4                                          0.00%   \n",
       "\n",
       "   Педагогические ситуации Q3 (n_attempts)  \\\n",
       "0                                        0   \n",
       "1                                        0   \n",
       "2                                        1   \n",
       "3                                        0   \n",
       "4                                        0   \n",
       "\n",
       "  Педагогические ситуации Q3 (correct_rate)  ...  \\\n",
       "0                                     0.00%  ...   \n",
       "1                                     0.00%  ...   \n",
       "2                                   100.00%  ...   \n",
       "3                                     0.00%  ...   \n",
       "4                                     0.00%  ...   \n",
       "\n",
       "  Педагогические ситуации. Личный взгляд педагога. Q8 (score / max_score)  \\\n",
       "0                                              0.00%                        \n",
       "1                                              0.00%                        \n",
       "2                                              0.00%                        \n",
       "3                                              0.00%                        \n",
       "4                                              0.00%                        \n",
       "\n",
       "   Педагогические ситуации. Личный взгляд педагога. Q8 (n_attempts)  \\\n",
       "0                                                  0                  \n",
       "1                                                  0                  \n",
       "2                                                  0                  \n",
       "3                                                  0                  \n",
       "4                                                  0                  \n",
       "\n",
       "  Педагогические ситуации. Личный взгляд педагога. Q8 (correct_rate)  \\\n",
       "0                                              0.00%                   \n",
       "1                                              0.00%                   \n",
       "2                                              0.00%                   \n",
       "3                                              0.00%                   \n",
       "4                                              0.00%                   \n",
       "\n",
       "  Педагогические ситуации. Личный взгляд педагога. T9 (passed)  \\\n",
       "0                                               ЛОЖЬ             \n",
       "1                                               ЛОЖЬ             \n",
       "2                                               ЛОЖЬ             \n",
       "3                                               ЛОЖЬ             \n",
       "4                                               ЛОЖЬ             \n",
       "\n",
       "   Педагогические ситуации. Личный взгляд педагога. (score / max_score)  \\\n",
       "0                                              0.00%                      \n",
       "1                                              0.00%                      \n",
       "2                                              0.00%                      \n",
       "3                                              0.00%                      \n",
       "4                                              0.00%                      \n",
       "\n",
       "  Педагогические ситуации. Личный взгляд педагога. (n_attempts)  \\\n",
       "0                                                  0              \n",
       "1                                                  0              \n",
       "2                                                  0              \n",
       "3                                                  0              \n",
       "4                                                  0              \n",
       "\n",
       "   Завершающий модуль (бонус). (score / max_score)  \\\n",
       "0                                            0.00%   \n",
       "1                                            0.00%   \n",
       "2                                            0.00%   \n",
       "3                                            0.00%   \n",
       "4                                            0.00%   \n",
       "\n",
       "    Завершающий модуль (бонус). (n_attempts)  \\\n",
       "0                                          0   \n",
       "1                                          0   \n",
       "2                                          0   \n",
       "3                                          0   \n",
       "4                                          0   \n",
       "\n",
       "  Формула образования. Школа: ученик, родитель, учитель. (score / max_score)  \\\n",
       "0                                              6.80%                           \n",
       "1                                              0.00%                           \n",
       "2                                             86.39%                           \n",
       "3                                              0.00%                           \n",
       "4                                              0.00%                           \n",
       "\n",
       "  Формула образования. Школа: ученик, родитель, учитель. (n_attempts)  \n",
       "0                                                 38                   \n",
       "1                                                  0                   \n",
       "2                                                192                   \n",
       "3                                                  0                   \n",
       "4                                                  0                   \n",
       "\n",
       "[5 rows x 515 columns]"
      ],
      "text/html": "<div>\n<style scoped>\n    .dataframe tbody tr th:only-of-type {\n        vertical-align: middle;\n    }\n\n    .dataframe tbody tr th {\n        vertical-align: top;\n    }\n\n    .dataframe thead th {\n        text-align: right;\n    }\n</style>\n<table border=\"1\" class=\"dataframe\">\n  <thead>\n    <tr style=\"text-align: right;\">\n      <th></th>\n      <th>user_id</th>\n      <th>last_name</th>\n      <th>first_name</th>\n      <th>Педагогические ситуации T1 (passed)</th>\n      <th>Педагогические ситуации Q2 (score / max_score)</th>\n      <th>Педагогические ситуации Q2 (n_attempts)</th>\n      <th>Педагогические ситуации Q2 (correct_rate)</th>\n      <th>Педагогические ситуации Q3 (score / max_score)</th>\n      <th>Педагогические ситуации Q3 (n_attempts)</th>\n      <th>Педагогические ситуации Q3 (correct_rate)</th>\n      <th>...</th>\n      <th>Педагогические ситуации. Личный взгляд педагога. Q8 (score / max_score)</th>\n      <th>Педагогические ситуации. Личный взгляд педагога. Q8 (n_attempts)</th>\n      <th>Педагогические ситуации. Личный взгляд педагога. Q8 (correct_rate)</th>\n      <th>Педагогические ситуации. Личный взгляд педагога. T9 (passed)</th>\n      <th>Педагогические ситуации. Личный взгляд педагога. (score / max_score)</th>\n      <th>Педагогические ситуации. Личный взгляд педагога. (n_attempts)</th>\n      <th>Завершающий модуль (бонус). (score / max_score)</th>\n      <th>Завершающий модуль (бонус). (n_attempts)</th>\n      <th>Формула образования. Школа: ученик, родитель, учитель. (score / max_score)</th>\n      <th>Формула образования. Школа: ученик, родитель, учитель. (n_attempts)</th>\n    </tr>\n  </thead>\n  <tbody>\n    <tr>\n      <th>0</th>\n      <td>220676</td>\n      <td>Shujkova</td>\n      <td>INESSA</td>\n      <td>ИСТИНА</td>\n      <td>0.00%</td>\n      <td>0</td>\n      <td>0.00%</td>\n      <td>0.00%</td>\n      <td>0</td>\n      <td>0.00%</td>\n      <td>...</td>\n      <td>0.00%</td>\n      <td>0</td>\n      <td>0.00%</td>\n      <td>ЛОЖЬ</td>\n      <td>0.00%</td>\n      <td>0</td>\n      <td>0.00%</td>\n      <td>0</td>\n      <td>6.80%</td>\n      <td>38</td>\n    </tr>\n    <tr>\n      <th>1</th>\n      <td>235431</td>\n      <td>Severyn</td>\n      <td>Valentyna</td>\n      <td>ИСТИНА</td>\n      <td>0.00%</td>\n      <td>0</td>\n      <td>0.00%</td>\n      <td>0.00%</td>\n      <td>0</td>\n      <td>0.00%</td>\n      <td>...</td>\n      <td>0.00%</td>\n      <td>0</td>\n      <td>0.00%</td>\n      <td>ЛОЖЬ</td>\n      <td>0.00%</td>\n      <td>0</td>\n      <td>0.00%</td>\n      <td>0</td>\n      <td>0.00%</td>\n      <td>0</td>\n    </tr>\n    <tr>\n      <th>2</th>\n      <td>326719</td>\n      <td>Omskiy</td>\n      <td>Omar</td>\n      <td>ИСТИНА</td>\n      <td>100.00%</td>\n      <td>1</td>\n      <td>100.00%</td>\n      <td>100.00%</td>\n      <td>1</td>\n      <td>100.00%</td>\n      <td>...</td>\n      <td>0.00%</td>\n      <td>0</td>\n      <td>0.00%</td>\n      <td>ЛОЖЬ</td>\n      <td>0.00%</td>\n      <td>0</td>\n      <td>0.00%</td>\n      <td>0</td>\n      <td>86.39%</td>\n      <td>192</td>\n    </tr>\n    <tr>\n      <th>3</th>\n      <td>377678</td>\n      <td>Deryusheva</td>\n      <td>Evgeniya</td>\n      <td>ЛОЖЬ</td>\n      <td>0.00%</td>\n      <td>0</td>\n      <td>0.00%</td>\n      <td>0.00%</td>\n      <td>0</td>\n      <td>0.00%</td>\n      <td>...</td>\n      <td>0.00%</td>\n      <td>0</td>\n      <td>0.00%</td>\n      <td>ЛОЖЬ</td>\n      <td>0.00%</td>\n      <td>0</td>\n      <td>0.00%</td>\n      <td>0</td>\n      <td>0.00%</td>\n      <td>0</td>\n    </tr>\n    <tr>\n      <th>4</th>\n      <td>1360625</td>\n      <td>Минин</td>\n      <td>Антон</td>\n      <td>ЛОЖЬ</td>\n      <td>0.00%</td>\n      <td>0</td>\n      <td>0.00%</td>\n      <td>0.00%</td>\n      <td>0</td>\n      <td>0.00%</td>\n      <td>...</td>\n      <td>0.00%</td>\n      <td>0</td>\n      <td>0.00%</td>\n      <td>ЛОЖЬ</td>\n      <td>0.00%</td>\n      <td>0</td>\n      <td>0.00%</td>\n      <td>0</td>\n      <td>0.00%</td>\n      <td>0</td>\n    </tr>\n  </tbody>\n</table>\n<p>5 rows × 515 columns</p>\n</div>"
     },
     "metadata": {},
     "execution_count": 5
    }
   ],
   "source": [
    "activity_full.head()"
   ]
  },
  {
   "cell_type": "code",
   "execution_count": 6,
   "metadata": {},
   "outputs": [],
   "source": [
    "cheating = pd.read_csv(r'..\\data\\CSV\\cheating.csv', sep=';')"
   ]
  },
  {
   "cell_type": "code",
   "execution_count": 7,
   "metadata": {},
   "outputs": [
    {
     "output_type": "execute_result",
     "data": {
      "text/plain": [
       "   user_id last_name first_name  lesson_id  step_id  step_position  \\\n",
       "0   127890   Новиков    Дмитрий     347108  1265485              2   \n",
       "1   127890   Новиков    Дмитрий     347108  1270620              3   \n",
       "2   127890   Новиков    Дмитрий     347108  1270886              4   \n",
       "3   127890   Новиков    Дмитрий     347108  1270897              5   \n",
       "4   127890   Новиков    Дмитрий     347108  1270914              6   \n",
       "\n",
       "                                  step_url  cheating_probability (%)  \n",
       "0  https://stepik.org/lesson/347108/step/2                      4.14  \n",
       "1  https://stepik.org/lesson/347108/step/3                      4.14  \n",
       "2  https://stepik.org/lesson/347108/step/4                      4.14  \n",
       "3  https://stepik.org/lesson/347108/step/5                      4.14  \n",
       "4  https://stepik.org/lesson/347108/step/6                      4.14  "
      ],
      "text/html": "<div>\n<style scoped>\n    .dataframe tbody tr th:only-of-type {\n        vertical-align: middle;\n    }\n\n    .dataframe tbody tr th {\n        vertical-align: top;\n    }\n\n    .dataframe thead th {\n        text-align: right;\n    }\n</style>\n<table border=\"1\" class=\"dataframe\">\n  <thead>\n    <tr style=\"text-align: right;\">\n      <th></th>\n      <th>user_id</th>\n      <th>last_name</th>\n      <th>first_name</th>\n      <th>lesson_id</th>\n      <th>step_id</th>\n      <th>step_position</th>\n      <th>step_url</th>\n      <th>cheating_probability (%)</th>\n    </tr>\n  </thead>\n  <tbody>\n    <tr>\n      <th>0</th>\n      <td>127890</td>\n      <td>Новиков</td>\n      <td>Дмитрий</td>\n      <td>347108</td>\n      <td>1265485</td>\n      <td>2</td>\n      <td>https://stepik.org/lesson/347108/step/2</td>\n      <td>4.14</td>\n    </tr>\n    <tr>\n      <th>1</th>\n      <td>127890</td>\n      <td>Новиков</td>\n      <td>Дмитрий</td>\n      <td>347108</td>\n      <td>1270620</td>\n      <td>3</td>\n      <td>https://stepik.org/lesson/347108/step/3</td>\n      <td>4.14</td>\n    </tr>\n    <tr>\n      <th>2</th>\n      <td>127890</td>\n      <td>Новиков</td>\n      <td>Дмитрий</td>\n      <td>347108</td>\n      <td>1270886</td>\n      <td>4</td>\n      <td>https://stepik.org/lesson/347108/step/4</td>\n      <td>4.14</td>\n    </tr>\n    <tr>\n      <th>3</th>\n      <td>127890</td>\n      <td>Новиков</td>\n      <td>Дмитрий</td>\n      <td>347108</td>\n      <td>1270897</td>\n      <td>5</td>\n      <td>https://stepik.org/lesson/347108/step/5</td>\n      <td>4.14</td>\n    </tr>\n    <tr>\n      <th>4</th>\n      <td>127890</td>\n      <td>Новиков</td>\n      <td>Дмитрий</td>\n      <td>347108</td>\n      <td>1270914</td>\n      <td>6</td>\n      <td>https://stepik.org/lesson/347108/step/6</td>\n      <td>4.14</td>\n    </tr>\n  </tbody>\n</table>\n</div>"
     },
     "metadata": {},
     "execution_count": 7
    }
   ],
   "source": [
    "cheating.head()"
   ]
  },
  {
   "cell_type": "code",
   "execution_count": 8,
   "metadata": {},
   "outputs": [],
   "source": [
    "grade_book1=pd.read_csv(r'..\\data\\CSV\\grade-book (1).csv', sep=';')"
   ]
  },
  {
   "cell_type": "code",
   "execution_count": 9,
   "metadata": {},
   "outputs": [
    {
     "output_type": "execute_result",
     "data": {
      "text/plain": [
       "     user_id                    last_name               first_name  \\\n",
       "0   73886792  одаренных детей \"Стратегия\"    ГОАОУ Центр поддержки   \n",
       "1     220676                     Shujkova                   INESSA   \n",
       "2   35624313                       Злобин                   Максим   \n",
       "3  220677450                        \"ИРО\"  ГАУДПО Липецкой области   \n",
       "4  222220413         Константин Андреевич             Ротобыльский   \n",
       "\n",
       "   Педагогические ситуации Q2  Педагогические ситуации Q3  \\\n",
       "0                           0                           0   \n",
       "1                           0                           0   \n",
       "2                           0                           0   \n",
       "3                           1                           1   \n",
       "4                           0                           0   \n",
       "\n",
       "   Педагогические ситуации Q4  Педагогические ситуации Q5  \\\n",
       "0                           0                           0   \n",
       "1                           0                           0   \n",
       "2                           0                           0   \n",
       "3                           1                           1   \n",
       "4                           0                           0   \n",
       "\n",
       "   Педагогические ситуации Q6  Педагогические ситуации Q7  \\\n",
       "0                           0                           0   \n",
       "1                           0                           0   \n",
       "2                           0                           0   \n",
       "3                           1                           1   \n",
       "4                           0                           0   \n",
       "\n",
       "   Педагогические ситуации Q8  ...  \\\n",
       "0                           0  ...   \n",
       "1                           0  ...   \n",
       "2                           0  ...   \n",
       "3                           1  ...   \n",
       "4                           0  ...   \n",
       "\n",
       "   Педагогические ситуации. Личный взгляд педагога. Q7  \\\n",
       "0                                                  0     \n",
       "1                                                  0     \n",
       "2                                                  0     \n",
       "3                                                  0     \n",
       "4                                                  0     \n",
       "\n",
       "   Педагогические ситуации. Личный взгляд педагога. Q8  total  \\\n",
       "0                                                  0        0   \n",
       "1                                                  0       10   \n",
       "2                                                  0        0   \n",
       "3                                                  0       55   \n",
       "4                                                  0        0   \n",
       "\n",
       "       date_joined_utc      last_viewed_utc  certificate_issue_date_utc  \\\n",
       "0  2020-04-22 05:43:28  2020-06-30 06:35:07                         NaN   \n",
       "1  2020-04-22 09:05:19  2020-06-05 10:42:18                         NaN   \n",
       "2  2020-04-23 06:26:14  2020-04-24 08:16:33                         NaN   \n",
       "3  2020-04-23 11:37:24  2020-11-10 10:52:28                         NaN   \n",
       "4  2020-04-25 16:30:18                  NaN                         NaN   \n",
       "\n",
       "   certificate_issue_regular_date_utc  certificate_issue_distinction_date_utc  \\\n",
       "0                                 NaN                                     NaN   \n",
       "1                                 NaN                                     NaN   \n",
       "2                                 NaN                                     NaN   \n",
       "3                                 NaN                                     NaN   \n",
       "4                                 NaN                                     NaN   \n",
       "\n",
       "   certificate_update_date_utc  certificate_url  \n",
       "0                          NaN              NaN  \n",
       "1                          NaN              NaN  \n",
       "2                          NaN              NaN  \n",
       "3                          NaN              NaN  \n",
       "4                          NaN              NaN  \n",
       "\n",
       "[5 rows x 151 columns]"
      ],
      "text/html": "<div>\n<style scoped>\n    .dataframe tbody tr th:only-of-type {\n        vertical-align: middle;\n    }\n\n    .dataframe tbody tr th {\n        vertical-align: top;\n    }\n\n    .dataframe thead th {\n        text-align: right;\n    }\n</style>\n<table border=\"1\" class=\"dataframe\">\n  <thead>\n    <tr style=\"text-align: right;\">\n      <th></th>\n      <th>user_id</th>\n      <th>last_name</th>\n      <th>first_name</th>\n      <th>Педагогические ситуации Q2</th>\n      <th>Педагогические ситуации Q3</th>\n      <th>Педагогические ситуации Q4</th>\n      <th>Педагогические ситуации Q5</th>\n      <th>Педагогические ситуации Q6</th>\n      <th>Педагогические ситуации Q7</th>\n      <th>Педагогические ситуации Q8</th>\n      <th>...</th>\n      <th>Педагогические ситуации. Личный взгляд педагога. Q7</th>\n      <th>Педагогические ситуации. Личный взгляд педагога. Q8</th>\n      <th>total</th>\n      <th>date_joined_utc</th>\n      <th>last_viewed_utc</th>\n      <th>certificate_issue_date_utc</th>\n      <th>certificate_issue_regular_date_utc</th>\n      <th>certificate_issue_distinction_date_utc</th>\n      <th>certificate_update_date_utc</th>\n      <th>certificate_url</th>\n    </tr>\n  </thead>\n  <tbody>\n    <tr>\n      <th>0</th>\n      <td>73886792</td>\n      <td>одаренных детей \"Стратегия\"</td>\n      <td>ГОАОУ Центр поддержки</td>\n      <td>0</td>\n      <td>0</td>\n      <td>0</td>\n      <td>0</td>\n      <td>0</td>\n      <td>0</td>\n      <td>0</td>\n      <td>...</td>\n      <td>0</td>\n      <td>0</td>\n      <td>0</td>\n      <td>2020-04-22 05:43:28</td>\n      <td>2020-06-30 06:35:07</td>\n      <td>NaN</td>\n      <td>NaN</td>\n      <td>NaN</td>\n      <td>NaN</td>\n      <td>NaN</td>\n    </tr>\n    <tr>\n      <th>1</th>\n      <td>220676</td>\n      <td>Shujkova</td>\n      <td>INESSA</td>\n      <td>0</td>\n      <td>0</td>\n      <td>0</td>\n      <td>0</td>\n      <td>0</td>\n      <td>0</td>\n      <td>0</td>\n      <td>...</td>\n      <td>0</td>\n      <td>0</td>\n      <td>10</td>\n      <td>2020-04-22 09:05:19</td>\n      <td>2020-06-05 10:42:18</td>\n      <td>NaN</td>\n      <td>NaN</td>\n      <td>NaN</td>\n      <td>NaN</td>\n      <td>NaN</td>\n    </tr>\n    <tr>\n      <th>2</th>\n      <td>35624313</td>\n      <td>Злобин</td>\n      <td>Максим</td>\n      <td>0</td>\n      <td>0</td>\n      <td>0</td>\n      <td>0</td>\n      <td>0</td>\n      <td>0</td>\n      <td>0</td>\n      <td>...</td>\n      <td>0</td>\n      <td>0</td>\n      <td>0</td>\n      <td>2020-04-23 06:26:14</td>\n      <td>2020-04-24 08:16:33</td>\n      <td>NaN</td>\n      <td>NaN</td>\n      <td>NaN</td>\n      <td>NaN</td>\n      <td>NaN</td>\n    </tr>\n    <tr>\n      <th>3</th>\n      <td>220677450</td>\n      <td>\"ИРО\"</td>\n      <td>ГАУДПО Липецкой области</td>\n      <td>1</td>\n      <td>1</td>\n      <td>1</td>\n      <td>1</td>\n      <td>1</td>\n      <td>1</td>\n      <td>1</td>\n      <td>...</td>\n      <td>0</td>\n      <td>0</td>\n      <td>55</td>\n      <td>2020-04-23 11:37:24</td>\n      <td>2020-11-10 10:52:28</td>\n      <td>NaN</td>\n      <td>NaN</td>\n      <td>NaN</td>\n      <td>NaN</td>\n      <td>NaN</td>\n    </tr>\n    <tr>\n      <th>4</th>\n      <td>222220413</td>\n      <td>Константин Андреевич</td>\n      <td>Ротобыльский</td>\n      <td>0</td>\n      <td>0</td>\n      <td>0</td>\n      <td>0</td>\n      <td>0</td>\n      <td>0</td>\n      <td>0</td>\n      <td>...</td>\n      <td>0</td>\n      <td>0</td>\n      <td>0</td>\n      <td>2020-04-25 16:30:18</td>\n      <td>NaN</td>\n      <td>NaN</td>\n      <td>NaN</td>\n      <td>NaN</td>\n      <td>NaN</td>\n      <td>NaN</td>\n    </tr>\n  </tbody>\n</table>\n<p>5 rows × 151 columns</p>\n</div>"
     },
     "metadata": {},
     "execution_count": 9
    }
   ],
   "source": [
    "grade_book1.head()"
   ]
  },
  {
   "cell_type": "code",
   "execution_count": 10,
   "metadata": {},
   "outputs": [
    {
     "output_type": "execute_result",
     "data": {
      "text/plain": [
       "     user_id                    last_name               first_name  \\\n",
       "0   73886792  одаренных детей \"Стратегия\"    ГОАОУ Центр поддержки   \n",
       "1     220676                     Shujkova                   INESSA   \n",
       "2   35624313                       Злобин                   Максим   \n",
       "3  220677450                        \"ИРО\"  ГАУДПО Липецкой области   \n",
       "4  222220413         Константин Андреевич             Ротобыльский   \n",
       "\n",
       "   invitation_email  Вводный модуль.  Вводный модуль. , %  \\\n",
       "0               NaN                 0                   0   \n",
       "1               NaN                 0                   0   \n",
       "2               NaN                 0                   0   \n",
       "3               NaN                 7                 100   \n",
       "4               NaN                 0                   0   \n",
       "\n",
       "  Фундаментальный взгляд на развитие образования. А.Г. Асмолов  \\\n",
       "0                                                  0             \n",
       "1                                                  1             \n",
       "2                                                  0             \n",
       "3                                                 11             \n",
       "4                                                  0             \n",
       "\n",
       "  Фундаментальный взгляд на развитие образования. А.Г. Асмолов, %  \\\n",
       "0                                                  0                \n",
       "1                                               2,78                \n",
       "2                                                  0                \n",
       "3                                              30,56                \n",
       "4                                                  0                \n",
       "\n",
       "  Современные подходы к образованию. Дима Зицер  \\\n",
       "0                                             0   \n",
       "1                                             9   \n",
       "2                                             0   \n",
       "3                                             6   \n",
       "4                                             0   \n",
       "\n",
       "  Современные подходы к образованию. Дима Зицер, %  \\\n",
       "0                                                0   \n",
       "1                                            26,47   \n",
       "2                                                0   \n",
       "3                                            17,65   \n",
       "4                                                0   \n",
       "\n",
       "  Работа с семьями: консультирование детей и родителей  \\\n",
       "0                                                  0     \n",
       "1                                                  0     \n",
       "2                                                  0     \n",
       "3                                                 31     \n",
       "4                                                  0     \n",
       "\n",
       "  Работа с семьями: консультирование детей и родителей, %  \\\n",
       "0                                                  0        \n",
       "1                                                  0        \n",
       "2                                                  0        \n",
       "3                                              96,88        \n",
       "4                                                  0        \n",
       "\n",
       "   Педагогика современности: инструменты и ресурсы  \\\n",
       "0                                                0   \n",
       "1                                                0   \n",
       "2                                                0   \n",
       "3                                                0   \n",
       "4                                                0   \n",
       "\n",
       "  Педагогика современности: инструменты и ресурсы, %  \\\n",
       "0                                                  0   \n",
       "1                                                  0   \n",
       "2                                                  0   \n",
       "3                                                  0   \n",
       "4                                                  0   \n",
       "\n",
       "    Завершающий модуль (бонус).  Завершающий модуль (бонус)., % total total, %  \n",
       "0                             0                               0     0        0  \n",
       "1                             0                               0    10      6,8  \n",
       "2                             0                               0     0        0  \n",
       "3                             0                               0    55    37,41  \n",
       "4                             0                               0     0        0  "
      ],
      "text/html": "<div>\n<style scoped>\n    .dataframe tbody tr th:only-of-type {\n        vertical-align: middle;\n    }\n\n    .dataframe tbody tr th {\n        vertical-align: top;\n    }\n\n    .dataframe thead th {\n        text-align: right;\n    }\n</style>\n<table border=\"1\" class=\"dataframe\">\n  <thead>\n    <tr style=\"text-align: right;\">\n      <th></th>\n      <th>user_id</th>\n      <th>last_name</th>\n      <th>first_name</th>\n      <th>invitation_email</th>\n      <th>Вводный модуль.</th>\n      <th>Вводный модуль. , %</th>\n      <th>Фундаментальный взгляд на развитие образования. А.Г. Асмолов</th>\n      <th>Фундаментальный взгляд на развитие образования. А.Г. Асмолов, %</th>\n      <th>Современные подходы к образованию. Дима Зицер</th>\n      <th>Современные подходы к образованию. Дима Зицер, %</th>\n      <th>Работа с семьями: консультирование детей и родителей</th>\n      <th>Работа с семьями: консультирование детей и родителей, %</th>\n      <th>Педагогика современности: инструменты и ресурсы</th>\n      <th>Педагогика современности: инструменты и ресурсы, %</th>\n      <th>Завершающий модуль (бонус).</th>\n      <th>Завершающий модуль (бонус)., %</th>\n      <th>total</th>\n      <th>total, %</th>\n    </tr>\n  </thead>\n  <tbody>\n    <tr>\n      <th>0</th>\n      <td>73886792</td>\n      <td>одаренных детей \"Стратегия\"</td>\n      <td>ГОАОУ Центр поддержки</td>\n      <td>NaN</td>\n      <td>0</td>\n      <td>0</td>\n      <td>0</td>\n      <td>0</td>\n      <td>0</td>\n      <td>0</td>\n      <td>0</td>\n      <td>0</td>\n      <td>0</td>\n      <td>0</td>\n      <td>0</td>\n      <td>0</td>\n      <td>0</td>\n      <td>0</td>\n    </tr>\n    <tr>\n      <th>1</th>\n      <td>220676</td>\n      <td>Shujkova</td>\n      <td>INESSA</td>\n      <td>NaN</td>\n      <td>0</td>\n      <td>0</td>\n      <td>1</td>\n      <td>2,78</td>\n      <td>9</td>\n      <td>26,47</td>\n      <td>0</td>\n      <td>0</td>\n      <td>0</td>\n      <td>0</td>\n      <td>0</td>\n      <td>0</td>\n      <td>10</td>\n      <td>6,8</td>\n    </tr>\n    <tr>\n      <th>2</th>\n      <td>35624313</td>\n      <td>Злобин</td>\n      <td>Максим</td>\n      <td>NaN</td>\n      <td>0</td>\n      <td>0</td>\n      <td>0</td>\n      <td>0</td>\n      <td>0</td>\n      <td>0</td>\n      <td>0</td>\n      <td>0</td>\n      <td>0</td>\n      <td>0</td>\n      <td>0</td>\n      <td>0</td>\n      <td>0</td>\n      <td>0</td>\n    </tr>\n    <tr>\n      <th>3</th>\n      <td>220677450</td>\n      <td>\"ИРО\"</td>\n      <td>ГАУДПО Липецкой области</td>\n      <td>NaN</td>\n      <td>7</td>\n      <td>100</td>\n      <td>11</td>\n      <td>30,56</td>\n      <td>6</td>\n      <td>17,65</td>\n      <td>31</td>\n      <td>96,88</td>\n      <td>0</td>\n      <td>0</td>\n      <td>0</td>\n      <td>0</td>\n      <td>55</td>\n      <td>37,41</td>\n    </tr>\n    <tr>\n      <th>4</th>\n      <td>222220413</td>\n      <td>Константин Андреевич</td>\n      <td>Ротобыльский</td>\n      <td>NaN</td>\n      <td>0</td>\n      <td>0</td>\n      <td>0</td>\n      <td>0</td>\n      <td>0</td>\n      <td>0</td>\n      <td>0</td>\n      <td>0</td>\n      <td>0</td>\n      <td>0</td>\n      <td>0</td>\n      <td>0</td>\n      <td>0</td>\n      <td>0</td>\n    </tr>\n  </tbody>\n</table>\n</div>"
     },
     "metadata": {},
     "execution_count": 10
    }
   ],
   "source": [
    "grade_book_short = pd.read_csv(r'..\\data\\CSV\\grade-book-short.csv', sep=';')\n",
    "grade_book_short.head()"
   ]
  },
  {
   "cell_type": "code",
   "execution_count": 11,
   "metadata": {},
   "outputs": [
    {
     "output_type": "execute_result",
     "data": {
      "text/plain": [
       "   user_id   last_name first_name  Педагогические ситуации Q2  \\\n",
       "0   220676    Shujkova     INESSA                           0   \n",
       "1   235431     Severyn  Valentyna                           0   \n",
       "2   326719      Omskiy       Omar                           1   \n",
       "3   377678  Deryusheva   Evgeniya                           0   \n",
       "4  1360625       Минин      Антон                           0   \n",
       "\n",
       "   Педагогические ситуации Q3  Педагогические ситуации Q4  \\\n",
       "0                           0                           0   \n",
       "1                           0                           0   \n",
       "2                           1                           1   \n",
       "3                           0                           0   \n",
       "4                           0                           0   \n",
       "\n",
       "   Педагогические ситуации Q5  Педагогические ситуации Q6  \\\n",
       "0                           0                           0   \n",
       "1                           0                           0   \n",
       "2                           1                           1   \n",
       "3                           0                           0   \n",
       "4                           0                           0   \n",
       "\n",
       "   Педагогические ситуации Q7  Педагогические ситуации Q8  ...  \\\n",
       "0                           0                           0  ...   \n",
       "1                           0                           0  ...   \n",
       "2                           1                           1  ...   \n",
       "3                           0                           0  ...   \n",
       "4                           0                           0  ...   \n",
       "\n",
       "   Педагогические ситуации. Личный взгляд педагога. Q7  \\\n",
       "0                                                  0     \n",
       "1                                                  0     \n",
       "2                                                  0     \n",
       "3                                                  0     \n",
       "4                                                  0     \n",
       "\n",
       "   Педагогические ситуации. Личный взгляд педагога. Q8  total  \\\n",
       "0                                                  0       10   \n",
       "1                                                  0        0   \n",
       "2                                                  0      127   \n",
       "3                                                  0        0   \n",
       "4                                                  0        0   \n",
       "\n",
       "       date_joined_utc      last_viewed_utc  certificate_issue_date_utc  \\\n",
       "0  2020-04-22 09:05:19  2020-06-05 10:42:18                         NaN   \n",
       "1  2020-06-20 05:36:08  2020-06-20 18:33:29                         NaN   \n",
       "2  2020-05-12 19:21:31  2020-05-30 14:53:46         2020-06-01 06:18:19   \n",
       "3  2020-06-24 17:02:34                  NaN                         NaN   \n",
       "4  2020-05-10 21:27:38                  NaN                         NaN   \n",
       "\n",
       "   certificate_issue_regular_date_utc  certificate_issue_distinction_date_utc  \\\n",
       "0                                 NaN                                     NaN   \n",
       "1                                 NaN                                     NaN   \n",
       "2                 2020-06-01 06:18:19                                     NaN   \n",
       "3                                 NaN                                     NaN   \n",
       "4                                 NaN                                     NaN   \n",
       "\n",
       "   certificate_update_date_utc  \\\n",
       "0                          NaN   \n",
       "1                          NaN   \n",
       "2                          NaN   \n",
       "3                          NaN   \n",
       "4                          NaN   \n",
       "\n",
       "                                     certificate_url  \n",
       "0                                                NaN  \n",
       "1                                                NaN  \n",
       "2  https://stepik.org/certificate/2863ae04c05f11a...  \n",
       "3                                                NaN  \n",
       "4                                                NaN  \n",
       "\n",
       "[5 rows x 151 columns]"
      ],
      "text/html": "<div>\n<style scoped>\n    .dataframe tbody tr th:only-of-type {\n        vertical-align: middle;\n    }\n\n    .dataframe tbody tr th {\n        vertical-align: top;\n    }\n\n    .dataframe thead th {\n        text-align: right;\n    }\n</style>\n<table border=\"1\" class=\"dataframe\">\n  <thead>\n    <tr style=\"text-align: right;\">\n      <th></th>\n      <th>user_id</th>\n      <th>last_name</th>\n      <th>first_name</th>\n      <th>Педагогические ситуации Q2</th>\n      <th>Педагогические ситуации Q3</th>\n      <th>Педагогические ситуации Q4</th>\n      <th>Педагогические ситуации Q5</th>\n      <th>Педагогические ситуации Q6</th>\n      <th>Педагогические ситуации Q7</th>\n      <th>Педагогические ситуации Q8</th>\n      <th>...</th>\n      <th>Педагогические ситуации. Личный взгляд педагога. Q7</th>\n      <th>Педагогические ситуации. Личный взгляд педагога. Q8</th>\n      <th>total</th>\n      <th>date_joined_utc</th>\n      <th>last_viewed_utc</th>\n      <th>certificate_issue_date_utc</th>\n      <th>certificate_issue_regular_date_utc</th>\n      <th>certificate_issue_distinction_date_utc</th>\n      <th>certificate_update_date_utc</th>\n      <th>certificate_url</th>\n    </tr>\n  </thead>\n  <tbody>\n    <tr>\n      <th>0</th>\n      <td>220676</td>\n      <td>Shujkova</td>\n      <td>INESSA</td>\n      <td>0</td>\n      <td>0</td>\n      <td>0</td>\n      <td>0</td>\n      <td>0</td>\n      <td>0</td>\n      <td>0</td>\n      <td>...</td>\n      <td>0</td>\n      <td>0</td>\n      <td>10</td>\n      <td>2020-04-22 09:05:19</td>\n      <td>2020-06-05 10:42:18</td>\n      <td>NaN</td>\n      <td>NaN</td>\n      <td>NaN</td>\n      <td>NaN</td>\n      <td>NaN</td>\n    </tr>\n    <tr>\n      <th>1</th>\n      <td>235431</td>\n      <td>Severyn</td>\n      <td>Valentyna</td>\n      <td>0</td>\n      <td>0</td>\n      <td>0</td>\n      <td>0</td>\n      <td>0</td>\n      <td>0</td>\n      <td>0</td>\n      <td>...</td>\n      <td>0</td>\n      <td>0</td>\n      <td>0</td>\n      <td>2020-06-20 05:36:08</td>\n      <td>2020-06-20 18:33:29</td>\n      <td>NaN</td>\n      <td>NaN</td>\n      <td>NaN</td>\n      <td>NaN</td>\n      <td>NaN</td>\n    </tr>\n    <tr>\n      <th>2</th>\n      <td>326719</td>\n      <td>Omskiy</td>\n      <td>Omar</td>\n      <td>1</td>\n      <td>1</td>\n      <td>1</td>\n      <td>1</td>\n      <td>1</td>\n      <td>1</td>\n      <td>1</td>\n      <td>...</td>\n      <td>0</td>\n      <td>0</td>\n      <td>127</td>\n      <td>2020-05-12 19:21:31</td>\n      <td>2020-05-30 14:53:46</td>\n      <td>2020-06-01 06:18:19</td>\n      <td>2020-06-01 06:18:19</td>\n      <td>NaN</td>\n      <td>NaN</td>\n      <td>https://stepik.org/certificate/2863ae04c05f11a...</td>\n    </tr>\n    <tr>\n      <th>3</th>\n      <td>377678</td>\n      <td>Deryusheva</td>\n      <td>Evgeniya</td>\n      <td>0</td>\n      <td>0</td>\n      <td>0</td>\n      <td>0</td>\n      <td>0</td>\n      <td>0</td>\n      <td>0</td>\n      <td>...</td>\n      <td>0</td>\n      <td>0</td>\n      <td>0</td>\n      <td>2020-06-24 17:02:34</td>\n      <td>NaN</td>\n      <td>NaN</td>\n      <td>NaN</td>\n      <td>NaN</td>\n      <td>NaN</td>\n      <td>NaN</td>\n    </tr>\n    <tr>\n      <th>4</th>\n      <td>1360625</td>\n      <td>Минин</td>\n      <td>Антон</td>\n      <td>0</td>\n      <td>0</td>\n      <td>0</td>\n      <td>0</td>\n      <td>0</td>\n      <td>0</td>\n      <td>0</td>\n      <td>...</td>\n      <td>0</td>\n      <td>0</td>\n      <td>0</td>\n      <td>2020-05-10 21:27:38</td>\n      <td>NaN</td>\n      <td>NaN</td>\n      <td>NaN</td>\n      <td>NaN</td>\n      <td>NaN</td>\n      <td>NaN</td>\n    </tr>\n  </tbody>\n</table>\n<p>5 rows × 151 columns</p>\n</div>"
     },
     "metadata": {},
     "execution_count": 11
    }
   ],
   "source": [
    "grade_book_without_deadlines = pd.read_csv(r'..\\data\\CSV\\grade-book-without-deadlines.csv', sep=';')\n",
    "grade_book_without_deadlines.head()"
   ]
  },
  {
   "cell_type": "code",
   "execution_count": 12,
   "metadata": {},
   "outputs": [
    {
     "output_type": "execute_result",
     "data": {
      "text/plain": [
       "     user_id             last_name    first_name  invitation_email  \\\n",
       "0     220676              Shujkova        INESSA               NaN   \n",
       "1   35624313                Злобин        Максим               NaN   \n",
       "2  222220413  Константин Андреевич  Ротобыльский               NaN   \n",
       "3  223158207               Наталья      Савченко               NaN   \n",
       "4  223176788             Демьянова       Надежда               NaN   \n",
       "\n",
       "        last_login_utc      date_joined_utc  \n",
       "0  2021-01-13 11:42:12  2020-04-22 09:05:19  \n",
       "1  2020-11-07 12:08:17  2020-04-23 06:26:14  \n",
       "2  2020-04-25 16:03:40  2020-04-25 16:30:18  \n",
       "3  2020-04-27 19:08:08  2020-04-27 06:19:12  \n",
       "4  2020-04-27 06:40:40  2020-04-27 06:41:54  "
      ],
      "text/html": "<div>\n<style scoped>\n    .dataframe tbody tr th:only-of-type {\n        vertical-align: middle;\n    }\n\n    .dataframe tbody tr th {\n        vertical-align: top;\n    }\n\n    .dataframe thead th {\n        text-align: right;\n    }\n</style>\n<table border=\"1\" class=\"dataframe\">\n  <thead>\n    <tr style=\"text-align: right;\">\n      <th></th>\n      <th>user_id</th>\n      <th>last_name</th>\n      <th>first_name</th>\n      <th>invitation_email</th>\n      <th>last_login_utc</th>\n      <th>date_joined_utc</th>\n    </tr>\n  </thead>\n  <tbody>\n    <tr>\n      <th>0</th>\n      <td>220676</td>\n      <td>Shujkova</td>\n      <td>INESSA</td>\n      <td>NaN</td>\n      <td>2021-01-13 11:42:12</td>\n      <td>2020-04-22 09:05:19</td>\n    </tr>\n    <tr>\n      <th>1</th>\n      <td>35624313</td>\n      <td>Злобин</td>\n      <td>Максим</td>\n      <td>NaN</td>\n      <td>2020-11-07 12:08:17</td>\n      <td>2020-04-23 06:26:14</td>\n    </tr>\n    <tr>\n      <th>2</th>\n      <td>222220413</td>\n      <td>Константин Андреевич</td>\n      <td>Ротобыльский</td>\n      <td>NaN</td>\n      <td>2020-04-25 16:03:40</td>\n      <td>2020-04-25 16:30:18</td>\n    </tr>\n    <tr>\n      <th>3</th>\n      <td>223158207</td>\n      <td>Наталья</td>\n      <td>Савченко</td>\n      <td>NaN</td>\n      <td>2020-04-27 19:08:08</td>\n      <td>2020-04-27 06:19:12</td>\n    </tr>\n    <tr>\n      <th>4</th>\n      <td>223176788</td>\n      <td>Демьянова</td>\n      <td>Надежда</td>\n      <td>NaN</td>\n      <td>2020-04-27 06:40:40</td>\n      <td>2020-04-27 06:41:54</td>\n    </tr>\n  </tbody>\n</table>\n</div>"
     },
     "metadata": {},
     "execution_count": 12
    }
   ],
   "source": [
    "learners = pd.read_csv(r'..\\data\\CSV\\learners.csv', sep=';')\n",
    "learners.head()"
   ]
  },
  {
   "cell_type": "code",
   "execution_count": 13,
   "metadata": {},
   "outputs": [
    {
     "output_type": "execute_result",
     "data": {
      "text/plain": [
       "   course_id    user_id last_name first_name  session_id  step_id  type  \\\n",
       "0      70810  251229774    Котова    Надежда      639621  1272050  peer   \n",
       "1      70810  235529052  Макарова      Елена      632083  1310994  peer   \n",
       "2      70810  251664717  Никонова    Еагения      631871  1282411  peer   \n",
       "3      70810  235529052  Макарова      Елена      631377  1282411  peer   \n",
       "4      70810  230946115       Л.Д  Лахтикова      630605  1272050  peer   \n",
       "\n",
       "  is_taking_finished is_giving_finished  taken_reviews_count  \\\n",
       "0               ЛОЖЬ               ЛОЖЬ                    0   \n",
       "1               ЛОЖЬ             ИСТИНА                    0   \n",
       "2               ЛОЖЬ             ИСТИНА                    0   \n",
       "3               ЛОЖЬ             ИСТИНА                    1   \n",
       "4               ЛОЖЬ               ЛОЖЬ                    0   \n",
       "\n",
       "   given_reviews_count last_taken_review_date_utc last_given_review_date_utc  \\\n",
       "0                    0                        NaN                        NaN   \n",
       "1                    3                        NaN        2020-06-14 12:46:41   \n",
       "2                    3                        NaN        2020-06-14 10:31:43   \n",
       "3                    3        2020-06-14 10:31:43        2020-06-14 05:14:18   \n",
       "4                    0                        NaN                        NaN   \n",
       "\n",
       "   submission_id  submission_date_utc  \\\n",
       "0      231332841  2020-06-19 12:29:10   \n",
       "1      228140942  2020-06-14 12:05:42   \n",
       "2      228079112  2020-06-14 10:20:55   \n",
       "3      227949490  2020-06-14 04:44:11   \n",
       "4      227603748  2020-06-13 12:14:18   \n",
       "\n",
       "                                 session_url  \n",
       "0  https://stepik.org/review/sessions/639621  \n",
       "1  https://stepik.org/review/sessions/632083  \n",
       "2  https://stepik.org/review/sessions/631871  \n",
       "3  https://stepik.org/review/sessions/631377  \n",
       "4  https://stepik.org/review/sessions/630605  "
      ],
      "text/html": "<div>\n<style scoped>\n    .dataframe tbody tr th:only-of-type {\n        vertical-align: middle;\n    }\n\n    .dataframe tbody tr th {\n        vertical-align: top;\n    }\n\n    .dataframe thead th {\n        text-align: right;\n    }\n</style>\n<table border=\"1\" class=\"dataframe\">\n  <thead>\n    <tr style=\"text-align: right;\">\n      <th></th>\n      <th>course_id</th>\n      <th>user_id</th>\n      <th>last_name</th>\n      <th>first_name</th>\n      <th>session_id</th>\n      <th>step_id</th>\n      <th>type</th>\n      <th>is_taking_finished</th>\n      <th>is_giving_finished</th>\n      <th>taken_reviews_count</th>\n      <th>given_reviews_count</th>\n      <th>last_taken_review_date_utc</th>\n      <th>last_given_review_date_utc</th>\n      <th>submission_id</th>\n      <th>submission_date_utc</th>\n      <th>session_url</th>\n    </tr>\n  </thead>\n  <tbody>\n    <tr>\n      <th>0</th>\n      <td>70810</td>\n      <td>251229774</td>\n      <td>Котова</td>\n      <td>Надежда</td>\n      <td>639621</td>\n      <td>1272050</td>\n      <td>peer</td>\n      <td>ЛОЖЬ</td>\n      <td>ЛОЖЬ</td>\n      <td>0</td>\n      <td>0</td>\n      <td>NaN</td>\n      <td>NaN</td>\n      <td>231332841</td>\n      <td>2020-06-19 12:29:10</td>\n      <td>https://stepik.org/review/sessions/639621</td>\n    </tr>\n    <tr>\n      <th>1</th>\n      <td>70810</td>\n      <td>235529052</td>\n      <td>Макарова</td>\n      <td>Елена</td>\n      <td>632083</td>\n      <td>1310994</td>\n      <td>peer</td>\n      <td>ЛОЖЬ</td>\n      <td>ИСТИНА</td>\n      <td>0</td>\n      <td>3</td>\n      <td>NaN</td>\n      <td>2020-06-14 12:46:41</td>\n      <td>228140942</td>\n      <td>2020-06-14 12:05:42</td>\n      <td>https://stepik.org/review/sessions/632083</td>\n    </tr>\n    <tr>\n      <th>2</th>\n      <td>70810</td>\n      <td>251664717</td>\n      <td>Никонова</td>\n      <td>Еагения</td>\n      <td>631871</td>\n      <td>1282411</td>\n      <td>peer</td>\n      <td>ЛОЖЬ</td>\n      <td>ИСТИНА</td>\n      <td>0</td>\n      <td>3</td>\n      <td>NaN</td>\n      <td>2020-06-14 10:31:43</td>\n      <td>228079112</td>\n      <td>2020-06-14 10:20:55</td>\n      <td>https://stepik.org/review/sessions/631871</td>\n    </tr>\n    <tr>\n      <th>3</th>\n      <td>70810</td>\n      <td>235529052</td>\n      <td>Макарова</td>\n      <td>Елена</td>\n      <td>631377</td>\n      <td>1282411</td>\n      <td>peer</td>\n      <td>ЛОЖЬ</td>\n      <td>ИСТИНА</td>\n      <td>1</td>\n      <td>3</td>\n      <td>2020-06-14 10:31:43</td>\n      <td>2020-06-14 05:14:18</td>\n      <td>227949490</td>\n      <td>2020-06-14 04:44:11</td>\n      <td>https://stepik.org/review/sessions/631377</td>\n    </tr>\n    <tr>\n      <th>4</th>\n      <td>70810</td>\n      <td>230946115</td>\n      <td>Л.Д</td>\n      <td>Лахтикова</td>\n      <td>630605</td>\n      <td>1272050</td>\n      <td>peer</td>\n      <td>ЛОЖЬ</td>\n      <td>ЛОЖЬ</td>\n      <td>0</td>\n      <td>0</td>\n      <td>NaN</td>\n      <td>NaN</td>\n      <td>227603748</td>\n      <td>2020-06-13 12:14:18</td>\n      <td>https://stepik.org/review/sessions/630605</td>\n    </tr>\n  </tbody>\n</table>\n</div>"
     },
     "metadata": {},
     "execution_count": 13
    }
   ],
   "source": [
    "not_finished_review_sessions = pd.read_csv(r'..\\data\\CSV\\not-finished-review-sessions.csv', sep=';')\n",
    "not_finished_review_sessions.head()"
   ]
  },
  {
   "cell_type": "code",
   "execution_count": 14,
   "metadata": {},
   "outputs": [
    {
     "output_type": "execute_result",
     "data": {
      "text/plain": [
       "    user_id  last_name first_name  \\\n",
       "0  15412179    Лобанов    Альберт   \n",
       "1  21119312   Огаркова    Татьяна   \n",
       "2  60348880     Лупова      Ирина   \n",
       "3  61561056  Чернышева   Виктория   \n",
       "4  62817801  Владислав    Ермаков   \n",
       "\n",
       "                                       submission 1  \\\n",
       "0  https://stepik.org/submissions/1272050/224800096   \n",
       "1  https://stepik.org/submissions/1272050/204468542   \n",
       "2  https://stepik.org/submissions/1272050/203892044   \n",
       "3  https://stepik.org/submissions/1272050/204085319   \n",
       "4                                               NaN   \n",
       "\n",
       "                                       submission 2  \\\n",
       "0  https://stepik.org/submissions/1272050/211215935   \n",
       "1  https://stepik.org/submissions/1272050/203892044   \n",
       "2  https://stepik.org/submissions/1272050/203695490   \n",
       "3  https://stepik.org/submissions/1272050/203010739   \n",
       "4                                               NaN   \n",
       "\n",
       "  max_score (Педагогическое эссе Q2 #1272050)  \\\n",
       "0                                 13,95348837   \n",
       "1                                 18,90270039   \n",
       "2                                 15,23777629   \n",
       "3                                 13,41463415   \n",
       "4                                           0   \n",
       "\n",
       "                                     submission 1.1  \\\n",
       "0  https://stepik.org/submissions/1282411/224800242   \n",
       "1  https://stepik.org/submissions/1282411/223834647   \n",
       "2  https://stepik.org/submissions/1282411/209294423   \n",
       "3  https://stepik.org/submissions/1282411/208350630   \n",
       "4  https://stepik.org/submissions/1282411/218000676   \n",
       "\n",
       "                                     submission 2.1  \\\n",
       "0  https://stepik.org/submissions/1282411/211547657   \n",
       "1  https://stepik.org/submissions/1282411/222570127   \n",
       "2  https://stepik.org/submissions/1282411/207463261   \n",
       "3  https://stepik.org/submissions/1282411/207500612   \n",
       "4  https://stepik.org/submissions/1282411/211617411   \n",
       "\n",
       "  max_score (Педагогическое эссе Q2 #1282411)  \\\n",
       "0                                 17,82945736   \n",
       "1                                 19,05584341   \n",
       "2                                 14,50151057   \n",
       "3                                 13,01947108   \n",
       "4                                 38,05612594   \n",
       "\n",
       "                                     submission 1.2  \\\n",
       "0  https://stepik.org/submissions/1310994/224800434   \n",
       "1                                               NaN   \n",
       "2  https://stepik.org/submissions/1310994/211770301   \n",
       "3                                               NaN   \n",
       "4                                               NaN   \n",
       "\n",
       "                                     submission 2.2  \\\n",
       "0  https://stepik.org/submissions/1310994/218767926   \n",
       "1                                               NaN   \n",
       "2  https://stepik.org/submissions/1310994/211593231   \n",
       "3                                               NaN   \n",
       "4                                               NaN   \n",
       "\n",
       "  max_score (Педагогическое эссе Q2 #1310994)  \\\n",
       "0                                 13,17829457   \n",
       "1                                           0   \n",
       "2                                 16,81786462   \n",
       "3                                           0   \n",
       "4                                           0   \n",
       "\n",
       "                                     submission 1.3  \\\n",
       "0  https://stepik.org/submissions/1328653/224796812   \n",
       "1  https://stepik.org/submissions/1328653/225227543   \n",
       "2                                               NaN   \n",
       "3                                               NaN   \n",
       "4                                               NaN   \n",
       "\n",
       "                                     submission 2.3  \\\n",
       "0  https://stepik.org/submissions/1328653/219204278   \n",
       "1  https://stepik.org/submissions/1328653/219771169   \n",
       "2                                               NaN   \n",
       "3                                               NaN   \n",
       "4                                               NaN   \n",
       "\n",
       "  max_score (Виртуальные уроки педагогов Липецкой области Q2 #1328653)  \n",
       "0                                        23,12312312                    \n",
       "1                                        32,75862069                    \n",
       "2                                                  0                    \n",
       "3                                                  0                    \n",
       "4                                                  0                    "
      ],
      "text/html": "<div>\n<style scoped>\n    .dataframe tbody tr th:only-of-type {\n        vertical-align: middle;\n    }\n\n    .dataframe tbody tr th {\n        vertical-align: top;\n    }\n\n    .dataframe thead th {\n        text-align: right;\n    }\n</style>\n<table border=\"1\" class=\"dataframe\">\n  <thead>\n    <tr style=\"text-align: right;\">\n      <th></th>\n      <th>user_id</th>\n      <th>last_name</th>\n      <th>first_name</th>\n      <th>submission 1</th>\n      <th>submission 2</th>\n      <th>max_score (Педагогическое эссе Q2 #1272050)</th>\n      <th>submission 1.1</th>\n      <th>submission 2.1</th>\n      <th>max_score (Педагогическое эссе Q2 #1282411)</th>\n      <th>submission 1.2</th>\n      <th>submission 2.2</th>\n      <th>max_score (Педагогическое эссе Q2 #1310994)</th>\n      <th>submission 1.3</th>\n      <th>submission 2.3</th>\n      <th>max_score (Виртуальные уроки педагогов Липецкой области Q2 #1328653)</th>\n    </tr>\n  </thead>\n  <tbody>\n    <tr>\n      <th>0</th>\n      <td>15412179</td>\n      <td>Лобанов</td>\n      <td>Альберт</td>\n      <td>https://stepik.org/submissions/1272050/224800096</td>\n      <td>https://stepik.org/submissions/1272050/211215935</td>\n      <td>13,95348837</td>\n      <td>https://stepik.org/submissions/1282411/224800242</td>\n      <td>https://stepik.org/submissions/1282411/211547657</td>\n      <td>17,82945736</td>\n      <td>https://stepik.org/submissions/1310994/224800434</td>\n      <td>https://stepik.org/submissions/1310994/218767926</td>\n      <td>13,17829457</td>\n      <td>https://stepik.org/submissions/1328653/224796812</td>\n      <td>https://stepik.org/submissions/1328653/219204278</td>\n      <td>23,12312312</td>\n    </tr>\n    <tr>\n      <th>1</th>\n      <td>21119312</td>\n      <td>Огаркова</td>\n      <td>Татьяна</td>\n      <td>https://stepik.org/submissions/1272050/204468542</td>\n      <td>https://stepik.org/submissions/1272050/203892044</td>\n      <td>18,90270039</td>\n      <td>https://stepik.org/submissions/1282411/223834647</td>\n      <td>https://stepik.org/submissions/1282411/222570127</td>\n      <td>19,05584341</td>\n      <td>NaN</td>\n      <td>NaN</td>\n      <td>0</td>\n      <td>https://stepik.org/submissions/1328653/225227543</td>\n      <td>https://stepik.org/submissions/1328653/219771169</td>\n      <td>32,75862069</td>\n    </tr>\n    <tr>\n      <th>2</th>\n      <td>60348880</td>\n      <td>Лупова</td>\n      <td>Ирина</td>\n      <td>https://stepik.org/submissions/1272050/203892044</td>\n      <td>https://stepik.org/submissions/1272050/203695490</td>\n      <td>15,23777629</td>\n      <td>https://stepik.org/submissions/1282411/209294423</td>\n      <td>https://stepik.org/submissions/1282411/207463261</td>\n      <td>14,50151057</td>\n      <td>https://stepik.org/submissions/1310994/211770301</td>\n      <td>https://stepik.org/submissions/1310994/211593231</td>\n      <td>16,81786462</td>\n      <td>NaN</td>\n      <td>NaN</td>\n      <td>0</td>\n    </tr>\n    <tr>\n      <th>3</th>\n      <td>61561056</td>\n      <td>Чернышева</td>\n      <td>Виктория</td>\n      <td>https://stepik.org/submissions/1272050/204085319</td>\n      <td>https://stepik.org/submissions/1272050/203010739</td>\n      <td>13,41463415</td>\n      <td>https://stepik.org/submissions/1282411/208350630</td>\n      <td>https://stepik.org/submissions/1282411/207500612</td>\n      <td>13,01947108</td>\n      <td>NaN</td>\n      <td>NaN</td>\n      <td>0</td>\n      <td>NaN</td>\n      <td>NaN</td>\n      <td>0</td>\n    </tr>\n    <tr>\n      <th>4</th>\n      <td>62817801</td>\n      <td>Владислав</td>\n      <td>Ермаков</td>\n      <td>NaN</td>\n      <td>NaN</td>\n      <td>0</td>\n      <td>https://stepik.org/submissions/1282411/218000676</td>\n      <td>https://stepik.org/submissions/1282411/211617411</td>\n      <td>38,05612594</td>\n      <td>NaN</td>\n      <td>NaN</td>\n      <td>0</td>\n      <td>NaN</td>\n      <td>NaN</td>\n      <td>0</td>\n    </tr>\n  </tbody>\n</table>\n</div>"
     },
     "metadata": {},
     "execution_count": 14
    }
   ],
   "source": [
    "plagiarism= pd.read_csv(r'..\\data\\CSV\\plagiarism.csv', sep=';')\n",
    "plagiarism.head()"
   ]
  },
  {
   "cell_type": "code",
   "execution_count": 15,
   "metadata": {},
   "outputs": [
    {
     "output_type": "execute_result",
     "data": {
      "text/plain": [
       "     user_id  last_name          first_name             date_utc  \\\n",
       "0  223499837  223499837           Anonymous  2020-04-27 14:52:23   \n",
       "1  235321866     Мешков                Юрий  2020-05-14 14:55:33   \n",
       "2  237127804  237127804           Anonymous  2020-05-17 14:57:59   \n",
       "3   85935893        NaN  Теминдияров Руслан  2020-05-19 14:42:40   \n",
       "4  212532513      Занин             Дмитрий  2020-05-21 06:18:55   \n",
       "\n",
       "   date_registered_utc    date_enrolled_utc           utm_source utm_medium  \\\n",
       "0                  NaN                  NaN              landing     button   \n",
       "1  2020-05-14 14:58:19  2020-05-14 14:58:20              landing     button   \n",
       "2                  NaN                  NaN              landing     button   \n",
       "3  2019-03-20 10:05:13                  NaN  marchenko-marketing      email   \n",
       "4  2020-04-13 14:56:28                  NaN              landing     button   \n",
       "\n",
       "  utm_campaign  utm_term  utm_content  \n",
       "0  expversion1       NaN          NaN  \n",
       "1  expversion1       NaN          NaN  \n",
       "2  expversion1       NaN          NaN  \n",
       "3     19-08-19       NaN          NaN  \n",
       "4  expversion1       NaN          NaN  "
      ],
      "text/html": "<div>\n<style scoped>\n    .dataframe tbody tr th:only-of-type {\n        vertical-align: middle;\n    }\n\n    .dataframe tbody tr th {\n        vertical-align: top;\n    }\n\n    .dataframe thead th {\n        text-align: right;\n    }\n</style>\n<table border=\"1\" class=\"dataframe\">\n  <thead>\n    <tr style=\"text-align: right;\">\n      <th></th>\n      <th>user_id</th>\n      <th>last_name</th>\n      <th>first_name</th>\n      <th>date_utc</th>\n      <th>date_registered_utc</th>\n      <th>date_enrolled_utc</th>\n      <th>utm_source</th>\n      <th>utm_medium</th>\n      <th>utm_campaign</th>\n      <th>utm_term</th>\n      <th>utm_content</th>\n    </tr>\n  </thead>\n  <tbody>\n    <tr>\n      <th>0</th>\n      <td>223499837</td>\n      <td>223499837</td>\n      <td>Anonymous</td>\n      <td>2020-04-27 14:52:23</td>\n      <td>NaN</td>\n      <td>NaN</td>\n      <td>landing</td>\n      <td>button</td>\n      <td>expversion1</td>\n      <td>NaN</td>\n      <td>NaN</td>\n    </tr>\n    <tr>\n      <th>1</th>\n      <td>235321866</td>\n      <td>Мешков</td>\n      <td>Юрий</td>\n      <td>2020-05-14 14:55:33</td>\n      <td>2020-05-14 14:58:19</td>\n      <td>2020-05-14 14:58:20</td>\n      <td>landing</td>\n      <td>button</td>\n      <td>expversion1</td>\n      <td>NaN</td>\n      <td>NaN</td>\n    </tr>\n    <tr>\n      <th>2</th>\n      <td>237127804</td>\n      <td>237127804</td>\n      <td>Anonymous</td>\n      <td>2020-05-17 14:57:59</td>\n      <td>NaN</td>\n      <td>NaN</td>\n      <td>landing</td>\n      <td>button</td>\n      <td>expversion1</td>\n      <td>NaN</td>\n      <td>NaN</td>\n    </tr>\n    <tr>\n      <th>3</th>\n      <td>85935893</td>\n      <td>NaN</td>\n      <td>Теминдияров Руслан</td>\n      <td>2020-05-19 14:42:40</td>\n      <td>2019-03-20 10:05:13</td>\n      <td>NaN</td>\n      <td>marchenko-marketing</td>\n      <td>email</td>\n      <td>19-08-19</td>\n      <td>NaN</td>\n      <td>NaN</td>\n    </tr>\n    <tr>\n      <th>4</th>\n      <td>212532513</td>\n      <td>Занин</td>\n      <td>Дмитрий</td>\n      <td>2020-05-21 06:18:55</td>\n      <td>2020-04-13 14:56:28</td>\n      <td>NaN</td>\n      <td>landing</td>\n      <td>button</td>\n      <td>expversion1</td>\n      <td>NaN</td>\n      <td>NaN</td>\n    </tr>\n  </tbody>\n</table>\n</div>"
     },
     "metadata": {},
     "execution_count": 15
    }
   ],
   "source": [
    "referral_traffic= pd.read_csv(r'..\\data\\CSV\\referral-traffic.csv', sep=';')\n",
    "referral_traffic.head()"
   ]
  },
  {
   "cell_type": "code",
   "execution_count": 16,
   "metadata": {},
   "outputs": [
    {
     "output_type": "execute_result",
     "data": {
      "text/plain": [
       "                                      review  original score predicted score  \\\n",
       "0  https://stepik.org/review/reviews/1213780               0           13,93   \n",
       "1  https://stepik.org/review/reviews/1213313               0           13,92   \n",
       "2  https://stepik.org/review/reviews/1213768               0           13,88   \n",
       "3  https://stepik.org/review/reviews/1184381               0           13,64   \n",
       "4  https://stepik.org/review/reviews/1175905               1           12,09   \n",
       "\n",
       "  distance  \n",
       "0    13,93  \n",
       "1    13,92  \n",
       "2    13,88  \n",
       "3    13,64  \n",
       "4    11,09  "
      ],
      "text/html": "<div>\n<style scoped>\n    .dataframe tbody tr th:only-of-type {\n        vertical-align: middle;\n    }\n\n    .dataframe tbody tr th {\n        vertical-align: top;\n    }\n\n    .dataframe thead th {\n        text-align: right;\n    }\n</style>\n<table border=\"1\" class=\"dataframe\">\n  <thead>\n    <tr style=\"text-align: right;\">\n      <th></th>\n      <th>review</th>\n      <th>original score</th>\n      <th>predicted score</th>\n      <th>distance</th>\n    </tr>\n  </thead>\n  <tbody>\n    <tr>\n      <th>0</th>\n      <td>https://stepik.org/review/reviews/1213780</td>\n      <td>0</td>\n      <td>13,93</td>\n      <td>13,93</td>\n    </tr>\n    <tr>\n      <th>1</th>\n      <td>https://stepik.org/review/reviews/1213313</td>\n      <td>0</td>\n      <td>13,92</td>\n      <td>13,92</td>\n    </tr>\n    <tr>\n      <th>2</th>\n      <td>https://stepik.org/review/reviews/1213768</td>\n      <td>0</td>\n      <td>13,88</td>\n      <td>13,88</td>\n    </tr>\n    <tr>\n      <th>3</th>\n      <td>https://stepik.org/review/reviews/1184381</td>\n      <td>0</td>\n      <td>13,64</td>\n      <td>13,64</td>\n    </tr>\n    <tr>\n      <th>4</th>\n      <td>https://stepik.org/review/reviews/1175905</td>\n      <td>1</td>\n      <td>12,09</td>\n      <td>11,09</td>\n    </tr>\n  </tbody>\n</table>\n</div>"
     },
     "metadata": {},
     "execution_count": 16
    }
   ],
   "source": [
    "reviews_outliers= pd.read_csv(r'..\\data\\CSV\\reviews-outliers.csv', sep=';')\n",
    "reviews_outliers.head()"
   ]
  },
  {
   "cell_type": "code",
   "execution_count": 17,
   "metadata": {},
   "outputs": [
    {
     "output_type": "execute_result",
     "data": {
      "text/plain": [
       "   step_id                                 step_url   difficulty  \\\n",
       "0  1268657  https://stepik.org/lesson/345697/step/3  0,764923077   \n",
       "1  1269896  https://stepik.org/lesson/345697/step/4  0,727272727   \n",
       "2  1269902  https://stepik.org/lesson/345697/step/5  0,628030303   \n",
       "3  1269905  https://stepik.org/lesson/345697/step/6   0,46780303   \n",
       "4  1269910  https://stepik.org/lesson/345697/step/7  0,627014582   \n",
       "\n",
       "  discrimination  \n",
       "0    0,536335858  \n",
       "1    0,654993747  \n",
       "2     0,62882491  \n",
       "3    0,476710509  \n",
       "4    0,592516425  "
      ],
      "text/html": "<div>\n<style scoped>\n    .dataframe tbody tr th:only-of-type {\n        vertical-align: middle;\n    }\n\n    .dataframe tbody tr th {\n        vertical-align: top;\n    }\n\n    .dataframe thead th {\n        text-align: right;\n    }\n</style>\n<table border=\"1\" class=\"dataframe\">\n  <thead>\n    <tr style=\"text-align: right;\">\n      <th></th>\n      <th>step_id</th>\n      <th>step_url</th>\n      <th>difficulty</th>\n      <th>discrimination</th>\n    </tr>\n  </thead>\n  <tbody>\n    <tr>\n      <th>0</th>\n      <td>1268657</td>\n      <td>https://stepik.org/lesson/345697/step/3</td>\n      <td>0,764923077</td>\n      <td>0,536335858</td>\n    </tr>\n    <tr>\n      <th>1</th>\n      <td>1269896</td>\n      <td>https://stepik.org/lesson/345697/step/4</td>\n      <td>0,727272727</td>\n      <td>0,654993747</td>\n    </tr>\n    <tr>\n      <th>2</th>\n      <td>1269902</td>\n      <td>https://stepik.org/lesson/345697/step/5</td>\n      <td>0,628030303</td>\n      <td>0,62882491</td>\n    </tr>\n    <tr>\n      <th>3</th>\n      <td>1269905</td>\n      <td>https://stepik.org/lesson/345697/step/6</td>\n      <td>0,46780303</td>\n      <td>0,476710509</td>\n    </tr>\n    <tr>\n      <th>4</th>\n      <td>1269910</td>\n      <td>https://stepik.org/lesson/345697/step/7</td>\n      <td>0,627014582</td>\n      <td>0,592516425</td>\n    </tr>\n  </tbody>\n</table>\n</div>"
     },
     "metadata": {},
     "execution_count": 17
    }
   ],
   "source": [
    "step_difficulty_discrimination= pd.read_csv(r'..\\data\\CSV\\step-difficulty-discrimination.csv', sep=';')\n",
    "step_difficulty_discrimination.head()"
   ]
  },
  {
   "cell_type": "code",
   "execution_count": 18,
   "metadata": {},
   "outputs": [
    {
     "output_type": "execute_result",
     "data": {
      "text/plain": [
       "   step_id  unique_views  unique_successes  total_views  total_successes  \\\n",
       "0  1258949           806               806         2727                0   \n",
       "1  1258951           688               688         1797                0   \n",
       "2  1258952           659               659         1496                0   \n",
       "3  1258953           651               651         1711                0   \n",
       "4  1258954           556               556         1002                0   \n",
       "\n",
       "   total_failures  \n",
       "0               0  \n",
       "1               0  \n",
       "2               0  \n",
       "3               0  \n",
       "4               0  "
      ],
      "text/html": "<div>\n<style scoped>\n    .dataframe tbody tr th:only-of-type {\n        vertical-align: middle;\n    }\n\n    .dataframe tbody tr th {\n        vertical-align: top;\n    }\n\n    .dataframe thead th {\n        text-align: right;\n    }\n</style>\n<table border=\"1\" class=\"dataframe\">\n  <thead>\n    <tr style=\"text-align: right;\">\n      <th></th>\n      <th>step_id</th>\n      <th>unique_views</th>\n      <th>unique_successes</th>\n      <th>total_views</th>\n      <th>total_successes</th>\n      <th>total_failures</th>\n    </tr>\n  </thead>\n  <tbody>\n    <tr>\n      <th>0</th>\n      <td>1258949</td>\n      <td>806</td>\n      <td>806</td>\n      <td>2727</td>\n      <td>0</td>\n      <td>0</td>\n    </tr>\n    <tr>\n      <th>1</th>\n      <td>1258951</td>\n      <td>688</td>\n      <td>688</td>\n      <td>1797</td>\n      <td>0</td>\n      <td>0</td>\n    </tr>\n    <tr>\n      <th>2</th>\n      <td>1258952</td>\n      <td>659</td>\n      <td>659</td>\n      <td>1496</td>\n      <td>0</td>\n      <td>0</td>\n    </tr>\n    <tr>\n      <th>3</th>\n      <td>1258953</td>\n      <td>651</td>\n      <td>651</td>\n      <td>1711</td>\n      <td>0</td>\n      <td>0</td>\n    </tr>\n    <tr>\n      <th>4</th>\n      <td>1258954</td>\n      <td>556</td>\n      <td>556</td>\n      <td>1002</td>\n      <td>0</td>\n      <td>0</td>\n    </tr>\n  </tbody>\n</table>\n</div>"
     },
     "metadata": {},
     "execution_count": 18
    }
   ],
   "source": [
    "step_stats = pd.read_csv(r'..\\data\\CSV\\step-stats.csv', sep=';')\n",
    "step_stats.head()"
   ]
  },
  {
   "cell_type": "code",
   "execution_count": 19,
   "metadata": {},
   "outputs": [
    {
     "output_type": "execute_result",
     "data": {
      "text/plain": [
       "   course_id  module_id  module_position  lesson_id  lesson_position  step_id  \\\n",
       "0      70810     130207                1     347108                1  1269617   \n",
       "1      70810     130207                1     347108                1  1265485   \n",
       "2      70810     130207                1     347108                1  1270620   \n",
       "3      70810     130207                1     347108                1  1270886   \n",
       "4      70810     130207                1     347108                1  1270897   \n",
       "\n",
       "   step_position step_type  step_cost  begin_date_utc  end_date_utc  \\\n",
       "0              1      text          0      1587988800           NaN   \n",
       "1              2    choice          1      1587988800           NaN   \n",
       "2              3    choice          1      1587988800           NaN   \n",
       "3              4    choice          1      1587988800           NaN   \n",
       "4              5    choice          1      1587988800           NaN   \n",
       "\n",
       "   soft_deadline_utc  hard_deadline_utc grading_policy  \n",
       "0                NaN                NaN   no_deadlines  \n",
       "1                NaN                NaN   no_deadlines  \n",
       "2                NaN                NaN   no_deadlines  \n",
       "3                NaN                NaN   no_deadlines  \n",
       "4                NaN                NaN   no_deadlines  "
      ],
      "text/html": "<div>\n<style scoped>\n    .dataframe tbody tr th:only-of-type {\n        vertical-align: middle;\n    }\n\n    .dataframe tbody tr th {\n        vertical-align: top;\n    }\n\n    .dataframe thead th {\n        text-align: right;\n    }\n</style>\n<table border=\"1\" class=\"dataframe\">\n  <thead>\n    <tr style=\"text-align: right;\">\n      <th></th>\n      <th>course_id</th>\n      <th>module_id</th>\n      <th>module_position</th>\n      <th>lesson_id</th>\n      <th>lesson_position</th>\n      <th>step_id</th>\n      <th>step_position</th>\n      <th>step_type</th>\n      <th>step_cost</th>\n      <th>begin_date_utc</th>\n      <th>end_date_utc</th>\n      <th>soft_deadline_utc</th>\n      <th>hard_deadline_utc</th>\n      <th>grading_policy</th>\n    </tr>\n  </thead>\n  <tbody>\n    <tr>\n      <th>0</th>\n      <td>70810</td>\n      <td>130207</td>\n      <td>1</td>\n      <td>347108</td>\n      <td>1</td>\n      <td>1269617</td>\n      <td>1</td>\n      <td>text</td>\n      <td>0</td>\n      <td>1587988800</td>\n      <td>NaN</td>\n      <td>NaN</td>\n      <td>NaN</td>\n      <td>no_deadlines</td>\n    </tr>\n    <tr>\n      <th>1</th>\n      <td>70810</td>\n      <td>130207</td>\n      <td>1</td>\n      <td>347108</td>\n      <td>1</td>\n      <td>1265485</td>\n      <td>2</td>\n      <td>choice</td>\n      <td>1</td>\n      <td>1587988800</td>\n      <td>NaN</td>\n      <td>NaN</td>\n      <td>NaN</td>\n      <td>no_deadlines</td>\n    </tr>\n    <tr>\n      <th>2</th>\n      <td>70810</td>\n      <td>130207</td>\n      <td>1</td>\n      <td>347108</td>\n      <td>1</td>\n      <td>1270620</td>\n      <td>3</td>\n      <td>choice</td>\n      <td>1</td>\n      <td>1587988800</td>\n      <td>NaN</td>\n      <td>NaN</td>\n      <td>NaN</td>\n      <td>no_deadlines</td>\n    </tr>\n    <tr>\n      <th>3</th>\n      <td>70810</td>\n      <td>130207</td>\n      <td>1</td>\n      <td>347108</td>\n      <td>1</td>\n      <td>1270886</td>\n      <td>4</td>\n      <td>choice</td>\n      <td>1</td>\n      <td>1587988800</td>\n      <td>NaN</td>\n      <td>NaN</td>\n      <td>NaN</td>\n      <td>no_deadlines</td>\n    </tr>\n    <tr>\n      <th>4</th>\n      <td>70810</td>\n      <td>130207</td>\n      <td>1</td>\n      <td>347108</td>\n      <td>1</td>\n      <td>1270897</td>\n      <td>5</td>\n      <td>choice</td>\n      <td>1</td>\n      <td>1587988800</td>\n      <td>NaN</td>\n      <td>NaN</td>\n      <td>NaN</td>\n      <td>no_deadlines</td>\n    </tr>\n  </tbody>\n</table>\n</div>"
     },
     "metadata": {},
     "execution_count": 19
    }
   ],
   "source": [
    "structure = pd.read_csv(r'..\\data\\CSV\\structure.csv', sep=';')\n",
    "structure.head()"
   ]
  },
  {
   "cell_type": "code",
   "execution_count": 20,
   "metadata": {},
   "outputs": [
    {
     "output_type": "execute_result",
     "data": {
      "text/plain": [
       "   submission_id  step_id    user_id last_name               first_name  \\\n",
       "0      199922314  1268657  220677450     \"ИРО\"  ГАУДПО Липецкой области   \n",
       "1      199922413  1268657  220677450     \"ИРО\"  ГАУДПО Липецкой области   \n",
       "2      199922493  1268657  220677450     \"ИРО\"  ГАУДПО Липецкой области   \n",
       "3      200412615  1265485  220677450     \"ИРО\"  ГАУДПО Липецкой области   \n",
       "4      200412749  1270620  220677450     \"ИРО\"  ГАУДПО Липецкой области   \n",
       "\n",
       "   attempt_time  submission_time   status  \n",
       "0    1587896866       1587896875  correct  \n",
       "1    1587896881       1587896884  correct  \n",
       "2    1587896889       1587896892    wrong  \n",
       "3    1587969356       1587969398  correct  \n",
       "4    1587969401       1587969415  correct  "
      ],
      "text/html": "<div>\n<style scoped>\n    .dataframe tbody tr th:only-of-type {\n        vertical-align: middle;\n    }\n\n    .dataframe tbody tr th {\n        vertical-align: top;\n    }\n\n    .dataframe thead th {\n        text-align: right;\n    }\n</style>\n<table border=\"1\" class=\"dataframe\">\n  <thead>\n    <tr style=\"text-align: right;\">\n      <th></th>\n      <th>submission_id</th>\n      <th>step_id</th>\n      <th>user_id</th>\n      <th>last_name</th>\n      <th>first_name</th>\n      <th>attempt_time</th>\n      <th>submission_time</th>\n      <th>status</th>\n    </tr>\n  </thead>\n  <tbody>\n    <tr>\n      <th>0</th>\n      <td>199922314</td>\n      <td>1268657</td>\n      <td>220677450</td>\n      <td>\"ИРО\"</td>\n      <td>ГАУДПО Липецкой области</td>\n      <td>1587896866</td>\n      <td>1587896875</td>\n      <td>correct</td>\n    </tr>\n    <tr>\n      <th>1</th>\n      <td>199922413</td>\n      <td>1268657</td>\n      <td>220677450</td>\n      <td>\"ИРО\"</td>\n      <td>ГАУДПО Липецкой области</td>\n      <td>1587896881</td>\n      <td>1587896884</td>\n      <td>correct</td>\n    </tr>\n    <tr>\n      <th>2</th>\n      <td>199922493</td>\n      <td>1268657</td>\n      <td>220677450</td>\n      <td>\"ИРО\"</td>\n      <td>ГАУДПО Липецкой области</td>\n      <td>1587896889</td>\n      <td>1587896892</td>\n      <td>wrong</td>\n    </tr>\n    <tr>\n      <th>3</th>\n      <td>200412615</td>\n      <td>1265485</td>\n      <td>220677450</td>\n      <td>\"ИРО\"</td>\n      <td>ГАУДПО Липецкой области</td>\n      <td>1587969356</td>\n      <td>1587969398</td>\n      <td>correct</td>\n    </tr>\n    <tr>\n      <th>4</th>\n      <td>200412749</td>\n      <td>1270620</td>\n      <td>220677450</td>\n      <td>\"ИРО\"</td>\n      <td>ГАУДПО Липецкой области</td>\n      <td>1587969401</td>\n      <td>1587969415</td>\n      <td>correct</td>\n    </tr>\n  </tbody>\n</table>\n</div>"
     },
     "metadata": {},
     "execution_count": 20
    }
   ],
   "source": [
    "submissions = pd.read_csv(r'..\\data\\CSV\\submissions.csv', sep=';')\n",
    "submissions.head()"
   ]
  },
  {
   "cell_type": "code",
   "execution_count": 21,
   "metadata": {},
   "outputs": [
    {
     "output_type": "execute_result",
     "data": {
      "text/plain": [
       "    user_id                    last_name             first_name  \\\n",
       "0  73886792  одаренных детей \"Стратегия\"  ГОАОУ Центр поддержки   \n",
       "\n",
       "   invitation_email       last_login_utc      date_joined_utc  \n",
       "0               NaN  2020-06-30 06:33:07  2020-04-22 05:43:28  "
      ],
      "text/html": "<div>\n<style scoped>\n    .dataframe tbody tr th:only-of-type {\n        vertical-align: middle;\n    }\n\n    .dataframe tbody tr th {\n        vertical-align: top;\n    }\n\n    .dataframe thead th {\n        text-align: right;\n    }\n</style>\n<table border=\"1\" class=\"dataframe\">\n  <thead>\n    <tr style=\"text-align: right;\">\n      <th></th>\n      <th>user_id</th>\n      <th>last_name</th>\n      <th>first_name</th>\n      <th>invitation_email</th>\n      <th>last_login_utc</th>\n      <th>date_joined_utc</th>\n    </tr>\n  </thead>\n  <tbody>\n    <tr>\n      <th>0</th>\n      <td>73886792</td>\n      <td>одаренных детей \"Стратегия\"</td>\n      <td>ГОАОУ Центр поддержки</td>\n      <td>NaN</td>\n      <td>2020-06-30 06:33:07</td>\n      <td>2020-04-22 05:43:28</td>\n    </tr>\n  </tbody>\n</table>\n</div>"
     },
     "metadata": {},
     "execution_count": 21
    }
   ],
   "source": [
    "teachers = pd.read_csv(r'..\\data\\CSV\\teachers.csv', sep=';')\n",
    "teachers.head()"
   ]
  },
  {
   "cell_type": "code",
   "execution_count": 22,
   "metadata": {},
   "outputs": [
    {
     "output_type": "execute_result",
     "data": {
      "text/plain": [
       "     type      id                                              title  \\\n",
       "0  course   70810  Формула образования. Школа: ученик, родитель, ...   \n",
       "1  module  130207                                   Вводный модуль.    \n",
       "2  module  129762  Фундаментальный взгляд на развитие образования...   \n",
       "3  module  129763      Современные подходы к образованию. Дима Зицер   \n",
       "4  module  129764  Работа с семьями: консультирование детей и род...   \n",
       "\n",
       "   position  seconds_to_complete  \n",
       "0       NaN                 7162  \n",
       "1       1.0                  388  \n",
       "2       2.0                 2441  \n",
       "3       3.0                 1336  \n",
       "4       4.0                 1139  "
      ],
      "text/html": "<div>\n<style scoped>\n    .dataframe tbody tr th:only-of-type {\n        vertical-align: middle;\n    }\n\n    .dataframe tbody tr th {\n        vertical-align: top;\n    }\n\n    .dataframe thead th {\n        text-align: right;\n    }\n</style>\n<table border=\"1\" class=\"dataframe\">\n  <thead>\n    <tr style=\"text-align: right;\">\n      <th></th>\n      <th>type</th>\n      <th>id</th>\n      <th>title</th>\n      <th>position</th>\n      <th>seconds_to_complete</th>\n    </tr>\n  </thead>\n  <tbody>\n    <tr>\n      <th>0</th>\n      <td>course</td>\n      <td>70810</td>\n      <td>Формула образования. Школа: ученик, родитель, ...</td>\n      <td>NaN</td>\n      <td>7162</td>\n    </tr>\n    <tr>\n      <th>1</th>\n      <td>module</td>\n      <td>130207</td>\n      <td>Вводный модуль.</td>\n      <td>1.0</td>\n      <td>388</td>\n    </tr>\n    <tr>\n      <th>2</th>\n      <td>module</td>\n      <td>129762</td>\n      <td>Фундаментальный взгляд на развитие образования...</td>\n      <td>2.0</td>\n      <td>2441</td>\n    </tr>\n    <tr>\n      <th>3</th>\n      <td>module</td>\n      <td>129763</td>\n      <td>Современные подходы к образованию. Дима Зицер</td>\n      <td>3.0</td>\n      <td>1336</td>\n    </tr>\n    <tr>\n      <th>4</th>\n      <td>module</td>\n      <td>129764</td>\n      <td>Работа с семьями: консультирование детей и род...</td>\n      <td>4.0</td>\n      <td>1139</td>\n    </tr>\n  </tbody>\n</table>\n</div>"
     },
     "metadata": {},
     "execution_count": 22
    }
   ],
   "source": [
    "time_to_complete = pd.read_csv(r'..\\data\\CSV\\time-to-complete.csv', sep=';')\n",
    "time_to_complete.head()"
   ]
  },
  {
   "source": [
    "### Then the analysis"
   ],
   "cell_type": "markdown",
   "metadata": {}
  },
  {
   "source": [
    "What we need to know about users' activity on the course?\n",
    "\n",
    "Of course their submissions (and their statuses), structure of course, grading-book and probably other info like comments and step info.\n",
    "\n",
    "What we **do not** need? It's cheating, plagiarism and teachers. So we will ignore these datasets (but probably we will need them later)."
   ],
   "cell_type": "markdown",
   "metadata": {}
  },
  {
   "source": [
    "May be we do not need referral traffics.\n",
    "\n",
    "Review task info is kinda difficult to interpret and put to a proper place, so I don't know how to use it. But it will be saved."
   ],
   "cell_type": "markdown",
   "metadata": {}
  },
  {
   "source": [
    "So what we have:\n",
    "* activity_full\n",
    "* activity\n",
    "* ~~cheating~~\n",
    "* comments\n",
    "* grade_book1\n",
    "* grade_book_short\n",
    "* grade_book_without_deadlines\n",
    "* learners\n",
    "* not_finished_review_sessions\n",
    "* ~~plagiarism~~\n",
    "* ~~referral traffic~~\n",
    "* reviews_outliers\n",
    "* step_difficulty_discrimination\n",
    "* step_stats\n",
    "* structure\n",
    "* submissions_full\n",
    "* submissions\n",
    "* ~~teachers~~\n",
    "* time_to_complete"
   ],
   "cell_type": "markdown",
   "metadata": {}
  },
  {
   "source": [
    "So let's preprocess our data."
   ],
   "cell_type": "markdown",
   "metadata": {}
  },
  {
   "source": [
    "### The very data preprocessing"
   ],
   "cell_type": "markdown",
   "metadata": {}
  },
  {
   "cell_type": "code",
   "execution_count": 23,
   "metadata": {},
   "outputs": [],
   "source": [
    "users_data = grade_book1[['user_id','total','date_joined_utc','last_viewed_utc']].set_index('user_id').sort_index(axis=0)"
   ]
  },
  {
   "cell_type": "code",
   "execution_count": 24,
   "metadata": {},
   "outputs": [
    {
     "output_type": "execute_result",
     "data": {
      "text/plain": [
       "          total      date_joined_utc      last_viewed_utc\n",
       "user_id                                                  \n",
       "220676       10  2020-04-22 09:05:19  2020-06-05 10:42:18\n",
       "235431        0  2020-06-20 05:36:08  2020-06-20 18:33:29\n",
       "326719      127  2020-05-12 19:21:31  2020-05-30 14:53:46\n",
       "377678        0  2020-06-24 17:02:34                  NaN\n",
       "1360625       0  2020-05-10 21:27:38                  NaN\n",
       "...         ...                  ...                  ...\n",
       "260827899     0  2020-06-25 06:25:11                  NaN\n",
       "263086182     7  2020-06-29 10:50:00  2020-06-29 10:57:16\n",
       "263327751     0  2020-06-29 20:08:22                  NaN\n",
       "263750210     0  2020-07-01 09:18:12                  NaN\n",
       "264434070     0  2020-07-06 17:06:28                  NaN\n",
       "\n",
       "[989 rows x 3 columns]"
      ],
      "text/html": "<div>\n<style scoped>\n    .dataframe tbody tr th:only-of-type {\n        vertical-align: middle;\n    }\n\n    .dataframe tbody tr th {\n        vertical-align: top;\n    }\n\n    .dataframe thead th {\n        text-align: right;\n    }\n</style>\n<table border=\"1\" class=\"dataframe\">\n  <thead>\n    <tr style=\"text-align: right;\">\n      <th></th>\n      <th>total</th>\n      <th>date_joined_utc</th>\n      <th>last_viewed_utc</th>\n    </tr>\n    <tr>\n      <th>user_id</th>\n      <th></th>\n      <th></th>\n      <th></th>\n    </tr>\n  </thead>\n  <tbody>\n    <tr>\n      <th>220676</th>\n      <td>10</td>\n      <td>2020-04-22 09:05:19</td>\n      <td>2020-06-05 10:42:18</td>\n    </tr>\n    <tr>\n      <th>235431</th>\n      <td>0</td>\n      <td>2020-06-20 05:36:08</td>\n      <td>2020-06-20 18:33:29</td>\n    </tr>\n    <tr>\n      <th>326719</th>\n      <td>127</td>\n      <td>2020-05-12 19:21:31</td>\n      <td>2020-05-30 14:53:46</td>\n    </tr>\n    <tr>\n      <th>377678</th>\n      <td>0</td>\n      <td>2020-06-24 17:02:34</td>\n      <td>NaN</td>\n    </tr>\n    <tr>\n      <th>1360625</th>\n      <td>0</td>\n      <td>2020-05-10 21:27:38</td>\n      <td>NaN</td>\n    </tr>\n    <tr>\n      <th>...</th>\n      <td>...</td>\n      <td>...</td>\n      <td>...</td>\n    </tr>\n    <tr>\n      <th>260827899</th>\n      <td>0</td>\n      <td>2020-06-25 06:25:11</td>\n      <td>NaN</td>\n    </tr>\n    <tr>\n      <th>263086182</th>\n      <td>7</td>\n      <td>2020-06-29 10:50:00</td>\n      <td>2020-06-29 10:57:16</td>\n    </tr>\n    <tr>\n      <th>263327751</th>\n      <td>0</td>\n      <td>2020-06-29 20:08:22</td>\n      <td>NaN</td>\n    </tr>\n    <tr>\n      <th>263750210</th>\n      <td>0</td>\n      <td>2020-07-01 09:18:12</td>\n      <td>NaN</td>\n    </tr>\n    <tr>\n      <th>264434070</th>\n      <td>0</td>\n      <td>2020-07-06 17:06:28</td>\n      <td>NaN</td>\n    </tr>\n  </tbody>\n</table>\n<p>989 rows × 3 columns</p>\n</div>"
     },
     "metadata": {},
     "execution_count": 24
    }
   ],
   "source": [
    "users_data"
   ]
  },
  {
   "source": [
    "### SAVING HUB\n",
    "\n",
    "let's save our stub:"
   ],
   "cell_type": "markdown",
   "metadata": {}
  },
  {
   "cell_type": "code",
   "execution_count": 25,
   "metadata": {},
   "outputs": [],
   "source": [
    "save = open(r'..\\data\\preprocessed\\users-data.csv', 'w')\n",
    "save.write(users_data.to_csv())\n",
    "save.close()"
   ]
  },
  {
   "cell_type": "code",
   "execution_count": 26,
   "metadata": {},
   "outputs": [],
   "source": [
    "q = pd.to_datetime(submissions.groupby('user_id').submission_time.agg(max), unit='s')"
   ]
  },
  {
   "cell_type": "code",
   "execution_count": 27,
   "metadata": {},
   "outputs": [
    {
     "output_type": "execute_result",
     "data": {
      "text/plain": [
       "user_id\n",
       "127890      2020-05-14 15:30:07\n",
       "220676      2020-05-29 08:28:57\n",
       "326719      2020-05-30 14:54:54\n",
       "1635722     2020-05-04 13:48:51\n",
       "2258383     2020-04-30 16:13:32\n",
       "                    ...        \n",
       "251294630   2020-06-09 20:08:37\n",
       "251664717   2020-06-14 11:17:51\n",
       "252308518   2020-06-11 11:25:15\n",
       "253108923   2020-06-12 13:01:09\n",
       "263086182   2020-06-29 10:57:12\n",
       "Name: submission_time, Length: 835, dtype: datetime64[ns]"
      ]
     },
     "metadata": {},
     "execution_count": 27
    }
   ],
   "source": [
    "q"
   ]
  },
  {
   "cell_type": "code",
   "execution_count": 28,
   "metadata": {},
   "outputs": [],
   "source": [
    "users_data = users_data.merge(q.to_frame(), on='user_id', how='inner')"
   ]
  },
  {
   "cell_type": "code",
   "execution_count": 29,
   "metadata": {},
   "outputs": [
    {
     "output_type": "execute_result",
     "data": {
      "text/plain": [
       "        total      date_joined_utc      last_viewed_utc     submission_time\n",
       "user_id                                                                    \n",
       "220676     10  2020-04-22 09:05:19  2020-06-05 10:42:18 2020-05-29 08:28:57\n",
       "326719    127  2020-05-12 19:21:31  2020-05-30 14:53:46 2020-05-30 14:54:54\n",
       "1635722    34  2020-04-30 14:09:07  2020-05-04 13:49:06 2020-05-04 13:48:51\n",
       "2258383     7  2020-04-28 09:42:10  2020-04-30 16:13:38 2020-04-30 16:13:32\n",
       "2509356   139  2020-05-12 06:46:03  2020-06-05 17:26:00 2020-06-05 17:25:57"
      ],
      "text/html": "<div>\n<style scoped>\n    .dataframe tbody tr th:only-of-type {\n        vertical-align: middle;\n    }\n\n    .dataframe tbody tr th {\n        vertical-align: top;\n    }\n\n    .dataframe thead th {\n        text-align: right;\n    }\n</style>\n<table border=\"1\" class=\"dataframe\">\n  <thead>\n    <tr style=\"text-align: right;\">\n      <th></th>\n      <th>total</th>\n      <th>date_joined_utc</th>\n      <th>last_viewed_utc</th>\n      <th>submission_time</th>\n    </tr>\n    <tr>\n      <th>user_id</th>\n      <th></th>\n      <th></th>\n      <th></th>\n      <th></th>\n    </tr>\n  </thead>\n  <tbody>\n    <tr>\n      <th>220676</th>\n      <td>10</td>\n      <td>2020-04-22 09:05:19</td>\n      <td>2020-06-05 10:42:18</td>\n      <td>2020-05-29 08:28:57</td>\n    </tr>\n    <tr>\n      <th>326719</th>\n      <td>127</td>\n      <td>2020-05-12 19:21:31</td>\n      <td>2020-05-30 14:53:46</td>\n      <td>2020-05-30 14:54:54</td>\n    </tr>\n    <tr>\n      <th>1635722</th>\n      <td>34</td>\n      <td>2020-04-30 14:09:07</td>\n      <td>2020-05-04 13:49:06</td>\n      <td>2020-05-04 13:48:51</td>\n    </tr>\n    <tr>\n      <th>2258383</th>\n      <td>7</td>\n      <td>2020-04-28 09:42:10</td>\n      <td>2020-04-30 16:13:38</td>\n      <td>2020-04-30 16:13:32</td>\n    </tr>\n    <tr>\n      <th>2509356</th>\n      <td>139</td>\n      <td>2020-05-12 06:46:03</td>\n      <td>2020-06-05 17:26:00</td>\n      <td>2020-06-05 17:25:57</td>\n    </tr>\n  </tbody>\n</table>\n</div>"
     },
     "metadata": {},
     "execution_count": 29
    }
   ],
   "source": [
    "users_data.head()"
   ]
  },
  {
   "cell_type": "code",
   "execution_count": 30,
   "metadata": {},
   "outputs": [],
   "source": [
    "users_data=users_data.rename(columns={'total':'total_tasks_solved', 'submission_time':'last_submission_time'})"
   ]
  },
  {
   "cell_type": "code",
   "execution_count": 31,
   "metadata": {},
   "outputs": [],
   "source": [
    "users_data['total_tasks_solved'] = users_data[['total_tasks_solved']].apply(lambda x: x.str.replace(',', '.'),axis=1)['total_tasks_solved'].map(float)"
   ]
  },
  {
   "cell_type": "code",
   "execution_count": 32,
   "metadata": {},
   "outputs": [
    {
     "output_type": "execute_result",
     "data": {
      "text/plain": [
       "147.0"
      ]
     },
     "metadata": {},
     "execution_count": 32
    }
   ],
   "source": [
    "users_data['total_tasks_solved'].max()"
   ]
  },
  {
   "cell_type": "code",
   "execution_count": 33,
   "metadata": {},
   "outputs": [],
   "source": [
    "users_data =users_data.merge(grade_book_short[['user_id','total, %']], on='user_id', how='outer')"
   ]
  },
  {
   "cell_type": "code",
   "execution_count": 34,
   "metadata": {},
   "outputs": [],
   "source": [
    "users_data['total, %'] = users_data[['total, %']].apply(lambda x: x.str.replace(',', '.'),axis=1)['total, %'].map(float)"
   ]
  },
  {
   "cell_type": "code",
   "execution_count": 35,
   "metadata": {},
   "outputs": [],
   "source": [
    "users_data['date_joined_utc']= pd.to_datetime(users_data['date_joined_utc'])"
   ]
  },
  {
   "cell_type": "code",
   "execution_count": 36,
   "metadata": {},
   "outputs": [
    {
     "output_type": "execute_result",
     "data": {
      "text/plain": [
       "user_id                          int64\n",
       "total_tasks_solved             float64\n",
       "date_joined_utc         datetime64[ns]\n",
       "last_viewed_utc                 object\n",
       "last_submission_time    datetime64[ns]\n",
       "total, %                       float64\n",
       "dtype: object"
      ]
     },
     "metadata": {},
     "execution_count": 36
    }
   ],
   "source": [
    "users_data.dtypes"
   ]
  },
  {
   "cell_type": "code",
   "execution_count": 37,
   "metadata": {},
   "outputs": [],
   "source": [
    "users_data['last_viewed_utc']= pd.to_datetime(users_data['last_viewed_utc'])"
   ]
  },
  {
   "cell_type": "code",
   "execution_count": 38,
   "metadata": {},
   "outputs": [],
   "source": [
    "import datetime\n",
    "for a in ['submission_time', 'attempt_time']:\n",
    "    submissions[a] = pd.to_datetime(submissions[a], unit='s')\n",
    "    submissions[a]=submissions[a].apply(lambda x: datetime.datetime.strptime(str(x), '%Y-%m-%d %H:%M:%S').timestamp())"
   ]
  },
  {
   "cell_type": "code",
   "execution_count": 39,
   "metadata": {},
   "outputs": [
    {
     "output_type": "execute_result",
     "data": {
      "text/plain": [
       "user_id\n",
       "127890        15\n",
       "220676        10\n",
       "326719       130\n",
       "1635722       39\n",
       "2258383        8\n",
       "            ... \n",
       "251294630      7\n",
       "251664717    138\n",
       "252308518    136\n",
       "253108923      4\n",
       "263086182      7\n",
       "Name: step_id, Length: 835, dtype: int64"
      ]
     },
     "metadata": {},
     "execution_count": 39
    }
   ],
   "source": [
    "submissions.groupby('user_id').step_id.nunique()"
   ]
  },
  {
   "source": [
    "submissions.head()"
   ],
   "cell_type": "code",
   "metadata": {},
   "execution_count": 40,
   "outputs": [
    {
     "output_type": "execute_result",
     "data": {
      "text/plain": [
       "   submission_id  step_id    user_id last_name               first_name  \\\n",
       "0      199922314  1268657  220677450     \"ИРО\"  ГАУДПО Липецкой области   \n",
       "1      199922413  1268657  220677450     \"ИРО\"  ГАУДПО Липецкой области   \n",
       "2      199922493  1268657  220677450     \"ИРО\"  ГАУДПО Липецкой области   \n",
       "3      200412615  1265485  220677450     \"ИРО\"  ГАУДПО Липецкой области   \n",
       "4      200412749  1270620  220677450     \"ИРО\"  ГАУДПО Липецкой области   \n",
       "\n",
       "   attempt_time  submission_time   status  \n",
       "0  1.587886e+09     1.587886e+09  correct  \n",
       "1  1.587886e+09     1.587886e+09  correct  \n",
       "2  1.587886e+09     1.587886e+09    wrong  \n",
       "3  1.587959e+09     1.587959e+09  correct  \n",
       "4  1.587959e+09     1.587959e+09  correct  "
      ],
      "text/html": "<div>\n<style scoped>\n    .dataframe tbody tr th:only-of-type {\n        vertical-align: middle;\n    }\n\n    .dataframe tbody tr th {\n        vertical-align: top;\n    }\n\n    .dataframe thead th {\n        text-align: right;\n    }\n</style>\n<table border=\"1\" class=\"dataframe\">\n  <thead>\n    <tr style=\"text-align: right;\">\n      <th></th>\n      <th>submission_id</th>\n      <th>step_id</th>\n      <th>user_id</th>\n      <th>last_name</th>\n      <th>first_name</th>\n      <th>attempt_time</th>\n      <th>submission_time</th>\n      <th>status</th>\n    </tr>\n  </thead>\n  <tbody>\n    <tr>\n      <th>0</th>\n      <td>199922314</td>\n      <td>1268657</td>\n      <td>220677450</td>\n      <td>\"ИРО\"</td>\n      <td>ГАУДПО Липецкой области</td>\n      <td>1.587886e+09</td>\n      <td>1.587886e+09</td>\n      <td>correct</td>\n    </tr>\n    <tr>\n      <th>1</th>\n      <td>199922413</td>\n      <td>1268657</td>\n      <td>220677450</td>\n      <td>\"ИРО\"</td>\n      <td>ГАУДПО Липецкой области</td>\n      <td>1.587886e+09</td>\n      <td>1.587886e+09</td>\n      <td>correct</td>\n    </tr>\n    <tr>\n      <th>2</th>\n      <td>199922493</td>\n      <td>1268657</td>\n      <td>220677450</td>\n      <td>\"ИРО\"</td>\n      <td>ГАУДПО Липецкой области</td>\n      <td>1.587886e+09</td>\n      <td>1.587886e+09</td>\n      <td>wrong</td>\n    </tr>\n    <tr>\n      <th>3</th>\n      <td>200412615</td>\n      <td>1265485</td>\n      <td>220677450</td>\n      <td>\"ИРО\"</td>\n      <td>ГАУДПО Липецкой области</td>\n      <td>1.587959e+09</td>\n      <td>1.587959e+09</td>\n      <td>correct</td>\n    </tr>\n    <tr>\n      <th>4</th>\n      <td>200412749</td>\n      <td>1270620</td>\n      <td>220677450</td>\n      <td>\"ИРО\"</td>\n      <td>ГАУДПО Липецкой области</td>\n      <td>1.587959e+09</td>\n      <td>1.587959e+09</td>\n      <td>correct</td>\n    </tr>\n  </tbody>\n</table>\n</div>"
     },
     "metadata": {},
     "execution_count": 40
    }
   ]
  },
  {
   "cell_type": "code",
   "execution_count": 41,
   "metadata": {},
   "outputs": [],
   "source": [
    "import datetime\n",
    "users_data['date_joined_utc']=users_data['date_joined_utc'].fillna('1971-01-01 00:00:01').apply(lambda x: datetime.datetime.strptime(str(x), '%Y-%m-%d %H:%M:%S').timestamp())"
   ]
  },
  {
   "cell_type": "code",
   "execution_count": 42,
   "metadata": {},
   "outputs": [],
   "source": [
    "users_data=users_data.drop(['last_viewed_utc', 'last_submission_time'], axis=1)"
   ]
  },
  {
   "cell_type": "code",
   "execution_count": 43,
   "metadata": {},
   "outputs": [],
   "source": [
    "submissions1 = submissions"
   ]
  },
  {
   "cell_type": "code",
   "execution_count": 44,
   "metadata": {},
   "outputs": [],
   "source": [
    "users_data['user_ts'] = users_data['user_id'].apply(lambda x: str(x))+'_'+users_data['date_joined_utc'].apply(lambda x: str(int(x)))"
   ]
  },
  {
   "cell_type": "code",
   "execution_count": 45,
   "metadata": {},
   "outputs": [
    {
     "output_type": "execute_result",
     "data": {
      "text/plain": [
       "user_id                 int64\n",
       "total_tasks_solved    float64\n",
       "date_joined_utc       float64\n",
       "total, %              float64\n",
       "user_ts                object\n",
       "dtype: object"
      ]
     },
     "metadata": {},
     "execution_count": 45
    }
   ],
   "source": [
    "users_data.dtypes"
   ]
  },
  {
   "cell_type": "code",
   "execution_count": 46,
   "metadata": {},
   "outputs": [],
   "source": [
    "users_data['user_threshold'] = users_data['user_id'].apply(lambda x: str(x))+'_'+users_data['date_joined_utc'].apply(lambda x: str(int(x+7*24*60*60)))"
   ]
  },
  {
   "cell_type": "code",
   "execution_count": 47,
   "metadata": {},
   "outputs": [
    {
     "output_type": "execute_result",
     "data": {
      "text/plain": [
       "   user_id  total_tasks_solved  date_joined_utc  total, %             user_ts  \\\n",
       "0   220676                10.0     1.587536e+09      6.80   220676_1587535519   \n",
       "1   326719               127.0     1.589300e+09     86.39   326719_1589300491   \n",
       "2  1635722                34.0     1.588245e+09     23.13  1635722_1588244947   \n",
       "3  2258383                 7.0     1.588056e+09      4.76  2258383_1588056130   \n",
       "4  2509356               139.0     1.589255e+09     94.56  2509356_1589255163   \n",
       "\n",
       "       user_threshold  \n",
       "0   220676_1588140319  \n",
       "1   326719_1589905291  \n",
       "2  1635722_1588849747  \n",
       "3  2258383_1588660930  \n",
       "4  2509356_1589859963  "
      ],
      "text/html": "<div>\n<style scoped>\n    .dataframe tbody tr th:only-of-type {\n        vertical-align: middle;\n    }\n\n    .dataframe tbody tr th {\n        vertical-align: top;\n    }\n\n    .dataframe thead th {\n        text-align: right;\n    }\n</style>\n<table border=\"1\" class=\"dataframe\">\n  <thead>\n    <tr style=\"text-align: right;\">\n      <th></th>\n      <th>user_id</th>\n      <th>total_tasks_solved</th>\n      <th>date_joined_utc</th>\n      <th>total, %</th>\n      <th>user_ts</th>\n      <th>user_threshold</th>\n    </tr>\n  </thead>\n  <tbody>\n    <tr>\n      <th>0</th>\n      <td>220676</td>\n      <td>10.0</td>\n      <td>1.587536e+09</td>\n      <td>6.80</td>\n      <td>220676_1587535519</td>\n      <td>220676_1588140319</td>\n    </tr>\n    <tr>\n      <th>1</th>\n      <td>326719</td>\n      <td>127.0</td>\n      <td>1.589300e+09</td>\n      <td>86.39</td>\n      <td>326719_1589300491</td>\n      <td>326719_1589905291</td>\n    </tr>\n    <tr>\n      <th>2</th>\n      <td>1635722</td>\n      <td>34.0</td>\n      <td>1.588245e+09</td>\n      <td>23.13</td>\n      <td>1635722_1588244947</td>\n      <td>1635722_1588849747</td>\n    </tr>\n    <tr>\n      <th>3</th>\n      <td>2258383</td>\n      <td>7.0</td>\n      <td>1.588056e+09</td>\n      <td>4.76</td>\n      <td>2258383_1588056130</td>\n      <td>2258383_1588660930</td>\n    </tr>\n    <tr>\n      <th>4</th>\n      <td>2509356</td>\n      <td>139.0</td>\n      <td>1.589255e+09</td>\n      <td>94.56</td>\n      <td>2509356_1589255163</td>\n      <td>2509356_1589859963</td>\n    </tr>\n  </tbody>\n</table>\n</div>"
     },
     "metadata": {},
     "execution_count": 47
    }
   ],
   "source": [
    "users_data.head()"
   ]
  },
  {
   "cell_type": "code",
   "execution_count": 48,
   "metadata": {},
   "outputs": [],
   "source": [
    "users_data['target'] = users_data['total, %'] >=50"
   ]
  },
  {
   "cell_type": "code",
   "execution_count": 49,
   "metadata": {},
   "outputs": [],
   "source": [
    "submissions1 = submissions1.merge(users_data[['user_id','user_ts', 'date_joined_utc', 'user_threshold']], on='user_id', how='inner')"
   ]
  },
  {
   "cell_type": "code",
   "execution_count": 50,
   "metadata": {},
   "outputs": [
    {
     "output_type": "execute_result",
     "data": {
      "text/plain": [
       "   submission_id  step_id    user_id last_name               first_name  \\\n",
       "0      199922314  1268657  220677450     \"ИРО\"  ГАУДПО Липецкой области   \n",
       "1      199922413  1268657  220677450     \"ИРО\"  ГАУДПО Липецкой области   \n",
       "2      199922493  1268657  220677450     \"ИРО\"  ГАУДПО Липецкой области   \n",
       "3      200412615  1265485  220677450     \"ИРО\"  ГАУДПО Липецкой области   \n",
       "4      200412749  1270620  220677450     \"ИРО\"  ГАУДПО Липецкой области   \n",
       "\n",
       "   attempt_time  submission_time   status               user_ts  \\\n",
       "0  1.587886e+09     1.587886e+09  correct  220677450_1587631044   \n",
       "1  1.587886e+09     1.587886e+09  correct  220677450_1587631044   \n",
       "2  1.587886e+09     1.587886e+09    wrong  220677450_1587631044   \n",
       "3  1.587959e+09     1.587959e+09  correct  220677450_1587631044   \n",
       "4  1.587959e+09     1.587959e+09  correct  220677450_1587631044   \n",
       "\n",
       "   date_joined_utc        user_threshold  \n",
       "0     1.587631e+09  220677450_1588235844  \n",
       "1     1.587631e+09  220677450_1588235844  \n",
       "2     1.587631e+09  220677450_1588235844  \n",
       "3     1.587631e+09  220677450_1588235844  \n",
       "4     1.587631e+09  220677450_1588235844  "
      ],
      "text/html": "<div>\n<style scoped>\n    .dataframe tbody tr th:only-of-type {\n        vertical-align: middle;\n    }\n\n    .dataframe tbody tr th {\n        vertical-align: top;\n    }\n\n    .dataframe thead th {\n        text-align: right;\n    }\n</style>\n<table border=\"1\" class=\"dataframe\">\n  <thead>\n    <tr style=\"text-align: right;\">\n      <th></th>\n      <th>submission_id</th>\n      <th>step_id</th>\n      <th>user_id</th>\n      <th>last_name</th>\n      <th>first_name</th>\n      <th>attempt_time</th>\n      <th>submission_time</th>\n      <th>status</th>\n      <th>user_ts</th>\n      <th>date_joined_utc</th>\n      <th>user_threshold</th>\n    </tr>\n  </thead>\n  <tbody>\n    <tr>\n      <th>0</th>\n      <td>199922314</td>\n      <td>1268657</td>\n      <td>220677450</td>\n      <td>\"ИРО\"</td>\n      <td>ГАУДПО Липецкой области</td>\n      <td>1.587886e+09</td>\n      <td>1.587886e+09</td>\n      <td>correct</td>\n      <td>220677450_1587631044</td>\n      <td>1.587631e+09</td>\n      <td>220677450_1588235844</td>\n    </tr>\n    <tr>\n      <th>1</th>\n      <td>199922413</td>\n      <td>1268657</td>\n      <td>220677450</td>\n      <td>\"ИРО\"</td>\n      <td>ГАУДПО Липецкой области</td>\n      <td>1.587886e+09</td>\n      <td>1.587886e+09</td>\n      <td>correct</td>\n      <td>220677450_1587631044</td>\n      <td>1.587631e+09</td>\n      <td>220677450_1588235844</td>\n    </tr>\n    <tr>\n      <th>2</th>\n      <td>199922493</td>\n      <td>1268657</td>\n      <td>220677450</td>\n      <td>\"ИРО\"</td>\n      <td>ГАУДПО Липецкой области</td>\n      <td>1.587886e+09</td>\n      <td>1.587886e+09</td>\n      <td>wrong</td>\n      <td>220677450_1587631044</td>\n      <td>1.587631e+09</td>\n      <td>220677450_1588235844</td>\n    </tr>\n    <tr>\n      <th>3</th>\n      <td>200412615</td>\n      <td>1265485</td>\n      <td>220677450</td>\n      <td>\"ИРО\"</td>\n      <td>ГАУДПО Липецкой области</td>\n      <td>1.587959e+09</td>\n      <td>1.587959e+09</td>\n      <td>correct</td>\n      <td>220677450_1587631044</td>\n      <td>1.587631e+09</td>\n      <td>220677450_1588235844</td>\n    </tr>\n    <tr>\n      <th>4</th>\n      <td>200412749</td>\n      <td>1270620</td>\n      <td>220677450</td>\n      <td>\"ИРО\"</td>\n      <td>ГАУДПО Липецкой области</td>\n      <td>1.587959e+09</td>\n      <td>1.587959e+09</td>\n      <td>correct</td>\n      <td>220677450_1587631044</td>\n      <td>1.587631e+09</td>\n      <td>220677450_1588235844</td>\n    </tr>\n  </tbody>\n</table>\n</div>"
     },
     "metadata": {},
     "execution_count": 50
    }
   ],
   "source": [
    "submissions1.head()"
   ]
  },
  {
   "cell_type": "code",
   "execution_count": 51,
   "metadata": {},
   "outputs": [],
   "source": [
    "submissions1=submissions1.fillna(0)"
   ]
  },
  {
   "cell_type": "code",
   "execution_count": 52,
   "metadata": {},
   "outputs": [],
   "source": [
    "submissions1['user_subm_time'] = submissions1['user_id'].apply(lambda x: str(x))+'_'+submissions1['submission_time'].apply(lambda x: str(int(x)))"
   ]
  },
  {
   "cell_type": "code",
   "execution_count": 53,
   "metadata": {},
   "outputs": [
    {
     "output_type": "execute_result",
     "data": {
      "text/plain": [
       "submission_id        int64\n",
       "step_id              int64\n",
       "user_id              int64\n",
       "last_name           object\n",
       "first_name          object\n",
       "attempt_time       float64\n",
       "submission_time    float64\n",
       "status              object\n",
       "user_ts             object\n",
       "date_joined_utc    float64\n",
       "user_threshold      object\n",
       "user_subm_time      object\n",
       "dtype: object"
      ]
     },
     "metadata": {},
     "execution_count": 53
    }
   ],
   "source": [
    "submissions1.dtypes"
   ]
  },
  {
   "cell_type": "code",
   "execution_count": 54,
   "metadata": {},
   "outputs": [],
   "source": [
    "for x in ['user_ts', 'user_threshold','user_subm_time']:\n",
    "    submissions1[x] = submissions1[x].apply(lambda x: str(x))"
   ]
  },
  {
   "cell_type": "code",
   "execution_count": 55,
   "metadata": {},
   "outputs": [],
   "source": [
    "submissions1 = submissions1.query('user_ts <= user_subm_time <= user_threshold')"
   ]
  },
  {
   "cell_type": "code",
   "execution_count": 56,
   "metadata": {},
   "outputs": [],
   "source": [
    "users_data=users_data.merge(submissions1.groupby('user_id').step_id.nunique().to_frame().rename(columns={'step_id':'steps_tried'}), on='user_id', how= 'inner')"
   ]
  },
  {
   "cell_type": "code",
   "execution_count": 57,
   "metadata": {},
   "outputs": [
    {
     "output_type": "execute_result",
     "data": {
      "text/plain": [
       "    user_id  total_tasks_solved  date_joined_utc  total, %  \\\n",
       "0    326719               127.0     1.589300e+09     86.39   \n",
       "1   1635722                34.0     1.588245e+09     23.13   \n",
       "2   2258383                 7.0     1.588056e+09      4.76   \n",
       "3   2509356               139.0     1.589255e+09     94.56   \n",
       "4  15412179               144.5     1.591518e+09     98.30   \n",
       "\n",
       "               user_ts       user_threshold  target  steps_tried  \n",
       "0    326719_1589300491    326719_1589905291    True          106  \n",
       "1   1635722_1588244947   1635722_1588849747   False           39  \n",
       "2   2258383_1588056130   2258383_1588660930   False            8  \n",
       "3   2509356_1589255163   2509356_1589859963    True           49  \n",
       "4  15412179_1591517785  15412179_1592122585    True          140  "
      ],
      "text/html": "<div>\n<style scoped>\n    .dataframe tbody tr th:only-of-type {\n        vertical-align: middle;\n    }\n\n    .dataframe tbody tr th {\n        vertical-align: top;\n    }\n\n    .dataframe thead th {\n        text-align: right;\n    }\n</style>\n<table border=\"1\" class=\"dataframe\">\n  <thead>\n    <tr style=\"text-align: right;\">\n      <th></th>\n      <th>user_id</th>\n      <th>total_tasks_solved</th>\n      <th>date_joined_utc</th>\n      <th>total, %</th>\n      <th>user_ts</th>\n      <th>user_threshold</th>\n      <th>target</th>\n      <th>steps_tried</th>\n    </tr>\n  </thead>\n  <tbody>\n    <tr>\n      <th>0</th>\n      <td>326719</td>\n      <td>127.0</td>\n      <td>1.589300e+09</td>\n      <td>86.39</td>\n      <td>326719_1589300491</td>\n      <td>326719_1589905291</td>\n      <td>True</td>\n      <td>106</td>\n    </tr>\n    <tr>\n      <th>1</th>\n      <td>1635722</td>\n      <td>34.0</td>\n      <td>1.588245e+09</td>\n      <td>23.13</td>\n      <td>1635722_1588244947</td>\n      <td>1635722_1588849747</td>\n      <td>False</td>\n      <td>39</td>\n    </tr>\n    <tr>\n      <th>2</th>\n      <td>2258383</td>\n      <td>7.0</td>\n      <td>1.588056e+09</td>\n      <td>4.76</td>\n      <td>2258383_1588056130</td>\n      <td>2258383_1588660930</td>\n      <td>False</td>\n      <td>8</td>\n    </tr>\n    <tr>\n      <th>3</th>\n      <td>2509356</td>\n      <td>139.0</td>\n      <td>1.589255e+09</td>\n      <td>94.56</td>\n      <td>2509356_1589255163</td>\n      <td>2509356_1589859963</td>\n      <td>True</td>\n      <td>49</td>\n    </tr>\n    <tr>\n      <th>4</th>\n      <td>15412179</td>\n      <td>144.5</td>\n      <td>1.591518e+09</td>\n      <td>98.30</td>\n      <td>15412179_1591517785</td>\n      <td>15412179_1592122585</td>\n      <td>True</td>\n      <td>140</td>\n    </tr>\n  </tbody>\n</table>\n</div>"
     },
     "metadata": {},
     "execution_count": 57
    }
   ],
   "source": [
    "users_data.head()"
   ]
  },
  {
   "cell_type": "code",
   "execution_count": 58,
   "metadata": {},
   "outputs": [
    {
     "output_type": "execute_result",
     "data": {
      "text/plain": [
       "status    user_id  correct  wrong\n",
       "0          326719      104     40\n",
       "1         1635722       34     17\n",
       "2         2258383        7      3\n",
       "3         2509356       47     14\n",
       "4        15412179      140     75\n",
       "..            ...      ...    ...\n",
       "776     251294630        7      0\n",
       "777     251664717      131    120\n",
       "778     252308518      136      5\n",
       "779     253108923        4      0\n",
       "780     263086182        7      0\n",
       "\n",
       "[781 rows x 3 columns]"
      ],
      "text/html": "<div>\n<style scoped>\n    .dataframe tbody tr th:only-of-type {\n        vertical-align: middle;\n    }\n\n    .dataframe tbody tr th {\n        vertical-align: top;\n    }\n\n    .dataframe thead th {\n        text-align: right;\n    }\n</style>\n<table border=\"1\" class=\"dataframe\">\n  <thead>\n    <tr style=\"text-align: right;\">\n      <th>status</th>\n      <th>user_id</th>\n      <th>correct</th>\n      <th>wrong</th>\n    </tr>\n  </thead>\n  <tbody>\n    <tr>\n      <th>0</th>\n      <td>326719</td>\n      <td>104</td>\n      <td>40</td>\n    </tr>\n    <tr>\n      <th>1</th>\n      <td>1635722</td>\n      <td>34</td>\n      <td>17</td>\n    </tr>\n    <tr>\n      <th>2</th>\n      <td>2258383</td>\n      <td>7</td>\n      <td>3</td>\n    </tr>\n    <tr>\n      <th>3</th>\n      <td>2509356</td>\n      <td>47</td>\n      <td>14</td>\n    </tr>\n    <tr>\n      <th>4</th>\n      <td>15412179</td>\n      <td>140</td>\n      <td>75</td>\n    </tr>\n    <tr>\n      <th>...</th>\n      <td>...</td>\n      <td>...</td>\n      <td>...</td>\n    </tr>\n    <tr>\n      <th>776</th>\n      <td>251294630</td>\n      <td>7</td>\n      <td>0</td>\n    </tr>\n    <tr>\n      <th>777</th>\n      <td>251664717</td>\n      <td>131</td>\n      <td>120</td>\n    </tr>\n    <tr>\n      <th>778</th>\n      <td>252308518</td>\n      <td>136</td>\n      <td>5</td>\n    </tr>\n    <tr>\n      <th>779</th>\n      <td>253108923</td>\n      <td>4</td>\n      <td>0</td>\n    </tr>\n    <tr>\n      <th>780</th>\n      <td>263086182</td>\n      <td>7</td>\n      <td>0</td>\n    </tr>\n  </tbody>\n</table>\n<p>781 rows × 3 columns</p>\n</div>"
     },
     "metadata": {},
     "execution_count": 58
    }
   ],
   "source": [
    "submissions1.pivot_table(index='user_id', columns='status', values='step_id', aggfunc='count', fill_value=0).reset_index()"
   ]
  },
  {
   "cell_type": "code",
   "execution_count": 59,
   "metadata": {},
   "outputs": [],
   "source": [
    "q = users_data"
   ]
  },
  {
   "cell_type": "code",
   "execution_count": 60,
   "metadata": {},
   "outputs": [],
   "source": [
    "q = q.merge(submissions1.pivot_table(index='user_id', columns='status', values='step_id', aggfunc='count', fill_value=0).reset_index()[['user_id', 'correct', 'wrong']], on='user_id', how='inner')"
   ]
  },
  {
   "cell_type": "code",
   "execution_count": 61,
   "metadata": {},
   "outputs": [
    {
     "output_type": "execute_result",
     "data": {
      "text/plain": [
       "    user_id  total_tasks_solved  date_joined_utc  total, %  \\\n",
       "0    326719               127.0     1.589300e+09     86.39   \n",
       "1   1635722                34.0     1.588245e+09     23.13   \n",
       "2   2258383                 7.0     1.588056e+09      4.76   \n",
       "3   2509356               139.0     1.589255e+09     94.56   \n",
       "4  15412179               144.5     1.591518e+09     98.30   \n",
       "\n",
       "               user_ts       user_threshold  target  steps_tried  correct  \\\n",
       "0    326719_1589300491    326719_1589905291    True          106      104   \n",
       "1   1635722_1588244947   1635722_1588849747   False           39       34   \n",
       "2   2258383_1588056130   2258383_1588660930   False            8        7   \n",
       "3   2509356_1589255163   2509356_1589859963    True           49       47   \n",
       "4  15412179_1591517785  15412179_1592122585    True          140      140   \n",
       "\n",
       "   wrong  \n",
       "0     40  \n",
       "1     17  \n",
       "2      3  \n",
       "3     14  \n",
       "4     75  "
      ],
      "text/html": "<div>\n<style scoped>\n    .dataframe tbody tr th:only-of-type {\n        vertical-align: middle;\n    }\n\n    .dataframe tbody tr th {\n        vertical-align: top;\n    }\n\n    .dataframe thead th {\n        text-align: right;\n    }\n</style>\n<table border=\"1\" class=\"dataframe\">\n  <thead>\n    <tr style=\"text-align: right;\">\n      <th></th>\n      <th>user_id</th>\n      <th>total_tasks_solved</th>\n      <th>date_joined_utc</th>\n      <th>total, %</th>\n      <th>user_ts</th>\n      <th>user_threshold</th>\n      <th>target</th>\n      <th>steps_tried</th>\n      <th>correct</th>\n      <th>wrong</th>\n    </tr>\n  </thead>\n  <tbody>\n    <tr>\n      <th>0</th>\n      <td>326719</td>\n      <td>127.0</td>\n      <td>1.589300e+09</td>\n      <td>86.39</td>\n      <td>326719_1589300491</td>\n      <td>326719_1589905291</td>\n      <td>True</td>\n      <td>106</td>\n      <td>104</td>\n      <td>40</td>\n    </tr>\n    <tr>\n      <th>1</th>\n      <td>1635722</td>\n      <td>34.0</td>\n      <td>1.588245e+09</td>\n      <td>23.13</td>\n      <td>1635722_1588244947</td>\n      <td>1635722_1588849747</td>\n      <td>False</td>\n      <td>39</td>\n      <td>34</td>\n      <td>17</td>\n    </tr>\n    <tr>\n      <th>2</th>\n      <td>2258383</td>\n      <td>7.0</td>\n      <td>1.588056e+09</td>\n      <td>4.76</td>\n      <td>2258383_1588056130</td>\n      <td>2258383_1588660930</td>\n      <td>False</td>\n      <td>8</td>\n      <td>7</td>\n      <td>3</td>\n    </tr>\n    <tr>\n      <th>3</th>\n      <td>2509356</td>\n      <td>139.0</td>\n      <td>1.589255e+09</td>\n      <td>94.56</td>\n      <td>2509356_1589255163</td>\n      <td>2509356_1589859963</td>\n      <td>True</td>\n      <td>49</td>\n      <td>47</td>\n      <td>14</td>\n    </tr>\n    <tr>\n      <th>4</th>\n      <td>15412179</td>\n      <td>144.5</td>\n      <td>1.591518e+09</td>\n      <td>98.30</td>\n      <td>15412179_1591517785</td>\n      <td>15412179_1592122585</td>\n      <td>True</td>\n      <td>140</td>\n      <td>140</td>\n      <td>75</td>\n    </tr>\n  </tbody>\n</table>\n</div>"
     },
     "metadata": {},
     "execution_count": 61
    }
   ],
   "source": [
    "q.head()"
   ]
  },
  {
   "cell_type": "code",
   "execution_count": 62,
   "metadata": {},
   "outputs": [],
   "source": [
    "users_data = q.rename(columns={'total_tasks_solved': 'total_points_got'})"
   ]
  },
  {
   "cell_type": "code",
   "execution_count": 63,
   "metadata": {},
   "outputs": [
    {
     "output_type": "execute_result",
     "data": {
      "text/plain": [
       "    user_id  total_points_got  date_joined_utc  total, %              user_ts  \\\n",
       "0    326719             127.0     1.589300e+09     86.39    326719_1589300491   \n",
       "1   1635722              34.0     1.588245e+09     23.13   1635722_1588244947   \n",
       "2   2258383               7.0     1.588056e+09      4.76   2258383_1588056130   \n",
       "3   2509356             139.0     1.589255e+09     94.56   2509356_1589255163   \n",
       "4  15412179             144.5     1.591518e+09     98.30  15412179_1591517785   \n",
       "\n",
       "        user_threshold  target  steps_tried  correct  wrong  \n",
       "0    326719_1589905291    True          106      104     40  \n",
       "1   1635722_1588849747   False           39       34     17  \n",
       "2   2258383_1588660930   False            8        7      3  \n",
       "3   2509356_1589859963    True           49       47     14  \n",
       "4  15412179_1592122585    True          140      140     75  "
      ],
      "text/html": "<div>\n<style scoped>\n    .dataframe tbody tr th:only-of-type {\n        vertical-align: middle;\n    }\n\n    .dataframe tbody tr th {\n        vertical-align: top;\n    }\n\n    .dataframe thead th {\n        text-align: right;\n    }\n</style>\n<table border=\"1\" class=\"dataframe\">\n  <thead>\n    <tr style=\"text-align: right;\">\n      <th></th>\n      <th>user_id</th>\n      <th>total_points_got</th>\n      <th>date_joined_utc</th>\n      <th>total, %</th>\n      <th>user_ts</th>\n      <th>user_threshold</th>\n      <th>target</th>\n      <th>steps_tried</th>\n      <th>correct</th>\n      <th>wrong</th>\n    </tr>\n  </thead>\n  <tbody>\n    <tr>\n      <th>0</th>\n      <td>326719</td>\n      <td>127.0</td>\n      <td>1.589300e+09</td>\n      <td>86.39</td>\n      <td>326719_1589300491</td>\n      <td>326719_1589905291</td>\n      <td>True</td>\n      <td>106</td>\n      <td>104</td>\n      <td>40</td>\n    </tr>\n    <tr>\n      <th>1</th>\n      <td>1635722</td>\n      <td>34.0</td>\n      <td>1.588245e+09</td>\n      <td>23.13</td>\n      <td>1635722_1588244947</td>\n      <td>1635722_1588849747</td>\n      <td>False</td>\n      <td>39</td>\n      <td>34</td>\n      <td>17</td>\n    </tr>\n    <tr>\n      <th>2</th>\n      <td>2258383</td>\n      <td>7.0</td>\n      <td>1.588056e+09</td>\n      <td>4.76</td>\n      <td>2258383_1588056130</td>\n      <td>2258383_1588660930</td>\n      <td>False</td>\n      <td>8</td>\n      <td>7</td>\n      <td>3</td>\n    </tr>\n    <tr>\n      <th>3</th>\n      <td>2509356</td>\n      <td>139.0</td>\n      <td>1.589255e+09</td>\n      <td>94.56</td>\n      <td>2509356_1589255163</td>\n      <td>2509356_1589859963</td>\n      <td>True</td>\n      <td>49</td>\n      <td>47</td>\n      <td>14</td>\n    </tr>\n    <tr>\n      <th>4</th>\n      <td>15412179</td>\n      <td>144.5</td>\n      <td>1.591518e+09</td>\n      <td>98.30</td>\n      <td>15412179_1591517785</td>\n      <td>15412179_1592122585</td>\n      <td>True</td>\n      <td>140</td>\n      <td>140</td>\n      <td>75</td>\n    </tr>\n  </tbody>\n</table>\n</div>"
     },
     "metadata": {},
     "execution_count": 63
    }
   ],
   "source": [
    "users_data.head()"
   ]
  },
  {
   "cell_type": "code",
   "execution_count": 64,
   "metadata": {},
   "outputs": [],
   "source": [
    "users_data = users_data.drop(['total_points_got', 'date_joined_utc','user_ts', 'user_threshold'], axis=1)"
   ]
  },
  {
   "cell_type": "code",
   "execution_count": 65,
   "metadata": {},
   "outputs": [],
   "source": [
    "comments = pd.read_csv(r'..\\data\\CSV\\comments.csv', sep=';')"
   ]
  },
  {
   "cell_type": "code",
   "execution_count": 66,
   "metadata": {},
   "outputs": [
    {
     "output_type": "execute_result",
     "data": {
      "text/plain": [
       "   comment_id    user_id             last_name               first_name  \\\n",
       "0     1643137  223399185               Рузиева                   Марина   \n",
       "1     1644830  223324773  Вячеславовна Китаева                    Ирина   \n",
       "2     1647288  220677450                 \"ИРО\"  ГАУДПО Липецкой области   \n",
       "3     1647333  224029222      Николаевна Белых                    Ольга   \n",
       "4     1647340  224047062            Позднякова                   Лариса   \n",
       "\n",
       "   step_id  parent_comment_id    time_utc deleted  \n",
       "0  1258951                  0  1587996722    ЛОЖЬ  \n",
       "1  1270897                  0  1588020649    ЛОЖЬ  \n",
       "2  1258951            1643137  1588075572  ИСТИНА  \n",
       "3  1268657                  0  1588075975  ИСТИНА  \n",
       "4  1270990                  0  1588076049    ЛОЖЬ  "
      ],
      "text/html": "<div>\n<style scoped>\n    .dataframe tbody tr th:only-of-type {\n        vertical-align: middle;\n    }\n\n    .dataframe tbody tr th {\n        vertical-align: top;\n    }\n\n    .dataframe thead th {\n        text-align: right;\n    }\n</style>\n<table border=\"1\" class=\"dataframe\">\n  <thead>\n    <tr style=\"text-align: right;\">\n      <th></th>\n      <th>comment_id</th>\n      <th>user_id</th>\n      <th>last_name</th>\n      <th>first_name</th>\n      <th>step_id</th>\n      <th>parent_comment_id</th>\n      <th>time_utc</th>\n      <th>deleted</th>\n    </tr>\n  </thead>\n  <tbody>\n    <tr>\n      <th>0</th>\n      <td>1643137</td>\n      <td>223399185</td>\n      <td>Рузиева</td>\n      <td>Марина</td>\n      <td>1258951</td>\n      <td>0</td>\n      <td>1587996722</td>\n      <td>ЛОЖЬ</td>\n    </tr>\n    <tr>\n      <th>1</th>\n      <td>1644830</td>\n      <td>223324773</td>\n      <td>Вячеславовна Китаева</td>\n      <td>Ирина</td>\n      <td>1270897</td>\n      <td>0</td>\n      <td>1588020649</td>\n      <td>ЛОЖЬ</td>\n    </tr>\n    <tr>\n      <th>2</th>\n      <td>1647288</td>\n      <td>220677450</td>\n      <td>\"ИРО\"</td>\n      <td>ГАУДПО Липецкой области</td>\n      <td>1258951</td>\n      <td>1643137</td>\n      <td>1588075572</td>\n      <td>ИСТИНА</td>\n    </tr>\n    <tr>\n      <th>3</th>\n      <td>1647333</td>\n      <td>224029222</td>\n      <td>Николаевна Белых</td>\n      <td>Ольга</td>\n      <td>1268657</td>\n      <td>0</td>\n      <td>1588075975</td>\n      <td>ИСТИНА</td>\n    </tr>\n    <tr>\n      <th>4</th>\n      <td>1647340</td>\n      <td>224047062</td>\n      <td>Позднякова</td>\n      <td>Лариса</td>\n      <td>1270990</td>\n      <td>0</td>\n      <td>1588076049</td>\n      <td>ЛОЖЬ</td>\n    </tr>\n  </tbody>\n</table>\n</div>"
     },
     "metadata": {},
     "execution_count": 66
    }
   ],
   "source": [
    "comments.head()"
   ]
  },
  {
   "source": [
    "a = comments.groupby('user_id').agg({'comment_id':'nunique'}).rename(columns={'comment_id':'comments'}).sort_index()"
   ],
   "cell_type": "code",
   "metadata": {},
   "execution_count": 67,
   "outputs": []
  },
  {
   "cell_type": "code",
   "execution_count": 68,
   "metadata": {},
   "outputs": [
    {
     "output_type": "execute_result",
     "data": {
      "text/plain": [
       "           comments\n",
       "user_id            \n",
       "2509356           4\n",
       "21119312          4\n",
       "36382609          3\n",
       "60348880          8\n",
       "87284402          5\n",
       "...             ...\n",
       "248377729         1\n",
       "250206239         2\n",
       "250394844         1\n",
       "250599774         1\n",
       "250838768         1\n",
       "\n",
       "[125 rows x 1 columns]"
      ],
      "text/html": "<div>\n<style scoped>\n    .dataframe tbody tr th:only-of-type {\n        vertical-align: middle;\n    }\n\n    .dataframe tbody tr th {\n        vertical-align: top;\n    }\n\n    .dataframe thead th {\n        text-align: right;\n    }\n</style>\n<table border=\"1\" class=\"dataframe\">\n  <thead>\n    <tr style=\"text-align: right;\">\n      <th></th>\n      <th>comments</th>\n    </tr>\n    <tr>\n      <th>user_id</th>\n      <th></th>\n    </tr>\n  </thead>\n  <tbody>\n    <tr>\n      <th>2509356</th>\n      <td>4</td>\n    </tr>\n    <tr>\n      <th>21119312</th>\n      <td>4</td>\n    </tr>\n    <tr>\n      <th>36382609</th>\n      <td>3</td>\n    </tr>\n    <tr>\n      <th>60348880</th>\n      <td>8</td>\n    </tr>\n    <tr>\n      <th>87284402</th>\n      <td>5</td>\n    </tr>\n    <tr>\n      <th>...</th>\n      <td>...</td>\n    </tr>\n    <tr>\n      <th>248377729</th>\n      <td>1</td>\n    </tr>\n    <tr>\n      <th>250206239</th>\n      <td>2</td>\n    </tr>\n    <tr>\n      <th>250394844</th>\n      <td>1</td>\n    </tr>\n    <tr>\n      <th>250599774</th>\n      <td>1</td>\n    </tr>\n    <tr>\n      <th>250838768</th>\n      <td>1</td>\n    </tr>\n  </tbody>\n</table>\n<p>125 rows × 1 columns</p>\n</div>"
     },
     "metadata": {},
     "execution_count": 68
    }
   ],
   "source": [
    "a"
   ]
  },
  {
   "cell_type": "code",
   "execution_count": 69,
   "metadata": {},
   "outputs": [],
   "source": [
    "users_data2 = users_data.merge(a, on='user_id', how= 'inner')"
   ]
  },
  {
   "cell_type": "code",
   "execution_count": 70,
   "metadata": {},
   "outputs": [
    {
     "output_type": "execute_result",
     "data": {
      "text/plain": [
       "       user_id  total, %  target  steps_tried  correct  wrong  comments\n",
       "113  248377729     38.10   False           59       56     34         1\n",
       "114  250206239      4.76   False            9        7      6         2\n",
       "115  250394844     38.10   False           42       42      7         1\n",
       "116  250599774     33.33   False           53       50     32         1\n",
       "117  250838768     97.28    True          139      139     99         1"
      ],
      "text/html": "<div>\n<style scoped>\n    .dataframe tbody tr th:only-of-type {\n        vertical-align: middle;\n    }\n\n    .dataframe tbody tr th {\n        vertical-align: top;\n    }\n\n    .dataframe thead th {\n        text-align: right;\n    }\n</style>\n<table border=\"1\" class=\"dataframe\">\n  <thead>\n    <tr style=\"text-align: right;\">\n      <th></th>\n      <th>user_id</th>\n      <th>total, %</th>\n      <th>target</th>\n      <th>steps_tried</th>\n      <th>correct</th>\n      <th>wrong</th>\n      <th>comments</th>\n    </tr>\n  </thead>\n  <tbody>\n    <tr>\n      <th>113</th>\n      <td>248377729</td>\n      <td>38.10</td>\n      <td>False</td>\n      <td>59</td>\n      <td>56</td>\n      <td>34</td>\n      <td>1</td>\n    </tr>\n    <tr>\n      <th>114</th>\n      <td>250206239</td>\n      <td>4.76</td>\n      <td>False</td>\n      <td>9</td>\n      <td>7</td>\n      <td>6</td>\n      <td>2</td>\n    </tr>\n    <tr>\n      <th>115</th>\n      <td>250394844</td>\n      <td>38.10</td>\n      <td>False</td>\n      <td>42</td>\n      <td>42</td>\n      <td>7</td>\n      <td>1</td>\n    </tr>\n    <tr>\n      <th>116</th>\n      <td>250599774</td>\n      <td>33.33</td>\n      <td>False</td>\n      <td>53</td>\n      <td>50</td>\n      <td>32</td>\n      <td>1</td>\n    </tr>\n    <tr>\n      <th>117</th>\n      <td>250838768</td>\n      <td>97.28</td>\n      <td>True</td>\n      <td>139</td>\n      <td>139</td>\n      <td>99</td>\n      <td>1</td>\n    </tr>\n  </tbody>\n</table>\n</div>"
     },
     "metadata": {},
     "execution_count": 70
    }
   ],
   "source": [
    "users_data2.tail()"
   ]
  },
  {
   "cell_type": "code",
   "execution_count": 71,
   "metadata": {},
   "outputs": [],
   "source": [
    "users_data=users_data.set_index('user_id')\n",
    "users_data2=users_data2.set_index('user_id')"
   ]
  },
  {
   "cell_type": "code",
   "execution_count": 72,
   "metadata": {},
   "outputs": [],
   "source": [
    "save = open(r'..\\data\\preprocessed\\users-data.csv', 'w')\n",
    "save.write(users_data.to_csv())\n",
    "save.close()\n",
    "save = open(r'..\\data\\preprocessed\\users-data2.csv', 'w')\n",
    "save.write(users_data2.to_csv())\n",
    "save.close()"
   ]
  },
  {
   "source": [
    "### The post-analysis\n",
    "What did we actually use?\n",
    "\n",
    "grade book, users' submissions and their comments in one variant of the final dataset.\n",
    "\n",
    "Let's tutor our machine!"
   ],
   "cell_type": "markdown",
   "metadata": {}
  },
  {
   "source": [
    "## The Machine Learning"
   ],
   "cell_type": "markdown",
   "metadata": {}
  },
  {
   "source": [
    "### Preparation"
   ],
   "cell_type": "markdown",
   "metadata": {}
  },
  {
   "source": [
    "#### Fitter preparation"
   ],
   "cell_type": "markdown",
   "metadata": {}
  },
  {
   "cell_type": "code",
   "execution_count": 73,
   "metadata": {},
   "outputs": [],
   "source": [
    "X, y = users_data.drop(['target'], axis=1), users_data['target']\n",
    "X2, y2 = users_data2.drop(['target'], axis=1), users_data2['target']"
   ]
  },
  {
   "source": [
    "#### `train_test_split`"
   ],
   "cell_type": "markdown",
   "metadata": {}
  },
  {
   "cell_type": "code",
   "execution_count": 74,
   "metadata": {},
   "outputs": [],
   "source": [
    "X_train, X_test, y_train, y_test = train_test_split(X, y, test_size=0.1)\n",
    "X_train2, X_test2, y_train2, y_test2 = train_test_split(X2, y2, test_size=0.1)"
   ]
  },
  {
   "source": [
    "### The very machine learning"
   ],
   "cell_type": "markdown",
   "metadata": {}
  },
  {
   "cell_type": "code",
   "execution_count": 75,
   "metadata": {},
   "outputs": [],
   "source": [
    "model = RandomForestClassifier()"
   ]
  },
  {
   "cell_type": "code",
   "execution_count": 76,
   "metadata": {},
   "outputs": [],
   "source": [
    "gscv_1 = GridSearchCV(model, param_grid = {'n_estimators':range(0, 500), 'criterion':['gini', 'entropy']}, n_jobs=-1, verbose=10)\n",
    "gscv_2 = GridSearchCV(model, param_grid = {'n_estimators':range(0, 500), 'criterion':['gini', 'entropy']}, n_jobs=-1, verbose=10)"
   ]
  },
  {
   "cell_type": "code",
   "execution_count": 77,
   "metadata": {},
   "outputs": [
    {
     "output_type": "stream",
     "name": "stdout",
     "text": [
      "Fitting 5 folds for each of 1000 candidates, totalling 5000 fits\n",
      "[Parallel(n_jobs=-1)]: Using backend LokyBackend with 6 concurrent workers.\n",
      "[Parallel(n_jobs=-1)]: Done   1 tasks      | elapsed:    3.0s\n",
      "[Parallel(n_jobs=-1)]: Done   6 tasks      | elapsed:    3.1s\n",
      "[Parallel(n_jobs=-1)]: Done  13 tasks      | elapsed:    3.2s\n",
      "[Parallel(n_jobs=-1)]: Done  20 tasks      | elapsed:    3.2s\n",
      "[Parallel(n_jobs=-1)]: Batch computation too fast (0.1759s.) Setting batch_size=2.\n",
      "[Parallel(n_jobs=-1)]: Done  29 tasks      | elapsed:    3.3s\n",
      "[Parallel(n_jobs=-1)]: Batch computation too fast (0.1011s.) Setting batch_size=4.\n",
      "[Parallel(n_jobs=-1)]: Done  43 tasks      | elapsed:    3.5s\n",
      "[Parallel(n_jobs=-1)]: Done  67 tasks      | elapsed:    3.8s\n",
      "[Parallel(n_jobs=-1)]: Done 108 tasks      | elapsed:    4.2s\n",
      "[Parallel(n_jobs=-1)]: Done 160 tasks      | elapsed:    4.9s\n",
      "[Parallel(n_jobs=-1)]: Done 212 tasks      | elapsed:    5.9s\n",
      "[Parallel(n_jobs=-1)]: Done 272 tasks      | elapsed:    7.3s\n",
      "[Parallel(n_jobs=-1)]: Done 332 tasks      | elapsed:    8.9s\n",
      "[Parallel(n_jobs=-1)]: Done 400 tasks      | elapsed:   11.0s\n",
      "[Parallel(n_jobs=-1)]: Done 468 tasks      | elapsed:   13.4s\n",
      "[Parallel(n_jobs=-1)]: Batch computation too slow (2.0709s.) Setting batch_size=1.\n",
      "[Parallel(n_jobs=-1)]: Done 544 tasks      | elapsed:   16.8s\n",
      "[Parallel(n_jobs=-1)]: Done 578 tasks      | elapsed:   18.2s\n",
      "[Parallel(n_jobs=-1)]: Done 599 tasks      | elapsed:   19.3s\n",
      "[Parallel(n_jobs=-1)]: Done 620 tasks      | elapsed:   20.4s\n",
      "[Parallel(n_jobs=-1)]: Done 643 tasks      | elapsed:   21.7s\n",
      "[Parallel(n_jobs=-1)]: Done 666 tasks      | elapsed:   23.1s\n",
      "[Parallel(n_jobs=-1)]: Done 691 tasks      | elapsed:   24.8s\n",
      "[Parallel(n_jobs=-1)]: Done 716 tasks      | elapsed:   26.2s\n",
      "[Parallel(n_jobs=-1)]: Done 743 tasks      | elapsed:   28.3s\n",
      "[Parallel(n_jobs=-1)]: Done 770 tasks      | elapsed:   30.7s\n",
      "[Parallel(n_jobs=-1)]: Done 799 tasks      | elapsed:   32.8s\n",
      "[Parallel(n_jobs=-1)]: Done 828 tasks      | elapsed:   34.9s\n",
      "[Parallel(n_jobs=-1)]: Done 859 tasks      | elapsed:   37.0s\n",
      "[Parallel(n_jobs=-1)]: Done 890 tasks      | elapsed:   39.2s\n",
      "[Parallel(n_jobs=-1)]: Done 923 tasks      | elapsed:   41.7s\n",
      "[Parallel(n_jobs=-1)]: Done 956 tasks      | elapsed:   44.1s\n",
      "[Parallel(n_jobs=-1)]: Done 991 tasks      | elapsed:   46.7s\n",
      "[Parallel(n_jobs=-1)]: Done 1026 tasks      | elapsed:   49.4s\n",
      "[Parallel(n_jobs=-1)]: Done 1063 tasks      | elapsed:   52.8s\n",
      "[Parallel(n_jobs=-1)]: Done 1100 tasks      | elapsed:   56.5s\n",
      "[Parallel(n_jobs=-1)]: Done 1139 tasks      | elapsed:  1.0min\n",
      "[Parallel(n_jobs=-1)]: Done 1178 tasks      | elapsed:  1.1min\n",
      "[Parallel(n_jobs=-1)]: Done 1219 tasks      | elapsed:  1.1min\n",
      "[Parallel(n_jobs=-1)]: Done 1260 tasks      | elapsed:  1.2min\n",
      "[Parallel(n_jobs=-1)]: Done 1303 tasks      | elapsed:  1.3min\n",
      "[Parallel(n_jobs=-1)]: Done 1346 tasks      | elapsed:  1.3min\n",
      "[Parallel(n_jobs=-1)]: Done 1391 tasks      | elapsed:  1.4min\n",
      "[Parallel(n_jobs=-1)]: Done 1436 tasks      | elapsed:  1.5min\n",
      "[Parallel(n_jobs=-1)]: Done 1483 tasks      | elapsed:  1.6min\n",
      "[Parallel(n_jobs=-1)]: Done 1530 tasks      | elapsed:  1.7min\n",
      "[Parallel(n_jobs=-1)]: Done 1579 tasks      | elapsed:  1.8min\n",
      "[Parallel(n_jobs=-1)]: Done 1628 tasks      | elapsed:  1.9min\n",
      "[Parallel(n_jobs=-1)]: Done 1679 tasks      | elapsed:  2.0min\n",
      "[Parallel(n_jobs=-1)]: Done 1730 tasks      | elapsed:  2.1min\n",
      "[Parallel(n_jobs=-1)]: Done 1783 tasks      | elapsed:  2.2min\n",
      "[Parallel(n_jobs=-1)]: Done 1836 tasks      | elapsed:  2.4min\n",
      "[Parallel(n_jobs=-1)]: Done 1891 tasks      | elapsed:  2.5min\n",
      "[Parallel(n_jobs=-1)]: Done 1946 tasks      | elapsed:  2.6min\n",
      "[Parallel(n_jobs=-1)]: Done 2003 tasks      | elapsed:  2.8min\n",
      "[Parallel(n_jobs=-1)]: Done 2060 tasks      | elapsed:  2.9min\n",
      "[Parallel(n_jobs=-1)]: Done 2119 tasks      | elapsed:  3.1min\n",
      "[Parallel(n_jobs=-1)]: Done 2178 tasks      | elapsed:  3.2min\n",
      "[Parallel(n_jobs=-1)]: Done 2239 tasks      | elapsed:  3.4min\n",
      "[Parallel(n_jobs=-1)]: Done 2300 tasks      | elapsed:  3.6min\n",
      "[Parallel(n_jobs=-1)]: Done 2363 tasks      | elapsed:  3.8min\n",
      "[Parallel(n_jobs=-1)]: Done 2426 tasks      | elapsed:  4.0min\n",
      "[Parallel(n_jobs=-1)]: Done 2491 tasks      | elapsed:  4.2min\n",
      "[Parallel(n_jobs=-1)]: Batch computation too fast (0.1963s.) Setting batch_size=2.\n",
      "[Parallel(n_jobs=-1)]: Batch computation too fast (0.1248s.) Setting batch_size=4.\n",
      "[Parallel(n_jobs=-1)]: Done 2622 tasks      | elapsed:  4.2min\n",
      "[Parallel(n_jobs=-1)]: Done 2890 tasks      | elapsed:  4.4min\n",
      "[Parallel(n_jobs=-1)]: Batch computation too slow (2.0173s.) Setting batch_size=1.\n",
      "[Parallel(n_jobs=-1)]: Done 3062 tasks      | elapsed:  4.5min\n",
      "[Parallel(n_jobs=-1)]: Done 3131 tasks      | elapsed:  4.5min\n",
      "[Parallel(n_jobs=-1)]: Done 3200 tasks      | elapsed:  4.6min\n",
      "[Parallel(n_jobs=-1)]: Done 3271 tasks      | elapsed:  4.7min\n",
      "[Parallel(n_jobs=-1)]: Done 3342 tasks      | elapsed:  4.8min\n",
      "[Parallel(n_jobs=-1)]: Done 3415 tasks      | elapsed:  4.8min\n",
      "[Parallel(n_jobs=-1)]: Done 3488 tasks      | elapsed:  4.9min\n",
      "[Parallel(n_jobs=-1)]: Done 3563 tasks      | elapsed:  5.1min\n",
      "[Parallel(n_jobs=-1)]: Done 3638 tasks      | elapsed:  5.2min\n",
      "[Parallel(n_jobs=-1)]: Done 3715 tasks      | elapsed:  5.3min\n",
      "[Parallel(n_jobs=-1)]: Done 3792 tasks      | elapsed:  5.4min\n",
      "[Parallel(n_jobs=-1)]: Done 3871 tasks      | elapsed:  5.6min\n",
      "[Parallel(n_jobs=-1)]: Done 3950 tasks      | elapsed:  5.7min\n",
      "[Parallel(n_jobs=-1)]: Done 4031 tasks      | elapsed:  5.9min\n",
      "[Parallel(n_jobs=-1)]: Done 4112 tasks      | elapsed:  6.0min\n",
      "[Parallel(n_jobs=-1)]: Done 4195 tasks      | elapsed:  6.2min\n",
      "[Parallel(n_jobs=-1)]: Done 4278 tasks      | elapsed:  6.4min\n",
      "[Parallel(n_jobs=-1)]: Done 4363 tasks      | elapsed:  6.6min\n",
      "[Parallel(n_jobs=-1)]: Done 4448 tasks      | elapsed:  6.8min\n",
      "[Parallel(n_jobs=-1)]: Done 4535 tasks      | elapsed:  7.0min\n",
      "[Parallel(n_jobs=-1)]: Done 4622 tasks      | elapsed:  7.3min\n",
      "[Parallel(n_jobs=-1)]: Done 4711 tasks      | elapsed:  7.5min\n",
      "[Parallel(n_jobs=-1)]: Done 4800 tasks      | elapsed:  7.8min\n",
      "[Parallel(n_jobs=-1)]: Done 4891 tasks      | elapsed:  8.0min\n",
      "[Parallel(n_jobs=-1)]: Done 4982 tasks      | elapsed:  8.3min\n",
      "[Parallel(n_jobs=-1)]: Done 5000 out of 5000 | elapsed:  8.4min finished\n"
     ]
    },
    {
     "output_type": "execute_result",
     "data": {
      "text/plain": [
       "GridSearchCV(estimator=RandomForestClassifier(), n_jobs=-1,\n",
       "             param_grid={'criterion': ['gini', 'entropy'],\n",
       "                         'n_estimators': range(0, 500)},\n",
       "             verbose=10)"
      ]
     },
     "metadata": {},
     "execution_count": 77
    }
   ],
   "source": [
    "gscv_1.fit(X_train, y_train)"
   ]
  },
  {
   "cell_type": "code",
   "execution_count": 78,
   "metadata": {},
   "outputs": [
    {
     "output_type": "execute_result",
     "data": {
      "text/plain": [
       "{'criterion': 'gini', 'n_estimators': 3}"
      ]
     },
     "metadata": {},
     "execution_count": 78
    }
   ],
   "source": [
    "gscv_1.best_params_"
   ]
  },
  {
   "cell_type": "code",
   "execution_count": 79,
   "metadata": {},
   "outputs": [
    {
     "output_type": "stream",
     "name": "stdout",
     "text": [
      "Fitting 5 folds for each of 1000 candidates, totalling 5000 fits\n",
      "[Parallel(n_jobs=-1)]: Using backend LokyBackend with 6 concurrent workers.\n",
      "[Parallel(n_jobs=-1)]: Done   1 tasks      | elapsed:    0.0s\n",
      "[Parallel(n_jobs=-1)]: Batch computation too fast (0.0171s.) Setting batch_size=2.\n",
      "[Parallel(n_jobs=-1)]: Done   6 tasks      | elapsed:    0.0s\n",
      "[Parallel(n_jobs=-1)]: Done  14 tasks      | elapsed:    0.0s\n",
      "[Parallel(n_jobs=-1)]: Batch computation too fast (0.0579s.) Setting batch_size=4.\n",
      "[Parallel(n_jobs=-1)]: Done  28 tasks      | elapsed:    0.0s\n",
      "[Parallel(n_jobs=-1)]: Batch computation too fast (0.1610s.) Setting batch_size=8.\n",
      "[Parallel(n_jobs=-1)]: Done  56 tasks      | elapsed:    0.3s\n",
      "[Parallel(n_jobs=-1)]: Done 100 tasks      | elapsed:    0.8s\n",
      "[Parallel(n_jobs=-1)]: Done 188 tasks      | elapsed:    2.0s\n",
      "[Parallel(n_jobs=-1)]: Done 276 tasks      | elapsed:    4.0s\n",
      "[Parallel(n_jobs=-1)]: Batch computation too slow (2.0052s.) Setting batch_size=1.\n",
      "[Parallel(n_jobs=-1)]: Done 380 tasks      | elapsed:    6.7s\n",
      "[Parallel(n_jobs=-1)]: Done 407 tasks      | elapsed:    7.7s\n",
      "[Parallel(n_jobs=-1)]: Done 443 tasks      | elapsed:    8.3s\n",
      "[Parallel(n_jobs=-1)]: Done 458 tasks      | elapsed:    8.8s\n",
      "[Parallel(n_jobs=-1)]: Done 475 tasks      | elapsed:    9.4s\n",
      "[Parallel(n_jobs=-1)]: Done 492 tasks      | elapsed:   10.1s\n",
      "[Parallel(n_jobs=-1)]: Done 511 tasks      | elapsed:   10.8s\n",
      "[Parallel(n_jobs=-1)]: Done 530 tasks      | elapsed:   11.5s\n",
      "[Parallel(n_jobs=-1)]: Done 551 tasks      | elapsed:   12.4s\n",
      "[Parallel(n_jobs=-1)]: Done 572 tasks      | elapsed:   13.3s\n",
      "[Parallel(n_jobs=-1)]: Done 595 tasks      | elapsed:   14.3s\n",
      "[Parallel(n_jobs=-1)]: Done 618 tasks      | elapsed:   15.4s\n",
      "[Parallel(n_jobs=-1)]: Done 643 tasks      | elapsed:   16.6s\n",
      "[Parallel(n_jobs=-1)]: Done 668 tasks      | elapsed:   17.7s\n",
      "[Parallel(n_jobs=-1)]: Done 695 tasks      | elapsed:   19.1s\n",
      "[Parallel(n_jobs=-1)]: Done 722 tasks      | elapsed:   20.5s\n",
      "[Parallel(n_jobs=-1)]: Done 751 tasks      | elapsed:   22.0s\n",
      "[Parallel(n_jobs=-1)]: Done 780 tasks      | elapsed:   23.7s\n",
      "[Parallel(n_jobs=-1)]: Done 811 tasks      | elapsed:   25.4s\n",
      "[Parallel(n_jobs=-1)]: Done 842 tasks      | elapsed:   27.3s\n",
      "[Parallel(n_jobs=-1)]: Done 875 tasks      | elapsed:   29.4s\n",
      "[Parallel(n_jobs=-1)]: Done 908 tasks      | elapsed:   31.5s\n",
      "[Parallel(n_jobs=-1)]: Done 943 tasks      | elapsed:   33.8s\n",
      "[Parallel(n_jobs=-1)]: Done 978 tasks      | elapsed:   36.1s\n",
      "[Parallel(n_jobs=-1)]: Done 1015 tasks      | elapsed:   38.8s\n",
      "[Parallel(n_jobs=-1)]: Done 1052 tasks      | elapsed:   41.6s\n",
      "[Parallel(n_jobs=-1)]: Done 1091 tasks      | elapsed:   44.5s\n",
      "[Parallel(n_jobs=-1)]: Done 1130 tasks      | elapsed:   47.6s\n",
      "[Parallel(n_jobs=-1)]: Done 1171 tasks      | elapsed:   50.9s\n",
      "[Parallel(n_jobs=-1)]: Done 1212 tasks      | elapsed:   54.4s\n",
      "[Parallel(n_jobs=-1)]: Done 1255 tasks      | elapsed:   58.1s\n",
      "[Parallel(n_jobs=-1)]: Done 1298 tasks      | elapsed:  1.0min\n",
      "[Parallel(n_jobs=-1)]: Done 1343 tasks      | elapsed:  1.1min\n",
      "[Parallel(n_jobs=-1)]: Done 1388 tasks      | elapsed:  1.2min\n",
      "[Parallel(n_jobs=-1)]: Done 1435 tasks      | elapsed:  1.3min\n",
      "[Parallel(n_jobs=-1)]: Done 1482 tasks      | elapsed:  1.3min\n",
      "[Parallel(n_jobs=-1)]: Done 1531 tasks      | elapsed:  1.4min\n",
      "[Parallel(n_jobs=-1)]: Done 1580 tasks      | elapsed:  1.5min\n",
      "[Parallel(n_jobs=-1)]: Done 1631 tasks      | elapsed:  1.6min\n",
      "[Parallel(n_jobs=-1)]: Done 1682 tasks      | elapsed:  1.7min\n",
      "[Parallel(n_jobs=-1)]: Done 1735 tasks      | elapsed:  1.8min\n",
      "[Parallel(n_jobs=-1)]: Done 1788 tasks      | elapsed:  1.9min\n",
      "[Parallel(n_jobs=-1)]: Done 1843 tasks      | elapsed:  2.0min\n",
      "[Parallel(n_jobs=-1)]: Done 1898 tasks      | elapsed:  2.2min\n",
      "[Parallel(n_jobs=-1)]: Done 1955 tasks      | elapsed:  2.3min\n",
      "[Parallel(n_jobs=-1)]: Done 2012 tasks      | elapsed:  2.4min\n",
      "[Parallel(n_jobs=-1)]: Done 2071 tasks      | elapsed:  2.6min\n",
      "[Parallel(n_jobs=-1)]: Done 2130 tasks      | elapsed:  2.7min\n",
      "[Parallel(n_jobs=-1)]: Done 2191 tasks      | elapsed:  2.8min\n",
      "[Parallel(n_jobs=-1)]: Done 2252 tasks      | elapsed:  3.0min\n",
      "[Parallel(n_jobs=-1)]: Done 2315 tasks      | elapsed:  3.2min\n",
      "[Parallel(n_jobs=-1)]: Done 2378 tasks      | elapsed:  3.3min\n",
      "[Parallel(n_jobs=-1)]: Done 2443 tasks      | elapsed:  3.5min\n",
      "[Parallel(n_jobs=-1)]: Done 2508 tasks      | elapsed:  3.7min\n",
      "[Parallel(n_jobs=-1)]: Batch computation too fast (0.1925s.) Setting batch_size=2.\n",
      "[Parallel(n_jobs=-1)]: Batch computation too fast (0.1232s.) Setting batch_size=4.\n",
      "[Parallel(n_jobs=-1)]: Done 2698 tasks      | elapsed:  3.7min\n",
      "[Parallel(n_jobs=-1)]: Done 2966 tasks      | elapsed:  3.9min\n",
      "[Parallel(n_jobs=-1)]: Batch computation too slow (2.0126s.) Setting batch_size=1.\n",
      "[Parallel(n_jobs=-1)]: Done 3083 tasks      | elapsed:  3.9min\n",
      "[Parallel(n_jobs=-1)]: Done 3152 tasks      | elapsed:  4.0min\n",
      "[Parallel(n_jobs=-1)]: Done 3223 tasks      | elapsed:  4.1min\n",
      "[Parallel(n_jobs=-1)]: Done 3294 tasks      | elapsed:  4.1min\n",
      "[Parallel(n_jobs=-1)]: Done 3367 tasks      | elapsed:  4.2min\n",
      "[Parallel(n_jobs=-1)]: Done 3440 tasks      | elapsed:  4.3min\n",
      "[Parallel(n_jobs=-1)]: Done 3515 tasks      | elapsed:  4.4min\n",
      "[Parallel(n_jobs=-1)]: Done 3590 tasks      | elapsed:  4.5min\n",
      "[Parallel(n_jobs=-1)]: Done 3667 tasks      | elapsed:  4.6min\n",
      "[Parallel(n_jobs=-1)]: Done 3744 tasks      | elapsed:  4.7min\n",
      "[Parallel(n_jobs=-1)]: Done 3823 tasks      | elapsed:  4.9min\n",
      "[Parallel(n_jobs=-1)]: Done 3902 tasks      | elapsed:  5.0min\n",
      "[Parallel(n_jobs=-1)]: Done 3983 tasks      | elapsed:  5.1min\n",
      "[Parallel(n_jobs=-1)]: Done 4064 tasks      | elapsed:  5.3min\n",
      "[Parallel(n_jobs=-1)]: Done 4147 tasks      | elapsed:  5.5min\n",
      "[Parallel(n_jobs=-1)]: Done 4230 tasks      | elapsed:  5.6min\n",
      "[Parallel(n_jobs=-1)]: Done 4315 tasks      | elapsed:  5.8min\n",
      "[Parallel(n_jobs=-1)]: Done 4400 tasks      | elapsed:  6.0min\n",
      "[Parallel(n_jobs=-1)]: Done 4487 tasks      | elapsed:  6.2min\n",
      "[Parallel(n_jobs=-1)]: Done 4574 tasks      | elapsed:  6.4min\n",
      "[Parallel(n_jobs=-1)]: Done 4663 tasks      | elapsed:  6.6min\n",
      "[Parallel(n_jobs=-1)]: Done 4752 tasks      | elapsed:  6.9min\n",
      "[Parallel(n_jobs=-1)]: Done 4843 tasks      | elapsed:  7.1min\n",
      "[Parallel(n_jobs=-1)]: Done 4934 tasks      | elapsed:  7.4min\n",
      "[Parallel(n_jobs=-1)]: Done 5000 out of 5000 | elapsed:  7.6min finished\n"
     ]
    },
    {
     "output_type": "execute_result",
     "data": {
      "text/plain": [
       "GridSearchCV(estimator=RandomForestClassifier(), n_jobs=-1,\n",
       "             param_grid={'criterion': ['gini', 'entropy'],\n",
       "                         'n_estimators': range(0, 500)},\n",
       "             verbose=10)"
      ]
     },
     "metadata": {},
     "execution_count": 79
    }
   ],
   "source": [
    "gscv_2.fit(X_train2, y_train2)"
   ]
  },
  {
   "cell_type": "code",
   "execution_count": 80,
   "metadata": {},
   "outputs": [
    {
     "output_type": "execute_result",
     "data": {
      "text/plain": [
       "{'criterion': 'gini', 'n_estimators': 6}"
      ]
     },
     "metadata": {},
     "execution_count": 80
    }
   ],
   "source": [
    "gscv_2.best_params_"
   ]
  },
  {
   "source": [
    "## Model Validation"
   ],
   "cell_type": "markdown",
   "metadata": {}
  },
  {
   "source": [
    "We will use `ROC_AUC` score for our model validation."
   ],
   "cell_type": "markdown",
   "metadata": {}
  },
  {
   "source": [
    "### Export our models and dump them"
   ],
   "cell_type": "markdown",
   "metadata": {}
  },
  {
   "cell_type": "code",
   "execution_count": 81,
   "metadata": {},
   "outputs": [],
   "source": [
    "estimator_1 = gscv_1.best_estimator_\n",
    "estimator_2 = gscv_2.best_estimator_"
   ]
  },
  {
   "cell_type": "code",
   "execution_count": 82,
   "metadata": {},
   "outputs": [],
   "source": [
    "import pickle\n",
    "save = open(r'..\\estimators\\est1.pkl', 'wb')\n",
    "pickle.dump(estimator_1, save)\n",
    "save.close()\n",
    "save = open(r'..\\estimators\\est2.pkl', 'wb')\n",
    "pickle.dump(estimator_2, save)\n",
    "save.close()"
   ]
  },
  {
   "source": [
    "### The very model validation"
   ],
   "cell_type": "markdown",
   "metadata": {}
  },
  {
   "cell_type": "code",
   "execution_count": 83,
   "metadata": {},
   "outputs": [],
   "source": [
    "y_pred = estimator_1.predict_proba(X_test)\n",
    "y_pred2 = estimator_2.predict_proba(X_test2)"
   ]
  },
  {
   "cell_type": "code",
   "execution_count": null,
   "metadata": {},
   "outputs": [],
   "source": []
  },
  {
   "cell_type": "code",
   "execution_count": null,
   "metadata": {},
   "outputs": [],
   "source": []
  }
 ]
}